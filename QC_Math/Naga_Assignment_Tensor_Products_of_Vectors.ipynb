{
 "cells": [
  {
   "cell_type": "markdown",
   "metadata": {},
   "source": [
    "# Tensor Products of Vectors\n",
    "\n",
    "\n",
    "- #### Hands-on Experiential Learning <font color=\"red\">for the Software Engineer</font>"
   ]
  },
  {
   "cell_type": "markdown",
   "metadata": {},
   "source": [
    "![](img/QC_Math_Banner.png \"\")\n",
    "\n",
    "<font color=\"red\">**Notice**</font>: All materials herein were <font color=\"red\">**curated**</font> by **Matthew R. Versaggi (profversaggi@gmail.com)** and are released into the open source to foster growth and welfare of expanding the Quantum Computing domain - the only obligation one incurs when using, copying, distributing or referencing this is to kindly reference the author and send me an email so I know how useful the material is to you.\n",
    "\n",
    "#### <font color=\"red\">Recommendations</font>: \n",
    "\n",
    "> **<font color=\"blue\">It's highly recommended to take structured QC Math courses <font color=\"red\">like</font>:</font>**\n",
    "> #### Math Prerequisites for Quantum Computing\n",
    "> - https://www.udemy.com/course/mathematics-prerequisites-for-quantum-computing-and-quantum-physics/\n",
    "\n",
    "> #### Advanced Math for Quantum Computing\n",
    "> - https://www.udemy.com/course/qc201-advanced-math-for-quantum-computing-mathematics-physics/\n",
    "\n",
    "\n",
    "\n",
    "#### <font color=\"red\">Materials Inspiration and Author(s)</font>: \n",
    "\n",
    "> **<font color=\"blue\">Amelie Schreiber</font>**\n",
    "- Article: https://towardsdatascience.com/quantum-computing-for-the-newb-5e0737e3ca4\n",
    "- Course: https://the-singularity-research.github.io/linear_algebra_for_quantum_computing/\n",
    "- GitHub: https://github.com/The-Singularity-Research/linear_algebra_for_quantum_computing\n",
    "\n",
    "> **<font color=\"blue\">QWorld</font>**\n",
    "- Site: https://qworld.lu.lv/\n",
    "- GitLab: https://gitlab.com/qkitchen/basics-of-quantum-computing"
   ]
  },
  {
   "cell_type": "markdown",
   "metadata": {},
   "source": [
    "## Importing NumPy\n",
    "\n",
    "We will need to import NumPy for tensor products. "
   ]
  },
  {
   "cell_type": "code",
   "execution_count": 1,
   "metadata": {},
   "outputs": [],
   "source": [
    "import numpy as np"
   ]
  },
  {
   "cell_type": "markdown",
   "metadata": {},
   "source": [
    "### <font color=\"red\">**Why this is important**</font>: \n",
    "\n",
    "## Introduction"
   ]
  },
  {
   "cell_type": "markdown",
   "metadata": {},
   "source": [
    "One of the most common tensor products we will encounter throughout the following chapters of the book will be the <font color=\"blue\">tensor product of two qubits</font>, which are represented by <font color=\"blue\"> $2$-dimensional vector which have length (or \"norm\")</font> $1$ .\n",
    "\n",
    "#### The general rule for the tensor product of two $2$-dimensional vectors is as follows:\n",
    "\n",
    "<BR>\n",
    "<font color=\"blue\">\n",
    "\n",
    "\\begin{align}\n",
    "\\begin{pmatrix}\n",
    "a_1 \\\\ a_2\n",
    "\\end{pmatrix} \\otimes\n",
    "\\begin{pmatrix}\n",
    "b_1 \\\\ b_2\n",
    "\\end{pmatrix} = \n",
    "\\begin{pmatrix}\n",
    "a_1 \\begin{pmatrix}\n",
    "b_1 \\\\ b_2\n",
    "\\end{pmatrix} \\\\ a_2 \\begin{pmatrix}\n",
    "b_1 \\\\ b_2\n",
    "\\end{pmatrix}\n",
    "\\end{pmatrix} = \n",
    "\\begin{pmatrix}\n",
    "a_1b_1 \\\\ a_1b_2 \\\\ a_2b_1 \\\\ a_2b_2\n",
    "\\end{pmatrix}\n",
    "\\end{align}\n",
    "\n",
    "</font>\n",
    "<BR>\n"
   ]
  },
  {
   "cell_type": "markdown",
   "metadata": {},
   "source": [
    "#### Here is a numerical example:\n",
    "\n",
    "<BR>\n",
    "<font color=\"blue\">\n",
    "    \n",
    "\\begin{align}\n",
    "\\begin{pmatrix}\n",
    "2 \\\\ 5\n",
    "\\end{pmatrix} \\otimes \n",
    "\\begin{pmatrix}\n",
    "3 \\\\ 1\n",
    "\\end{pmatrix} = \n",
    "\\begin{pmatrix}\n",
    "2 \\begin{pmatrix}\n",
    "3 \\\\ 1\n",
    "\\end{pmatrix} \\\\ 5 \\begin{pmatrix}\n",
    "3 \\\\ 1\n",
    "\\end{pmatrix}\n",
    "\\end{pmatrix} = \n",
    "\\begin{pmatrix}\n",
    "2 \\cdot 3 \\\\ 2 \\cdot 1 \\\\ 5 \\cdot 3 \\\\ 5 \\cdot 1\n",
    "\\end{pmatrix} = \n",
    "\\begin{pmatrix}\n",
    "6 \\\\ 2 \\\\ 15 \\\\ 5\n",
    "\\end{pmatrix}\n",
    "\\end{align}\n",
    "\n",
    "</font>\n",
    "<BR>"
   ]
  },
  {
   "cell_type": "markdown",
   "metadata": {},
   "source": [
    "For an example using Python we will use the <font color=\"blue\" size=4>**\"np.kron()\"**</font> function, which is the [Kronecker product](https://en.wikipedia.org/wiki/Kronecker_product), \n",
    "\n",
    "> \"In mathematics, the **Kronecker Product**, sometimes denoted by <font size=5>**⊗**</font>, is an *operation on two matrices of arbitrary siz resulting in a block matrix*. \n",
    "\n",
    "It is a <font color=\"red\">**generalization**</font> of the **outer product** (which is denoted by the same symbol) *from vectors to matrices*, and gives the **matrix of the tensor product with respect to a standard choice of basis**. \n",
    "\n",
    "> - The **Kronecker Product** should <font color=\"red\">**not**</font> be confused with the <font color=\"blue\">**usual matrix multiplication**</font>, which is an <font color=\"red\">**entirely different**</font>  operation."
   ]
  },
  {
   "cell_type": "code",
   "execution_count": 2,
   "metadata": {
    "scrolled": true
   },
   "outputs": [],
   "source": [
    "# Define two ket-vectors (A, B) using NP.ARRAY\n",
    "\n",
    "A = np.array([[2], \n",
    "              [5]])\n",
    "\n",
    "B = np.array([[3],\n",
    "              [1]])"
   ]
  },
  {
   "cell_type": "code",
   "execution_count": 3,
   "metadata": {},
   "outputs": [
    {
     "data": {
      "text/plain": [
       "array([[2],\n",
       "       [5]])"
      ]
     },
     "execution_count": 3,
     "metadata": {},
     "output_type": "execute_result"
    }
   ],
   "source": [
    "A"
   ]
  },
  {
   "cell_type": "code",
   "execution_count": 21,
   "metadata": {},
   "outputs": [
    {
     "data": {
      "text/plain": [
       "array([[3],\n",
       "       [1]])"
      ]
     },
     "execution_count": 21,
     "metadata": {},
     "output_type": "execute_result"
    }
   ],
   "source": [
    "B"
   ]
  },
  {
   "cell_type": "code",
   "execution_count": 22,
   "metadata": {},
   "outputs": [
    {
     "data": {
      "text/plain": [
       "array([[ 6],\n",
       "       [ 2],\n",
       "       [15],\n",
       "       [ 5]])"
      ]
     },
     "execution_count": 22,
     "metadata": {},
     "output_type": "execute_result"
    }
   ],
   "source": [
    "# Take the Kronecker (tensor) product of the two column vectors\n",
    "\n",
    "np.kron(A,B)"
   ]
  },
  {
   "cell_type": "markdown",
   "metadata": {},
   "source": [
    "We can also define these two vectors as **<font color=\"red\" size=4>matrices</font>** which will allow us to compute **Hermitian conjugates** (also known as **Conjugate Transpose**). \n",
    "\n",
    "The **Kronecker Product** function <font color=\"blue\" size=4>**\"np.kron()\"**</font> will work all the **same**:"
   ]
  },
  {
   "cell_type": "markdown",
   "metadata": {},
   "source": [
    "#### Define the ket-vectors as 2x1 <font color=\"red\">**Column Matrices**</font>:"
   ]
  },
  {
   "cell_type": "code",
   "execution_count": 4,
   "metadata": {},
   "outputs": [],
   "source": [
    "# Define the ket-vectors as 2x1 column matrices, using NP.MATRIX\n",
    "\n",
    "ket_A = np.matrix([[2], \n",
    "                   [5]])\n",
    "\n",
    "\n",
    "ket_B = np.matrix([[3], \n",
    "                   [1]])\n",
    "\n"
   ]
  },
  {
   "cell_type": "code",
   "execution_count": 5,
   "metadata": {},
   "outputs": [
    {
     "data": {
      "text/plain": [
       "matrix([[2],\n",
       "        [5]])"
      ]
     },
     "execution_count": 5,
     "metadata": {},
     "output_type": "execute_result"
    }
   ],
   "source": [
    "ket_A"
   ]
  },
  {
   "cell_type": "code",
   "execution_count": 6,
   "metadata": {},
   "outputs": [
    {
     "data": {
      "text/plain": [
       "matrix([[3],\n",
       "        [1]])"
      ]
     },
     "execution_count": 6,
     "metadata": {},
     "output_type": "execute_result"
    }
   ],
   "source": [
    "ket_B"
   ]
  },
  {
   "cell_type": "code",
   "execution_count": 7,
   "metadata": {},
   "outputs": [
    {
     "data": {
      "text/plain": [
       "matrix([[ 6],\n",
       "        [ 2],\n",
       "        [15],\n",
       "        [ 5]])"
      ]
     },
     "execution_count": 7,
     "metadata": {},
     "output_type": "execute_result"
    }
   ],
   "source": [
    "# Compute their Kronecker product\n",
    "\n",
    "np.kron(ket_A, ket_B)"
   ]
  },
  {
   "cell_type": "markdown",
   "metadata": {},
   "source": [
    "#### This can also be done with <font color=\"red\">**Complex Vectors**</font>:"
   ]
  },
  {
   "cell_type": "code",
   "execution_count": 8,
   "metadata": {},
   "outputs": [
    {
     "data": {
      "text/plain": [
       "matrix([[-6. +3.j],\n",
       "        [ 6. -8.j],\n",
       "        [-0. -9.j],\n",
       "        [ 6.+12.j]])"
      ]
     },
     "execution_count": 8,
     "metadata": {},
     "output_type": "execute_result"
    }
   ],
   "source": [
    "# Define the ket-vectors as 2x1 column matrices:\n",
    "\n",
    "ket_psi = np.matrix([[2-1j], \n",
    "                     [3j]])\n",
    "\n",
    "ket_phi = np.matrix([[-3], \n",
    "                     [4-2j]])\n",
    "\n",
    "# Compute their Kronecker product\n",
    "\n",
    "np.kron(ket_psi, ket_phi)"
   ]
  },
  {
   "cell_type": "markdown",
   "metadata": {},
   "source": [
    "Here is a more complicated example with two vectors of different dimensions:\n",
    "\n",
    "<BR>\n",
    "<font color=\"blue\">\n",
    "    \n",
    "\\begin{align}\n",
    "\\begin{pmatrix}\n",
    "a_1 \\\\ a_2\n",
    "\\end{pmatrix} \\otimes \n",
    "\\begin{pmatrix}\n",
    "b_1 \\\\ b_2 \\\\ b_3\n",
    "\\end{pmatrix} = \n",
    "\\begin{pmatrix}\n",
    "a_1 \\begin{pmatrix}\n",
    "b_1 \\\\ b_2 \\\\ b_3\n",
    "\\end{pmatrix} \\\\\n",
    "a_2 \\begin{pmatrix}\n",
    "b_1 \\\\ b_2 \\\\ b_3\n",
    "\\end{pmatrix}\n",
    "\\end{pmatrix} = \n",
    "\\begin{pmatrix}\n",
    "a_1b_1 \\\\ a_1b_2 \\\\ a_1b_3 \\\\ a_2b_1 \\\\ a_2b_2 \\\\ a_2b_3\n",
    "\\end{pmatrix}\n",
    "\\end{align}\n",
    "\n",
    "</font>\n",
    "<BR>"
   ]
  },
  {
   "cell_type": "markdown",
   "metadata": {},
   "source": [
    "Here is a corresponding numerical example:\n",
    "\n",
    "<BR>\n",
    "<font color=\"blue\">\n",
    "    \n",
    "\\begin{align}\n",
    "\\begin{pmatrix}\n",
    "1 \\\\ 4\n",
    "\\end{pmatrix} \\otimes \n",
    "\\begin{pmatrix}\n",
    "5 \\\\ 2 \\\\ 4\n",
    "\\end{pmatrix} = \n",
    "\\begin{pmatrix}\n",
    "1 \\begin{pmatrix}\n",
    "5 \\\\ 2 \\\\ 4\n",
    "\\end{pmatrix} \\\\\n",
    "4 \\begin{pmatrix}\n",
    "5 \\\\ 2 \\\\ 4\n",
    "\\end{pmatrix}\n",
    "\\end{pmatrix} = \n",
    "\\begin{pmatrix}\n",
    "5 \\\\ 2 \\\\ 4 \\\\ 20 \\\\ 8 \\\\ 16\n",
    "\\end{pmatrix}\n",
    "\\end{align} \n",
    "\n",
    "</font>\n",
    "<BR>"
   ]
  },
  {
   "cell_type": "markdown",
   "metadata": {},
   "source": [
    "### Here is the code for computing this tensor product:"
   ]
  },
  {
   "cell_type": "code",
   "execution_count": 9,
   "metadata": {
    "scrolled": true
   },
   "outputs": [
    {
     "data": {
      "text/plain": [
       "matrix([[ 5],\n",
       "        [ 2],\n",
       "        [ 4],\n",
       "        [20],\n",
       "        [ 8],\n",
       "        [16]])"
      ]
     },
     "execution_count": 9,
     "metadata": {},
     "output_type": "execute_result"
    }
   ],
   "source": [
    "ket_X = np.matrix([[1], \n",
    "                   [4]])\n",
    "\n",
    "\n",
    "ket_Y = np.matrix([[5], \n",
    "                   [2], \n",
    "                   [4]])\n",
    "\n",
    "\n",
    "\n",
    "np.kron(ket_X, ket_Y)"
   ]
  },
  {
   "cell_type": "code",
   "execution_count": null,
   "metadata": {},
   "outputs": [],
   "source": []
  },
  {
   "cell_type": "markdown",
   "metadata": {},
   "source": [
    "# <font color=\"red\">Graded Exercises</font>  for use <font color=\"blue\">with structured courses.</font>\n",
    "\n",
    "## Tensor Products\n",
    "\n",
    "#### <font color=\"blue\">*This work will take some time, so block off enough time to adequately cover it*</font>. \n",
    "\n",
    "\n",
    "- Go through the **entire** JNB and complete each of the exercises, including any supplementary Video's - hand in completed <font color=\"red\">**PDF**</font> from this JNB once finished.\n",
    "\n",
    "\n",
    "- Step through the code for **each** of the above exercises, make sure you can (1) execute it, and (2) know what it does.\n",
    "\n",
    "\n",
    "- <font color=\"blue\">Complete Challenge Exercises below.</font> **(turn in the JNB)**"
   ]
  },
  {
   "cell_type": "markdown",
   "metadata": {},
   "source": [
    "## Exercises: Tensor Products\n",
    "- In Python."
   ]
  },
  {
   "cell_type": "markdown",
   "metadata": {},
   "source": [
    "### <font color=\"red\">1</font>: Using the following rule: \n",
    "\n",
    "<BR>\n",
    "<font color=\"blue\">\n",
    "\n",
    "\\begin{align}\n",
    "\\begin{pmatrix}\n",
    "a_1 \\\\ a_2 \\\\ a_3\n",
    "\\end{pmatrix} \\otimes\n",
    "\\begin{pmatrix}\n",
    "b_1 \\\\ b_2\n",
    "\\end{pmatrix} = \n",
    "\\begin{pmatrix}\n",
    "a_1 \\begin{pmatrix}\n",
    "b_1 \\\\ b_2\n",
    "\\end{pmatrix} \\\\ a_2\\begin{pmatrix}\n",
    "b_1 \\\\ b_2\n",
    "\\end{pmatrix} \\\\ a_3\\begin{pmatrix}\n",
    "b_1 \\\\ b_2\n",
    "\\end{pmatrix}\n",
    "\\end{pmatrix} = \n",
    "\\begin{pmatrix}\n",
    "a_1b_1 \\\\ a_1b_2 \\\\ a_2b_1 \\\\ a_2b_2 \\\\ a_3b_1 \\\\ a_3b_2\n",
    "\\end{pmatrix}\n",
    "\\end{align}\n",
    "\n",
    "</font>\n",
    "<BR>\n",
    "\n",
    "> **Write Python code to compute the below computation** using the <font color=\"blue\" size=4>**\"np.kron()\"**</font> function. \n",
    "- Remember to define two column (ket) vectors as matrices first.  \n",
    "\n",
    "<BR>\n",
    "<font color=\"blue\">\n",
    "    \n",
    "\\begin{align}\n",
    "\\begin{pmatrix}\n",
    "2 \\\\ 7 \\\\ 3\n",
    "\\end{pmatrix} \\otimes\n",
    "\\begin{pmatrix}\n",
    "5 \\\\ 9\n",
    "\\end{pmatrix}\n",
    "\\end{align}\n",
    "\n",
    "</font>\n",
    "<BR>"
   ]
  },
  {
   "cell_type": "code",
   "execution_count": 10,
   "metadata": {},
   "outputs": [
    {
     "data": {
      "text/plain": [
       "matrix([[10],\n",
       "        [18],\n",
       "        [35],\n",
       "        [63],\n",
       "        [15],\n",
       "        [27]])"
      ]
     },
     "execution_count": 10,
     "metadata": {},
     "output_type": "execute_result"
    }
   ],
   "source": [
    "ket_X = np.matrix([[2], \n",
    "                   [7],\n",
    "                   [3]])\n",
    "\n",
    "\n",
    "ket_Y = np.matrix([[5], \n",
    "                   [9]])\n",
    "\n",
    "\n",
    "\n",
    "np.kron(ket_X, ket_Y)"
   ]
  },
  {
   "cell_type": "markdown",
   "metadata": {},
   "source": [
    "### <font color=\"red\">For Reference</font>: Various Spins"
   ]
  },
  {
   "cell_type": "markdown",
   "metadata": {},
   "source": [
    "<BR>\n",
    "    \n",
    "<font color=\"blue\">\n",
    "    \n",
    "\\begin{align}\n",
    "\\text{spin-up}: \\ |0\\rangle &= \\begin{pmatrix} 1\\\\0 \\end{pmatrix} \\\\\n",
    "\\text{spin-down}: \\ |1\\rangle & = \\begin{pmatrix} 0\\\\1 \\end{pmatrix}\n",
    "\\end{align}\n",
    "\n",
    "<BR>\n",
    "</font>\n",
    "\n",
    "<BR>\n",
    "<font color=\"blue\">\n",
    "    \n",
    "\\begin{align}\n",
    "\\text{spin-right}: \\ |r\\rangle &= \\begin{pmatrix} 1/\\sqrt{2} \\\\ i/\\sqrt{2} \\end{pmatrix} = \\frac{1}{\\sqrt{2}} \\left(|0\\rangle + i|1\\rangle\\right) \\\\\n",
    "\\text{spin-left}: \\ |l\\rangle & = \\begin{pmatrix} 1/\\sqrt{2} \\\\ -i/\\sqrt{2} \\end{pmatrix} = \\frac{1}{\\sqrt{2}} \\left(|0\\rangle - i|1\\rangle\\right)\n",
    "\\end{align}\n",
    "\n",
    "</font>\n",
    "\n",
    "<BR><BR>\n",
    "    \n",
    "<font color=\"blue\">\n",
    "    \n",
    "\\begin{align}\n",
    "\\text{spin +}: \\ |+\\rangle &= \\begin{pmatrix} 1/\\sqrt{2} \\\\ 1/\\sqrt{2} \\end{pmatrix} = \\frac{1}{\\sqrt{2}} \\left(|0\\rangle + |1\\rangle\\right) \\\\\n",
    "\\text{spin -}: \\ |-\\rangle & = \\begin{pmatrix} 1/\\sqrt{2} \\\\ -1/\\sqrt{2} \\end{pmatrix} = \\frac{1}{\\sqrt{2}} \\left(|0\\rangle - |1\\rangle\\right)\n",
    "\\end{align}\n",
    "\n",
    "</font>\n",
    "\n",
    "<BR>"
   ]
  },
  {
   "cell_type": "markdown",
   "metadata": {},
   "source": [
    "### <font color=\"red\">For Reference</font>: Basis States\n",
    "\n",
    "\n",
    "> - **Tensor products of the basis states <font color=\"red\">$|0\\rangle$</font> and <font color=\"red\">$|1\\rangle$</font>**. \n",
    "\n",
    "\n",
    "<BR>\n",
    "<font color=\"blue\">\n",
    "\n",
    "\\begin{align}\n",
    "|00 \\rangle &= |0\\rangle \\otimes |0\\rangle = \\begin{pmatrix} 1\\\\0 \\end{pmatrix} \\otimes \\begin{pmatrix} 1\\\\0 \\end{pmatrix} = \\begin{pmatrix} 1\\\\0\\\\0\\\\0 \\end{pmatrix} \\\\\n",
    "|01 \\rangle &= |0\\rangle \\otimes |1\\rangle = \\begin{pmatrix} 1\\\\0 \\end{pmatrix} \\otimes \\begin{pmatrix} 0\\\\1 \\end{pmatrix} = \\begin{pmatrix} 0\\\\1\\\\0\\\\0 \\end{pmatrix} \\\\\n",
    "|10 \\rangle &= |1\\rangle \\otimes |0\\rangle = \\begin{pmatrix} 0\\\\1 \\end{pmatrix} \\otimes \\begin{pmatrix} 1\\\\0 \\end{pmatrix} = \\begin{pmatrix} 0\\\\0\\\\1\\\\0 \\end{pmatrix} \\\\\n",
    "|11 \\rangle &= |1\\rangle \\otimes |1\\rangle = \\begin{pmatrix} 0\\\\1 \\end{pmatrix} \\otimes \\begin{pmatrix} 0\\\\1 \\end{pmatrix} = \\begin{pmatrix} 0\\\\0\\\\0\\\\1 \\end{pmatrix}\n",
    "\\end{align}\n",
    "\n",
    "</font>\n",
    "\n",
    "<BR>"
   ]
  },
  {
   "cell_type": "markdown",
   "metadata": {},
   "source": [
    "### <font color=\"red\">For Reference</font>: Python for Various Spins"
   ]
  },
  {
   "cell_type": "code",
   "execution_count": 11,
   "metadata": {},
   "outputs": [
    {
     "name": "stdout",
     "output_type": "stream",
     "text": [
      "spin up: [[1]\n",
      " [0]] \n",
      "\n",
      "spin down: [[0]\n",
      " [1]] \n",
      "\n",
      "spin right: [[0.70710678+0.j        ]\n",
      " [0.        +0.70710678j]] \n",
      "\n",
      "spin left: [[0.70710678+0.j        ]\n",
      " [0.        -0.70710678j]] \n",
      "\n",
      "spin plus: [[0.70710678]\n",
      " [0.70710678]] \n",
      "\n",
      "spin minus: [[ 0.70710678]\n",
      " [-0.70710678]] \n",
      "\n"
     ]
    }
   ],
   "source": [
    "# SPIN-UP\n",
    "spin_up = np.matrix([[1], [0]])\n",
    "\n",
    "# SPIN-DOWN\n",
    "spin_down = np.matrix([[0], [1]])\n",
    "\n",
    "# SPIN-RIGHT\n",
    "spin_right = (1/np.sqrt(2))*(spin_up + 1j*spin_down)\n",
    "\n",
    "# SPIN-LEFT\n",
    "spin_left = (1/np.sqrt(2))*(spin_up - 1j*spin_down)\n",
    "\n",
    "# SPIN-PLUS\n",
    "spin_plus = (1/np.sqrt(2))*(spin_up + spin_down)\n",
    "\n",
    "# SPIN-MINUS\n",
    "spin_minus = (1/np.sqrt(2))*(spin_up - spin_down)\n",
    "\n",
    "\n",
    "print('spin up:', spin_up, \"\\n\")\n",
    "print('spin down:', spin_down, \"\\n\")\n",
    "print('spin right:', spin_right, \"\\n\")\n",
    "print('spin left:', spin_left, \"\\n\")\n",
    "print('spin plus:', spin_plus, \"\\n\")\n",
    "print('spin minus:', spin_minus, \"\\n\")"
   ]
  },
  {
   "cell_type": "markdown",
   "metadata": {},
   "source": [
    "### <font color=\"red\">2</font>: Write Python code to compute $|0\\rangle \\otimes |0 \\rangle $. \n",
    "- Spin-UP / Spin-UP\n",
    "\n",
    "### <font color=\"red\">This first one is done for you</font>."
   ]
  },
  {
   "cell_type": "code",
   "execution_count": 12,
   "metadata": {},
   "outputs": [
    {
     "data": {
      "text/plain": [
       "matrix([[1],\n",
       "        [0],\n",
       "        [0],\n",
       "        [0]])"
      ]
     },
     "execution_count": 12,
     "metadata": {},
     "output_type": "execute_result"
    }
   ],
   "source": [
    "np.kron(spin_up, spin_up)"
   ]
  },
  {
   "cell_type": "markdown",
   "metadata": {},
   "source": [
    "### <font color=\"red\">3</font>: Write Python code to compute $|0\\rangle \\otimes |1 \\rangle $. \n",
    "- Spin-UP / Spin-DOWN"
   ]
  },
  {
   "cell_type": "code",
   "execution_count": 13,
   "metadata": {},
   "outputs": [
    {
     "data": {
      "text/plain": [
       "matrix([[0],\n",
       "        [1],\n",
       "        [0],\n",
       "        [0]])"
      ]
     },
     "execution_count": 13,
     "metadata": {},
     "output_type": "execute_result"
    }
   ],
   "source": [
    "np.kron(spin_up, spin_down)"
   ]
  },
  {
   "cell_type": "markdown",
   "metadata": {},
   "source": [
    "### <font color=\"red\">4</font>: Write Python code to compute $|1\\rangle \\otimes |0 \\rangle $.\n",
    "- Spin-DOWN / Spin-UP"
   ]
  },
  {
   "cell_type": "code",
   "execution_count": 14,
   "metadata": {},
   "outputs": [
    {
     "data": {
      "text/plain": [
       "matrix([[0],\n",
       "        [0],\n",
       "        [1],\n",
       "        [0]])"
      ]
     },
     "execution_count": 14,
     "metadata": {},
     "output_type": "execute_result"
    }
   ],
   "source": [
    "np.kron(spin_down, spin_up)"
   ]
  },
  {
   "cell_type": "markdown",
   "metadata": {},
   "source": [
    "### <font color=\"red\">5</font>: Write Python code to compute $|1\\rangle \\otimes |1 \\rangle $.\n",
    "- Spin-DOWN / Spin-DOWN"
   ]
  },
  {
   "cell_type": "code",
   "execution_count": 15,
   "metadata": {},
   "outputs": [
    {
     "data": {
      "text/plain": [
       "matrix([[0],\n",
       "        [0],\n",
       "        [0],\n",
       "        [1]])"
      ]
     },
     "execution_count": 15,
     "metadata": {},
     "output_type": "execute_result"
    }
   ],
   "source": [
    "np.kron(spin_down, spin_down)"
   ]
  },
  {
   "cell_type": "markdown",
   "metadata": {},
   "source": [
    "### <font color=\"red\">6</font>: Write Python code to compute $|l\\rangle \\otimes |r \\rangle $.\n",
    "- Spin-LEFT / Spin-RIGHT"
   ]
  },
  {
   "cell_type": "code",
   "execution_count": 16,
   "metadata": {},
   "outputs": [
    {
     "data": {
      "text/plain": [
       "matrix([[0.5+0.j ],\n",
       "        [0. +0.5j],\n",
       "        [0. -0.5j],\n",
       "        [0.5+0.j ]])"
      ]
     },
     "execution_count": 16,
     "metadata": {},
     "output_type": "execute_result"
    }
   ],
   "source": [
    "np.kron(spin_left, spin_right)"
   ]
  },
  {
   "cell_type": "markdown",
   "metadata": {},
   "source": [
    "### <font color=\"red\">7</font>: Write Python code to compute $|+\\rangle \\otimes |- \\rangle $.\n",
    "- Spin-PLUS / Spin-MINUS"
   ]
  },
  {
   "cell_type": "code",
   "execution_count": 17,
   "metadata": {},
   "outputs": [
    {
     "data": {
      "text/plain": [
       "matrix([[ 0.5],\n",
       "        [-0.5],\n",
       "        [ 0.5],\n",
       "        [-0.5]])"
      ]
     },
     "execution_count": 17,
     "metadata": {},
     "output_type": "execute_result"
    }
   ],
   "source": [
    "np.kron(spin_plus, spin_minus)"
   ]
  },
  {
   "cell_type": "markdown",
   "metadata": {},
   "source": [
    "![the-end](img/the-end.png \"the-end\")"
   ]
  }
 ],
 "metadata": {
  "kernelspec": {
   "display_name": "Python 3 (ipykernel)",
   "language": "python",
   "name": "python3"
  },
  "language_info": {
   "codemirror_mode": {
    "name": "ipython",
    "version": 3
   },
   "file_extension": ".py",
   "mimetype": "text/x-python",
   "name": "python",
   "nbconvert_exporter": "python",
   "pygments_lexer": "ipython3",
   "version": "3.9.0"
  },
  "toc": {
   "base_numbering": 1,
   "nav_menu": {},
   "number_sections": true,
   "sideBar": true,
   "skip_h1_title": false,
   "title_cell": "Table of Contents",
   "title_sidebar": "Contents",
   "toc_cell": false,
   "toc_position": {},
   "toc_section_display": true,
   "toc_window_display": false
  }
 },
 "nbformat": 4,
 "nbformat_minor": 4
}
