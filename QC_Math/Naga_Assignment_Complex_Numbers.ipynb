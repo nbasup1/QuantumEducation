{
 "cells": [
  {
   "cell_type": "markdown",
   "metadata": {},
   "source": [
    "# Complex Numbers in Python\n",
    "\n",
    "- #### Hands-on Experiential Learning <font color=\"red\">for the Software Engineer</font>\n",
    "\n"
   ]
  },
  {
   "cell_type": "markdown",
   "metadata": {},
   "source": [
    "![](img/QC_Math_Banner.png \"\")\n",
    "\n",
    "<font color=\"red\">**Notice**</font>: All materials herein were <font color=\"red\">**curated**</font> by **Matthew R. Versaggi (profversaggi@gmail.com)** and are released into the open source to foster growth and welfare of expanding the Quantum Computing domain - the only obligation one incurs when using, copying, distributing or referencing this is to kindly reference the author and send me an email so I know how useful the material is to you.\n",
    "\n",
    "#### <font color=\"red\">Recommendations</font>: \n",
    "\n",
    "> **<font color=\"blue\">It's highly recommended to take structured QC Math courses <font color=\"red\">like</font>:</font>**\n",
    "> #### Math Prerequisites for Quantum Computing\n",
    "> - https://www.udemy.com/course/mathematics-prerequisites-for-quantum-computing-and-quantum-physics/\n",
    "\n",
    "> #### Advanced Math for Quantum Computing\n",
    "> - https://www.udemy.com/course/qc201-advanced-math-for-quantum-computing-mathematics-physics/\n",
    "\n",
    "\n",
    "\n",
    "#### <font color=\"red\">Materials Inspiration and Author(s)</font>: \n",
    "\n",
    "> **<font color=\"blue\">Amelie Schreiber</font>**\n",
    "- Article: https://towardsdatascience.com/quantum-computing-for-the-newb-5e0737e3ca4\n",
    "- Course: https://the-singularity-research.github.io/linear_algebra_for_quantum_computing/\n",
    "- GitHub: https://github.com/The-Singularity-Research/linear_algebra_for_quantum_computing\n",
    "\n",
    "> **<font color=\"blue\">QWorld</font>**\n",
    "- Site: https://qworld.lu.lv/\n",
    "- GitLab: https://gitlab.com/qkitchen/basics-of-quantum-computing"
   ]
  },
  {
   "cell_type": "markdown",
   "metadata": {},
   "source": [
    "## Introduction\n",
    "\n",
    "### <font color=\"red\">**Background Information**</font>: \n",
    "\n",
    "> - **Math is Fun: - Complex Numbers** https://www.mathsisfun.com/numbers/complex-numbers.html\n",
    "> - **Math is Fun: - Real Numbers** https://www.mathsisfun.com/numbers/real-numbers.html\n",
    "> - **Math is Fun: - Imaginary Numbers** https://www.mathsisfun.com/numbers/imaginary-numbers.html\n",
    "\n",
    "\n",
    "> - **Interactive Mathematics: - Complex Numbers** https://www.intmath.com/complex-numbers/imaginary-numbers-intro.php\n",
    "\n",
    "\n",
    "\n",
    "> - **Kahn Academy**: https://www.youtube.com/watch?v=SP-YJe7Vldo&list=PLucNEDEq4z_AdqV1ii0vmH0clNhYPI4lK&index=2"
   ]
  },
  {
   "cell_type": "markdown",
   "metadata": {},
   "source": [
    "### <font color=\"red\">**Why this is important**</font>: \n",
    "\n",
    "**Complex numbers are fundamental to quantum computing** so understanding them will be a good first step in understanding how quantum computers work. Quantum computers process information differently from classical computers like your laptop, smartphone, or a supercomputer used to train modern neural networks. \n",
    "\n",
    "> #### They do this in part by using <font color=\"blue\">interference patterns</font> of <font color=\"red\">*amplitudes*</font>  which are <font color=\"red\">*complex numbers*</font> that describe the <font color=\"red\">*states*</font> of the qubits in a quantum computer.</font>\n",
    "\n",
    "\n",
    "Complex numbers are **always** of the form\n",
    "\n",
    "\\begin{align}\n",
    "\\alpha = a + bi\n",
    "\\end{align}\n",
    "\n",
    "where $a$ and $b$ are real numbers and **<font size=4 color=\"red\">$i = \\sqrt{-1}$</font>** or  **<font size=4 color=\"red\">$i^2 = -1$</font>** . \n",
    "\n",
    "- Complex numbers can be used in Python by importing [NumPy](https://numpy.org/): \n",
    "\n",
    "> \"the fundamental package for scientific computing with Python. It contains among other things:\n",
    "> - a powerful N-dimensional array object\n",
    "> - sophisticated (broadcasting) functions\n",
    "> - tools for integrating C/C++ and Fortran code\n",
    "> - useful linear algebra, Fourier transform, and random number capabilities\n",
    "> Besides its obvious scientific uses, NumPy can also be used as an efficient multi-dimensional container of generic data. Arbitrary data-types can be defined. This allows NumPy to seamlessly and speedily integrate with a wide variety of databases.\""
   ]
  },
  {
   "cell_type": "markdown",
   "metadata": {},
   "source": [
    "## Importing NumPy\n",
    "\n",
    "We will primarily use NumPy for arithmetic with complex numbers as well as for linear algebra. To import NumPy we type the following code:"
   ]
  },
  {
   "cell_type": "code",
   "execution_count": 14,
   "metadata": {},
   "outputs": [],
   "source": [
    "import numpy as np"
   ]
  },
  {
   "cell_type": "markdown",
   "metadata": {},
   "source": [
    "## Arithmetic of Complex Numbers\n",
    "\n",
    "\n",
    "### <font color=\"red\">**Background Information**</font>: \n",
    "\n",
    "> - **Interactive Mathematics: - Basic Operations with Complex Numbers** https://www.intmath.com/complex-numbers/2-basic-operations.php\n",
    "\n",
    "> - **Math is Fun: - Complex Number Calculator** https://www.mathsisfun.com/numbers/complex-number-calculator.html\n",
    "\n",
    "<BR>\n",
    "\n",
    "> **Complex numbers are central to quantum computing**. If complex numbers are completely new and strange to you, consider watching the short video by [Khan Academy](https://www.youtube.com/watch?v=SP-YJe7Vldo&list=PLucNEDEq4z_AdqV1ii0vmH0clNhYPI4lK&index=2). \n"
   ]
  },
  {
   "cell_type": "markdown",
   "metadata": {},
   "source": [
    "> #### In Python the imaginary unit <font color=\"red\" size=5>**$i$**</font> is instead represented as <font color=\"blue\"  size=5>**$j$**</font>, and <font color=\"red\">**must always be written with a coefficient**</font>. \n",
    "\n",
    "So in Python, **we must write** <font size=4 color=\"red\">$1j$</font> instead of $j$, and <font size=4 color=\"red\">$-1j$</font> instead of just $-j$. \n",
    "\n",
    "> For sanity's sake, check (*in a few ways*) that: <font size=4 color=\"red\">$j^2 = -1$</font>. "
   ]
  },
  {
   "cell_type": "code",
   "execution_count": 3,
   "metadata": {},
   "outputs": [
    {
     "data": {
      "text/plain": [
       "(-1+0j)"
      ]
     },
     "execution_count": 3,
     "metadata": {},
     "output_type": "execute_result"
    }
   ],
   "source": [
    "(-1j)*(-1j)"
   ]
  },
  {
   "cell_type": "code",
   "execution_count": 4,
   "metadata": {},
   "outputs": [
    {
     "data": {
      "text/plain": [
       "(-1+0j)"
      ]
     },
     "execution_count": 4,
     "metadata": {},
     "output_type": "execute_result"
    }
   ],
   "source": [
    "pow(-1j, 2)"
   ]
  },
  {
   "cell_type": "code",
   "execution_count": 7,
   "metadata": {},
   "outputs": [
    {
     "data": {
      "text/plain": [
       "(-1+0j)"
      ]
     },
     "execution_count": 7,
     "metadata": {},
     "output_type": "execute_result"
    }
   ],
   "source": [
    "(-1j)**2"
   ]
  },
  {
   "cell_type": "markdown",
   "metadata": {},
   "source": [
    "> **Explanation:** As we can see, **the output really is** <font size=4 color=\"red\">(-1)</font>:\n",
    "\n",
    "\\begin{align}\n",
    "-1 + 0j = -1. \n",
    "\\end{align}\n",
    "\n",
    "> The <font size=4 color=\"red\">0*j*</font> cancels out."
   ]
  },
  {
   "cell_type": "markdown",
   "metadata": {},
   "source": [
    "> Try checking the Objects <font size=4 color=\"red\">type</FONT>, notice it is **<font color=\"red\">\"Complex\"</FONT>**."
   ]
  },
  {
   "cell_type": "code",
   "execution_count": 55,
   "metadata": {},
   "outputs": [
    {
     "data": {
      "text/plain": [
       "complex"
      ]
     },
     "execution_count": 55,
     "metadata": {},
     "output_type": "execute_result"
    }
   ],
   "source": [
    "type(-1+0j)"
   ]
  },
  {
   "cell_type": "markdown",
   "metadata": {},
   "source": [
    "Now, let's **define two complex numbers**\n",
    "\n",
    "\\begin{align}\n",
    "z &= 3+2j \\\\\n",
    "w &= -2-5j\n",
    "\\end{align}"
   ]
  },
  {
   "cell_type": "code",
   "execution_count": 56,
   "metadata": {},
   "outputs": [],
   "source": [
    "z = 3 + 2j\n",
    "\n",
    "w = -2 - 5j"
   ]
  },
  {
   "cell_type": "markdown",
   "metadata": {},
   "source": [
    "If we wanted to print $z$ and $w$, we could simply type them into a Jupyter cell as follows (followed by `shift+enter`):"
   ]
  },
  {
   "cell_type": "code",
   "execution_count": 57,
   "metadata": {},
   "outputs": [
    {
     "data": {
      "text/plain": [
       "(3+2j)"
      ]
     },
     "execution_count": 57,
     "metadata": {},
     "output_type": "execute_result"
    }
   ],
   "source": [
    "z"
   ]
  },
  {
   "cell_type": "code",
   "execution_count": 58,
   "metadata": {},
   "outputs": [
    {
     "data": {
      "text/plain": [
       "(-2-5j)"
      ]
     },
     "execution_count": 58,
     "metadata": {},
     "output_type": "execute_result"
    }
   ],
   "source": [
    "w"
   ]
  },
  {
   "cell_type": "markdown",
   "metadata": {},
   "source": [
    "We could also type the `print()` command (followed by `shift+enter`):"
   ]
  },
  {
   "cell_type": "code",
   "execution_count": 10,
   "metadata": {},
   "outputs": [
    {
     "name": "stdout",
     "output_type": "stream",
     "text": [
      "(3+2j)\n"
     ]
    }
   ],
   "source": [
    "print(z)"
   ]
  },
  {
   "cell_type": "code",
   "execution_count": 11,
   "metadata": {},
   "outputs": [
    {
     "name": "stdout",
     "output_type": "stream",
     "text": [
      "(-2-5j)\n"
     ]
    }
   ],
   "source": [
    "print(w)"
   ]
  },
  {
   "cell_type": "markdown",
   "metadata": {},
   "source": [
    "If we wanted to label what we are printing we can do the following:"
   ]
  },
  {
   "cell_type": "code",
   "execution_count": 12,
   "metadata": {},
   "outputs": [
    {
     "name": "stdout",
     "output_type": "stream",
     "text": [
      "z = (3+2j)\n"
     ]
    }
   ],
   "source": [
    "print(\"z =\", z)"
   ]
  },
  {
   "cell_type": "code",
   "execution_count": 15,
   "metadata": {},
   "outputs": [
    {
     "name": "stdout",
     "output_type": "stream",
     "text": [
      "the complex number w is: (-2-5j)\n"
     ]
    }
   ],
   "source": [
    "print(\"the complex number w is:\", w)"
   ]
  },
  {
   "cell_type": "markdown",
   "metadata": {},
   "source": [
    "We can print the **real** and **imaginary** parts of complex numbers as follows for $z = 3+4i:"
   ]
  },
  {
   "cell_type": "code",
   "execution_count": 16,
   "metadata": {},
   "outputs": [
    {
     "name": "stdout",
     "output_type": "stream",
     "text": [
      "\n",
      " z = (3+2j)\n",
      "\n",
      " Real(z) = 3.0\n",
      "\n",
      " Imag(Z) = 2.0\n"
     ]
    }
   ],
   "source": [
    "print('\\n z =', z)\n",
    "\n",
    "print('\\n Real(z) =', np.real(z))\n",
    "\n",
    "print('\\n Imag(Z) =', np.imag(z))"
   ]
  },
  {
   "cell_type": "code",
   "execution_count": 17,
   "metadata": {},
   "outputs": [
    {
     "name": "stdout",
     "output_type": "stream",
     "text": [
      "\n",
      " w = (-2-5j)\n",
      "\n",
      " Real(w) = -2.0\n",
      "\n",
      " Imag(w) = -5.0\n"
     ]
    }
   ],
   "source": [
    "print('\\n w =', w)\n",
    "print('\\n Real(w) =', np.real(w))\n",
    "print('\\n Imag(w) =', np.imag(w))"
   ]
  },
  {
   "cell_type": "markdown",
   "metadata": {},
   "source": [
    "## Complex Conjugates\n",
    "\n",
    "### <font color=\"red\">**Background Information**</font>: \n",
    "> - **Math is Fun: - Simple Conjugates** https://www.mathsisfun.com/algebra/conjugate.html\n",
    "\n",
    "> - **Kahn Academy - Complex Congugates**: https://youtu.be/BZxZ_eEuJBM\n",
    "\n",
    "<BR>\n",
    "\n",
    "We can compute the **complex conjugates** <font color=\"red\">$z^*$</font> and <font color=\"red\">$w^*$</font>, which just <font color=\"blue\">**negates**</font> the <font color=\"red\">**imaginary**</font> part of the **complex numbers** by using Numpy's built in function as follows:"
   ]
  },
  {
   "cell_type": "markdown",
   "metadata": {},
   "source": [
    "### Z:"
   ]
  },
  {
   "cell_type": "code",
   "execution_count": 18,
   "metadata": {},
   "outputs": [
    {
     "name": "stdout",
     "output_type": "stream",
     "text": [
      "\n",
      " z = (3+2j)\n"
     ]
    }
   ],
   "source": [
    "print('\\n z =', z)"
   ]
  },
  {
   "cell_type": "markdown",
   "metadata": {},
   "source": [
    "> #### Negate the Imaginary Part: <font size=4 color=\"red\">2*j*</font> => <font size=4 color=\"red\">-2*j*</font>"
   ]
  },
  {
   "cell_type": "code",
   "execution_count": 19,
   "metadata": {
    "scrolled": true
   },
   "outputs": [
    {
     "data": {
      "text/plain": [
       "(3-2j)"
      ]
     },
     "execution_count": 19,
     "metadata": {},
     "output_type": "execute_result"
    }
   ],
   "source": [
    "np.conj(z)"
   ]
  },
  {
   "cell_type": "markdown",
   "metadata": {},
   "source": [
    "### W:"
   ]
  },
  {
   "cell_type": "code",
   "execution_count": 20,
   "metadata": {},
   "outputs": [
    {
     "name": "stdout",
     "output_type": "stream",
     "text": [
      "\n",
      " w= (-2-5j)\n"
     ]
    }
   ],
   "source": [
    "print('\\n w=', w)"
   ]
  },
  {
   "cell_type": "markdown",
   "metadata": {},
   "source": [
    "> #### Negate the Imaginary Part: <font size=4 color=\"red\">-5*j*</font> => <font size=4 color=\"red\">+5*j*</font>"
   ]
  },
  {
   "cell_type": "code",
   "execution_count": 21,
   "metadata": {},
   "outputs": [
    {
     "data": {
      "text/plain": [
       "(-2+5j)"
      ]
     },
     "execution_count": 21,
     "metadata": {},
     "output_type": "execute_result"
    }
   ],
   "source": [
    "np.conj(w)"
   ]
  },
  {
   "cell_type": "markdown",
   "metadata": {},
   "source": [
    "As we can see, **complex conjugation** <font color=\"red\">**negates**</font> the imaginary part of the **complex number**. "
   ]
  },
  {
   "cell_type": "markdown",
   "metadata": {},
   "source": [
    "## Norms/Absolute Values\n",
    "\n",
    "We can compute the **absolute value** of the complex numbers using Numpy's built in functions:\n",
    "\n",
    "\\begin{align} ||z|| &= \\sqrt{zz^*} = \\sqrt{|z|^2},\\\\ ||w|| &= \\sqrt{ww^*} = \\sqrt{|w|^2}, \\end{align} "
   ]
  },
  {
   "cell_type": "code",
   "execution_count": 22,
   "metadata": {},
   "outputs": [
    {
     "name": "stdout",
     "output_type": "stream",
     "text": [
      "||z||= 3.605551275463989\n"
     ]
    }
   ],
   "source": [
    "print('||z||=', np.abs(z))"
   ]
  },
  {
   "cell_type": "code",
   "execution_count": 23,
   "metadata": {},
   "outputs": [
    {
     "name": "stdout",
     "output_type": "stream",
     "text": [
      "||w||= 5.385164807134504\n"
     ]
    }
   ],
   "source": [
    "print('||w||=', np.abs(w))"
   ]
  },
  {
   "cell_type": "markdown",
   "metadata": {},
   "source": [
    "Now, there are many different arithmetic operations we can perform on complex numbers. \n",
    "\n",
    "> **Addition, subtraction, multiplication,** and **division** are all defined for complex numbers and can be computer using NumPy. \n",
    "\n",
    "For example, compute the following three values, \n",
    "\n",
    "- $z+w$\n",
    "- $z-w$\n",
    "- $w-z$\n",
    "\n",
    "\n",
    "### As a Reminder:"
   ]
  },
  {
   "cell_type": "markdown",
   "metadata": {},
   "source": [
    "### Z:"
   ]
  },
  {
   "cell_type": "code",
   "execution_count": 24,
   "metadata": {},
   "outputs": [
    {
     "data": {
      "text/plain": [
       "(3+2j)"
      ]
     },
     "execution_count": 24,
     "metadata": {},
     "output_type": "execute_result"
    }
   ],
   "source": [
    "z"
   ]
  },
  {
   "cell_type": "markdown",
   "metadata": {},
   "source": [
    "### W:"
   ]
  },
  {
   "cell_type": "code",
   "execution_count": 25,
   "metadata": {},
   "outputs": [
    {
     "data": {
      "text/plain": [
       "(-2-5j)"
      ]
     },
     "execution_count": 25,
     "metadata": {},
     "output_type": "execute_result"
    }
   ],
   "source": [
    "w"
   ]
  },
  {
   "cell_type": "markdown",
   "metadata": {},
   "source": [
    "### ADD:"
   ]
  },
  {
   "cell_type": "code",
   "execution_count": 26,
   "metadata": {},
   "outputs": [
    {
     "data": {
      "text/plain": [
       "(1-3j)"
      ]
     },
     "execution_count": 26,
     "metadata": {},
     "output_type": "execute_result"
    }
   ],
   "source": [
    "z+w"
   ]
  },
  {
   "cell_type": "markdown",
   "metadata": {},
   "source": [
    "### SUBTRACT: (Z - W)"
   ]
  },
  {
   "cell_type": "code",
   "execution_count": 27,
   "metadata": {},
   "outputs": [
    {
     "data": {
      "text/plain": [
       "(5+7j)"
      ]
     },
     "execution_count": 27,
     "metadata": {},
     "output_type": "execute_result"
    }
   ],
   "source": [
    "z-w"
   ]
  },
  {
   "cell_type": "markdown",
   "metadata": {},
   "source": [
    "### SUBTRACT: (W - Z)"
   ]
  },
  {
   "cell_type": "code",
   "execution_count": 28,
   "metadata": {},
   "outputs": [
    {
     "data": {
      "text/plain": [
       "(-5-7j)"
      ]
     },
     "execution_count": 28,
     "metadata": {},
     "output_type": "execute_result"
    }
   ],
   "source": [
    "w-z"
   ]
  },
  {
   "cell_type": "markdown",
   "metadata": {},
   "source": [
    "**Addition** and **subtraction** of complex numbers is done <font color=\"red\">**componentwise**</font>, meaning the **real parts** and the **complex parts** are **added** or **subtracted** <font color=\"red\">**individually**</font> and <font color=\"red\">**do not effect each other**</font>. \n",
    "\n",
    "#### So, for example, \n",
    "\n",
    "\n",
    "### z + w \n",
    "\n",
    "= (3+2j) + (-2-5j) \n",
    "\n",
    "= (3-2) + (2-5)j \n",
    "\n",
    "= **1-3j**. \n"
   ]
  },
  {
   "cell_type": "markdown",
   "metadata": {},
   "source": [
    "We can also **multiply** complex numbers and **divide** them as well. This is also handled by NumPy. \n",
    "\n",
    "Compute the following **three** values, \n",
    "\n",
    "- <font color=\"red\" size=5> $z \\cdot w$ </font> <BR><BR>\n",
    "-  <font color=\"red\" size=5> $\\frac{z}{w}$ </font> <BR><BR>\n",
    "-  <font color=\"red\" size=5> $\\frac{w}{z}$ </font> <BR><BR>"
   ]
  },
  {
   "cell_type": "code",
   "execution_count": 29,
   "metadata": {},
   "outputs": [
    {
     "data": {
      "text/plain": [
       "(4-19j)"
      ]
     },
     "execution_count": 29,
     "metadata": {},
     "output_type": "execute_result"
    }
   ],
   "source": [
    "z*w"
   ]
  },
  {
   "cell_type": "code",
   "execution_count": 30,
   "metadata": {},
   "outputs": [
    {
     "data": {
      "text/plain": [
       "(-0.5517241379310345+0.37931034482758624j)"
      ]
     },
     "execution_count": 30,
     "metadata": {},
     "output_type": "execute_result"
    }
   ],
   "source": [
    "z/w"
   ]
  },
  {
   "cell_type": "code",
   "execution_count": 31,
   "metadata": {},
   "outputs": [
    {
     "data": {
      "text/plain": [
       "(-1.2307692307692308-0.8461538461538463j)"
      ]
     },
     "execution_count": 31,
     "metadata": {},
     "output_type": "execute_result"
    }
   ],
   "source": [
    "w/z"
   ]
  },
  {
   "cell_type": "code",
   "execution_count": null,
   "metadata": {},
   "outputs": [],
   "source": []
  },
  {
   "cell_type": "markdown",
   "metadata": {},
   "source": [
    "# <font color=\"red\">Graded Exercises</font>  for use <font color=\"blue\">with structured courses.</font>\n",
    "\n",
    "## Complex Numbers\n",
    "\n",
    "#### <font color=\"blue\">*This work will take some time, so block off enough time to adequately cover it*</font>. \n",
    "\n",
    "\n",
    "- Go through the **entire** JNB and complete each of the exercises, including any supplementary Video's - hand in completed <font color=\"red\">**PDF**</font> from this JNB once finished.\n",
    "\n",
    "\n",
    "- Step through the code for **each** of the above exercises, make sure you can (1) execute it, and (2) know what it does.\n",
    "\n",
    "\n",
    "- <font color=\"blue\">Complete Challenge Exercises below.</font> **(turn in the JNB)**"
   ]
  },
  {
   "cell_type": "markdown",
   "metadata": {},
   "source": [
    "## Exercises: Complex Numbers\n",
    "- In Python.\n"
   ]
  },
  {
   "cell_type": "markdown",
   "metadata": {},
   "source": [
    "#### 1. Define two <font color=\"red\" size=4>complex numbers </font>:\n",
    "\n",
    "<font color=\"red\" size=4>**u**</font>  $= 1-3j$ \n",
    "\n",
    "and \n",
    "\n",
    "<font color=\"red\" size=4>**v**</font> $= 5+2j$ \n",
    "\n",
    "<font color=\"blue\">**in Python**</font>."
   ]
  },
  {
   "cell_type": "code",
   "execution_count": 32,
   "metadata": {},
   "outputs": [
    {
     "data": {
      "text/plain": [
       "(1-3j)"
      ]
     },
     "execution_count": 32,
     "metadata": {},
     "output_type": "execute_result"
    }
   ],
   "source": [
    "u = 1 - 3j\n",
    "u"
   ]
  },
  {
   "cell_type": "code",
   "execution_count": 33,
   "metadata": {},
   "outputs": [
    {
     "data": {
      "text/plain": [
       "(5+2j)"
      ]
     },
     "execution_count": 33,
     "metadata": {},
     "output_type": "execute_result"
    }
   ],
   "source": [
    "v = 5 + 2j\n",
    "v"
   ]
  },
  {
   "cell_type": "markdown",
   "metadata": {},
   "source": [
    "#### 2. Compute <font color=\"red\" size=4> $u+v$</font> . "
   ]
  },
  {
   "cell_type": "code",
   "execution_count": 34,
   "metadata": {},
   "outputs": [
    {
     "data": {
      "text/plain": [
       "(6-1j)"
      ]
     },
     "execution_count": 34,
     "metadata": {},
     "output_type": "execute_result"
    }
   ],
   "source": [
    "u + v"
   ]
  },
  {
   "cell_type": "markdown",
   "metadata": {},
   "source": [
    "#### 3. Compute <font color=\"red\" size=4> $u-v$ </font> ."
   ]
  },
  {
   "cell_type": "code",
   "execution_count": 35,
   "metadata": {},
   "outputs": [
    {
     "data": {
      "text/plain": [
       "(-4-5j)"
      ]
     },
     "execution_count": 35,
     "metadata": {},
     "output_type": "execute_result"
    }
   ],
   "source": [
    "u - v"
   ]
  },
  {
   "cell_type": "markdown",
   "metadata": {},
   "source": [
    "#### 4. Compute <font color=\"red\" size=4> $v-u$</font>. "
   ]
  },
  {
   "cell_type": "code",
   "execution_count": 36,
   "metadata": {},
   "outputs": [
    {
     "data": {
      "text/plain": [
       "(4+5j)"
      ]
     },
     "execution_count": 36,
     "metadata": {},
     "output_type": "execute_result"
    }
   ],
   "source": [
    "v - u"
   ]
  },
  {
   "cell_type": "markdown",
   "metadata": {},
   "source": [
    "#### 5. Compute <font color=\"red\" size=4> $u \\cdot v$ </font>. "
   ]
  },
  {
   "cell_type": "code",
   "execution_count": 37,
   "metadata": {},
   "outputs": [
    {
     "data": {
      "text/plain": [
       "(11-13j)"
      ]
     },
     "execution_count": 37,
     "metadata": {},
     "output_type": "execute_result"
    }
   ],
   "source": [
    "u * v"
   ]
  },
  {
   "cell_type": "markdown",
   "metadata": {},
   "source": [
    "#### 6. Compute <font color=\"red\" size=5> $\\frac{u}{v}$ </font>."
   ]
  },
  {
   "cell_type": "code",
   "execution_count": 38,
   "metadata": {},
   "outputs": [
    {
     "data": {
      "text/plain": [
       "(-0.03448275862068969-0.5862068965517241j)"
      ]
     },
     "execution_count": 38,
     "metadata": {},
     "output_type": "execute_result"
    }
   ],
   "source": [
    "u/v"
   ]
  },
  {
   "cell_type": "markdown",
   "metadata": {},
   "source": [
    "#### 7. Compute <font color=\"red\" size=5> $\\frac{v}{u}$ </font>. "
   ]
  },
  {
   "cell_type": "code",
   "execution_count": 50,
   "metadata": {},
   "outputs": [
    {
     "data": {
      "text/plain": [
       "(-0.10000000000000003+1.7j)"
      ]
     },
     "execution_count": 50,
     "metadata": {},
     "output_type": "execute_result"
    }
   ],
   "source": [
    "v/u"
   ]
  },
  {
   "cell_type": "markdown",
   "metadata": {},
   "source": [
    "#### 8. Compute the <font color=\"red\">complex conjugate</font> of the following <font color=\"blue\">complex numbers</font>:\n",
    "\n",
    "\n",
    "\n",
    "- <font color=\"red\" size=5>u</font> = $2-i$, \n",
    "\n",
    "\n",
    "- <font color=\"red\" size=5>z</font> = $3+4i$, \n",
    "\n",
    "\n",
    "- <font color=\"red\" size=5>w</font> = $-9i$\n",
    "\n"
   ]
  },
  {
   "cell_type": "markdown",
   "metadata": {},
   "source": [
    "<font color=\"red\" size=5>u:</font>"
   ]
  },
  {
   "cell_type": "code",
   "execution_count": 71,
   "metadata": {},
   "outputs": [
    {
     "data": {
      "text/plain": [
       "(2-0j)"
      ]
     },
     "execution_count": 71,
     "metadata": {},
     "output_type": "execute_result"
    }
   ],
   "source": [
    "u=2-0j\n",
    "np.conj(u)"
   ]
  },
  {
   "cell_type": "markdown",
   "metadata": {},
   "source": [
    "<font color=\"red\" size=5>z:</font>"
   ]
  },
  {
   "cell_type": "code",
   "execution_count": 64,
   "metadata": {},
   "outputs": [
    {
     "data": {
      "text/plain": [
       "(3-4j)"
      ]
     },
     "execution_count": 64,
     "metadata": {},
     "output_type": "execute_result"
    }
   ],
   "source": [
    "z=3+4j\n",
    "np.conj(z)"
   ]
  },
  {
   "cell_type": "markdown",
   "metadata": {},
   "source": [
    "<font color=\"red\" size=5>w:</font>"
   ]
  },
  {
   "cell_type": "code",
   "execution_count": 66,
   "metadata": {},
   "outputs": [
    {
     "data": {
      "text/plain": [
       "(-0+9j)"
      ]
     },
     "execution_count": 66,
     "metadata": {},
     "output_type": "execute_result"
    }
   ],
   "source": [
    "w=-9j\n",
    "np.conj(w)"
   ]
  },
  {
   "cell_type": "markdown",
   "metadata": {},
   "source": [
    "#### 9. Compute the <font color=\"blue\">absolute value</font> (or norm) of <font color=\"red\" size=5>$u$</font>, <font color=\"red\" size=5>$z$</font>, and <font color=\"red\" size=5>$w$</font> using Python.\n",
    "-  Don't forget to use **\"$j$\"** instead of **\"$i$\"** in Python. \n"
   ]
  },
  {
   "cell_type": "code",
   "execution_count": null,
   "metadata": {},
   "outputs": [],
   "source": []
  },
  {
   "cell_type": "markdown",
   "metadata": {},
   "source": [
    "<font color=\"red\" size=5>u:</font>"
   ]
  },
  {
   "cell_type": "code",
   "execution_count": 72,
   "metadata": {},
   "outputs": [
    {
     "name": "stdout",
     "output_type": "stream",
     "text": [
      "||u||= 2.0\n"
     ]
    }
   ],
   "source": [
    "print('||u||=', np.abs(u))"
   ]
  },
  {
   "cell_type": "markdown",
   "metadata": {},
   "source": [
    "<font color=\"red\" size=5>z:</font>"
   ]
  },
  {
   "cell_type": "code",
   "execution_count": 73,
   "metadata": {},
   "outputs": [
    {
     "name": "stdout",
     "output_type": "stream",
     "text": [
      "||z||= 5.0\n"
     ]
    }
   ],
   "source": [
    "print('||z||=', np.abs(z))"
   ]
  },
  {
   "cell_type": "markdown",
   "metadata": {},
   "source": [
    "<font color=\"red\" size=5>w:</font>"
   ]
  },
  {
   "cell_type": "code",
   "execution_count": 74,
   "metadata": {},
   "outputs": [
    {
     "name": "stdout",
     "output_type": "stream",
     "text": [
      "||w||= 9.0\n"
     ]
    }
   ],
   "source": [
    "print('||w||=', np.abs(w))"
   ]
  },
  {
   "cell_type": "markdown",
   "metadata": {},
   "source": [
    "![the-end](img/the-end.png \"the-end\")"
   ]
  }
 ],
 "metadata": {
  "kernelspec": {
   "display_name": "Python 3 (ipykernel)",
   "language": "python",
   "name": "python3"
  },
  "language_info": {
   "codemirror_mode": {
    "name": "ipython",
    "version": 3
   },
   "file_extension": ".py",
   "mimetype": "text/x-python",
   "name": "python",
   "nbconvert_exporter": "python",
   "pygments_lexer": "ipython3",
   "version": "3.8.0"
  }
 },
 "nbformat": 4,
 "nbformat_minor": 4
}
