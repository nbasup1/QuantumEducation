{
 "cells": [
  {
   "cell_type": "markdown",
   "metadata": {},
   "source": [
    "# Inner Products and Norms of Vectors\n",
    "\n",
    "- #### Hands-on Experiential Learning <font color=\"red\">for the Software Engineer</font>\n"
   ]
  },
  {
   "cell_type": "markdown",
   "metadata": {},
   "source": [
    "![](img/QC_Math_Banner.png \"\")\n",
    "\n",
    "<font color=\"red\">**Notice**</font>: All materials herein were <font color=\"red\">**curated**</font> by **Matthew R. Versaggi (profversaggi@gmail.com)** and are released into the open source to foster growth and welfare of expanding the Quantum Computing domain - the only obligation one incurs when using, copying, distributing or referencing this is to kindly reference the author and send me an email so I know how useful the material is to you.\n",
    "\n",
    "#### <font color=\"red\">Recommendations</font>: \n",
    "\n",
    "> **<font color=\"blue\">It's highly recommended to take structured QC Math courses <font color=\"red\">like</font>:</font>**\n",
    "> #### Math Prerequisites for Quantum Computing\n",
    "> - https://www.udemy.com/course/mathematics-prerequisites-for-quantum-computing-and-quantum-physics/\n",
    "\n",
    "> #### Advanced Math for Quantum Computing\n",
    "> - https://www.udemy.com/course/qc201-advanced-math-for-quantum-computing-mathematics-physics/\n",
    "\n",
    "\n",
    "\n",
    "#### <font color=\"red\">Materials Inspiration and Author(s)</font>: \n",
    "\n",
    "> **<font color=\"blue\">Amelie Schreiber</font>**\n",
    "- Article: https://towardsdatascience.com/quantum-computing-for-the-newb-5e0737e3ca4\n",
    "- Course: https://the-singularity-research.github.io/linear_algebra_for_quantum_computing/\n",
    "- GitHub: https://github.com/The-Singularity-Research/linear_algebra_for_quantum_computing\n",
    "\n",
    "> **<font color=\"blue\">QWorld</font>**\n",
    "- Site: https://qworld.lu.lv/\n",
    "- GitLab: https://gitlab.com/qkitchen/basics-of-quantum-computing"
   ]
  },
  {
   "cell_type": "markdown",
   "metadata": {},
   "source": [
    "## Importing NumPy\n",
    "\n",
    "As usual, we will need to import NumPy"
   ]
  },
  {
   "cell_type": "code",
   "execution_count": 2,
   "metadata": {},
   "outputs": [],
   "source": [
    "import numpy as np"
   ]
  },
  {
   "cell_type": "markdown",
   "metadata": {},
   "source": [
    "## Introduction\n",
    "\n",
    "\n",
    "### <font color=\"red\">**Background Information**</font>: \n",
    "\n",
    "- **Interactive graphical Inner-Product of vectors**: - https://elsenaju.eu/Determinant/Inner-product.htm\n",
    "\n",
    "- **DOT (INNER) PRODUCT CALCULATOR**: - https://www.emathhelp.net/calculators/linear-algebra/dot-inner-product-calculator/\n",
    "\n",
    "- **Immersive Linear Algebra**: - http://immersivemath.com/ila/index.html\n",
    "\n",
    "<BR>\n",
    "\n",
    "### <font color=\"red\">**Why this is important**</font>: \n",
    "\n",
    "#### The most important vectors we will encounter will be $2$-dimensional complex vector which are of length $1$. \n",
    "\n",
    "\n",
    "In this section we will define the <font color=\"red\">**inner product**</font> of two vectors, and the <font color=\"red\">**norm**</font> (**length**) of a vector which is derived from the **inner product of the vector with itself**. \n",
    "\n",
    "- The vectors of length $1$ are sometimes referred to as **unit vectors**. We will discuss **complex unit vectors** in <font color=\"blue\">$2$-dimensional space $\\mathbb{C}^2$ </font>and how they relate to **qubits**. This will then lead to a discussion of the **Bloch sphere** which will be a useful way of *understanding qubits and how quantum gates act on them*. \n",
    "\n",
    "\n",
    "### <font color=\"blue\">Inner Products</font>\n",
    "**Inner Products** are a more *general case* of the **dot-product**, but *for most of our purposes, they can be thought of as the same thing*. \n",
    "\n",
    "> The **most basic case of an inner product** and the one we will use the most often can be thought of as the **product of a <font color=\"red\">row</font> vector and a <font color=\"red\">column</font> vector of the <font color=\"blue\">same dimension</font>**:\n",
    "\n",
    "\\begin{align} \\langle A| = \\begin{pmatrix}\n",
    "a_1, & a_2, & \\cdots, & a_n\n",
    "\\end{pmatrix}, \\quad \\quad\n",
    "|B\\rangle = \\begin{pmatrix}\n",
    "b_1 \\\\ b_2 \\\\ \\vdots \\\\ b_n\n",
    "\\end{pmatrix} \\end{align}\n",
    "\n",
    "Taking the <font color=\"blue\">**inner product**</font> of $\\langle A|$ and $|B\\rangle$ gives the following:\n",
    "\n",
    "<font color=\"blue\"> \n",
    "\n",
    "\\begin{align} \\langle A| B \\rangle &= \\begin{pmatrix} \n",
    "a_1, & a_2, & \\cdots, & a_n\n",
    "\\end{pmatrix}\n",
    "\\begin{pmatrix}\n",
    "b_1 \\\\ b_2 \\\\ \\vdots \\\\ b_n\n",
    "\\end{pmatrix}\\\\\n",
    "&= \n",
    "a_1b_1 + a_2b_2 + \\cdots + a_nb_n\\\\\n",
    "&= \\sum_{i=1}^n a_ib_i\n",
    "\\end{align}\n",
    "\n",
    "</font>\n",
    "\n",
    "\n",
    "<BR>"
   ]
  },
  {
   "cell_type": "markdown",
   "metadata": {},
   "source": [
    "**As a basic example**, take the inner product of the following $2$-dimensional vectors, \n",
    "\n",
    "\n",
    "\\begin{align} \\langle A| = \\begin{pmatrix}\n",
    "3i, & 2\n",
    "\\end{pmatrix}, \\quad \\quad |B\\rangle = \\begin{pmatrix}\n",
    "5+2i \\\\ 1-i\n",
    "\\end{pmatrix} \\end{align}\n",
    "\n",
    "#### as follows:\n",
    "\n",
    "<font color=\"blue\"> \n",
    "    \n",
    "\\begin{align}\n",
    "\\langle A| B \\rangle = \\begin{pmatrix}\n",
    "3i, & 2\n",
    "\\end{pmatrix}\n",
    "\\begin{pmatrix}\n",
    "5+2i \\\\ 1-i\n",
    "\\end{pmatrix} &= \n",
    "3i(5+2i) + 2(1-i)\\\\ \n",
    "&= 15i-6+2-2i\\\\ \n",
    "&= -4+13i\n",
    "\\end{align}\n",
    "\n",
    "</font>\n",
    "\n",
    "<BR>"
   ]
  },
  {
   "cell_type": "markdown",
   "metadata": {},
   "source": [
    "In order to define a <font color=\"red\">**complex vector**</font> so that we can take its **conjugate transpose**, also called the **Hermitian conjugate**, we must define it as a <font color=\"red\">**matrix**</font>. \n",
    "\n",
    "\n",
    "So, suppose we have the following **column vector (ket-vector)**:\n",
    "\n",
    "\\begin{align}\n",
    "|A\\rangle = \\begin{pmatrix} 1-i \\\\ 3 \\\\ 2i \\\\ 5+i \\end{pmatrix}\n",
    "\\end{align}\n",
    "\n",
    "<font color=\"blue\"> Then of course its **Hermitian conjugate** would be the bra-vector:</font>\n",
    "\n",
    "\\begin{align}\n",
    "\\langle A| = \\begin{pmatrix}1+i, & 3, & -2i, & 5-i \\end{pmatrix}\n",
    "\\end{align}\n",
    "\n",
    "<BR>\n",
    "\n",
    "Now, in **Python**, we must remember to use \"$j$\" instead of $\"i\"$ for the imaginary unit,  and we must **define** the $4 \\times 1$-matrix:"
   ]
  },
  {
   "cell_type": "markdown",
   "metadata": {},
   "source": [
    "#### Define the 4x1 <font color=\"red\">matrix</font> version of a <font color=\"red\">column</font> vector (instead of using the np.<font color=\"red\">array</font>() version):"
   ]
  },
  {
   "cell_type": "code",
   "execution_count": 2,
   "metadata": {},
   "outputs": [
    {
     "name": "stdout",
     "output_type": "stream",
     "text": [
      "[[1.-1.j]\n",
      " [3.+0.j]\n",
      " [0.+2.j]\n",
      " [5.+1.j]]\n"
     ]
    }
   ],
   "source": [
    "# Define the 4x1 matrix version of a column vector (instead of using the np.array() version):\n",
    "\n",
    "A = np.matrix([[1-1j], \n",
    "               [3], \n",
    "               [2j], \n",
    "               [5+1j]])\n",
    "\n",
    "print(A)"
   ]
  },
  {
   "cell_type": "code",
   "execution_count": 3,
   "metadata": {},
   "outputs": [
    {
     "data": {
      "text/plain": [
       "numpy.matrix"
      ]
     },
     "execution_count": 3,
     "metadata": {},
     "output_type": "execute_result"
    }
   ],
   "source": [
    "type(A)"
   ]
  },
  {
   "cell_type": "markdown",
   "metadata": {},
   "source": [
    "#### Compute the Hermitian Conjugate  (also called the <font color=\"red\">Complex conjugate</font>):"
   ]
  },
  {
   "cell_type": "code",
   "execution_count": 4,
   "metadata": {},
   "outputs": [
    {
     "data": {
      "text/plain": [
       "matrix([[1.+1.j, 3.-0.j, 0.-2.j, 5.-1.j]])"
      ]
     },
     "execution_count": 4,
     "metadata": {},
     "output_type": "execute_result"
    }
   ],
   "source": [
    "# Compute the Hermitian Conjugate:\n",
    "A.H"
   ]
  },
  {
   "cell_type": "markdown",
   "metadata": {},
   "source": [
    "#### Compute the <font color=\"red\">inner product</font> $ \\langle A|A \\rangle $ \n",
    "- Simply **multiply** the two matrix versions just computed using Numpy's **DotProduct** FN:"
   ]
  },
  {
   "cell_type": "code",
   "execution_count": 5,
   "metadata": {},
   "outputs": [
    {
     "data": {
      "text/plain": [
       "matrix([[41.+0.j]])"
      ]
     },
     "execution_count": 5,
     "metadata": {},
     "output_type": "execute_result"
    }
   ],
   "source": [
    "np.dot(A.H, A)"
   ]
  },
  {
   "cell_type": "code",
   "execution_count": null,
   "metadata": {},
   "outputs": [],
   "source": []
  },
  {
   "cell_type": "markdown",
   "metadata": {},
   "source": [
    "Let's define **another $4$-dimensional complex <font color=\"red\">row</font> vector**  <font color=\"blue\">$\\langle B|$</font>:\n",
    "\n",
    "\\begin{align}\n",
    "\\langle B| = \\begin{pmatrix}\n",
    "-3i, & 2+2i, & -6i, & -7\n",
    "\\end{pmatrix}\n",
    "\\end{align}\n",
    "\n",
    "Once we have defined this **bra-vector**, let's compute the following **inner products**:\n",
    "<BR><BR>\n",
    "\n",
    "\\begin{align}\n",
    "\\langle B|A \\rangle, \\quad \\langle B|B \\rangle, \\quad \\langle A|B \\rangle.\n",
    "\\end{align}\n",
    "\n",
    "<BR><BR>"
   ]
  },
  {
   "cell_type": "markdown",
   "metadata": {},
   "source": [
    "### Define B as a 1x4 matrix"
   ]
  },
  {
   "cell_type": "code",
   "execution_count": 6,
   "metadata": {
    "scrolled": true
   },
   "outputs": [
    {
     "name": "stdout",
     "output_type": "stream",
     "text": [
      "[[-0.-3.j  2.+2.j -0.-6.j -7.+0.j]]\n"
     ]
    }
   ],
   "source": [
    "# Define B as a 1x4 matrix\n",
    "\n",
    "B = np.matrix([[-3j, 2+2j, -6j, -7]])\n",
    "\n",
    "print(B)"
   ]
  },
  {
   "cell_type": "markdown",
   "metadata": {},
   "source": [
    "#### Check shape"
   ]
  },
  {
   "cell_type": "code",
   "execution_count": 7,
   "metadata": {},
   "outputs": [
    {
     "data": {
      "text/plain": [
       "(1, 4)"
      ]
     },
     "execution_count": 7,
     "metadata": {},
     "output_type": "execute_result"
    }
   ],
   "source": [
    "B.shape"
   ]
  },
  {
   "cell_type": "markdown",
   "metadata": {},
   "source": [
    "#### #Compute the <font color=\"red\"> Hermitian Conjugate</font> (also called the Conjugate Transpose) of B, which is a <font color=\"blue\">ket-vector</font>"
   ]
  },
  {
   "cell_type": "code",
   "execution_count": 9,
   "metadata": {},
   "outputs": [
    {
     "data": {
      "text/plain": [
       "matrix([[-0.+3.j],\n",
       "        [ 2.-2.j],\n",
       "        [-0.+6.j],\n",
       "        [-7.-0.j]])"
      ]
     },
     "execution_count": 9,
     "metadata": {},
     "output_type": "execute_result"
    }
   ],
   "source": [
    "#Compute the Hermitian Conjugate of B, which is a ket-vector\n",
    "\n",
    "B.H"
   ]
  },
  {
   "cell_type": "markdown",
   "metadata": {},
   "source": [
    "### <B|A>"
   ]
  },
  {
   "cell_type": "code",
   "execution_count": 10,
   "metadata": {
    "scrolled": true
   },
   "outputs": [
    {
     "data": {
      "text/plain": [
       "matrix([[-20.-4.j]])"
      ]
     },
     "execution_count": 10,
     "metadata": {},
     "output_type": "execute_result"
    }
   ],
   "source": [
    "# Compute <B|A>\n",
    "\n",
    "np.dot(B,A)"
   ]
  },
  {
   "cell_type": "markdown",
   "metadata": {},
   "source": [
    "### <B|B>"
   ]
  },
  {
   "cell_type": "code",
   "execution_count": 11,
   "metadata": {
    "scrolled": true
   },
   "outputs": [
    {
     "data": {
      "text/plain": [
       "matrix([[102.+0.j]])"
      ]
     },
     "execution_count": 11,
     "metadata": {},
     "output_type": "execute_result"
    }
   ],
   "source": [
    "# Compute <B|B>\n",
    "\n",
    "np.dot(B, B.H)"
   ]
  },
  {
   "cell_type": "markdown",
   "metadata": {},
   "source": [
    "### <A|B>"
   ]
  },
  {
   "cell_type": "code",
   "execution_count": 13,
   "metadata": {},
   "outputs": [
    {
     "data": {
      "text/plain": [
       "matrix([[-20.+4.j]])"
      ]
     },
     "execution_count": 13,
     "metadata": {},
     "output_type": "execute_result"
    }
   ],
   "source": [
    "# Compute <A|B>\n",
    "\n",
    "np.dot(A.H, B.H)"
   ]
  },
  {
   "cell_type": "markdown",
   "metadata": {},
   "source": [
    "#### Outer Product"
   ]
  },
  {
   "cell_type": "markdown",
   "metadata": {},
   "source": [
    "There is a different kind of product on two vectors which we will cover later called the **[outer product](https://en.wikipedia.org/wiki/Outer_product)**. \n",
    "\n",
    "\n",
    "> The outer product is a specific case of the tensor product and is written in this case by $ |A\\rangle \\langle A|$. It is important to make this distinction now and note that the two **are not the same**. \n",
    "\n",
    "\n",
    "- The **inner product** always yields a **<font color=\"red\">number</font>**, which can be complex valued if the two vectors are complex valued. \n",
    "- The **outer product** in general gives a **<font color=\"red\">matrix</font>**. "
   ]
  },
  {
   "cell_type": "markdown",
   "metadata": {},
   "source": [
    "#### outer product in general gives a matrix"
   ]
  },
  {
   "cell_type": "code",
   "execution_count": 14,
   "metadata": {},
   "outputs": [
    {
     "data": {
      "text/plain": [
       "matrix([[ 2. +0.j,  3. -3.j, -2. -2.j,  4. -6.j],\n",
       "        [ 3. +3.j,  9. +0.j,  0. -6.j, 15. -3.j],\n",
       "        [-2. +2.j,  0. +6.j,  4. +0.j,  2.+10.j],\n",
       "        [ 4. +6.j, 15. +3.j,  2.-10.j, 26. +0.j]])"
      ]
     },
     "execution_count": 14,
     "metadata": {},
     "output_type": "execute_result"
    }
   ],
   "source": [
    "np.dot(A, A.H)"
   ]
  },
  {
   "cell_type": "markdown",
   "metadata": {},
   "source": [
    "For the more adventurous readers who understand how to multiply matrices, and to prepare for future computations where matrices are involved, we will compute a more **general \"inner product\"**. \n",
    "\n",
    "\n",
    "> If this does not make any sense to you and matrix multiplication is a foreign concept, we will discuss matrix multiplication in this chapter as a refresher, but now might be a good time to refresh your memory on how to multiply matrices if it is unfamiliar. \n",
    "\n",
    "When we discuss <font color=\"red\">**measurements**</font> and <font color=\"red\">**expectation values**</font>  we will need to consider the case when there is a matrix in between the **bra-** and **ket-** vector. \n",
    "\n",
    "> Take for example the **Pauli-Z matrix**, which we will discuss more later on:\n",
    "\n",
    "<font color=\"blue\"> \n",
    "    \n",
    "\\begin{align} Z = \\begin{pmatrix}\n",
    "1 & 0 \\\\\n",
    "0 & -1\n",
    "\\end{pmatrix} \\end{align}\n",
    "\n",
    "</font>\n",
    "\n",
    "Now take the following **bra-vector** and **ket-vector**:\n",
    "\n",
    "\n",
    "\\begin{align} \\langle A| = \\begin{pmatrix}\n",
    "i/\\sqrt{2}, & -i/\\sqrt{2}\n",
    "\\end{pmatrix}, \\quad \\quad |A\\rangle = \\begin{pmatrix}\n",
    "-i/\\sqrt{2} \\\\ i/\\sqrt{2}\n",
    "\\end{pmatrix} \\end{align}\n",
    "\n",
    "<BR>"
   ]
  },
  {
   "cell_type": "markdown",
   "metadata": {},
   "source": [
    "### Now, we can compute the following variation on the inner product\n",
    "\n",
    "\\begin{align}\n",
    "\\langle A| Z |A \\rangle &= \n",
    "\\begin{pmatrix}\n",
    "i/\\sqrt{2}, & -i/\\sqrt{2}\n",
    "\\end{pmatrix}\n",
    "\\begin{pmatrix}\n",
    "1 & 0 \\\\\n",
    "0 & -1\n",
    "\\end{pmatrix}\n",
    "\\begin{pmatrix}\n",
    "-i/\\sqrt{2} \\\\ i/\\sqrt{2}\n",
    "\\end{pmatrix} \\\\\n",
    "&= \\begin{pmatrix}\n",
    "i/\\sqrt{2}, & -i/\\sqrt{2}\n",
    "\\end{pmatrix}\n",
    "\\begin{pmatrix}\n",
    "-i/\\sqrt{2} \\\\ -i/\\sqrt{2}\n",
    "\\end{pmatrix} \\\\\n",
    "&= 1/2 - 1/2 \\\\\n",
    "&= 0\n",
    "\\end{align}\n",
    "\n",
    "We will encounter such calculations many more times when we discuss **measurements** and **expectations**. \n",
    "\n",
    "\n",
    "> *If this is a little confusing, it is not important to worry too much about it just yet.*  **Matrix multiplication** will be covered shortly, and later we will discuss **measurements** and **expectation** values, at which point we should be comfortable computing more general version of the **\"inner product\"**.\n",
    "\n",
    "<BR>"
   ]
  },
  {
   "cell_type": "code",
   "execution_count": null,
   "metadata": {},
   "outputs": [],
   "source": []
  },
  {
   "cell_type": "markdown",
   "metadata": {},
   "source": [
    "# <font color=\"red\">Graded Exercises</font>  for use <font color=\"blue\">with structured courses.</font>\n",
    "\n",
    "## Inner Products\n",
    "\n",
    "#### <font color=\"blue\">*This work will take some time, so block off enough time to adequately cover it*</font>. \n",
    "\n",
    "\n",
    "- Go through the **entire** JNB and complete each of the exercises, including any supplementary Video's - hand in completed <font color=\"red\">**PDF**</font> from this JNB once finished.\n",
    "\n",
    "\n",
    "- Step through the code for **each** of the above exercises, make sure you can (1) execute it, and (2) know what it does.\n",
    "\n",
    "\n",
    "- <font color=\"blue\">Complete Challenge Exercises below.</font> **(turn in the JNB)**"
   ]
  },
  {
   "cell_type": "markdown",
   "metadata": {},
   "source": [
    "#### Write Python code to compute the inner product of: \n",
    "    \n",
    "<BR>    \n",
    "    \n",
    "$\\begin{pmatrix}\n",
    "2, & 3i\n",
    "\\end{pmatrix}\n",
    "\\begin{pmatrix}\n",
    "1+i \\\\ 4\n",
    "\\end{pmatrix}$ \n",
    "    \n",
    "    \n",
    "<BR>    "
   ]
  },
  {
   "cell_type": "code",
   "execution_count": 9,
   "metadata": {},
   "outputs": [
    {
     "name": "stdout",
     "output_type": "stream",
     "text": [
      "[[2.+0.j 0.+3.j]]\n"
     ]
    }
   ],
   "source": [
    "A = np.matrix([[2, 3j]])\n",
    "\n",
    "print(A)"
   ]
  },
  {
   "cell_type": "code",
   "execution_count": 10,
   "metadata": {},
   "outputs": [
    {
     "data": {
      "text/plain": [
       "(1, 2)"
      ]
     },
     "execution_count": 10,
     "metadata": {},
     "output_type": "execute_result"
    }
   ],
   "source": [
    "A.shape"
   ]
  },
  {
   "cell_type": "code",
   "execution_count": 11,
   "metadata": {},
   "outputs": [
    {
     "name": "stdout",
     "output_type": "stream",
     "text": [
      "[[1.+1.j]\n",
      " [4.+0.j]]\n"
     ]
    }
   ],
   "source": [
    "B = np.matrix([[1+1j], \n",
    "               [4]])\n",
    "\n",
    "print(B)"
   ]
  },
  {
   "cell_type": "code",
   "execution_count": 12,
   "metadata": {},
   "outputs": [
    {
     "data": {
      "text/plain": [
       "(2, 1)"
      ]
     },
     "execution_count": 12,
     "metadata": {},
     "output_type": "execute_result"
    }
   ],
   "source": [
    "B.shape"
   ]
  },
  {
   "cell_type": "code",
   "execution_count": 13,
   "metadata": {},
   "outputs": [
    {
     "data": {
      "text/plain": [
       "matrix([[2.+14.j]])"
      ]
     },
     "execution_count": 13,
     "metadata": {},
     "output_type": "execute_result"
    }
   ],
   "source": [
    "np.dot(A, B)"
   ]
  },
  {
   "cell_type": "markdown",
   "metadata": {},
   "source": [
    "#### Write Python code to compute the inner product of: \n",
    "\n",
    "<BR>\n",
    "    \n",
    "$ \\begin{pmatrix}\n",
    "3i, & 1+2i, & 4, & 2i\n",
    "\\end{pmatrix}\n",
    "\\begin{pmatrix}\n",
    "5 \\\\ 1-2i \\\\ -3 \\\\ -i/2\n",
    "\\end{pmatrix} $\n",
    "\n",
    "<BR>"
   ]
  },
  {
   "cell_type": "code",
   "execution_count": 18,
   "metadata": {},
   "outputs": [
    {
     "name": "stdout",
     "output_type": "stream",
     "text": [
      "[[0.+3.j 1.+2.j 4.+0.j 0.+2.j]]\n"
     ]
    }
   ],
   "source": [
    "A = np.matrix([[3j, 1+2j, 4, 2j]])\n",
    "\n",
    "print(A)"
   ]
  },
  {
   "cell_type": "code",
   "execution_count": 19,
   "metadata": {},
   "outputs": [
    {
     "name": "stdout",
     "output_type": "stream",
     "text": [
      "[[ 5.+0.j ]\n",
      " [ 1.-2.j ]\n",
      " [-3.+0.j ]\n",
      " [-0.-0.5j]]\n"
     ]
    }
   ],
   "source": [
    "B = np.matrix([[5],\n",
    "               [1-2j], \n",
    "               [-3],\n",
    "               [-1j/2]])\n",
    "\n",
    "print(B)"
   ]
  },
  {
   "cell_type": "code",
   "execution_count": 20,
   "metadata": {},
   "outputs": [
    {
     "data": {
      "text/plain": [
       "matrix([[-6.+15.j]])"
      ]
     },
     "execution_count": 20,
     "metadata": {},
     "output_type": "execute_result"
    }
   ],
   "source": [
    "np.dot(A, B)"
   ]
  },
  {
   "cell_type": "markdown",
   "metadata": {},
   "source": [
    "#### <font color=\"red\">Optional</font>: Write the Python code to compute the following more general \"inner product\":\n",
    "\n",
    "<BR>\n",
    "\n",
    "\\begin{align}\n",
    "\\begin{pmatrix}1/\\sqrt{2}, & -1/\\sqrt{2} \\end{pmatrix}\n",
    "\\begin{pmatrix} 1&0\\\\0&-1 \\end{pmatrix}\n",
    "\\begin{pmatrix}1/\\sqrt{2}\\\\ -1/\\sqrt{2} \\end{pmatrix}\n",
    "\\end{align}\n",
    "\n",
    "<BR>"
   ]
  },
  {
   "cell_type": "code",
   "execution_count": 48,
   "metadata": {},
   "outputs": [
    {
     "name": "stdout",
     "output_type": "stream",
     "text": [
      "[[ 0.70710678 -0.70710678]]\n"
     ]
    }
   ],
   "source": [
    "import math\n",
    "A_bra = np.matrix([[1/math.sqrt(2), -1/math.sqrt(2)]])\n",
    "\n",
    "print(A_bra)"
   ]
  },
  {
   "cell_type": "code",
   "execution_count": 49,
   "metadata": {},
   "outputs": [
    {
     "name": "stdout",
     "output_type": "stream",
     "text": [
      "[[ 1  0]\n",
      " [ 0 -1]]\n"
     ]
    }
   ],
   "source": [
    "Z= np.matrix([[1, 0],\n",
    "            [0, -1]])\n",
    "\n",
    "print(Z)"
   ]
  },
  {
   "cell_type": "code",
   "execution_count": 53,
   "metadata": {},
   "outputs": [
    {
     "name": "stdout",
     "output_type": "stream",
     "text": [
      "[[ 0.70710678]\n",
      " [-0.70710678]]\n"
     ]
    }
   ],
   "source": [
    "A.H\n",
    "print(A.H)"
   ]
  },
  {
   "cell_type": "code",
   "execution_count": 54,
   "metadata": {},
   "outputs": [
    {
     "name": "stdout",
     "output_type": "stream",
     "text": [
      "[[-0.70710678]\n",
      " [ 0.70710678]]\n"
     ]
    }
   ],
   "source": [
    "A_ket = np.matrix([[-1/math.sqrt(2)], \n",
    "                   [1/math.sqrt(2)]])\n",
    "\n",
    "print(A_ket)"
   ]
  },
  {
   "cell_type": "code",
   "execution_count": 55,
   "metadata": {},
   "outputs": [],
   "source": [
    "A1=np.dot(Z, A_ket)"
   ]
  },
  {
   "cell_type": "code",
   "execution_count": 58,
   "metadata": {},
   "outputs": [
    {
     "data": {
      "text/plain": [
       "matrix([[0.]])"
      ]
     },
     "execution_count": 58,
     "metadata": {},
     "output_type": "execute_result"
    }
   ],
   "source": [
    "np.dot(A_bra, A1)"
   ]
  },
  {
   "cell_type": "markdown",
   "metadata": {},
   "source": [
    "![the-end](img/the-end.png \"the-end\")"
   ]
  }
 ],
 "metadata": {
  "kernelspec": {
   "display_name": "Python 3 (ipykernel)",
   "language": "python",
   "name": "python3"
  },
  "language_info": {
   "codemirror_mode": {
    "name": "ipython",
    "version": 3
   },
   "file_extension": ".py",
   "mimetype": "text/x-python",
   "name": "python",
   "nbconvert_exporter": "python",
   "pygments_lexer": "ipython3",
   "version": "3.9.0"
  },
  "toc": {
   "base_numbering": 1,
   "nav_menu": {},
   "number_sections": true,
   "sideBar": true,
   "skip_h1_title": false,
   "title_cell": "Table of Contents",
   "title_sidebar": "Contents",
   "toc_cell": false,
   "toc_position": {},
   "toc_section_display": true,
   "toc_window_display": false
  }
 },
 "nbformat": 4,
 "nbformat_minor": 4
}
