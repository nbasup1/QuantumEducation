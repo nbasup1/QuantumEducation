{
 "cells": [
  {
   "cell_type": "markdown",
   "metadata": {},
   "source": [
    "# Vectors \n",
    "- #### Hands-on Experiential Learning <font color=\"red\">for the Software Engineer</font>\n"
   ]
  },
  {
   "cell_type": "markdown",
   "metadata": {},
   "source": [
    "![](img/QC_Math_Banner.png \"\")\n",
    "\n",
    "<font color=\"red\">**Notice**</font>: All materials herein were <font color=\"red\">**curated**</font> by **Matthew R. Versaggi (profversaggi@gmail.com)** and are released into the open source to foster growth and welfare of expanding the Quantum Computing domain - the only obligation one incurs when using, copying, distributing or referencing this is to kindly reference the author and send me an email so I know how useful the material is to you.\n",
    "\n",
    "#### <font color=\"red\">Recommendations</font>: \n",
    "\n",
    "> **<font color=\"blue\">It's highly recommended to take structured QC Math courses <font color=\"red\">like</font>:</font>**\n",
    "> #### Math Prerequisites for Quantum Computing\n",
    "> - https://www.udemy.com/course/mathematics-prerequisites-for-quantum-computing-and-quantum-physics/\n",
    "\n",
    "> #### Advanced Math for Quantum Computing\n",
    "> - https://www.udemy.com/course/qc201-advanced-math-for-quantum-computing-mathematics-physics/\n",
    "\n",
    "\n",
    "\n",
    "#### <font color=\"red\">Materials Inspiration and Author(s)</font>: \n",
    "\n",
    "> **<font color=\"blue\">Amelie Schreiber</font>**\n",
    "- Article: https://towardsdatascience.com/quantum-computing-for-the-newb-5e0737e3ca4\n",
    "- Course: https://the-singularity-research.github.io/linear_algebra_for_quantum_computing/\n",
    "- GitHub: https://github.com/The-Singularity-Research/linear_algebra_for_quantum_computing\n",
    "\n",
    "> **<font color=\"blue\">QWorld</font>**\n",
    "- Site: https://qworld.lu.lv/\n",
    "- GitLab: https://gitlab.com/qkitchen/basics-of-quantum-computing"
   ]
  },
  {
   "cell_type": "markdown",
   "metadata": {},
   "source": [
    "### Explore Vectors using the Phet Interactive Simulator"
   ]
  },
  {
   "cell_type": "code",
   "execution_count": 1,
   "metadata": {},
   "outputs": [
    {
     "data": {
      "text/html": [
       "\n",
       "        <iframe\n",
       "            width=\"900\"\n",
       "            height=\"900\"\n",
       "            src=\"https://phet.colorado.edu/sims/html/vector-addition/latest/vector-addition_en.html\"\n",
       "            frameborder=\"0\"\n",
       "            allowfullscreen\n",
       "            \n",
       "        ></iframe>\n",
       "        "
      ],
      "text/plain": [
       "<IPython.lib.display.IFrame at 0x7f845866fc40>"
      ]
     },
     "execution_count": 1,
     "metadata": {},
     "output_type": "execute_result"
    }
   ],
   "source": [
    "from IPython.display import IFrame\n",
    "IFrame(src='https://phet.colorado.edu/sims/html/vector-addition/latest/vector-addition_en.html', width=900, height=900)"
   ]
  },
  {
   "cell_type": "markdown",
   "metadata": {},
   "source": [
    "## Introduction\n",
    "\n",
    "### <font color=\"red\">**Background Information**</font>: \n",
    "\n",
    "- **The Physics Classroom - Vectors: Properties and Operations - Complete Toolkit**: \n",
    "> - https://www.physicsclassroom.com/Teacher-Toolkits/Vectors/Vectors-Complete-ToolKit\n",
    "- **Immersive Linear Algebra**: - http://immersivemath.com/ila/index.html\n",
    "\n",
    "\n",
    "### <font color=\"red\">**Why this is important**</font>: \n",
    "\n",
    "**Vectors are fundamental in the study of quantum computing.** The most basic unit of computation in a quantum computer is a **qubit**, which can be represented as a <font color=\"blue\">**$2$-dimensional complex vector of length one**</font>. So understanding vectors will be foundational and necessary for most of the math behind Quantum Computing. \n",
    "\n",
    "> Vectors can be thought of in many ways, one of the most basic is simply as an **array of numbers**, which we will often represent as a <font color=\"red\">**column**</font> of numbers called **column vectors**, but in some cases we will also need <font color=\"red\">**row**</font> vectors:\n",
    "\n",
    "\n",
    "\\begin{align} \\let\\emph\\textbf{Column Vector:} \\ \\begin{pmatrix}\n",
    "a_1 \\\\ a_2 \\\\ \\vdots \\\\ a_n\n",
    "\\end{pmatrix}, \\quad \\quad \\let\\emph\\textbf{Row Vector:} \\ \\begin{pmatrix}\n",
    "a_1, & a_2, & \\cdots, & a_n\n",
    "\\end{pmatrix} \\end{align}"
   ]
  },
  {
   "cell_type": "code",
   "execution_count": 2,
   "metadata": {},
   "outputs": [],
   "source": [
    "import numpy as np"
   ]
  },
  {
   "cell_type": "markdown",
   "metadata": {},
   "source": [
    "## Row Vectors, Column Vectors, and Bra-Ket Notation\n",
    "\n",
    "\n",
    "> - **VIDEO: Bra Ket Notation | Quantum Mechanics** https://www.youtube.com/watch?v=xdSTZYc8uRg\n"
   ]
  },
  {
   "cell_type": "markdown",
   "metadata": {},
   "source": [
    "Create a **column** vector and a **row** vector in Python:"
   ]
  },
  {
   "cell_type": "markdown",
   "metadata": {},
   "source": [
    "#### Create a ROW Vector"
   ]
  },
  {
   "cell_type": "code",
   "execution_count": 3,
   "metadata": {},
   "outputs": [],
   "source": [
    "# Create a vector as a Row w/Complex Numbers\n",
    "\n",
    "row_vector = np.array([2-1j, 7j, -3])"
   ]
  },
  {
   "cell_type": "markdown",
   "metadata": {},
   "source": [
    "#### Row Vector Shape"
   ]
  },
  {
   "cell_type": "code",
   "execution_count": 4,
   "metadata": {},
   "outputs": [
    {
     "data": {
      "text/plain": [
       "(3,)"
      ]
     },
     "execution_count": 4,
     "metadata": {},
     "output_type": "execute_result"
    }
   ],
   "source": [
    "row_vector.shape"
   ]
  },
  {
   "cell_type": "markdown",
   "metadata": {},
   "source": [
    "#### Row Vector value"
   ]
  },
  {
   "cell_type": "code",
   "execution_count": 5,
   "metadata": {},
   "outputs": [
    {
     "data": {
      "text/plain": [
       "array([ 2.-1.j,  0.+7.j, -3.+0.j])"
      ]
     },
     "execution_count": 5,
     "metadata": {},
     "output_type": "execute_result"
    }
   ],
   "source": [
    "row_vector"
   ]
  },
  {
   "cell_type": "markdown",
   "metadata": {},
   "source": [
    "#### Create a COLUMN Vector"
   ]
  },
  {
   "cell_type": "code",
   "execution_count": 6,
   "metadata": {},
   "outputs": [],
   "source": [
    "# Create a vector as a Row w/Complex Numbers\n",
    "\n",
    "column_vector = np.array([[2+1j],\n",
    "                          [-5],\n",
    "                          [2j]])"
   ]
  },
  {
   "cell_type": "markdown",
   "metadata": {},
   "source": [
    "#### Column Vector Shape"
   ]
  },
  {
   "cell_type": "code",
   "execution_count": 7,
   "metadata": {},
   "outputs": [
    {
     "data": {
      "text/plain": [
       "(3, 1)"
      ]
     },
     "execution_count": 7,
     "metadata": {},
     "output_type": "execute_result"
    }
   ],
   "source": [
    "column_vector.shape"
   ]
  },
  {
   "cell_type": "markdown",
   "metadata": {},
   "source": [
    "#### Column Vector value"
   ]
  },
  {
   "cell_type": "code",
   "execution_count": 8,
   "metadata": {},
   "outputs": [
    {
     "data": {
      "text/plain": [
       "array([[ 2.+1.j],\n",
       "       [-5.+0.j],\n",
       "       [ 0.+2.j]])"
      ]
     },
     "execution_count": 8,
     "metadata": {},
     "output_type": "execute_result"
    }
   ],
   "source": [
    "column_vector"
   ]
  },
  {
   "cell_type": "code",
   "execution_count": null,
   "metadata": {},
   "outputs": [],
   "source": []
  },
  {
   "cell_type": "markdown",
   "metadata": {},
   "source": [
    "<font color=\"red\">**Row Vectors**</font> in quantum mechanics are also called <font color=\"blue\">**bra-vectors**</font>, and are denoted as follows:\n",
    "\n",
    "\\begin{align} \\langle A| = \\begin{pmatrix}\n",
    "a_1, & a_2, \\cdots, & a_n\n",
    "\\end{pmatrix} \\end{align}\n",
    "\n",
    "<font color=\"red\">**Column Vectors**</font> are also called <font color=\"blue\">**ket-vectors**</font> in quantum mechanics denoted as follows:\n",
    "\n",
    "\\begin{align} |B\\rangle = \\begin{pmatrix}\n",
    "b_1 \\\\ b_2 \\\\ \\vdots \\\\ b_n\n",
    "\\end{pmatrix} \\end{align}\n",
    "\n",
    "In general, if we have a **column vector**, i.e. a **ket-vector**:\n",
    "\n",
    "\\begin{align} |A\\rangle = \\begin{pmatrix}\n",
    "a_1 \\\\ a_2 \\\\ \\vdots \\\\ a_n\n",
    "\\end{pmatrix} \\end{align}\n",
    "\n",
    "Then the corresponding **bra-vector**:\n",
    "\n",
    "\\begin{align} \\langle A| = \\begin{pmatrix}\n",
    "a_1^*, & a_2^*, & \\cdots, & a_n^*\n",
    "\\end{pmatrix} \\end{align}\n",
    "\n",
    "is the <font color=\"red\">**complex-conjugate transpose**</font> of the **ket-vector** $|A\\rangle$, and *vice-versa*. \n",
    "\n",
    "> Remember: \n",
    "- The **complex-conjugate** just <font color=\"blue\">**negates**</font> the <font color=\"red\">**imaginary**</font> part of the **complex numbers** \n",
    "- The **transpose** of a **row vector is a column vector**, and the transpose of a **column vector is a row vector**.\n",
    "\n",
    "> **As an example**, if we have the following **ket-vector**:\n",
    "\n",
    "<font color=\"blue\">\n",
    "\n",
    "\\begin{align} |A\\rangle = \\begin{pmatrix}\n",
    "2+i \\\\ 1-3i\n",
    "\\end{pmatrix} \\end{align}\n",
    "\n",
    "</font>\n",
    "\n",
    "> then the corresponding **bra-vector** is:\n",
    "\n",
    "<font color=\"blue\">\n",
    "    \n",
    "    \n",
    "\\begin{align} \\langle A| = \\begin{pmatrix}\n",
    "2-i, & 1+3i\n",
    "\\end{pmatrix} \\end{align}\n",
    "\n",
    "</font>\n",
    "\n",
    "> **Reminder**: Computing the **complex conjugates** just <font color=\"blue\">**negates**</font> the <font color=\"red\">**imaginary**</font> part of the **complex numbers**.\n",
    "\n",
    "\n",
    "The notation $\\langle A|$ and $|A\\rangle$, for **bra-** and **ket-** vectors respectively, is a reference to **inner products** denoted by brackets and  *will be investigated more in the next section when inner products are defined*. \n",
    "\n",
    "<BR>\n",
    "\n",
    "**As another example**, we might want to have a **pair of $2$-dimensional complex column vectors** (*meaning the entries are complex numbers*):\n",
    "\n",
    "<BR>\n",
    "    \n",
    "<font color=\"blue\">\n",
    "\n",
    "\\begin{align} |A \\rangle = \\begin{pmatrix}\n",
    "2-i \\\\ 5\n",
    "\\end{pmatrix}, \\quad \\quad\n",
    "|B \\rangle = \\begin{pmatrix}\n",
    "7 \\\\ 3i\n",
    "\\end{pmatrix} \\end{align}\n",
    "\n",
    "</font>\n",
    "\n",
    "Remember, <font color=\"blue\">$i^2 = -1$ </font> and so <font color=\"blue\"> $i = \\sqrt{-1}$ </font> is <font color=\"red\">imaginary</font> and **complex numbers** are always of the form <font color=\"red\"> $a + bi$ </font>. \n",
    "\n",
    "The corresponding **bra-vectors** would then be:\n",
    "\n",
    "\\begin{align} \\langle A| = \\begin{pmatrix}\n",
    "2+i, & 5\n",
    "\\end{pmatrix}, \\quad \\quad \\langle B| = \\begin{pmatrix}\n",
    "7, & -3i\n",
    "\\end{pmatrix} \\end{align}\n",
    "\n",
    "**The $2$-dimensional vectors we have listed above** are <font color=\"red\">**not**</font> quite the kind of vectors we will be using most often in quantum computing, but until we introduce the **norm of a vector** and explain what **unit vectors** are, let us **focus on the basic operations we can perform on these vectors**. \n",
    "\n",
    "\n",
    "\n",
    "\n",
    "We can always <font color=\"red\">**ADD**</font> two vector of the **same dimension**:\n",
    "\n",
    "\\begin{align} |A\\rangle + |B\\rangle = \\begin{pmatrix}\n",
    "2-i \\\\ 5\n",
    "\\end{pmatrix} + \\begin{pmatrix}\n",
    "7 \\\\ 3i\n",
    "\\end{pmatrix} = \n",
    "\\begin{pmatrix}\n",
    "(2-i) + 7 \\\\ 5 + 3i\n",
    "\\end{pmatrix} = \n",
    "\\begin{pmatrix}\n",
    "9-i \\\\ 5 + 3i\n",
    "\\end{pmatrix} \\end{align}\n",
    "\n",
    "In Python this can be done as follows:"
   ]
  },
  {
   "cell_type": "markdown",
   "metadata": {},
   "source": [
    "#### Create a pair (A & B) of  2 -dimensional complex COLUMN vectors"
   ]
  },
  {
   "cell_type": "code",
   "execution_count": 9,
   "metadata": {},
   "outputs": [
    {
     "name": "stdout",
     "output_type": "stream",
     "text": [
      "[[9.-1.j]\n",
      " [5.+3.j]]\n"
     ]
    }
   ],
   "source": [
    "# Ket_A:\n",
    "ket_A = np.array([[2-1j],\n",
    "                  [5]])\n",
    "\n",
    "# Ket_B:\n",
    "ket_B = np.array([[7], \n",
    "                  [3j]])\n",
    "\n",
    "# Print the Addition of the two Kets\n",
    "\n",
    "print(ket_A + ket_B)"
   ]
  },
  {
   "cell_type": "markdown",
   "metadata": {},
   "source": [
    "We can multiply **ket-vectors** by <font color=\"red\">**scalars**</font>:\n",
    "\n",
    "$ 3|A\\rangle = 3 \\begin{pmatrix} 2-i\\\\5 \\end{pmatrix} = \\begin{pmatrix} 6-3i\\\\15 \\end{pmatrix} $"
   ]
  },
  {
   "cell_type": "markdown",
   "metadata": {},
   "source": [
    "#### Multiply a Ket-Vector by a Scalar"
   ]
  },
  {
   "cell_type": "code",
   "execution_count": 10,
   "metadata": {
    "scrolled": true
   },
   "outputs": [
    {
     "name": "stdout",
     "output_type": "stream",
     "text": [
      "[[ 6.-3.j]\n",
      " [15.+0.j]]\n"
     ]
    }
   ],
   "source": [
    "# multiply bra-vectors by scalars:\n",
    "\n",
    "print(3 * ket_A)"
   ]
  },
  {
   "cell_type": "markdown",
   "metadata": {},
   "source": [
    "\n",
    "We can multiply (**bra-vectors**) by <font color=\"red\">**scalars**</font>:\n",
    "\n",
    "$ 5\\langle B| = 5 \\begin{pmatrix} 7, & 3i \\end{pmatrix}  = \\begin{pmatrix} 35, & 15i \\end{pmatrix}$"
   ]
  },
  {
   "cell_type": "markdown",
   "metadata": {},
   "source": [
    "#### Multiply a Bra-Vector by a Scalar"
   ]
  },
  {
   "cell_type": "code",
   "execution_count": 11,
   "metadata": {},
   "outputs": [
    {
     "name": "stdout",
     "output_type": "stream",
     "text": [
      "[[35. +0.j  0.+15.j]]\n"
     ]
    }
   ],
   "source": [
    "# multiply ket-vectors by scalars:\n",
    "\n",
    "bra_B = np.array([[7, 3j]])\n",
    "\n",
    "print(5 * bra_B)"
   ]
  },
  {
   "cell_type": "code",
   "execution_count": null,
   "metadata": {},
   "outputs": [],
   "source": []
  },
  {
   "cell_type": "markdown",
   "metadata": {},
   "source": [
    "# <font color=\"red\">Graded Exercises</font>  for use <font color=\"blue\">with structured courses.</font>\n",
    "\n",
    "## Vectors\n",
    "\n",
    "#### <font color=\"blue\">*This work will take some time, so block off enough time to adequately cover it*</font>. \n",
    "\n",
    "\n",
    "- Go through the **entire** JNB and complete each of the exercises, including any supplementary Video's - hand in completed <font color=\"red\">**PDF**</font> from this JNB once finished.\n",
    "\n",
    "\n",
    "- Step through the code for **each** of the above exercises, make sure you can (1) execute it, and (2) know what it does.\n",
    "\n",
    "\n",
    "- <font color=\"blue\">Complete Challenge Exercises below.</font> **(turn in the JNB)**"
   ]
  },
  {
   "cell_type": "markdown",
   "metadata": {},
   "source": [
    "## Exercises: Vectors\n",
    "- In Python.\n"
   ]
  },
  {
   "cell_type": "markdown",
   "metadata": {},
   "source": [
    "1. Define the following **ket-vector** as an **array** in Python:\n",
    "\n",
    "\\begin{align}\n",
    "|\\psi \\rangle = \\begin{pmatrix} 2, & 3i \\end{pmatrix}\n",
    "\\end{align}"
   ]
  },
  {
   "cell_type": "code",
   "execution_count": 15,
   "metadata": {},
   "outputs": [
    {
     "data": {
      "text/plain": [
       "(2, 1)"
      ]
     },
     "execution_count": 15,
     "metadata": {},
     "output_type": "execute_result"
    }
   ],
   "source": [
    "ket_a = np.array([[2], [3j]])\n",
    "ket_a.shape"
   ]
  },
  {
   "cell_type": "markdown",
   "metadata": {},
   "source": [
    "2. Define <font color=\"blue\">$|\\psi \\rangle$</font> from the **previous problem** (#1) as a **(column) matrix**.\n",
    "> - Compute its **Conjugate Transpose** (also called the **Hermitian conjugate**). \n"
   ]
  },
  {
   "cell_type": "code",
   "execution_count": 16,
   "metadata": {},
   "outputs": [
    {
     "data": {
      "text/plain": [
       "array([[2.-0.j],\n",
       "       [0.-3.j]])"
      ]
     },
     "execution_count": 16,
     "metadata": {},
     "output_type": "execute_result"
    }
   ],
   "source": [
    "np.conj(ket_a)"
   ]
  },
  {
   "cell_type": "markdown",
   "metadata": {},
   "source": [
    "3. Define **two ket vectors** (column vectors) [A & B] in <font color=\"blue\">**in Python**</font>.\n",
    "\n",
    "\\begin{align}\n",
    "|A\\rangle = \\begin{pmatrix}\n",
    "2 \\\\ 5-5j\n",
    "\\end{pmatrix}, \\quad\n",
    "|B\\rangle = \\begin{pmatrix}\n",
    "2+3j \\\\ -3j\n",
    "\\end{pmatrix}\n",
    "\\end{align}"
   ]
  },
  {
   "cell_type": "code",
   "execution_count": 17,
   "metadata": {},
   "outputs": [],
   "source": [
    "ket_a = np.array([[2], [5-5j]])\n",
    "\n",
    "ket_b = np.array([[2+3j], [-3j]])"
   ]
  },
  {
   "cell_type": "markdown",
   "metadata": {},
   "source": [
    "4. Compute $|A\\rangle + |B\\rangle$\n"
   ]
  },
  {
   "cell_type": "code",
   "execution_count": 18,
   "metadata": {},
   "outputs": [
    {
     "name": "stdout",
     "output_type": "stream",
     "text": [
      "[[4.+3.j]\n",
      " [5.-8.j]]\n"
     ]
    }
   ],
   "source": [
    "print(ket_a + ket_b)"
   ]
  },
  {
   "cell_type": "markdown",
   "metadata": {},
   "source": [
    "5. Compute $3|A\\rangle$. "
   ]
  },
  {
   "cell_type": "code",
   "execution_count": 19,
   "metadata": {},
   "outputs": [
    {
     "name": "stdout",
     "output_type": "stream",
     "text": [
      "[[ 6. +0.j]\n",
      " [15.-15.j]]\n"
     ]
    }
   ],
   "source": [
    "print(3*ket_a)"
   ]
  },
  {
   "cell_type": "markdown",
   "metadata": {},
   "source": [
    "![the-end](img/the-end.png \"the-end\")"
   ]
  }
 ],
 "metadata": {
  "kernelspec": {
   "display_name": "Python 3 (ipykernel)",
   "language": "python",
   "name": "python3"
  },
  "language_info": {
   "codemirror_mode": {
    "name": "ipython",
    "version": 3
   },
   "file_extension": ".py",
   "mimetype": "text/x-python",
   "name": "python",
   "nbconvert_exporter": "python",
   "pygments_lexer": "ipython3",
   "version": "3.8.0"
  }
 },
 "nbformat": 4,
 "nbformat_minor": 4
}
