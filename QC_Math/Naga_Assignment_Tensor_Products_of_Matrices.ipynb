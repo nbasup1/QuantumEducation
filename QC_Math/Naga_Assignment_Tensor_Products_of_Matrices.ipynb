{
 "cells": [
  {
   "cell_type": "markdown",
   "metadata": {},
   "source": [
    "# Tensor Products of Matrices\n",
    "\n",
    "- #### Hands-on Experiential Learning <font color=\"red\">for the Software Engineer</font>"
   ]
  },
  {
   "cell_type": "markdown",
   "metadata": {},
   "source": [
    "![](img/QC_Math_Banner.png \"\")\n",
    "\n",
    "<font color=\"red\">**Notice**</font>: All materials herein were <font color=\"red\">**curated**</font> by **Matthew R. Versaggi (profversaggi@gmail.com)** and are released into the open source to foster growth and welfare of expanding the Quantum Computing domain - the only obligation one incurs when using, copying, distributing or referencing this is to kindly reference the author and send me an email so I know how useful the material is to you.\n",
    "\n",
    "#### <font color=\"red\">Recommendations</font>: \n",
    "\n",
    "> **<font color=\"blue\">It's highly recommended to take structured QC Math courses <font color=\"red\">like</font>:</font>**\n",
    "> #### Math Prerequisites for Quantum Computing\n",
    "> - https://www.udemy.com/course/mathematics-prerequisites-for-quantum-computing-and-quantum-physics/\n",
    "\n",
    "> #### Advanced Math for Quantum Computing\n",
    "> - https://www.udemy.com/course/qc201-advanced-math-for-quantum-computing-mathematics-physics/\n",
    "\n",
    "\n",
    "\n",
    "#### <font color=\"red\">Materials Inspiration and Author(s)</font>: \n",
    "\n",
    "> **<font color=\"blue\">Amelie Schreiber</font>**\n",
    "- Article: https://towardsdatascience.com/quantum-computing-for-the-newb-5e0737e3ca4\n",
    "- Course: https://the-singularity-research.github.io/linear_algebra_for_quantum_computing/\n",
    "- GitHub: https://github.com/The-Singularity-Research/linear_algebra_for_quantum_computing\n",
    "\n",
    "> **<font color=\"blue\">QWorld</font>**\n",
    "- Site: https://qworld.lu.lv/\n",
    "- GitLab: https://gitlab.com/qkitchen/basics-of-quantum-computing"
   ]
  },
  {
   "cell_type": "markdown",
   "metadata": {},
   "source": [
    "## Imports\n",
    "\n",
    "As usual, we will need NumPy. So, let's import it now. "
   ]
  },
  {
   "cell_type": "code",
   "execution_count": 1,
   "metadata": {},
   "outputs": [],
   "source": [
    "import numpy as np"
   ]
  },
  {
   "cell_type": "markdown",
   "metadata": {},
   "source": [
    "### <font color=\"red\">**Why this is important**</font>: \n",
    "\n",
    "\n",
    "#### This discussion is about how to take tensor products of matrices in order to later build quantum gates that operate on <font color=\"red\">many</font> qubits at once. \n",
    "\n",
    "> Understanding the **basics of tensor products of matrices** is **fundamental to understanding quantum logic gates** and **quantum circuits**. \n"
   ]
  },
  {
   "cell_type": "markdown",
   "metadata": {},
   "source": [
    "> ### For the tensor product of two $2 \\times 2$ matrices, <font color=\"red\">the general rule</font> is as follows:"
   ]
  },
  {
   "cell_type": "markdown",
   "metadata": {},
   "source": [
    "\n",
    "<BR>\n",
    "<font color=\"blue\">\n",
    "\n",
    "\\begin{align}\n",
    "\\begin{pmatrix}\n",
    "a & b \\\\\n",
    "c & d\n",
    "\\end{pmatrix} \\otimes \n",
    "\\begin{pmatrix}\n",
    "x & y \\\\\n",
    "z & w\n",
    "\\end{pmatrix} = \n",
    "\\begin{pmatrix}\n",
    "a \\begin{pmatrix}\n",
    "x & y \\\\\n",
    "z & w\n",
    "\\end{pmatrix} & b \\begin{pmatrix}\n",
    "x & y \\\\\n",
    "z & w\n",
    "\\end{pmatrix} \\\\\n",
    "c \\begin{pmatrix}\n",
    "x & y \\\\\n",
    "z & w\n",
    "\\end{pmatrix} & d \\begin{pmatrix}\n",
    "x & y \\\\\n",
    "z & w\n",
    "\\end{pmatrix}\n",
    "\\end{pmatrix} = \n",
    "\\begin{pmatrix}\n",
    "ax & ay & bx & by \\\\\n",
    "az & aw & bz & bw \\\\\n",
    "cx & cy & dx & dy \\\\\n",
    "cz & cw & dz & dw\n",
    "\\end{pmatrix}\n",
    "\\end{align}\n",
    "\n",
    "</font>\n",
    "<BR>"
   ]
  },
  {
   "cell_type": "markdown",
   "metadata": {},
   "source": [
    "> ### Here is a basic <font color=\"red\">numerical</font> example:"
   ]
  },
  {
   "cell_type": "markdown",
   "metadata": {},
   "source": [
    "\n",
    "<BR>\n",
    "<font color=\"blue\">\n",
    "\n",
    "\\begin{align}\n",
    "\\begin{pmatrix}\n",
    "2 & 3 \\\\\n",
    "6 & 1\n",
    "\\end{pmatrix} \\otimes\n",
    "\\begin{pmatrix}\n",
    "7 & 10 \\\\\n",
    "9 & 4\n",
    "\\end{pmatrix} = \n",
    "\\begin{pmatrix}\n",
    "2 \\begin{pmatrix}\n",
    "7 & 10 \\\\\n",
    "9 & 4\n",
    "\\end{pmatrix}& 3\\begin{pmatrix}\n",
    "7 & 10 \\\\\n",
    "9 & 4\n",
    "\\end{pmatrix} \\\\\n",
    "6\\begin{pmatrix}\n",
    "7 & 10 \\\\\n",
    "9 & 4\n",
    "\\end{pmatrix} & 1\\begin{pmatrix}\n",
    "7 & 10 \\\\\n",
    "9 & 4\n",
    "\\end{pmatrix}\n",
    "\\end{pmatrix} = \n",
    "\\begin{pmatrix}\n",
    "14 & 20 & 21 & 30 \\\\\n",
    "18 & 8 & 27 & 12 \\\\\n",
    "42 & 60 & 7 & 10 \\\\\n",
    "54 & 24 & 9 & 4\n",
    "\\end{pmatrix}\n",
    "\\end{align}\n",
    "\n",
    "</font>\n",
    "<BR>"
   ]
  },
  {
   "cell_type": "markdown",
   "metadata": {},
   "source": [
    "> - We can again use the **'np.kron()'** function to perform this computation in **Python**, just as we did for qubit state vectors. "
   ]
  },
  {
   "cell_type": "code",
   "execution_count": 2,
   "metadata": {},
   "outputs": [
    {
     "data": {
      "text/plain": [
       "matrix([[14, 20, 21, 30],\n",
       "        [18,  8, 27, 12],\n",
       "        [42, 60,  7, 10],\n",
       "        [54, 24,  9,  4]])"
      ]
     },
     "execution_count": 2,
     "metadata": {},
     "output_type": "execute_result"
    }
   ],
   "source": [
    "A = np.matrix([[2, 3],\n",
    "               [6, 1]])\n",
    "\n",
    "B = np.matrix([[7, 10], \n",
    "               [9, 4]])\n",
    "\n",
    "np.kron(A,B)"
   ]
  },
  {
   "cell_type": "code",
   "execution_count": null,
   "metadata": {},
   "outputs": [],
   "source": []
  },
  {
   "cell_type": "markdown",
   "metadata": {},
   "source": [
    "**In quantum computing**, if we have <font color=\"red\">**basis states**</font>  such as \"<font color=\"blue\">**|010>**</font>\"\n",
    "\n",
    "<BR>\n",
    "<font color=\"blue\">\n",
    "    \n",
    "\\begin{align}\n",
    "|010\\rangle &= |0\\rangle \\otimes |1\\rangle \\otimes |0\\rangle \\\\\n",
    "&= \\begin{pmatrix}\n",
    "1\\\\0\n",
    "\\end{pmatrix} \\otimes \n",
    "\\begin{pmatrix}\n",
    "0\\\\1\n",
    "\\end{pmatrix} \\otimes \n",
    "\\begin{pmatrix}\n",
    "1\\\\0\n",
    "\\end{pmatrix} \\\\\n",
    "&= \\begin{pmatrix}\n",
    "0\\\\0\\\\1\\\\0\\\\0\\\\0\\\\0\\\\0\n",
    "\\end{pmatrix}\n",
    "\\end{align}\n",
    "\n",
    "</font>\n",
    "<BR>\n",
    "\n",
    "#### we can operate on them using <font color=\"red\">**tensor product of operators**</font>. \n",
    "\n",
    "In particular, to operate on a <font color=\"red\">**three**</font>  **qubit basis state** such at this, we need the **tensor product** of <font color=\"red\">**three**</font> $2 \\times 2$ matrices. \n",
    "\n",
    "\n",
    "\n",
    "**For example**, with the following <font color=\"red\">**four**</font> operators:\n",
    "\n",
    "<BR>\n",
    "<font color=\"blue\">\n",
    "    \n",
    "\\begin{align}\n",
    "I = \\begin{pmatrix} 1&0 \\\\ 0&1 \\end{pmatrix}, \\quad\n",
    "X = \\begin{pmatrix} 0&1 \\\\ 1&0 \\end{pmatrix}, \\quad\n",
    "Y = \\begin{pmatrix} 0&i \\\\ -i&0 \\end{pmatrix}, \\quad\n",
    "Z = \\begin{pmatrix} 1&0 \\\\ 0&-1 \\end{pmatrix}, \\quad\n",
    "H = \\frac{1}{\\sqrt{2}} \\begin{pmatrix} 1&1 \\\\ 1&-1 \\end{pmatrix}\n",
    "\\end{align}\n",
    "\n",
    "</font>\n",
    "<BR>\n",
    "\n",
    "\n",
    "We can **form tensor products of matrices (gates)** such as:\n",
    "\n",
    "<BR>\n",
    "<font color=\"blue\" size=4>\n",
    "- $H \\otimes X \\otimes I$ \n",
    "- $Z \\otimes Z \\otimes H$\n",
    "</font>\n",
    "<BR>    \n",
    "    \n",
    "#### and <font color=\"red\">**any**</font> other <font color=\"red\">**three**</font> matrix combination you might dream up. \n",
    "\n",
    "\n",
    "> - Let's define a basis state **$|01\\rangle$** and **compute a few operators** that will operate on this **basis state**:"
   ]
  },
  {
   "cell_type": "markdown",
   "metadata": {},
   "source": [
    "### Define the basis state UP : DOWN -  |01>"
   ]
  },
  {
   "cell_type": "code",
   "execution_count": 3,
   "metadata": {},
   "outputs": [
    {
     "name": "stdout",
     "output_type": "stream",
     "text": [
      "[[0]\n",
      " [1]\n",
      " [0]\n",
      " [0]]\n"
     ]
    }
   ],
   "source": [
    "# Define the basis state |01>\n",
    "\n",
    "u = np.matrix([[1],\n",
    "               [0]])\n",
    "\n",
    "d = np.matrix([[0],\n",
    "               [1]])\n",
    "\n",
    "\n",
    "# Basis State \"ud\" (|01>)\n",
    "ud = np.kron(u,d)\n",
    "\n",
    "print(ud)"
   ]
  },
  {
   "cell_type": "markdown",
   "metadata": {},
   "source": [
    "### Define the matrices X, Y, Z, and H"
   ]
  },
  {
   "cell_type": "code",
   "execution_count": 4,
   "metadata": {},
   "outputs": [],
   "source": [
    "# Define the matrices X, Y, Z, and H\n",
    "\n",
    "X = np.matrix([[0, 1],\n",
    "               [1, 0]])\n",
    "\n",
    "Y = np.matrix([[0, -1j], \n",
    "               [1j, 0]])\n",
    "\n",
    "Z = np.matrix([[1, 0],\n",
    "               [0, -1]])\n",
    "\n",
    "H = (1/np.sqrt(2))*np.matrix([[1, 1], \n",
    "                              [1, -1]])"
   ]
  },
  {
   "cell_type": "code",
   "execution_count": 5,
   "metadata": {},
   "outputs": [
    {
     "data": {
      "text/plain": [
       "matrix([[0, 1],\n",
       "        [1, 0]])"
      ]
     },
     "execution_count": 5,
     "metadata": {},
     "output_type": "execute_result"
    }
   ],
   "source": [
    "X"
   ]
  },
  {
   "cell_type": "code",
   "execution_count": 6,
   "metadata": {},
   "outputs": [
    {
     "data": {
      "text/plain": [
       "matrix([[ 0.+0.j, -0.-1.j],\n",
       "        [ 0.+1.j,  0.+0.j]])"
      ]
     },
     "execution_count": 6,
     "metadata": {},
     "output_type": "execute_result"
    }
   ],
   "source": [
    "Y"
   ]
  },
  {
   "cell_type": "code",
   "execution_count": 7,
   "metadata": {},
   "outputs": [
    {
     "data": {
      "text/plain": [
       "matrix([[ 1,  0],\n",
       "        [ 0, -1]])"
      ]
     },
     "execution_count": 7,
     "metadata": {},
     "output_type": "execute_result"
    }
   ],
   "source": [
    "Z"
   ]
  },
  {
   "cell_type": "code",
   "execution_count": 8,
   "metadata": {},
   "outputs": [
    {
     "data": {
      "text/plain": [
       "matrix([[ 0.70710678,  0.70710678],\n",
       "        [ 0.70710678, -0.70710678]])"
      ]
     },
     "execution_count": 8,
     "metadata": {},
     "output_type": "execute_result"
    }
   ],
   "source": [
    "H"
   ]
  },
  {
   "cell_type": "markdown",
   "metadata": {},
   "source": [
    "### Compute the following <font color=\"blue\">**three**</font> <font color=\"red\">**tensor products**</font>:\n",
    "\n",
    "\n",
    "<BR>\n",
    "<font color=\"blue\" size=4>\n",
    "\n",
    "\\begin{align}\n",
    "X \\otimes Y, \\quad X \\otimes Z, \\quad H \\otimes H\n",
    "\\end{align}\n",
    "\n",
    "</font>\n",
    "<BR>"
   ]
  },
  {
   "cell_type": "markdown",
   "metadata": {},
   "source": [
    "### <font color=\"blue\">**Tensor product**</font>:\n",
    "\n",
    "<BR>\n",
    "<font color=\"blue\" size=5>\n",
    "\n",
    "\\begin{align}\n",
    "X \\otimes Y \\quad \n",
    "\\end{align}\n",
    "\n",
    "</font>\n",
    "<BR>"
   ]
  },
  {
   "cell_type": "code",
   "execution_count": 9,
   "metadata": {},
   "outputs": [
    {
     "name": "stdout",
     "output_type": "stream",
     "text": [
      "[[0.+0.j 0.-0.j 0.+0.j 0.-1.j]\n",
      " [0.+0.j 0.+0.j 0.+1.j 0.+0.j]\n",
      " [0.+0.j 0.-1.j 0.+0.j 0.-0.j]\n",
      " [0.+1.j 0.+0.j 0.+0.j 0.+0.j]]\n"
     ]
    }
   ],
   "source": [
    "print(np.kron(X, Y))"
   ]
  },
  {
   "cell_type": "markdown",
   "metadata": {},
   "source": [
    "### <font color=\"blue\">**Tensor product**</font>:\n",
    "<BR>\n",
    "<font color=\"blue\" size=5>\n",
    "\n",
    "\\begin{align}\n",
    "\\quad X \\otimes Z\n",
    "\\end{align}\n",
    "\n",
    "</font>\n",
    "<BR>"
   ]
  },
  {
   "cell_type": "code",
   "execution_count": 10,
   "metadata": {},
   "outputs": [
    {
     "name": "stdout",
     "output_type": "stream",
     "text": [
      "[[ 0  0  1  0]\n",
      " [ 0  0  0 -1]\n",
      " [ 1  0  0  0]\n",
      " [ 0 -1  0  0]]\n"
     ]
    }
   ],
   "source": [
    "print(np.kron(X, Z))"
   ]
  },
  {
   "cell_type": "markdown",
   "metadata": {},
   "source": [
    "### <font color=\"blue\">**Tensor product**</font>:\n",
    "\n",
    "<BR>\n",
    "<font color=\"blue\" size=5>\n",
    "\n",
    "\\begin{align}\n",
    "\\quad H \\otimes H\n",
    "\\end{align}\n",
    "\n",
    "</font>\n",
    "<BR>"
   ]
  },
  {
   "cell_type": "code",
   "execution_count": 11,
   "metadata": {
    "scrolled": true
   },
   "outputs": [
    {
     "name": "stdout",
     "output_type": "stream",
     "text": [
      "[[ 0.5  0.5  0.5  0.5]\n",
      " [ 0.5 -0.5  0.5 -0.5]\n",
      " [ 0.5  0.5 -0.5 -0.5]\n",
      " [ 0.5 -0.5 -0.5  0.5]]\n"
     ]
    }
   ],
   "source": [
    "print(np.kron(H, H))"
   ]
  },
  {
   "cell_type": "code",
   "execution_count": null,
   "metadata": {},
   "outputs": [],
   "source": []
  },
  {
   "cell_type": "markdown",
   "metadata": {},
   "source": [
    "Now, we can compute the <font color=\"red\">**action**</font> of these matrices on the **basis state** UP : DOWN - <font color=\"blue\">**$|01\\rangle$**</font>   as:\n",
    "\n",
    "<BR>\n",
    "<font color=\"blue\">\n",
    "        \n",
    "\\begin{align}\n",
    "(X \\otimes Y)(|01\\rangle) = (X \\otimes Y)(|0\\rangle \\otimes |1\\rangle) = X|0\\rangle \\otimes Y|1\\rangle \n",
    "\\end{align}\n",
    "\n",
    "\\begin{align}\n",
    "(X \\otimes Z)(|01\\rangle) = (X \\otimes Z)(|0\\rangle \\otimes |1\\rangle) = X|0\\rangle \\otimes Z|1\\rangle \n",
    "\\end{align}\n",
    "\n",
    "\\begin{align}\n",
    "(H \\otimes H)(|01\\rangle) = (H \\otimes H)(|0\\rangle \\otimes |1\\rangle) = H|0\\rangle \\otimes H|1\\rangle \n",
    "\\end{align}\n",
    "\n",
    "</font>\n",
    "<BR>\n"
   ]
  },
  {
   "cell_type": "markdown",
   "metadata": {},
   "source": [
    "### <font color=\"blue\">**Tensor product(s)**</font>:"
   ]
  },
  {
   "cell_type": "code",
   "execution_count": 12,
   "metadata": {},
   "outputs": [],
   "source": [
    "XY = np.kron(X, Y)\n",
    "XZ = np.kron(X, Z)\n",
    "HH = np.kron(H, H)"
   ]
  },
  {
   "cell_type": "markdown",
   "metadata": {},
   "source": [
    "### <font color=\"blue\">**Action**</font>: <font color=\"red\">(XY * ud)</font>\n",
    "\n",
    "<BR>\n",
    "<font color=\"blue\">\n",
    "        \n",
    "\\begin{align}\n",
    "(X \\otimes Y)(|01\\rangle) = (X \\otimes Y)(|0\\rangle \\otimes |1\\rangle) = X|0\\rangle \\otimes Y|1\\rangle \n",
    "\\end{align}\n",
    "\n",
    "\n",
    "</font>\n",
    "<BR>"
   ]
  },
  {
   "cell_type": "code",
   "execution_count": 13,
   "metadata": {
    "scrolled": true
   },
   "outputs": [
    {
     "name": "stdout",
     "output_type": "stream",
     "text": [
      "[[0.+0.j]\n",
      " [0.+0.j]\n",
      " [0.-1.j]\n",
      " [0.+0.j]]\n"
     ]
    }
   ],
   "source": [
    "print(XY * ud)"
   ]
  },
  {
   "cell_type": "markdown",
   "metadata": {},
   "source": [
    "### <font color=\"blue\">**Action**</font>: <font color=\"red\">(XZ * ud)</font>\n",
    "<BR>\n",
    "<font color=\"blue\">\n",
    "        \n",
    "\\begin{align}\n",
    "(X \\otimes Z)(|01\\rangle) = (X \\otimes Z)(|0\\rangle \\otimes |1\\rangle) = X|0\\rangle \\otimes Z|1\\rangle \n",
    "\\end{align}\n",
    "\n",
    "\n",
    "</font>\n",
    "<BR>"
   ]
  },
  {
   "cell_type": "code",
   "execution_count": 14,
   "metadata": {},
   "outputs": [
    {
     "name": "stdout",
     "output_type": "stream",
     "text": [
      "[[ 0]\n",
      " [ 0]\n",
      " [ 0]\n",
      " [-1]]\n"
     ]
    }
   ],
   "source": [
    "print(XZ * ud)"
   ]
  },
  {
   "cell_type": "markdown",
   "metadata": {},
   "source": [
    "### <font color=\"blue\">**Action**</font>: <font color=\"red\">(HH * ud)</font>\n",
    "<BR>\n",
    "<font color=\"blue\">\n",
    "\n",
    "\\begin{align}\n",
    "(H \\otimes H)(|01\\rangle) = (H \\otimes H)(|0\\rangle \\otimes |1\\rangle) = H|0\\rangle \\otimes H|1\\rangle \n",
    "\\end{align}\n",
    "\n",
    "</font>\n",
    "<BR>"
   ]
  },
  {
   "cell_type": "code",
   "execution_count": 15,
   "metadata": {},
   "outputs": [
    {
     "name": "stdout",
     "output_type": "stream",
     "text": [
      "[[ 0.5]\n",
      " [-0.5]\n",
      " [ 0.5]\n",
      " [-0.5]]\n"
     ]
    }
   ],
   "source": [
    "print(HH * ud)"
   ]
  },
  {
   "cell_type": "code",
   "execution_count": null,
   "metadata": {},
   "outputs": [],
   "source": []
  },
  {
   "cell_type": "markdown",
   "metadata": {},
   "source": [
    "# <font color=\"red\">Graded Exercises</font>  for use <font color=\"blue\">with structured courses.</font>\n",
    "\n",
    "## Tensor Product Matricies\n",
    "\n",
    "#### <font color=\"blue\">*This work will take some time, so block off enough time to adequately cover it*</font>. \n",
    "\n",
    "\n",
    "- Go through the **entire** JNB and complete each of the exercises, including any supplementary Video's - hand in completed <font color=\"red\">**PDF**</font> from this JNB once finished.\n",
    "\n",
    "\n",
    "- Step through the code for **each** of the above exercises, make sure you can (1) execute it, and (2) know what it does.\n",
    "\n",
    "\n",
    "- <font color=\"blue\">Complete Challenge Exercises below.</font> **(turn in the JNB)**"
   ]
  },
  {
   "cell_type": "markdown",
   "metadata": {},
   "source": [
    "## Exercises: Tensor Product Matricies\n"
   ]
  },
  {
   "cell_type": "markdown",
   "metadata": {},
   "source": [
    "#### Write Python code to compute the tensor products (<font color=\"blue\">below</font>):\n",
    "\n",
    "<BR>\n",
    "<font color=\"blue\">\n",
    "\n",
    "0. $X \\otimes X$\n",
    "0. $Z \\otimes Y$\n",
    "0. $H \\otimes X$\n",
    "0. $H \\otimes H$\n",
    "\n",
    "</font>\n",
    "<BR>"
   ]
  },
  {
   "cell_type": "markdown",
   "metadata": {},
   "source": [
    "### <font color=\"red\">1</font>: $X \\otimes X$\n",
    "\n",
    "> - ### <font color=\"red\">This first one is done for you</font>."
   ]
  },
  {
   "cell_type": "code",
   "execution_count": 35,
   "metadata": {},
   "outputs": [
    {
     "name": "stdout",
     "output_type": "stream",
     "text": [
      "[[0 0 0 1]\n",
      " [0 0 1 0]\n",
      " [0 1 0 0]\n",
      " [1 0 0 0]]\n"
     ]
    }
   ],
   "source": [
    "print(np.kron(X, X))"
   ]
  },
  {
   "cell_type": "markdown",
   "metadata": {},
   "source": [
    "### <font color=\"red\">2</font>: $Z \\otimes Y$"
   ]
  },
  {
   "cell_type": "code",
   "execution_count": 16,
   "metadata": {},
   "outputs": [
    {
     "name": "stdout",
     "output_type": "stream",
     "text": [
      "[[ 0.+0.j  0.-1.j  0.+0.j  0.-0.j]\n",
      " [ 0.+1.j  0.+0.j  0.+0.j  0.+0.j]\n",
      " [ 0.+0.j  0.-0.j -0.+0.j  0.+1.j]\n",
      " [ 0.+0.j  0.+0.j -0.-1.j -0.+0.j]]\n"
     ]
    }
   ],
   "source": [
    "print(np.kron(Z, Y))"
   ]
  },
  {
   "cell_type": "markdown",
   "metadata": {},
   "source": [
    "### <font color=\"red\">3</font>: $H \\otimes X$"
   ]
  },
  {
   "cell_type": "code",
   "execution_count": 17,
   "metadata": {},
   "outputs": [
    {
     "name": "stdout",
     "output_type": "stream",
     "text": [
      "[[ 0.          0.70710678  0.          0.70710678]\n",
      " [ 0.70710678  0.          0.70710678  0.        ]\n",
      " [ 0.          0.70710678 -0.         -0.70710678]\n",
      " [ 0.70710678  0.         -0.70710678 -0.        ]]\n"
     ]
    }
   ],
   "source": [
    "print(np.kron(H, X))"
   ]
  },
  {
   "cell_type": "markdown",
   "metadata": {},
   "source": [
    "### <font color=\"red\">4</font>: $H \\otimes H$"
   ]
  },
  {
   "cell_type": "code",
   "execution_count": 18,
   "metadata": {},
   "outputs": [
    {
     "name": "stdout",
     "output_type": "stream",
     "text": [
      "[[ 0.5  0.5  0.5  0.5]\n",
      " [ 0.5 -0.5  0.5 -0.5]\n",
      " [ 0.5  0.5 -0.5 -0.5]\n",
      " [ 0.5 -0.5 -0.5  0.5]]\n"
     ]
    }
   ],
   "source": [
    "print(np.kron(H, H))"
   ]
  },
  {
   "cell_type": "code",
   "execution_count": null,
   "metadata": {},
   "outputs": [],
   "source": []
  },
  {
   "cell_type": "markdown",
   "metadata": {},
   "source": [
    "### <font color=\"red\">5a</font>: Write Python code to verify that the \"Associative Property\" holds with the following Tensor Products: \n",
    "\n",
    "<BR>\n",
    "<font color=\"blue\">\n",
    "\n",
    "$(H \\otimes H) \\otimes H$ <font color=\"red\" size=5>=</font> $H \\otimes (H \\otimes H)$.\n",
    "\n",
    "\n",
    "</font>\n",
    "<BR>\n",
    "    \n",
    "> - ### <font color=\"red\">This one is done for you</font>."
   ]
  },
  {
   "cell_type": "markdown",
   "metadata": {},
   "source": [
    "#### <font color=\"red\">LHS</font>: (Left Hand Side of Equation) - <font color=\"blue\">$(H \\otimes H) \\otimes H$</font>"
   ]
  },
  {
   "cell_type": "code",
   "execution_count": 19,
   "metadata": {},
   "outputs": [
    {
     "data": {
      "text/plain": [
       "matrix([[ 0.35355339,  0.35355339,  0.35355339,  0.35355339,  0.35355339,\n",
       "          0.35355339,  0.35355339,  0.35355339],\n",
       "        [ 0.35355339, -0.35355339,  0.35355339, -0.35355339,  0.35355339,\n",
       "         -0.35355339,  0.35355339, -0.35355339],\n",
       "        [ 0.35355339,  0.35355339, -0.35355339, -0.35355339,  0.35355339,\n",
       "          0.35355339, -0.35355339, -0.35355339],\n",
       "        [ 0.35355339, -0.35355339, -0.35355339,  0.35355339,  0.35355339,\n",
       "         -0.35355339, -0.35355339,  0.35355339],\n",
       "        [ 0.35355339,  0.35355339,  0.35355339,  0.35355339, -0.35355339,\n",
       "         -0.35355339, -0.35355339, -0.35355339],\n",
       "        [ 0.35355339, -0.35355339,  0.35355339, -0.35355339, -0.35355339,\n",
       "          0.35355339, -0.35355339,  0.35355339],\n",
       "        [ 0.35355339,  0.35355339, -0.35355339, -0.35355339, -0.35355339,\n",
       "         -0.35355339,  0.35355339,  0.35355339],\n",
       "        [ 0.35355339, -0.35355339, -0.35355339,  0.35355339, -0.35355339,\n",
       "          0.35355339,  0.35355339, -0.35355339]])"
      ]
     },
     "execution_count": 19,
     "metadata": {},
     "output_type": "execute_result"
    }
   ],
   "source": [
    "LHS = np.kron(np.kron(H, H),H)\n",
    "LHS"
   ]
  },
  {
   "cell_type": "markdown",
   "metadata": {},
   "source": [
    "#### <font color=\"red\">RHS</font>: (Right Hand Side of Equation) - <font color=\"blue\">$H \\otimes (H \\otimes H)$</font>"
   ]
  },
  {
   "cell_type": "code",
   "execution_count": 20,
   "metadata": {},
   "outputs": [
    {
     "data": {
      "text/plain": [
       "matrix([[ 0.35355339,  0.35355339,  0.35355339,  0.35355339,  0.35355339,\n",
       "          0.35355339,  0.35355339,  0.35355339],\n",
       "        [ 0.35355339, -0.35355339,  0.35355339, -0.35355339,  0.35355339,\n",
       "         -0.35355339,  0.35355339, -0.35355339],\n",
       "        [ 0.35355339,  0.35355339, -0.35355339, -0.35355339,  0.35355339,\n",
       "          0.35355339, -0.35355339, -0.35355339],\n",
       "        [ 0.35355339, -0.35355339, -0.35355339,  0.35355339,  0.35355339,\n",
       "         -0.35355339, -0.35355339,  0.35355339],\n",
       "        [ 0.35355339,  0.35355339,  0.35355339,  0.35355339, -0.35355339,\n",
       "         -0.35355339, -0.35355339, -0.35355339],\n",
       "        [ 0.35355339, -0.35355339,  0.35355339, -0.35355339, -0.35355339,\n",
       "          0.35355339, -0.35355339,  0.35355339],\n",
       "        [ 0.35355339,  0.35355339, -0.35355339, -0.35355339, -0.35355339,\n",
       "         -0.35355339,  0.35355339,  0.35355339],\n",
       "        [ 0.35355339, -0.35355339, -0.35355339,  0.35355339, -0.35355339,\n",
       "          0.35355339,  0.35355339, -0.35355339]])"
      ]
     },
     "execution_count": 20,
     "metadata": {},
     "output_type": "execute_result"
    }
   ],
   "source": [
    "RHS = np.kron(H,(np.kron(H, H)))\n",
    "RHS"
   ]
  },
  {
   "cell_type": "markdown",
   "metadata": {},
   "source": [
    "#### TEST: <font color=\"red\">LHS = RHS</font>: (aka. Test <font color=\"red\">ALL</font> Elements of the Matrix for equivalence)"
   ]
  },
  {
   "cell_type": "code",
   "execution_count": 38,
   "metadata": {},
   "outputs": [
    {
     "data": {
      "text/plain": [
       "True"
      ]
     },
     "execution_count": 38,
     "metadata": {},
     "output_type": "execute_result"
    }
   ],
   "source": [
    "(LHS == RHS).all()"
   ]
  },
  {
   "cell_type": "markdown",
   "metadata": {},
   "source": [
    "### <font color=\"red\">5b</font>: Write Python code to verify that: \n",
    "\n",
    "<BR>\n",
    "<font color=\"blue\">\n",
    "\n",
    "$X \\otimes (X \\otimes X)$ <font color=\"red\" size=5>=</font> $(X \\otimes X) \\otimes X$.\n",
    "\n",
    "</font>\n",
    "<BR>\n",
    "    "
   ]
  },
  {
   "cell_type": "code",
   "execution_count": 22,
   "metadata": {},
   "outputs": [
    {
     "data": {
      "text/plain": [
       "matrix([[0, 0, 0, 0, 0, 0, 0, 1],\n",
       "        [0, 0, 0, 0, 0, 0, 1, 0],\n",
       "        [0, 0, 0, 0, 0, 1, 0, 0],\n",
       "        [0, 0, 0, 0, 1, 0, 0, 0],\n",
       "        [0, 0, 0, 1, 0, 0, 0, 0],\n",
       "        [0, 0, 1, 0, 0, 0, 0, 0],\n",
       "        [0, 1, 0, 0, 0, 0, 0, 0],\n",
       "        [1, 0, 0, 0, 0, 0, 0, 0]])"
      ]
     },
     "execution_count": 22,
     "metadata": {},
     "output_type": "execute_result"
    }
   ],
   "source": [
    "LHS = np.kron(X, (np.kron(X, X)))\n",
    "LHS"
   ]
  },
  {
   "cell_type": "code",
   "execution_count": 23,
   "metadata": {},
   "outputs": [
    {
     "data": {
      "text/plain": [
       "matrix([[0, 0, 0, 0, 0, 0, 0, 1],\n",
       "        [0, 0, 0, 0, 0, 0, 1, 0],\n",
       "        [0, 0, 0, 0, 0, 1, 0, 0],\n",
       "        [0, 0, 0, 0, 1, 0, 0, 0],\n",
       "        [0, 0, 0, 1, 0, 0, 0, 0],\n",
       "        [0, 0, 1, 0, 0, 0, 0, 0],\n",
       "        [0, 1, 0, 0, 0, 0, 0, 0],\n",
       "        [1, 0, 0, 0, 0, 0, 0, 0]])"
      ]
     },
     "execution_count": 23,
     "metadata": {},
     "output_type": "execute_result"
    }
   ],
   "source": [
    "RHS = np.kron(np.kron(X, X), X)\n",
    "RHS"
   ]
  },
  {
   "cell_type": "code",
   "execution_count": 24,
   "metadata": {},
   "outputs": [
    {
     "data": {
      "text/plain": [
       "True"
      ]
     },
     "execution_count": 24,
     "metadata": {},
     "output_type": "execute_result"
    }
   ],
   "source": [
    "(LHS == RHS).all()"
   ]
  },
  {
   "cell_type": "markdown",
   "metadata": {},
   "source": [
    "### The following defines the basis state <font color=\"red\">$|010 \\rangle $</font>, and the relevant <font color=\"blue\">tensor products</font>. \n",
    "\n",
    "\n",
    "### Compute the following <font color=\"red\">Action</font>(s): \n",
    "\n",
    "<BR>\n",
    "\n",
    "0. $(X \\otimes X \\otimes Y)$ <font color=\"red\">$|010 \\rangle$</font>\n",
    "\n",
    "0. $(X \\otimes Z \\otimes H)$ <font color=\"red\">$|010 \\rangle$</font>\n",
    "\n",
    "0. $(H \\otimes H \\otimes H)$ <font color=\"red\">$|010 \\rangle$</font>\n",
    "\n",
    "<BR>"
   ]
  },
  {
   "cell_type": "markdown",
   "metadata": {},
   "source": [
    "### <font color=\"red\">6</font>: <font color=\"black\">$(X \\otimes X \\otimes Y)|010 \\rangle$</font>\n",
    "> - ### <font color=\"red\">This one is done for you</font>."
   ]
  },
  {
   "cell_type": "markdown",
   "metadata": {},
   "source": [
    "### <font color=\"red\">Reference</font>: Basis State - \"<font color=\"blue\">**|010>**</font>\"\n",
    "\n",
    "<BR>\n",
    "<font color=\"blue\">\n",
    "    \n",
    "\\begin{align}\n",
    "|010\\rangle &= |0\\rangle \\otimes |1\\rangle \\otimes |0\\rangle \\\\\n",
    "&= \\begin{pmatrix}\n",
    "1\\\\0\n",
    "\\end{pmatrix} \\otimes \n",
    "\\begin{pmatrix}\n",
    "0\\\\1\n",
    "\\end{pmatrix} \\otimes \n",
    "\\begin{pmatrix}\n",
    "1\\\\0\n",
    "\\end{pmatrix} \\\\\n",
    "&= \\begin{pmatrix}\n",
    "0\\\\0\\\\1\\\\0\\\\0\\\\0\\\\0\\\\0\n",
    "\\end{pmatrix}\n",
    "\\end{align}\n",
    "\n",
    "</font>\n",
    "<BR>"
   ]
  },
  {
   "cell_type": "markdown",
   "metadata": {},
   "source": [
    "#### Define the basis state  <font color=\"red\">|010></font>"
   ]
  },
  {
   "cell_type": "code",
   "execution_count": 26,
   "metadata": {},
   "outputs": [
    {
     "data": {
      "text/plain": [
       "matrix([[0],\n",
       "        [0],\n",
       "        [1],\n",
       "        [0],\n",
       "        [0],\n",
       "        [0],\n",
       "        [0],\n",
       "        [0]])"
      ]
     },
     "execution_count": 26,
     "metadata": {},
     "output_type": "execute_result"
    }
   ],
   "source": [
    "# Define the basis state |010>\n",
    "\n",
    "u = np.matrix([[1],\n",
    "               [0]])\n",
    "\n",
    "d = np.matrix([[0],\n",
    "               [1]])\n",
    "\n",
    "u = np.matrix([[1],\n",
    "               [0]])\n",
    "\n",
    "# Basis State \"udu\" (|010>)\n",
    "\n",
    "udu = np.kron(np.kron(u,d),u)\n",
    "\n",
    "udu"
   ]
  },
  {
   "cell_type": "markdown",
   "metadata": {},
   "source": [
    "#### Check shape"
   ]
  },
  {
   "cell_type": "code",
   "execution_count": 27,
   "metadata": {},
   "outputs": [
    {
     "data": {
      "text/plain": [
       "(8, 1)"
      ]
     },
     "execution_count": 27,
     "metadata": {},
     "output_type": "execute_result"
    }
   ],
   "source": [
    "udu.shape"
   ]
  },
  {
   "cell_type": "markdown",
   "metadata": {},
   "source": [
    "#### Tensor Product: <font color=\"red\">$(X \\otimes X \\otimes Y)$</font>"
   ]
  },
  {
   "cell_type": "code",
   "execution_count": 28,
   "metadata": {},
   "outputs": [
    {
     "data": {
      "text/plain": [
       "matrix([[0.+0.j, 0.-0.j, 0.+0.j, 0.-0.j, 0.+0.j, 0.-0.j, 0.+0.j, 0.-1.j],\n",
       "        [0.+0.j, 0.+0.j, 0.+0.j, 0.+0.j, 0.+0.j, 0.+0.j, 0.+1.j, 0.+0.j],\n",
       "        [0.+0.j, 0.-0.j, 0.+0.j, 0.-0.j, 0.+0.j, 0.-1.j, 0.+0.j, 0.-0.j],\n",
       "        [0.+0.j, 0.+0.j, 0.+0.j, 0.+0.j, 0.+1.j, 0.+0.j, 0.+0.j, 0.+0.j],\n",
       "        [0.+0.j, 0.-0.j, 0.+0.j, 0.-1.j, 0.+0.j, 0.-0.j, 0.+0.j, 0.-0.j],\n",
       "        [0.+0.j, 0.+0.j, 0.+1.j, 0.+0.j, 0.+0.j, 0.+0.j, 0.+0.j, 0.+0.j],\n",
       "        [0.+0.j, 0.-1.j, 0.+0.j, 0.-0.j, 0.+0.j, 0.-0.j, 0.+0.j, 0.-0.j],\n",
       "        [0.+1.j, 0.+0.j, 0.+0.j, 0.+0.j, 0.+0.j, 0.+0.j, 0.+0.j, 0.+0.j]])"
      ]
     },
     "execution_count": 28,
     "metadata": {},
     "output_type": "execute_result"
    }
   ],
   "source": [
    "XXY = np.kron(np.kron(X, X),Y)\n",
    "XXY"
   ]
  },
  {
   "cell_type": "markdown",
   "metadata": {},
   "source": [
    "#### Check shape"
   ]
  },
  {
   "cell_type": "code",
   "execution_count": 29,
   "metadata": {},
   "outputs": [
    {
     "data": {
      "text/plain": [
       "(8, 8)"
      ]
     },
     "execution_count": 29,
     "metadata": {},
     "output_type": "execute_result"
    }
   ],
   "source": [
    "XXY.shape"
   ]
  },
  {
   "cell_type": "markdown",
   "metadata": {},
   "source": [
    "####  <font color=\"red\">Action</font>: <font color=\"black\">$(X \\otimes X \\otimes Y)|010 \\rangle$</font>"
   ]
  },
  {
   "cell_type": "code",
   "execution_count": 30,
   "metadata": {},
   "outputs": [
    {
     "data": {
      "text/plain": [
       "matrix([[0.+0.j],\n",
       "        [0.+0.j],\n",
       "        [0.+0.j],\n",
       "        [0.+0.j],\n",
       "        [0.+0.j],\n",
       "        [0.+1.j],\n",
       "        [0.+0.j],\n",
       "        [0.+0.j]])"
      ]
     },
     "execution_count": 30,
     "metadata": {},
     "output_type": "execute_result"
    }
   ],
   "source": [
    "XXY * udu"
   ]
  },
  {
   "cell_type": "code",
   "execution_count": null,
   "metadata": {},
   "outputs": [],
   "source": []
  },
  {
   "cell_type": "markdown",
   "metadata": {},
   "source": [
    "### <font color=\"red\">7</font>: <font color=\"black\">$(X \\otimes Z \\otimes H)|010 \\rangle$</font>"
   ]
  },
  {
   "cell_type": "code",
   "execution_count": 31,
   "metadata": {},
   "outputs": [
    {
     "data": {
      "text/plain": [
       "matrix([[ 0.        ,  0.        ,  0.        ,  0.        ,  0.70710678,\n",
       "          0.70710678,  0.        ,  0.        ],\n",
       "        [ 0.        , -0.        ,  0.        , -0.        ,  0.70710678,\n",
       "         -0.70710678,  0.        , -0.        ],\n",
       "        [ 0.        ,  0.        ,  0.        ,  0.        ,  0.        ,\n",
       "          0.        , -0.70710678, -0.70710678],\n",
       "        [ 0.        , -0.        ,  0.        , -0.        ,  0.        ,\n",
       "         -0.        , -0.70710678,  0.70710678],\n",
       "        [ 0.70710678,  0.70710678,  0.        ,  0.        ,  0.        ,\n",
       "          0.        ,  0.        ,  0.        ],\n",
       "        [ 0.70710678, -0.70710678,  0.        , -0.        ,  0.        ,\n",
       "         -0.        ,  0.        , -0.        ],\n",
       "        [ 0.        ,  0.        , -0.70710678, -0.70710678,  0.        ,\n",
       "          0.        ,  0.        ,  0.        ],\n",
       "        [ 0.        , -0.        , -0.70710678,  0.70710678,  0.        ,\n",
       "         -0.        ,  0.        , -0.        ]])"
      ]
     },
     "execution_count": 31,
     "metadata": {},
     "output_type": "execute_result"
    }
   ],
   "source": [
    "XZH = np.kron(np.kron(X, Z),H)\n",
    "XZH"
   ]
  },
  {
   "cell_type": "code",
   "execution_count": 32,
   "metadata": {},
   "outputs": [
    {
     "data": {
      "text/plain": [
       "(8, 8)"
      ]
     },
     "execution_count": 32,
     "metadata": {},
     "output_type": "execute_result"
    }
   ],
   "source": [
    "XZH.shape"
   ]
  },
  {
   "cell_type": "code",
   "execution_count": 33,
   "metadata": {},
   "outputs": [
    {
     "data": {
      "text/plain": [
       "matrix([[ 0.        ],\n",
       "        [ 0.        ],\n",
       "        [ 0.        ],\n",
       "        [ 0.        ],\n",
       "        [ 0.        ],\n",
       "        [ 0.        ],\n",
       "        [-0.70710678],\n",
       "        [-0.70710678]])"
      ]
     },
     "execution_count": 33,
     "metadata": {},
     "output_type": "execute_result"
    }
   ],
   "source": [
    "XZH * udu"
   ]
  },
  {
   "cell_type": "markdown",
   "metadata": {},
   "source": [
    "### <font color=\"red\">8</font>: <font color=\"black\">$(H \\otimes H \\otimes H)|010 \\rangle$</font>"
   ]
  },
  {
   "cell_type": "code",
   "execution_count": 34,
   "metadata": {},
   "outputs": [
    {
     "data": {
      "text/plain": [
       "matrix([[ 0.35355339,  0.35355339,  0.35355339,  0.35355339,  0.35355339,\n",
       "          0.35355339,  0.35355339,  0.35355339],\n",
       "        [ 0.35355339, -0.35355339,  0.35355339, -0.35355339,  0.35355339,\n",
       "         -0.35355339,  0.35355339, -0.35355339],\n",
       "        [ 0.35355339,  0.35355339, -0.35355339, -0.35355339,  0.35355339,\n",
       "          0.35355339, -0.35355339, -0.35355339],\n",
       "        [ 0.35355339, -0.35355339, -0.35355339,  0.35355339,  0.35355339,\n",
       "         -0.35355339, -0.35355339,  0.35355339],\n",
       "        [ 0.35355339,  0.35355339,  0.35355339,  0.35355339, -0.35355339,\n",
       "         -0.35355339, -0.35355339, -0.35355339],\n",
       "        [ 0.35355339, -0.35355339,  0.35355339, -0.35355339, -0.35355339,\n",
       "          0.35355339, -0.35355339,  0.35355339],\n",
       "        [ 0.35355339,  0.35355339, -0.35355339, -0.35355339, -0.35355339,\n",
       "         -0.35355339,  0.35355339,  0.35355339],\n",
       "        [ 0.35355339, -0.35355339, -0.35355339,  0.35355339, -0.35355339,\n",
       "          0.35355339,  0.35355339, -0.35355339]])"
      ]
     },
     "execution_count": 34,
     "metadata": {},
     "output_type": "execute_result"
    }
   ],
   "source": [
    "HHH = np.kron(np.kron(H, H),H)\n",
    "HHH"
   ]
  },
  {
   "cell_type": "code",
   "execution_count": 35,
   "metadata": {},
   "outputs": [
    {
     "data": {
      "text/plain": [
       "(8, 8)"
      ]
     },
     "execution_count": 35,
     "metadata": {},
     "output_type": "execute_result"
    }
   ],
   "source": [
    "HHH.shape"
   ]
  },
  {
   "cell_type": "code",
   "execution_count": 36,
   "metadata": {},
   "outputs": [
    {
     "data": {
      "text/plain": [
       "matrix([[ 0.35355339],\n",
       "        [ 0.35355339],\n",
       "        [-0.35355339],\n",
       "        [-0.35355339],\n",
       "        [ 0.35355339],\n",
       "        [ 0.35355339],\n",
       "        [-0.35355339],\n",
       "        [-0.35355339]])"
      ]
     },
     "execution_count": 36,
     "metadata": {},
     "output_type": "execute_result"
    }
   ],
   "source": [
    "HHH * udu"
   ]
  },
  {
   "cell_type": "markdown",
   "metadata": {},
   "source": [
    "![the-end](img/the-end.png \"the-end\")"
   ]
  }
 ],
 "metadata": {
  "kernelspec": {
   "display_name": "Python 3 (ipykernel)",
   "language": "python",
   "name": "python3"
  },
  "language_info": {
   "codemirror_mode": {
    "name": "ipython",
    "version": 3
   },
   "file_extension": ".py",
   "mimetype": "text/x-python",
   "name": "python",
   "nbconvert_exporter": "python",
   "pygments_lexer": "ipython3",
   "version": "3.9.0"
  },
  "toc": {
   "base_numbering": 1,
   "nav_menu": {},
   "number_sections": true,
   "sideBar": true,
   "skip_h1_title": false,
   "title_cell": "Table of Contents",
   "title_sidebar": "Contents",
   "toc_cell": false,
   "toc_position": {},
   "toc_section_display": true,
   "toc_window_display": false
  }
 },
 "nbformat": 4,
 "nbformat_minor": 4
}
