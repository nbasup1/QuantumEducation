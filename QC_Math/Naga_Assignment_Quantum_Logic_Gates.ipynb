{
 "cells": [
  {
   "cell_type": "markdown",
   "metadata": {},
   "source": [
    "# Quantum Logic Gates\n",
    "\n",
    "- #### Hands-on Experiential Learning <font color=\"red\">for the Software Engineer</font>"
   ]
  },
  {
   "cell_type": "markdown",
   "metadata": {},
   "source": [
    "![](img/QC_Math_Banner.png \"\")\n",
    "\n",
    "<font color=\"red\">**Notice**</font>: All materials herein were <font color=\"red\">**curated**</font> by **Matthew R. Versaggi (profversaggi@gmail.com)** and are released into the open source to foster growth and welfare of expanding the Quantum Computing domain - the only obligation one incurs when using, copying, distributing or referencing this is to kindly reference the author and send me an email so I know how useful the material is to you.\n",
    "\n",
    "#### <font color=\"red\">Recommendations</font>: \n",
    "\n",
    "> **<font color=\"blue\">It's highly recommended to take structured QC Math courses <font color=\"red\">like</font>:</font>**\n",
    "> #### Math Prerequisites for Quantum Computing\n",
    "> - https://www.udemy.com/course/mathematics-prerequisites-for-quantum-computing-and-quantum-physics/\n",
    "\n",
    "> #### Advanced Math for Quantum Computing\n",
    "> - https://www.udemy.com/course/qc201-advanced-math-for-quantum-computing-mathematics-physics/\n",
    "\n",
    "\n",
    "\n",
    "#### <font color=\"red\">Materials Inspiration and Author(s)</font>: \n",
    "\n",
    "> **<font color=\"blue\">USAF Research Laboratory</font>**\n",
    "> - Introduction to Coding Quantum Algorithms: **A Tutorial Series Using Qiskit** : https://arxiv.org/pdf/1903.04359\n",
    "> - <a href=\"Basic Gates Provided by Qiskit.ipynb\" target=\"_blank\"><font color=\"blue\">Basic Gates Provided by Qiskit</font></a> **(Enhanced)**\n",
    "\n",
    "\n",
    "\n",
    "> **<font color=\"blue\">Amelie Schreiber</font>**\n",
    "- Article: https://towardsdatascience.com/quantum-computing-for-the-newb-5e0737e3ca4\n",
    "- Course: https://the-singularity-research.github.io/linear_algebra_for_quantum_computing/\n",
    "- GitHub: https://github.com/The-Singularity-Research/linear_algebra_for_quantum_computing\n",
    "\n",
    "> **<font color=\"blue\">QWorld</font>**\n",
    "- Site: https://qworld.lu.lv/\n",
    "- GitLab: https://gitlab.com/qkitchen/basics-of-quantum-computing"
   ]
  },
  {
   "cell_type": "markdown",
   "metadata": {},
   "source": [
    "We will need to import NumPy. We will also visualize some of the gate operations in Qiskit by plotting the state vectors on the Bloch sphere so we should also install and import the necessary tools from Qiskit. "
   ]
  },
  {
   "cell_type": "code",
   "execution_count": 1,
   "metadata": {},
   "outputs": [],
   "source": [
    "# pip install qiskit"
   ]
  },
  {
   "cell_type": "code",
   "execution_count": 2,
   "metadata": {},
   "outputs": [],
   "source": [
    "import numpy as np\n",
    "from qiskit import *\n",
    "from qiskit.visualization import plot_bloch_vector\n",
    "%matplotlib inline"
   ]
  },
  {
   "cell_type": "markdown",
   "metadata": {},
   "source": [
    "### <font color=\"red\">**Why this is important**</font>: \n",
    "\n",
    "#### This section discusses a list of the most commonly used [quantum logic gates](https://en.wikipedia.org/wiki/Quantum_logic_gate#Square_root_of_NOT_gate_(%E2%88%9ANOT) in quantum computing. \n",
    "\n",
    "This will include the **Pauli operators**, the **Hadamard gate**, **phase gates**, **controlled-U gates** for various unitary operators, **swap operators**, and the **Toffoli gate**. \n",
    "\n",
    "> \"In quantum computing and specifically the <font color=\"red\">**quantum circuit model of computation**</font>, a **quantum logic gate (or simply quantum gate)** is a basic quantum circuit operating on a small number of qubits. \n",
    "- **hey are the building blocks of quantum circuits**, like **classical logic gates** are for **conventional digital circuits**.\"\n",
    "\n",
    "> \"**Unlike many classical logic gates**, *quantum logic gates* are <font color=\"red\">**reversible**</font>. \n",
    "\n",
    "**However**, it is possible to perform classical computing using only reversible gates. For example, the reversible Toffoli gate can implement all Boolean functions, often at the cost of having to use ancilla bits. The Toffoli gate has a direct quantum equivalent, showing that *quantum circuits can perform all operations performed by classical circuits*.\""
   ]
  },
  {
   "cell_type": "markdown",
   "metadata": {},
   "source": [
    "## <font color=\"blue\">The Pauli</font> <font color=\"red\">X</font>, <font color=\"red\">Y</font>, and <font color=\"red\">Z</font> gates:\n",
    "\n",
    "> - **<font color=\"red\">Reference</font>:** <a href=\"Basic Gates Provided by Qiskit.ipynb\" target=\"_blank\"><font color=\"blue\">Basic Gates Provided by Qiskit</font></a> \n",
    "\n",
    "<BR>\n",
    "    \n",
    "<font color=\"blue\">    \n",
    "    \n",
    "\\begin{align}\n",
    "X = \\begin{pmatrix} 0&1 \\\\ 1&0 \\end{pmatrix}, \\quad\n",
    "Y = \\begin{pmatrix} 0&i \\\\ -i&0 \\end{pmatrix}, \\quad\n",
    "Z = \\begin{pmatrix} 1&0 \\\\ 0&-1 \\end{pmatrix}, \\quad\n",
    "\\end{align}\n",
    "\n",
    "</font>\n",
    "\n",
    "<BR>\n",
    "\n",
    "These can also be represented as **outer products**:\n",
    "\n",
    "\\begin{align}\n",
    "X = |0\\rangle \\langle 1| + |1\\rangle \\langle 0| &= \\begin{pmatrix} 0&1 \\\\ 1&0 \\end{pmatrix} \\\\\n",
    "Y = -i|0\\rangle \\langle 1| + i|1\\rangle \\langle 0| &= \\begin{pmatrix} 0&i \\\\ -i&0 \\end{pmatrix} \\\\ \n",
    "Z = |0\\rangle \\langle 0| - |1\\rangle \\langle 1| &= \\begin{pmatrix} 1&0 \\\\ 0&-1 \\end{pmatrix}. \n",
    "\\end{align}\n",
    "\n",
    "**Sometimes** in **books**, **papers**, and **online sources** such as in the documentation for **PennyLane**, these are denoted by <font color=\"red\" size=5> $\\sigma_X, \\sigma_Y, \\sigma_Z$ </font>. \n",
    "\n",
    "> - We can operate on **single qubits** with the Pauli gates as follows. "
   ]
  },
  {
   "cell_type": "markdown",
   "metadata": {},
   "source": [
    "#### Define Spin-UP, Spin-DOWN, X, Y and Z"
   ]
  },
  {
   "cell_type": "code",
   "execution_count": 3,
   "metadata": {},
   "outputs": [
    {
     "name": "stdout",
     "output_type": "stream",
     "text": [
      "spin up:\n",
      " [[1]\n",
      " [0]] \n",
      "\n",
      "spin down:\n",
      " [[0]\n",
      " [1]] \n",
      "\n",
      "X-Gate:\n",
      " [[0 1]\n",
      " [1 0]] \n",
      "\n",
      "Y-Gate:\n",
      " [[ 0.+0.j -0.-1.j]\n",
      " [ 0.+1.j  0.+0.j]] \n",
      "\n",
      "Z-Gate:\n",
      " [[ 1  0]\n",
      " [ 0 -1]] \n",
      "\n"
     ]
    }
   ],
   "source": [
    "# Define spin-up, spin down, X, Y and Z \n",
    "\n",
    "u = np.matrix([[1],\n",
    "               [0]])\n",
    "\n",
    "d = np.matrix([[0],\n",
    "               [1]])\n",
    "\n",
    "X = np.matrix([[0, 1],\n",
    "               [1, 0]])\n",
    "\n",
    "Y = np.matrix([[0, -1j], \n",
    "               [1j, 0]])\n",
    "\n",
    "Z = np.matrix([[1, 0],\n",
    "               [0, -1]])\n",
    "\n",
    "print('spin up:\\n', u, \"\\n\")\n",
    "print('spin down:\\n', d, \"\\n\")\n",
    "print('X-Gate:\\n', X, \"\\n\")\n",
    "print('Y-Gate:\\n', Y, \"\\n\")\n",
    "print('Z-Gate:\\n', Z, \"\\n\")\n"
   ]
  },
  {
   "cell_type": "markdown",
   "metadata": {},
   "source": [
    "#### <font color=\"red\">NOT</font> GATE:  \n",
    "\n",
    "> Compute <font color=\"red\">NOT</font> $X|0\\rangle$ and <font color=\"red\">NOT</font> $X|1\\rangle$ to show that:\n",
    "\n",
    "- $X|0\\rangle = |1\\rangle$ \n",
    "\n",
    "- $X|1\\rangle = |0\\rangle$."
   ]
  },
  {
   "cell_type": "markdown",
   "metadata": {},
   "source": [
    "### <font color=\"red\">𝑋|0⟩</font>:"
   ]
  },
  {
   "cell_type": "code",
   "execution_count": 4,
   "metadata": {},
   "outputs": [
    {
     "data": {
      "text/plain": [
       "matrix([[1],\n",
       "        [0]])"
      ]
     },
     "execution_count": 4,
     "metadata": {},
     "output_type": "execute_result"
    }
   ],
   "source": [
    "u"
   ]
  },
  {
   "cell_type": "code",
   "execution_count": 5,
   "metadata": {},
   "outputs": [
    {
     "data": {
      "text/plain": [
       "matrix([[0],\n",
       "        [1]])"
      ]
     },
     "execution_count": 5,
     "metadata": {},
     "output_type": "execute_result"
    }
   ],
   "source": [
    "X*u"
   ]
  },
  {
   "cell_type": "markdown",
   "metadata": {},
   "source": [
    "### <font color=\"red\">𝑋|1⟩</font>:"
   ]
  },
  {
   "cell_type": "code",
   "execution_count": 6,
   "metadata": {},
   "outputs": [
    {
     "data": {
      "text/plain": [
       "matrix([[0],\n",
       "        [1]])"
      ]
     },
     "execution_count": 6,
     "metadata": {},
     "output_type": "execute_result"
    }
   ],
   "source": [
    "d"
   ]
  },
  {
   "cell_type": "code",
   "execution_count": 7,
   "metadata": {},
   "outputs": [
    {
     "data": {
      "text/plain": [
       "matrix([[1],\n",
       "        [0]])"
      ]
     },
     "execution_count": 7,
     "metadata": {},
     "output_type": "execute_result"
    }
   ],
   "source": [
    "X*d"
   ]
  },
  {
   "cell_type": "markdown",
   "metadata": {},
   "source": [
    "#### As we can see, $X|0\\rangle = |1\\rangle$ and $X|1\\rangle = |0\\rangle$. \n",
    "\n",
    "\n",
    "So, the Pauli $X$-gate flips a single qubit in spin-**up** to spin-**down**, and from spin-**down** to spin-**up**. \n",
    "- This is why the $X$-gate is often referred to as the NOT-gate. \n",
    "\n",
    "> - We can visualize this in Qiskit as follows. "
   ]
  },
  {
   "cell_type": "code",
   "execution_count": 8,
   "metadata": {},
   "outputs": [
    {
     "name": "stderr",
     "output_type": "stream",
     "text": [
      "/Users/nbasup1/miniconda3/envs/my-env/lib/python3.9/site-packages/qiskit/visualization/bloch.py:397: MatplotlibDeprecationWarning: Axes3D(fig) adding itself to the figure is deprecated since 3.4. Pass the keyword argument auto_add_to_figure=False and use fig.add_axes(ax) to suppress this warning. The default value of auto_add_to_figure will change to False in mpl3.5 and True values will no longer work in 3.6.  This is consistent with other Axes classes.\n",
      "  self.axes = Axes3D(self.fig, azim=self.view[0], elev=self.view[1])\n",
      "/Users/nbasup1/miniconda3/envs/my-env/lib/python3.9/site-packages/qiskit/visualization/bloch.py:69: MatplotlibDeprecationWarning: \n",
      "The M attribute was deprecated in Matplotlib 3.4 and will be removed two minor releases later. Use self.axes.M instead.\n",
      "  x_s, y_s, _ = proj3d.proj_transform(xs3d, ys3d, zs3d, renderer.M)\n"
     ]
    },
    {
     "data": {
      "image/png": "[encoded data removed]",
      "text/plain": [
       "<Figure size 360x360 with 1 Axes>"
      ]
     },
     "execution_count": 8,
     "metadata": {},
     "output_type": "execute_result"
    }
   ],
   "source": [
    "plot_bloch_vector([0,0,1], title=\"Spin-Up\")"
   ]
  },
  {
   "cell_type": "code",
   "execution_count": 9,
   "metadata": {},
   "outputs": [
    {
     "name": "stderr",
     "output_type": "stream",
     "text": [
      "/Users/nbasup1/miniconda3/envs/my-env/lib/python3.9/site-packages/qiskit/visualization/bloch.py:397: MatplotlibDeprecationWarning: Axes3D(fig) adding itself to the figure is deprecated since 3.4. Pass the keyword argument auto_add_to_figure=False and use fig.add_axes(ax) to suppress this warning. The default value of auto_add_to_figure will change to False in mpl3.5 and True values will no longer work in 3.6.  This is consistent with other Axes classes.\n",
      "  self.axes = Axes3D(self.fig, azim=self.view[0], elev=self.view[1])\n",
      "/Users/nbasup1/miniconda3/envs/my-env/lib/python3.9/site-packages/qiskit/visualization/bloch.py:69: MatplotlibDeprecationWarning: \n",
      "The M attribute was deprecated in Matplotlib 3.4 and will be removed two minor releases later. Use self.axes.M instead.\n",
      "  x_s, y_s, _ = proj3d.proj_transform(xs3d, ys3d, zs3d, renderer.M)\n"
     ]
    },
    {
     "data": {
      "image/png": "[encoded data removed]",
      "text/plain": [
       "<Figure size 360x360 with 1 Axes>"
      ]
     },
     "execution_count": 9,
     "metadata": {},
     "output_type": "execute_result"
    }
   ],
   "source": [
    "plot_bloch_vector([0,0,-1], title=\"Spin-Down\")"
   ]
  },
  {
   "cell_type": "markdown",
   "metadata": {},
   "source": [
    "### For Intuition Sake:"
   ]
  },
  {
   "cell_type": "code",
   "execution_count": 10,
   "metadata": {},
   "outputs": [
    {
     "data": {
      "text/html": [
       "\n",
       "        <iframe\n",
       "            width=\"900\"\n",
       "            height=\"700\"\n",
       "            src=\"https://javafxpert.github.io/grok-bloch/\"\n",
       "            frameborder=\"0\"\n",
       "            allowfullscreen\n",
       "        ></iframe>\n",
       "        "
      ],
      "text/plain": [
       "<IPython.lib.display.IFrame at 0x7fed697689d0>"
      ]
     },
     "execution_count": 10,
     "metadata": {},
     "output_type": "execute_result"
    }
   ],
   "source": [
    "from IPython.display import IFrame\n",
    "IFrame(src='https://javafxpert.github.io/grok-bloch/', width=900, height=700)"
   ]
  },
  {
   "cell_type": "code",
   "execution_count": null,
   "metadata": {},
   "outputs": [],
   "source": []
  },
  {
   "cell_type": "markdown",
   "metadata": {},
   "source": [
    "### Compute <font color=\"red\">$Y|0\\rangle$</font> and <font color=\"red\">$Z|0\\rangle$</font>. "
   ]
  },
  {
   "cell_type": "markdown",
   "metadata": {},
   "source": [
    "### <font color=\"red\">Reference</font>:\n",
    "\n",
    "###  Spin-<font color=\"blue\">UP</font> / Spin-<font color=\"blue\">DOWN</font> (<font color=\"red\">**Z**</font>-Axis)\n",
    "\n",
    "<BR>\n",
    "<font color=\"blue\">\n",
    "    \n",
    "\\begin{align}\n",
    "\\text{spin-up}: \\ |0\\rangle &= \\begin{pmatrix} 1\\\\0 \\end{pmatrix} \\\\\n",
    "\\text{spin-down}: \\ |1\\rangle & = \\begin{pmatrix} 0\\\\1 \\end{pmatrix}\n",
    "\\end{align}\n",
    "\n",
    "<BR>\n",
    "</font>"
   ]
  },
  {
   "cell_type": "code",
   "execution_count": 11,
   "metadata": {},
   "outputs": [],
   "source": [
    "# SPIN-UP\n",
    "u = np.matrix([[1], [0]])\n",
    "\n",
    "# SPIN-DOWN\n",
    "d = np.matrix([[0], [1]])"
   ]
  },
  {
   "cell_type": "markdown",
   "metadata": {},
   "source": [
    "### <font color=\"red\">Y|0⟩</font>:\n",
    "- Y executed on the **ZERO Ket |0>** flips it from the **North** (Spin-UP): 0, to **South** (Spin-DOWN) : 1.\n",
    "- Note the conversion to **complex numbers**.\n",
    "- <font color=\"red\">Important</font>: The effect of this gate is to flip a qubit's |0 ⟩  and |1 ⟩  amplitudes and multiplys by an imaginary number (phase). From a probabilities perspective, this gate has the same effect as the X gate. <font color=\"red\">However</font>, the additional phase makes this gate very useful in creating **certain constructive / deconstructive interferences**."
   ]
  },
  {
   "cell_type": "code",
   "execution_count": 12,
   "metadata": {},
   "outputs": [
    {
     "data": {
      "text/plain": [
       "matrix([[0.+0.j],\n",
       "        [0.+1.j]])"
      ]
     },
     "execution_count": 12,
     "metadata": {},
     "output_type": "execute_result"
    }
   ],
   "source": [
    "Y*u"
   ]
  },
  {
   "cell_type": "markdown",
   "metadata": {},
   "source": [
    "### <font color=\"red\">Z|0⟩</font>:\n",
    "- Z executed on **|0>** does <font color=\"red\">**nothing**</font> to the **ZERO** ket."
   ]
  },
  {
   "cell_type": "code",
   "execution_count": 13,
   "metadata": {},
   "outputs": [
    {
     "data": {
      "text/plain": [
       "matrix([[1],\n",
       "        [0]])"
      ]
     },
     "execution_count": 13,
     "metadata": {},
     "output_type": "execute_result"
    }
   ],
   "source": [
    "Z*u"
   ]
  },
  {
   "cell_type": "markdown",
   "metadata": {},
   "source": [
    "### For Intuitions Sake"
   ]
  },
  {
   "cell_type": "code",
   "execution_count": 14,
   "metadata": {},
   "outputs": [
    {
     "data": {
      "text/html": [
       "\n",
       "        <iframe\n",
       "            width=\"900\"\n",
       "            height=\"700\"\n",
       "            src=\"https://javafxpert.github.io/grok-bloch/\"\n",
       "            frameborder=\"0\"\n",
       "            allowfullscreen\n",
       "        ></iframe>\n",
       "        "
      ],
      "text/plain": [
       "<IPython.lib.display.IFrame at 0x7fed78859280>"
      ]
     },
     "execution_count": 14,
     "metadata": {},
     "output_type": "execute_result"
    }
   ],
   "source": [
    "from IPython.display import IFrame\n",
    "IFrame(src='https://javafxpert.github.io/grok-bloch/', width=900, height=700)"
   ]
  },
  {
   "cell_type": "code",
   "execution_count": null,
   "metadata": {},
   "outputs": [],
   "source": []
  },
  {
   "cell_type": "code",
   "execution_count": null,
   "metadata": {},
   "outputs": [],
   "source": []
  },
  {
   "cell_type": "markdown",
   "metadata": {},
   "source": [
    "## <font color=\"blue\">The Identity Operator and the Hadamard Gate</font>:\n",
    "\n",
    "<BR>\n",
    "\n",
    "> - **<font color=\"red\">Reference</font>:** <a href=\"Basic Gates Provided by Qiskit.ipynb\" target=\"_blank\"><font color=\"blue\">Basic Gates Provided by Qiskit</font></a> \n",
    "\n",
    "<BR>\n",
    "<font color=\"blue\">\n",
    "\\begin{align}\n",
    "I = \\begin{pmatrix} 1&0 \\\\ 0&1 \\end{pmatrix}, \\quad\n",
    "\\text{Hadamard Gate:} \\ \\ H = \\frac{1}{\\sqrt{2}} \\begin{pmatrix} 1&1 \\\\ 1&-1 \\end{pmatrix}\n",
    "\\end{align}\n",
    "</font>\n",
    "<BR>"
   ]
  },
  {
   "cell_type": "markdown",
   "metadata": {},
   "source": [
    "#### The Identity gate: (Does Nothing)"
   ]
  },
  {
   "cell_type": "code",
   "execution_count": 15,
   "metadata": {},
   "outputs": [
    {
     "data": {
      "text/plain": [
       "matrix([[1, 0],\n",
       "        [0, 1]])"
      ]
     },
     "execution_count": 15,
     "metadata": {},
     "output_type": "execute_result"
    }
   ],
   "source": [
    "I = np.matrix([\n",
    "              [1, 0],\n",
    "              [0, 1]\n",
    "              ])\n",
    "I"
   ]
  },
  {
   "cell_type": "markdown",
   "metadata": {},
   "source": [
    "The **Hadamard gate** is often used to put a single qubit in the spin-up position into a <font color=\"red\">**superposition**</font> of spin-up and spin-down. \n",
    "> - Note: The **Complex Numbers** below, they are **Amplitudes** (a combination of **Magnitudes** and **Phase** values) "
   ]
  },
  {
   "cell_type": "markdown",
   "metadata": {},
   "source": [
    "#### The Hadamard gate:"
   ]
  },
  {
   "cell_type": "code",
   "execution_count": 16,
   "metadata": {},
   "outputs": [
    {
     "data": {
      "text/plain": [
       "matrix([[ 0.70710678,  0.70710678],\n",
       "        [ 0.70710678, -0.70710678]])"
      ]
     },
     "execution_count": 16,
     "metadata": {},
     "output_type": "execute_result"
    }
   ],
   "source": [
    "H = (1/np.sqrt(2))*np.matrix([[1, 1], \n",
    "                              [1, -1]])\n",
    "H"
   ]
  },
  {
   "cell_type": "markdown",
   "metadata": {},
   "source": [
    "#### Put a Qubit (initialized to the ZERO state <font color=\"red\">**\"u\"**</font>) into Superposition"
   ]
  },
  {
   "cell_type": "code",
   "execution_count": 17,
   "metadata": {},
   "outputs": [
    {
     "data": {
      "text/plain": [
       "matrix([[0.70710678],\n",
       "        [0.70710678]])"
      ]
     },
     "execution_count": 17,
     "metadata": {},
     "output_type": "execute_result"
    }
   ],
   "source": [
    "H*u"
   ]
  },
  {
   "cell_type": "code",
   "execution_count": null,
   "metadata": {},
   "outputs": [],
   "source": []
  },
  {
   "cell_type": "markdown",
   "metadata": {},
   "source": [
    "## <font color=\"blue\">The Phase Gate</font>:\n",
    "\n",
    "<BR>\n",
    "\n",
    "> - **<font color=\"red\">Reference</font>:** <a href=\"Basic Gates Provided by Qiskit.ipynb\" target=\"_blank\"><font color=\"blue\">Basic Gates Provided by Qiskit</font></a> \n",
    "\n",
    "<BR>\n",
    "\n",
    "\n",
    "\n",
    "\\begin{align}\n",
    "S = \n",
    "\\begin{pmatrix}\n",
    "1 & 0 \\\\\n",
    "0 & i\n",
    "\\end{pmatrix}\n",
    "\\end{align}\n",
    "\n",
    "\n",
    "\n",
    "<BR>"
   ]
  },
  {
   "cell_type": "code",
   "execution_count": 18,
   "metadata": {},
   "outputs": [
    {
     "data": {
      "text/plain": [
       "matrix([[1.+0.j, 0.+0.j],\n",
       "        [0.+0.j, 0.+1.j]])"
      ]
     },
     "execution_count": 18,
     "metadata": {},
     "output_type": "execute_result"
    }
   ],
   "source": [
    "S = np.matrix([[1, 0],\n",
    "               [0, 1j]])\n",
    "S"
   ]
  },
  {
   "cell_type": "markdown",
   "metadata": {},
   "source": [
    "### For Intuitions Sake"
   ]
  },
  {
   "cell_type": "code",
   "execution_count": 19,
   "metadata": {
    "scrolled": false
   },
   "outputs": [
    {
     "data": {
      "text/html": [
       "\n",
       "        <iframe\n",
       "            width=\"900\"\n",
       "            height=\"700\"\n",
       "            src=\"https://javafxpert.github.io/grok-bloch/\"\n",
       "            frameborder=\"0\"\n",
       "            allowfullscreen\n",
       "        ></iframe>\n",
       "        "
      ],
      "text/plain": [
       "<IPython.lib.display.IFrame at 0x7fed78859f40>"
      ]
     },
     "execution_count": 19,
     "metadata": {},
     "output_type": "execute_result"
    }
   ],
   "source": [
    "from IPython.display import IFrame\n",
    "IFrame(src='https://javafxpert.github.io/grok-bloch/', width=900, height=700)"
   ]
  },
  {
   "cell_type": "code",
   "execution_count": null,
   "metadata": {},
   "outputs": [],
   "source": []
  },
  {
   "cell_type": "markdown",
   "metadata": {},
   "source": [
    "## <font color=\"blue\">Controlled-NOT (CNOT or CX)</font>:\n",
    "\n",
    "<BR>\n",
    "\n",
    "> - **<font color=\"red\">Reference</font>:** <a href=\"Basic Gates Provided by Qiskit.ipynb\" target=\"_blank\"><font color=\"blue\">Basic Gates Provided by Qiskit</font></a> \n",
    "\n",
    "<BR>\n",
    "\n",
    "<BR>\n",
    "\n",
    "\\begin{align}\n",
    "CX &= \\begin{pmatrix} I & 0 \\\\ 0 & X \\end{pmatrix} = \n",
    "\\begin{pmatrix} \n",
    "1 & 0 & 0 & 0 \\\\\n",
    "0 & 1 & 0 & 0 \\\\\n",
    "0 & 0 & 0 & 1 \\\\\n",
    "0 & 0 & 1 & 0\n",
    "\\end{pmatrix}\n",
    "\\end{align}\n",
    "\n",
    "<BR>"
   ]
  },
  {
   "cell_type": "markdown",
   "metadata": {},
   "source": [
    "# I"
   ]
  },
  {
   "cell_type": "code",
   "execution_count": 20,
   "metadata": {},
   "outputs": [
    {
     "data": {
      "text/plain": [
       "matrix([[1, 0],\n",
       "        [0, 1]])"
      ]
     },
     "execution_count": 20,
     "metadata": {},
     "output_type": "execute_result"
    }
   ],
   "source": [
    "I"
   ]
  },
  {
   "cell_type": "markdown",
   "metadata": {},
   "source": [
    "# X"
   ]
  },
  {
   "cell_type": "code",
   "execution_count": 21,
   "metadata": {},
   "outputs": [
    {
     "data": {
      "text/plain": [
       "matrix([[0, 1],\n",
       "        [1, 0]])"
      ]
     },
     "execution_count": 21,
     "metadata": {},
     "output_type": "execute_result"
    }
   ],
   "source": [
    "X"
   ]
  },
  {
   "cell_type": "markdown",
   "metadata": {},
   "source": [
    "# CX"
   ]
  },
  {
   "cell_type": "code",
   "execution_count": 22,
   "metadata": {},
   "outputs": [
    {
     "name": "stderr",
     "output_type": "stream",
     "text": [
      "/Users/nbasup1/miniconda3/envs/my-env/lib/python3.9/site-packages/numpy/matrixlib/defmatrix.py:145: VisibleDeprecationWarning: Creating an ndarray from ragged nested sequences (which is a list-or-tuple of lists-or-tuples-or ndarrays with different lengths or shapes) is deprecated. If you meant to do this, you must specify 'dtype=object' when creating the ndarray.\n",
      "  arr = N.array(data, dtype=dtype, copy=copy)\n"
     ]
    },
    {
     "data": {
      "text/plain": [
       "matrix([[matrix([[1, 0],\n",
       "                 [0, 1]]), 0],\n",
       "        [0, matrix([[0, 1],\n",
       "                    [1, 0]])]], dtype=object)"
      ]
     },
     "execution_count": 22,
     "metadata": {},
     "output_type": "execute_result"
    }
   ],
   "source": [
    "CX = np.matrix([[I, 0],\n",
    "               [0, X]])\n",
    "CX"
   ]
  },
  {
   "cell_type": "markdown",
   "metadata": {},
   "source": [
    "## <font color=\"blue\">Controlled-Z (CZ)</font>:\n",
    "\n",
    "<BR>\n",
    "\n",
    "> - **<font color=\"red\">Reference</font>:** <a href=\"Basic Gates Provided by Qiskit.ipynb\" target=\"_blank\"><font color=\"blue\">Basic Gates Provided by Qiskit</font></a> \n",
    "\n",
    "<BR>\n",
    "    \n",
    "\\begin{align}\n",
    "CZ &= \\begin{pmatrix} I & 0 \\\\ 0 & Z \\end{pmatrix} = \n",
    "\\begin{pmatrix} \n",
    "1 & 0 & 0 & 0 \\\\\n",
    "0 & 1 & 0 & 0 \\\\\n",
    "0 & 0 & 1 & 0 \\\\\n",
    "0 & 0 & 0 & -1\n",
    "\\end{pmatrix}\n",
    "\\end{align}\n",
    "\n",
    "<BR>"
   ]
  },
  {
   "cell_type": "markdown",
   "metadata": {},
   "source": [
    "# I"
   ]
  },
  {
   "cell_type": "code",
   "execution_count": 23,
   "metadata": {},
   "outputs": [
    {
     "data": {
      "text/plain": [
       "matrix([[1, 0],\n",
       "        [0, 1]])"
      ]
     },
     "execution_count": 23,
     "metadata": {},
     "output_type": "execute_result"
    }
   ],
   "source": [
    "I"
   ]
  },
  {
   "cell_type": "markdown",
   "metadata": {},
   "source": [
    "# Z"
   ]
  },
  {
   "cell_type": "code",
   "execution_count": 24,
   "metadata": {},
   "outputs": [
    {
     "data": {
      "text/plain": [
       "matrix([[ 1,  0],\n",
       "        [ 0, -1]])"
      ]
     },
     "execution_count": 24,
     "metadata": {},
     "output_type": "execute_result"
    }
   ],
   "source": [
    "Z"
   ]
  },
  {
   "cell_type": "markdown",
   "metadata": {},
   "source": [
    "# CZ"
   ]
  },
  {
   "cell_type": "code",
   "execution_count": 25,
   "metadata": {},
   "outputs": [
    {
     "data": {
      "text/plain": [
       "matrix([[matrix([[1, 0],\n",
       "                 [0, 1]]), 0],\n",
       "        [0, matrix([[ 1,  0],\n",
       "                    [ 0, -1]])]], dtype=object)"
      ]
     },
     "execution_count": 25,
     "metadata": {},
     "output_type": "execute_result"
    }
   ],
   "source": [
    "CZ = np.matrix([[I, 0],\n",
    "               [0, Z]])\n",
    "CZ"
   ]
  },
  {
   "cell_type": "markdown",
   "metadata": {},
   "source": [
    "## <font color=\"blue\">Controlled-U (CU)</font>:\n",
    "\n",
    "<BR>\n",
    "\n",
    "> - **<font color=\"red\">Reference</font>:** <a href=\"Basic Gates Provided by Qiskit.ipynb\" target=\"_blank\"><font color=\"blue\">Basic Gates Provided by Qiskit</font></a> \n",
    "\n",
    "<BR>\n",
    "\n",
    "Let $U = \\begin{pmatrix} u_{11} & u_{12} \\\\ u_{21} & u_{22} \\end{pmatrix}$ be <font color=\"red\">**any**</font> unitary matrix operator. \n",
    "\n",
    "<BR>\n",
    "\n",
    "Then we have the **following gates**:\n",
    "\n",
    "<BR>\n",
    "    \n",
    "\\begin{align}\n",
    "CU &= \\begin{pmatrix} I & 0 \\\\ 0 & U \\end{pmatrix} = \n",
    "\\begin{pmatrix} \n",
    "1 & 0 & 0 & 0 \\\\\n",
    "0 & 1 & 0 & 0 \\\\\n",
    "0 & 0 & u_{11} & u_{12} \\\\\n",
    "0 & 0 & u_{21} & u_{22}\n",
    "\\end{pmatrix}\n",
    "\\end{align}\n",
    "\n",
    "<BR>"
   ]
  },
  {
   "cell_type": "markdown",
   "metadata": {},
   "source": [
    "## <font color=\"blue\">Swap</font>:\n",
    "    \n",
    "<BR>\n",
    "\n",
    "> - **<font color=\"red\">Reference</font>:** <a href=\"Basic Gates Provided by Qiskit.ipynb\" target=\"_blank\"><font color=\"blue\">Basic Gates Provided by Qiskit</font></a> \n",
    "\n",
    "<BR>    \n",
    "    \n",
    "\\begin{align}\n",
    "\\mathbf{SWAP} = \\begin{pmatrix}\n",
    "1 & 0 & 0 & 0 \\\\\n",
    "0 & 0 & 1 & 0 \\\\\n",
    "0 & 1 & 0 & 0 \\\\\n",
    "0 & 0 & 0 & 1 \n",
    "\\end{pmatrix}\n",
    "\\end{align}\n",
    "<BR>"
   ]
  },
  {
   "cell_type": "markdown",
   "metadata": {},
   "source": [
    "## <font color=\"blue\">Toffoli Gate</font>:\n",
    "\n",
    "<BR>\n",
    "\n",
    "> - **<font color=\"red\">Reference</font>:** <a href=\"Basic Gates Provided by Qiskit.ipynb\" target=\"_blank\"><font color=\"blue\">Basic Gates Provided by Qiskit</font></a> \n",
    "\n",
    "<BR>\n",
    "\n",
    "\\begin{align}\n",
    "\\mathbf{CCX}\n",
    "= \\begin{pmatrix}\n",
    "1 & 0 & 0 & 0 & 0 & 0 & 0 & 0 \\\\\n",
    "0 & 1 & 0 & 0 & 0 & 0 & 0 & 0 \\\\\n",
    "0 & 0 & 1 & 0 & 0 & 0 & 0 & 0 \\\\\n",
    "0 & 0 & 0 & 1 & 0 & 0 & 0 & 0 \\\\\n",
    "0 & 0 & 0 & 0 & 1 & 0 & 0 & 0 \\\\\n",
    "0 & 0 & 0 & 0 & 0 & 1 & 0 & 0 \\\\\n",
    "0 & 0 & 0 & 0 & 0 & 0 & 0 & 1 \\\\\n",
    "0 & 0 & 0 & 0 & 0 & 0 & 1 & 0 \n",
    "\\end{pmatrix}\n",
    "\\end{align}\n",
    "\n",
    "<BR>"
   ]
  },
  {
   "cell_type": "code",
   "execution_count": 26,
   "metadata": {},
   "outputs": [
    {
     "data": {
      "text/plain": [
       "matrix([[1, 0, 0, 0, 0, 0, 0, 0],\n",
       "        [0, 1, 0, 0, 0, 0, 0, 0],\n",
       "        [0, 0, 1, 0, 0, 0, 0, 0],\n",
       "        [0, 0, 0, 1, 0, 0, 0, 0],\n",
       "        [0, 0, 0, 0, 1, 0, 0, 0],\n",
       "        [0, 0, 0, 0, 0, 1, 0, 0],\n",
       "        [1, 0, 0, 0, 0, 0, 0, 1],\n",
       "        [0, 0, 0, 0, 0, 0, 1, 0]])"
      ]
     },
     "execution_count": 26,
     "metadata": {},
     "output_type": "execute_result"
    }
   ],
   "source": [
    "CCX = np.matrix([\n",
    "               [1, 0, 0, 0,  0, 0, 0, 0],\n",
    "               [0, 1, 0, 0,  0, 0, 0, 0],\n",
    "               [0, 0, 1, 0,  0, 0, 0, 0],\n",
    "               [0, 0, 0, 1,  0, 0, 0, 0],\n",
    "               [0, 0, 0, 0,  1, 0, 0, 0],\n",
    "               [0, 0, 0, 0,  0, 1, 0, 0],\n",
    "               [1, 0, 0, 0,  0, 0, 0, 1],\n",
    "               [0, 0, 0, 0,  0, 0, 1, 0],\n",
    "               ])\n",
    "CCX"
   ]
  },
  {
   "cell_type": "code",
   "execution_count": null,
   "metadata": {},
   "outputs": [],
   "source": []
  },
  {
   "cell_type": "markdown",
   "metadata": {},
   "source": [
    "# <font color=\"red\">Graded Exercises</font>  for use <font color=\"blue\">with structured courses.</font>\n",
    "\n",
    "## Quantum Gates\n",
    "\n",
    "#### <font color=\"blue\">*This work will take some time, so block off enough time to adequately cover it*</font>. \n",
    "\n",
    "\n",
    "- Go through the **entire** JNB and complete each of the exercises, including any supplementary Video's - hand in completed <font color=\"red\">**PDF**</font> from this JNB once finished.\n",
    "\n",
    "\n",
    "- Step through the code for **each** of the above exercises, make sure you can (1) execute it, and (2) know what it does.\n",
    "\n",
    "\n",
    "- <font color=\"blue\">Complete Challenge Exercises below.</font> **(turn in the JNB)**"
   ]
  },
  {
   "cell_type": "markdown",
   "metadata": {},
   "source": [
    "## Exercises: Quantum Gates"
   ]
  },
  {
   "cell_type": "markdown",
   "metadata": {},
   "source": [
    "### Write Python code to compute the tensor products:\n",
    "\n",
    "0. $CX \\otimes H$\n",
    "0. $H \\otimes CZ$\n",
    "0. $H \\otimes S$\n"
   ]
  },
  {
   "cell_type": "markdown",
   "metadata": {},
   "source": [
    "### <font color=\"red\">1</font>: $CX \\otimes H$\n",
    "\n",
    "> - #### <font color=\"red\">This first one is done for you</font>. "
   ]
  },
  {
   "cell_type": "code",
   "execution_count": 27,
   "metadata": {},
   "outputs": [
    {
     "name": "stdout",
     "output_type": "stream",
     "text": [
      "[[matrix([[0.70710678, 0.        ],\n",
      "          [0.        , 0.70710678]]) matrix([[0.70710678, 0.        ],\n",
      "                                             [0.        , 0.70710678]])\n",
      "  0.0 0.0]\n",
      " [matrix([[0.70710678, 0.        ],\n",
      "          [0.        , 0.70710678]]) matrix([[-0.70710678,  0.        ],\n",
      "                                             [ 0.        , -0.70710678]])\n",
      "  0.0 -0.0]\n",
      " [0.0 0.0 matrix([[0.        , 0.70710678],\n",
      "                  [0.70710678, 0.        ]])\n",
      "  matrix([[0.        , 0.70710678],\n",
      "          [0.70710678, 0.        ]])]\n",
      " [0.0 -0.0 matrix([[0.        , 0.70710678],\n",
      "                   [0.70710678, 0.        ]])\n",
      "  matrix([[ 0.        , -0.70710678],\n",
      "          [-0.70710678,  0.        ]])]]\n"
     ]
    }
   ],
   "source": [
    "print(np.kron(CX, H))"
   ]
  },
  {
   "cell_type": "markdown",
   "metadata": {},
   "source": [
    "### <font color=\"red\">2</font>: $H \\otimes CZ$"
   ]
  },
  {
   "cell_type": "code",
   "execution_count": 28,
   "metadata": {},
   "outputs": [
    {
     "name": "stdout",
     "output_type": "stream",
     "text": [
      "[[matrix([[0.70710678, 0.        ],\n",
      "          [0.        , 0.70710678]]) 0.0\n",
      "  matrix([[0.70710678, 0.        ],\n",
      "          [0.        , 0.70710678]]) 0.0]\n",
      " [0.0 matrix([[ 0.70710678,  0.        ],\n",
      "              [ 0.        , -0.70710678]]) 0.0\n",
      "  matrix([[ 0.70710678,  0.        ],\n",
      "          [ 0.        , -0.70710678]])]\n",
      " [matrix([[0.70710678, 0.        ],\n",
      "          [0.        , 0.70710678]]) 0.0\n",
      "  matrix([[-0.70710678,  0.        ],\n",
      "          [ 0.        , -0.70710678]]) -0.0]\n",
      " [0.0 matrix([[ 0.70710678,  0.        ],\n",
      "              [ 0.        , -0.70710678]]) -0.0\n",
      "  matrix([[-0.70710678,  0.        ],\n",
      "          [ 0.        ,  0.70710678]])]]\n"
     ]
    }
   ],
   "source": [
    "print(np.kron(H, CZ))"
   ]
  },
  {
   "cell_type": "markdown",
   "metadata": {},
   "source": [
    "### <font color=\"red\">3</font>: $H \\otimes S$"
   ]
  },
  {
   "cell_type": "code",
   "execution_count": 29,
   "metadata": {},
   "outputs": [
    {
     "name": "stdout",
     "output_type": "stream",
     "text": [
      "[[ 0.70710678+0.j          0.        +0.j          0.70710678+0.j\n",
      "   0.        +0.j        ]\n",
      " [ 0.        +0.j          0.        +0.70710678j  0.        +0.j\n",
      "   0.        +0.70710678j]\n",
      " [ 0.70710678+0.j          0.        +0.j         -0.70710678+0.j\n",
      "  -0.        +0.j        ]\n",
      " [ 0.        +0.j          0.        +0.70710678j -0.        +0.j\n",
      "  -0.        -0.70710678j]]\n"
     ]
    }
   ],
   "source": [
    "print(np.kron(H, S))"
   ]
  },
  {
   "cell_type": "markdown",
   "metadata": {},
   "source": [
    "### Write Python code to compute the **basis states** as <font color=\"red\">**Column Matrices**</font>:\n",
    "\n",
    "0. $|00 \\rangle$\n",
    "0. $|01 \\rangle$\n",
    "0. $|10 \\rangle$\n",
    "0. $|11 \\rangle$\n",
    "\n"
   ]
  },
  {
   "cell_type": "markdown",
   "metadata": {},
   "source": [
    "### <font color=\"red\">4</font>: $|00 \\rangle$\n",
    "> - #### <font color=\"red\">This first one is done for you</font>. "
   ]
  },
  {
   "cell_type": "markdown",
   "metadata": {},
   "source": [
    "### <font color=\"red\">Reference</font>:\n",
    "<BR>\n",
    "<font color=\"blue\">\n",
    "    \n",
    "\\begin{align}\n",
    "\\begin{pmatrix}\n",
    "0 \\\\ 0\n",
    "\\end{pmatrix} \\otimes \n",
    "\\begin{pmatrix}\n",
    "0 \\\\ 0\n",
    "\\end{pmatrix} = \n",
    "\\begin{pmatrix}\n",
    "0 \\begin{pmatrix}\n",
    "0 \\\\ 0\n",
    "\\end{pmatrix} \\\\ 0 \\begin{pmatrix}\n",
    "0 \\\\ 0\n",
    "\\end{pmatrix}\n",
    "\\end{pmatrix} = \n",
    "\\begin{pmatrix}\n",
    "0 \\cdot 0 \\\\ 0 \\cdot 0 \\\\ 0 \\cdot 0 \\\\ 0 \\cdot 0\n",
    "\\end{pmatrix} = \n",
    "\\begin{pmatrix}\n",
    "0 \\\\ 0 \\\\ 0 \\\\ 0\n",
    "\\end{pmatrix}\n",
    "\\end{align}\n",
    "\n",
    "</font>\n",
    "<BR>"
   ]
  },
  {
   "cell_type": "code",
   "execution_count": 30,
   "metadata": {},
   "outputs": [
    {
     "data": {
      "text/plain": [
       "matrix([[0],\n",
       "        [0],\n",
       "        [0],\n",
       "        [0]])"
      ]
     },
     "execution_count": 30,
     "metadata": {},
     "output_type": "execute_result"
    }
   ],
   "source": [
    "# Define the ket-vectors as 2x1 column matrices:\n",
    "\n",
    "basis_state_0 = np.matrix([\n",
    "                           [0], \n",
    "                           [0]\n",
    "                           ])\n",
    "\n",
    "\n",
    "# Compute their Kronecker product\n",
    "\n",
    "np.kron(basis_state_0, basis_state_0)"
   ]
  },
  {
   "cell_type": "markdown",
   "metadata": {},
   "source": [
    "### <font color=\"red\">5</font>: $|01 \\rangle$"
   ]
  },
  {
   "cell_type": "code",
   "execution_count": 31,
   "metadata": {},
   "outputs": [],
   "source": [
    "basis_state_01 = np.matrix([\n",
    "                           [0], \n",
    "                           [1]\n",
    "                           ])"
   ]
  },
  {
   "cell_type": "code",
   "execution_count": 32,
   "metadata": {},
   "outputs": [
    {
     "data": {
      "text/plain": [
       "matrix([[0],\n",
       "        [0],\n",
       "        [0],\n",
       "        [1]])"
      ]
     },
     "execution_count": 32,
     "metadata": {},
     "output_type": "execute_result"
    }
   ],
   "source": [
    "np.kron(basis_state_01, basis_state_01)"
   ]
  },
  {
   "cell_type": "markdown",
   "metadata": {},
   "source": [
    "### <font color=\"red\">6</font>: $|10 \\rangle$"
   ]
  },
  {
   "cell_type": "code",
   "execution_count": 33,
   "metadata": {},
   "outputs": [],
   "source": [
    "basis_state_10 = np.matrix([\n",
    "                           [1], \n",
    "                           [0]\n",
    "                           ])"
   ]
  },
  {
   "cell_type": "code",
   "execution_count": 34,
   "metadata": {},
   "outputs": [
    {
     "data": {
      "text/plain": [
       "matrix([[1],\n",
       "        [0],\n",
       "        [0],\n",
       "        [0]])"
      ]
     },
     "execution_count": 34,
     "metadata": {},
     "output_type": "execute_result"
    }
   ],
   "source": [
    "np.kron(basis_state_10, basis_state_10)"
   ]
  },
  {
   "cell_type": "markdown",
   "metadata": {},
   "source": [
    "### <font color=\"red\">7</font>: $|11 \\rangle$"
   ]
  },
  {
   "cell_type": "code",
   "execution_count": 35,
   "metadata": {},
   "outputs": [],
   "source": [
    "basis_state_11 = np.matrix([\n",
    "                           [1], \n",
    "                           [1]\n",
    "                           ])"
   ]
  },
  {
   "cell_type": "code",
   "execution_count": 36,
   "metadata": {},
   "outputs": [
    {
     "data": {
      "text/plain": [
       "matrix([[1],\n",
       "        [1],\n",
       "        [1],\n",
       "        [1]])"
      ]
     },
     "execution_count": 36,
     "metadata": {},
     "output_type": "execute_result"
    }
   ],
   "source": [
    "np.kron(basis_state_11, basis_state_11)"
   ]
  },
  {
   "cell_type": "markdown",
   "metadata": {},
   "source": [
    "### The following defines the various basis state<font color=\"red\">(s)</font>, and the relevant <font color=\"blue\">tensor product</font><font color=\"red\">(s)</font>. \n",
    "\n",
    "\n",
    "### Compute the following <font color=\"red\">Action</font>(s) in Python: \n",
    "\n",
    "<BR>\n",
    "\n",
    "\n",
    "0. $(CX \\otimes H)|00 \\rangle$\n",
    "0. $(CX \\otimes H)|10 \\rangle$\n",
    "0. $(H \\otimes CZ)|11 \\rangle$\n",
    "0. $(H \\otimes CZ)|01 \\rangle$\n",
    "0. $(H \\otimes S)|01 \\rangle$\n",
    "\n"
   ]
  },
  {
   "cell_type": "markdown",
   "metadata": {},
   "source": [
    "### <font color=\"red\">8</font>:  $(CX \\otimes H)|00 \\rangle$\n",
    "> - #### <font color=\"red\">This first one is done for you</font>. "
   ]
  },
  {
   "cell_type": "markdown",
   "metadata": {},
   "source": [
    "#### Define the basis state  <font color=\"red\">|00></font>"
   ]
  },
  {
   "cell_type": "code",
   "execution_count": 37,
   "metadata": {},
   "outputs": [
    {
     "data": {
      "text/plain": [
       "matrix([[1],\n",
       "        [0],\n",
       "        [0],\n",
       "        [0]])"
      ]
     },
     "execution_count": 37,
     "metadata": {},
     "output_type": "execute_result"
    }
   ],
   "source": [
    "# Define the basis state |00>\n",
    "\n",
    "u = np.matrix([[1],\n",
    "               [0]])\n",
    "\n",
    "\n",
    "# Basis State \"uu\" (|00>)\n",
    "\n",
    "uu = np.kron(u,u)\n",
    "\n",
    "uu"
   ]
  },
  {
   "cell_type": "code",
   "execution_count": 38,
   "metadata": {},
   "outputs": [
    {
     "data": {
      "text/plain": [
       "(4, 1)"
      ]
     },
     "execution_count": 38,
     "metadata": {},
     "output_type": "execute_result"
    }
   ],
   "source": [
    "uu.shape"
   ]
  },
  {
   "cell_type": "markdown",
   "metadata": {},
   "source": [
    "#### Tensor Product: <font color=\"red\">$(CX \\otimes H)$</font>"
   ]
  },
  {
   "cell_type": "code",
   "execution_count": 39,
   "metadata": {},
   "outputs": [
    {
     "data": {
      "text/plain": [
       "matrix([[matrix([[0.70710678, 0.        ],\n",
       "                 [0.        , 0.70710678]]),\n",
       "         matrix([[0.70710678, 0.        ],\n",
       "                 [0.        , 0.70710678]]), 0.0, 0.0],\n",
       "        [matrix([[0.70710678, 0.        ],\n",
       "                 [0.        , 0.70710678]]),\n",
       "         matrix([[-0.70710678,  0.        ],\n",
       "                 [ 0.        , -0.70710678]]), 0.0, -0.0],\n",
       "        [0.0, 0.0, matrix([[0.        , 0.70710678],\n",
       "                           [0.70710678, 0.        ]]),\n",
       "         matrix([[0.        , 0.70710678],\n",
       "                 [0.70710678, 0.        ]])],\n",
       "        [0.0, -0.0, matrix([[0.        , 0.70710678],\n",
       "                            [0.70710678, 0.        ]]),\n",
       "         matrix([[ 0.        , -0.70710678],\n",
       "                 [-0.70710678,  0.        ]])]], dtype=object)"
      ]
     },
     "execution_count": 39,
     "metadata": {},
     "output_type": "execute_result"
    }
   ],
   "source": [
    "CXH = np.kron(CX, H)\n",
    "CXH"
   ]
  },
  {
   "cell_type": "code",
   "execution_count": 47,
   "metadata": {},
   "outputs": [
    {
     "data": {
      "text/plain": [
       "(4, 4)"
      ]
     },
     "execution_count": 47,
     "metadata": {},
     "output_type": "execute_result"
    }
   ],
   "source": [
    "CXH.shape"
   ]
  },
  {
   "cell_type": "markdown",
   "metadata": {},
   "source": [
    "####  <font color=\"red\">Action</font>: <font color=\"black\">$(CX \\otimes H)$</font><font color=\"black\">|00></font>"
   ]
  },
  {
   "cell_type": "code",
   "execution_count": 48,
   "metadata": {},
   "outputs": [
    {
     "data": {
      "text/plain": [
       "matrix([[matrix([[0.70710678, 0.        ],\n",
       "                 [0.        , 0.70710678]])],\n",
       "        [matrix([[0.70710678, 0.        ],\n",
       "                 [0.        , 0.70710678]])],\n",
       "        [matrix([[0., 0.],\n",
       "                 [0., 0.]])],\n",
       "        [matrix([[0., 0.],\n",
       "                 [0., 0.]])]], dtype=object)"
      ]
     },
     "execution_count": 48,
     "metadata": {},
     "output_type": "execute_result"
    }
   ],
   "source": [
    "CXH * uu"
   ]
  },
  {
   "cell_type": "code",
   "execution_count": null,
   "metadata": {},
   "outputs": [],
   "source": []
  },
  {
   "cell_type": "markdown",
   "metadata": {},
   "source": [
    "### <font color=\"red\">8</font>:  $(CX \\otimes H)|10 \\rangle$"
   ]
  },
  {
   "cell_type": "code",
   "execution_count": 52,
   "metadata": {},
   "outputs": [
    {
     "data": {
      "text/plain": [
       "matrix([[0],\n",
       "        [0],\n",
       "        [1],\n",
       "        [0]])"
      ]
     },
     "execution_count": 52,
     "metadata": {},
     "output_type": "execute_result"
    }
   ],
   "source": [
    "# Define the basis state |10>\n",
    "d = np.matrix([[0],\n",
    "              [1]])\n",
    "\n",
    "\n",
    "du = np.kron(d,u)\n",
    "\n",
    "du"
   ]
  },
  {
   "cell_type": "code",
   "execution_count": 50,
   "metadata": {},
   "outputs": [
    {
     "data": {
      "text/plain": [
       "matrix([[matrix([[0.70710678, 0.        ],\n",
       "                 [0.        , 0.70710678]]),\n",
       "         matrix([[0.70710678, 0.        ],\n",
       "                 [0.        , 0.70710678]]), 0.0, 0.0],\n",
       "        [matrix([[0.70710678, 0.        ],\n",
       "                 [0.        , 0.70710678]]),\n",
       "         matrix([[-0.70710678,  0.        ],\n",
       "                 [ 0.        , -0.70710678]]), 0.0, -0.0],\n",
       "        [0.0, 0.0, matrix([[0.        , 0.70710678],\n",
       "                           [0.70710678, 0.        ]]),\n",
       "         matrix([[0.        , 0.70710678],\n",
       "                 [0.70710678, 0.        ]])],\n",
       "        [0.0, -0.0, matrix([[0.        , 0.70710678],\n",
       "                            [0.70710678, 0.        ]]),\n",
       "         matrix([[ 0.        , -0.70710678],\n",
       "                 [-0.70710678,  0.        ]])]], dtype=object)"
      ]
     },
     "execution_count": 50,
     "metadata": {},
     "output_type": "execute_result"
    }
   ],
   "source": [
    "CXH = np.kron(CX, H)\n",
    "CXH"
   ]
  },
  {
   "cell_type": "code",
   "execution_count": 51,
   "metadata": {},
   "outputs": [
    {
     "data": {
      "text/plain": [
       "matrix([[matrix([[0., 0.],\n",
       "                 [0., 0.]])],\n",
       "        [matrix([[0., 0.],\n",
       "                 [0., 0.]])],\n",
       "        [matrix([[0.        , 0.70710678],\n",
       "                 [0.70710678, 0.        ]])],\n",
       "        [matrix([[0.        , 0.70710678],\n",
       "                 [0.70710678, 0.        ]])]], dtype=object)"
      ]
     },
     "execution_count": 51,
     "metadata": {},
     "output_type": "execute_result"
    }
   ],
   "source": [
    "CXH * du"
   ]
  },
  {
   "cell_type": "markdown",
   "metadata": {},
   "source": [
    "### <font color=\"red\">10</font>:  $(H \\otimes CZ)|11 \\rangle$"
   ]
  },
  {
   "cell_type": "code",
   "execution_count": 55,
   "metadata": {},
   "outputs": [
    {
     "data": {
      "text/plain": [
       "matrix([[0],\n",
       "        [0],\n",
       "        [0],\n",
       "        [1]])"
      ]
     },
     "execution_count": 55,
     "metadata": {},
     "output_type": "execute_result"
    }
   ],
   "source": [
    "dd = np.kron(d,d)\n",
    "\n",
    "dd"
   ]
  },
  {
   "cell_type": "code",
   "execution_count": 56,
   "metadata": {},
   "outputs": [
    {
     "data": {
      "text/plain": [
       "matrix([[matrix([[0.70710678, 0.        ],\n",
       "                 [0.        , 0.70710678]]), 0.0,\n",
       "         matrix([[0.70710678, 0.        ],\n",
       "                 [0.        , 0.70710678]]), 0.0],\n",
       "        [0.0, matrix([[ 0.70710678,  0.        ],\n",
       "                      [ 0.        , -0.70710678]]), 0.0,\n",
       "         matrix([[ 0.70710678,  0.        ],\n",
       "                 [ 0.        , -0.70710678]])],\n",
       "        [matrix([[0.70710678, 0.        ],\n",
       "                 [0.        , 0.70710678]]), 0.0,\n",
       "         matrix([[-0.70710678,  0.        ],\n",
       "                 [ 0.        , -0.70710678]]), -0.0],\n",
       "        [0.0, matrix([[ 0.70710678,  0.        ],\n",
       "                      [ 0.        , -0.70710678]]), -0.0,\n",
       "         matrix([[-0.70710678,  0.        ],\n",
       "                 [ 0.        ,  0.70710678]])]], dtype=object)"
      ]
     },
     "execution_count": 56,
     "metadata": {},
     "output_type": "execute_result"
    }
   ],
   "source": [
    "HCZ = np.kron(H, CZ)\n",
    "HCZ"
   ]
  },
  {
   "cell_type": "code",
   "execution_count": 57,
   "metadata": {},
   "outputs": [
    {
     "data": {
      "text/plain": [
       "matrix([[matrix([[0., 0.],\n",
       "                 [0., 0.]])],\n",
       "        [matrix([[0., 0.],\n",
       "                 [0., 0.]])],\n",
       "        [matrix([[0.        , 0.70710678],\n",
       "                 [0.70710678, 0.        ]])],\n",
       "        [matrix([[ 0.        , -0.70710678],\n",
       "                 [-0.70710678,  0.        ]])]], dtype=object)"
      ]
     },
     "execution_count": 57,
     "metadata": {},
     "output_type": "execute_result"
    }
   ],
   "source": [
    "CXH * dd"
   ]
  },
  {
   "cell_type": "markdown",
   "metadata": {},
   "source": [
    "### <font color=\"red\">11</font>:  $(H \\otimes CZ)|01 \\rangle$"
   ]
  },
  {
   "cell_type": "code",
   "execution_count": 58,
   "metadata": {},
   "outputs": [
    {
     "data": {
      "text/plain": [
       "matrix([[0],\n",
       "        [1],\n",
       "        [0],\n",
       "        [0]])"
      ]
     },
     "execution_count": 58,
     "metadata": {},
     "output_type": "execute_result"
    }
   ],
   "source": [
    "ud = np.kron(u,d)\n",
    "ud"
   ]
  },
  {
   "cell_type": "code",
   "execution_count": 59,
   "metadata": {},
   "outputs": [
    {
     "data": {
      "text/plain": [
       "matrix([[matrix([[0.70710678, 0.        ],\n",
       "                 [0.        , 0.70710678]]), 0.0,\n",
       "         matrix([[0.70710678, 0.        ],\n",
       "                 [0.        , 0.70710678]]), 0.0],\n",
       "        [0.0, matrix([[ 0.70710678,  0.        ],\n",
       "                      [ 0.        , -0.70710678]]), 0.0,\n",
       "         matrix([[ 0.70710678,  0.        ],\n",
       "                 [ 0.        , -0.70710678]])],\n",
       "        [matrix([[0.70710678, 0.        ],\n",
       "                 [0.        , 0.70710678]]), 0.0,\n",
       "         matrix([[-0.70710678,  0.        ],\n",
       "                 [ 0.        , -0.70710678]]), -0.0],\n",
       "        [0.0, matrix([[ 0.70710678,  0.        ],\n",
       "                      [ 0.        , -0.70710678]]), -0.0,\n",
       "         matrix([[-0.70710678,  0.        ],\n",
       "                 [ 0.        ,  0.70710678]])]], dtype=object)"
      ]
     },
     "execution_count": 59,
     "metadata": {},
     "output_type": "execute_result"
    }
   ],
   "source": [
    "HCZ = np.kron(H, CZ)\n",
    "HCZ"
   ]
  },
  {
   "cell_type": "code",
   "execution_count": 60,
   "metadata": {},
   "outputs": [
    {
     "data": {
      "text/plain": [
       "matrix([[matrix([[0.70710678, 0.        ],\n",
       "                 [0.        , 0.70710678]])],\n",
       "        [matrix([[-0.70710678,  0.        ],\n",
       "                 [ 0.        , -0.70710678]])],\n",
       "        [matrix([[0., 0.],\n",
       "                 [0., 0.]])],\n",
       "        [matrix([[0., 0.],\n",
       "                 [0., 0.]])]], dtype=object)"
      ]
     },
     "execution_count": 60,
     "metadata": {},
     "output_type": "execute_result"
    }
   ],
   "source": [
    "CXH * ud"
   ]
  },
  {
   "cell_type": "markdown",
   "metadata": {},
   "source": [
    "### <font color=\"red\">12</font>: $(H \\otimes S)|01 \\rangle$"
   ]
  },
  {
   "cell_type": "code",
   "execution_count": 61,
   "metadata": {},
   "outputs": [
    {
     "data": {
      "text/plain": [
       "matrix([[ 0.70710678+0.j        ,  0.        +0.j        ,\n",
       "          0.70710678+0.j        ,  0.        +0.j        ],\n",
       "        [ 0.        +0.j        ,  0.        +0.70710678j,\n",
       "          0.        +0.j        ,  0.        +0.70710678j],\n",
       "        [ 0.70710678+0.j        ,  0.        +0.j        ,\n",
       "         -0.70710678+0.j        , -0.        +0.j        ],\n",
       "        [ 0.        +0.j        ,  0.        +0.70710678j,\n",
       "         -0.        +0.j        , -0.        -0.70710678j]])"
      ]
     },
     "execution_count": 61,
     "metadata": {},
     "output_type": "execute_result"
    }
   ],
   "source": [
    "HS = np.kron(H, S)\n",
    "HS"
   ]
  },
  {
   "cell_type": "code",
   "execution_count": 62,
   "metadata": {},
   "outputs": [
    {
     "data": {
      "text/plain": [
       "matrix([[0.+0.j        ],\n",
       "        [0.+0.70710678j],\n",
       "        [0.+0.j        ],\n",
       "        [0.+0.70710678j]])"
      ]
     },
     "execution_count": 62,
     "metadata": {},
     "output_type": "execute_result"
    }
   ],
   "source": [
    "HS * ud"
   ]
  },
  {
   "cell_type": "markdown",
   "metadata": {},
   "source": [
    "### Write Python code for the <font color=\"blue\">column matrix basis states</font>:\n",
    "\n",
    "0. $|001 \\rangle$\n",
    "0. $|101 \\rangle$\n",
    "\n"
   ]
  },
  {
   "cell_type": "markdown",
   "metadata": {},
   "source": [
    "### <font color=\"red\">13</font>: $|001 \\rangle$\n",
    "> - #### <font color=\"red\">This first one is done for you</font>. "
   ]
  },
  {
   "cell_type": "code",
   "execution_count": 42,
   "metadata": {},
   "outputs": [
    {
     "data": {
      "text/plain": [
       "matrix([[0],\n",
       "        [1],\n",
       "        [0],\n",
       "        [0],\n",
       "        [0],\n",
       "        [0],\n",
       "        [0],\n",
       "        [0]])"
      ]
     },
     "execution_count": 42,
     "metadata": {},
     "output_type": "execute_result"
    }
   ],
   "source": [
    "# Define the basis state |001>\n",
    "\n",
    "u = np.matrix([[1],\n",
    "               [0]])\n",
    "\n",
    "d = np.matrix([[0],\n",
    "               [1]])\n",
    "\n",
    "\n",
    "# Basis State \"udu\" (|001>)\n",
    "\n",
    "uud = np.kron(np.kron(u,u),d)\n",
    "\n",
    "uud"
   ]
  },
  {
   "cell_type": "markdown",
   "metadata": {},
   "source": [
    "### <font color=\"red\">13</font>: $|101 \\rangle$"
   ]
  },
  {
   "cell_type": "code",
   "execution_count": 63,
   "metadata": {},
   "outputs": [
    {
     "data": {
      "text/plain": [
       "matrix([[0],\n",
       "        [0],\n",
       "        [0],\n",
       "        [0],\n",
       "        [0],\n",
       "        [1],\n",
       "        [0],\n",
       "        [0]])"
      ]
     },
     "execution_count": 63,
     "metadata": {},
     "output_type": "execute_result"
    }
   ],
   "source": [
    "dud = np.kron(np.kron(d,u),d)\n",
    "\n",
    "dud"
   ]
  },
  {
   "cell_type": "markdown",
   "metadata": {},
   "source": [
    "### Write Python code to compute:\n",
    "\n",
    "0. $CCX|001 \\rangle$\n",
    "0. $CCX|101 \\rangle$"
   ]
  },
  {
   "cell_type": "markdown",
   "metadata": {},
   "source": [
    "### <font color=\"red\">14</font>: $CCX|001 \\rangle$\n",
    "> - #### <font color=\"red\">This first one is done for you</font>. "
   ]
  },
  {
   "cell_type": "markdown",
   "metadata": {},
   "source": [
    "#### Use the basis state  <font color=\"red\">|001></font> from above \"uud\""
   ]
  },
  {
   "cell_type": "code",
   "execution_count": 43,
   "metadata": {},
   "outputs": [
    {
     "data": {
      "text/plain": [
       "matrix([[0],\n",
       "        [1],\n",
       "        [0],\n",
       "        [0],\n",
       "        [0],\n",
       "        [0],\n",
       "        [0],\n",
       "        [0]])"
      ]
     },
     "execution_count": 43,
     "metadata": {},
     "output_type": "execute_result"
    }
   ],
   "source": [
    "uud"
   ]
  },
  {
   "cell_type": "markdown",
   "metadata": {},
   "source": [
    "#### Use the   <font color=\"red\">CCX Gate</font> from above"
   ]
  },
  {
   "cell_type": "code",
   "execution_count": 44,
   "metadata": {},
   "outputs": [
    {
     "data": {
      "text/plain": [
       "matrix([[1, 0, 0, 0, 0, 0, 0, 0],\n",
       "        [0, 1, 0, 0, 0, 0, 0, 0],\n",
       "        [0, 0, 1, 0, 0, 0, 0, 0],\n",
       "        [0, 0, 0, 1, 0, 0, 0, 0],\n",
       "        [0, 0, 0, 0, 1, 0, 0, 0],\n",
       "        [0, 0, 0, 0, 0, 1, 0, 0],\n",
       "        [1, 0, 0, 0, 0, 0, 0, 1],\n",
       "        [0, 0, 0, 0, 0, 0, 1, 0]])"
      ]
     },
     "execution_count": 44,
     "metadata": {},
     "output_type": "execute_result"
    }
   ],
   "source": [
    "CCX"
   ]
  },
  {
   "cell_type": "markdown",
   "metadata": {},
   "source": [
    "####  <font color=\"red\">Action</font>: <font color=\"black\">$CCX|001 \\rangle$</font>"
   ]
  },
  {
   "cell_type": "code",
   "execution_count": 45,
   "metadata": {},
   "outputs": [
    {
     "data": {
      "text/plain": [
       "matrix([[0],\n",
       "        [1],\n",
       "        [0],\n",
       "        [0],\n",
       "        [0],\n",
       "        [0],\n",
       "        [0],\n",
       "        [0]])"
      ]
     },
     "execution_count": 45,
     "metadata": {},
     "output_type": "execute_result"
    }
   ],
   "source": [
    "CCX * uud"
   ]
  },
  {
   "cell_type": "markdown",
   "metadata": {},
   "source": [
    "### <font color=\"red\">15</font>: $CCX|101 \\rangle$"
   ]
  },
  {
   "cell_type": "code",
   "execution_count": 64,
   "metadata": {},
   "outputs": [
    {
     "data": {
      "text/plain": [
       "matrix([[0],\n",
       "        [0],\n",
       "        [0],\n",
       "        [0],\n",
       "        [0],\n",
       "        [1],\n",
       "        [0],\n",
       "        [0]])"
      ]
     },
     "execution_count": 64,
     "metadata": {},
     "output_type": "execute_result"
    }
   ],
   "source": [
    "CCX * dud"
   ]
  },
  {
   "cell_type": "markdown",
   "metadata": {},
   "source": [
    "![the-end](img/the-end.png \"the-end\")"
   ]
  }
 ],
 "metadata": {
  "kernelspec": {
   "display_name": "Python 3 (ipykernel)",
   "language": "python",
   "name": "python3"
  },
  "language_info": {
   "codemirror_mode": {
    "name": "ipython",
    "version": 3
   },
   "file_extension": ".py",
   "mimetype": "text/x-python",
   "name": "python",
   "nbconvert_exporter": "python",
   "pygments_lexer": "ipython3",
   "version": "3.9.0"
  },
  "toc": {
   "base_numbering": 1,
   "nav_menu": {},
   "number_sections": true,
   "sideBar": true,
   "skip_h1_title": false,
   "title_cell": "Table of Contents",
   "title_sidebar": "Contents",
   "toc_cell": false,
   "toc_position": {},
   "toc_section_display": true,
   "toc_window_display": false
  }
 },
 "nbformat": 4,
 "nbformat_minor": 4
}
