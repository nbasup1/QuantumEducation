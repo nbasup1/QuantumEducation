{
 "cells": [
  {
   "cell_type": "markdown",
   "metadata": {},
   "source": [
    "# Preparing Basis States in PennyLane\n",
    "\n",
    "\n",
    "- #### Hands-on Experiential Learning <font color=\"red\">for the Software Engineer</font>"
   ]
  },
  {
   "cell_type": "markdown",
   "metadata": {},
   "source": [
    "![](img/QC_Math_Banner.png \"\")\n",
    "\n",
    "<font color=\"red\">**Notice**</font>: All materials herein were <font color=\"red\">**curated**</font> by **Matthew R. Versaggi (profversaggi@gmail.com)** and are released into the open source to foster growth and welfare of expanding the Quantum Computing domain - the only obligation one incurs when using, copying, distributing or referencing this is to kindly reference the author and send me an email so I know how useful the material is to you.\n",
    "\n",
    "#### <font color=\"red\">Recommendations</font>: \n",
    "\n",
    "> **<font color=\"blue\">It's highly recommended to take structured QC Math courses <font color=\"red\">like</font>:</font>**\n",
    "> #### Math Prerequisites for Quantum Computing\n",
    "> - https://www.udemy.com/course/mathematics-prerequisites-for-quantum-computing-and-quantum-physics/\n",
    "\n",
    "> #### Advanced Math for Quantum Computing\n",
    "> - https://www.udemy.com/course/qc201-advanced-math-for-quantum-computing-mathematics-physics/\n",
    "\n",
    "\n",
    "\n",
    "#### <font color=\"red\">Materials Inspiration and Author(s)</font>: \n",
    "\n",
    "> **<font color=\"blue\">Amelie Schreiber</font>**\n",
    "- Article: https://towardsdatascience.com/quantum-computing-for-the-newb-5e0737e3ca4\n",
    "- Course: https://the-singularity-research.github.io/linear_algebra_for_quantum_computing/\n",
    "- GitHub: https://github.com/The-Singularity-Research/linear_algebra_for_quantum_computing\n",
    "\n",
    "> **<font color=\"blue\">QWorld</font>**\n",
    "- Site: https://qworld.lu.lv/\n",
    "- GitLab: https://gitlab.com/qkitchen/basics-of-quantum-computing"
   ]
  },
  {
   "cell_type": "markdown",
   "metadata": {},
   "source": [
    "## Importing PennyLane and the wrapped version of NumPy\n",
    "\n",
    "#### PennyLane is an open source software for <font color=\"blue\">quantum machine learning</font> and <font color=\"blue\">quantum computing algorithms</font>. \n",
    "\n",
    "- It integrates standard machine learning software and tools, such as TensorFlow and Pytorch, with quantum computing software like IBM's Qiskit, Microsoft's Q#, and Google's Cirq. \n",
    "\n",
    "- It also has its own built in functions and models, and allows various hardware backends such as the quantum computers available from IBM via free cloud access. \n",
    "\n",
    "- PennyLane has a **wrapped version of NumPy** that we import rather than the standard NumPy we have been using. "
   ]
  },
  {
   "cell_type": "code",
   "execution_count": 4,
   "metadata": {},
   "outputs": [],
   "source": [
    "# pip install pennylane"
   ]
  },
  {
   "cell_type": "code",
   "execution_count": 1,
   "metadata": {},
   "outputs": [],
   "source": [
    "import pennylane as qml\n",
    "from pennylane import numpy as np"
   ]
  },
  {
   "cell_type": "markdown",
   "metadata": {},
   "source": [
    "### <font color=\"red\">**Why this is important**</font>: \n",
    "\n",
    "## <font color=\"blue\">Basis States</font>\n",
    "\n",
    "\n",
    "#### In PennyLane, and other quantum computing software, we often want to prepare basis states. \n",
    "\n",
    "This is something we will return to again in the future when we study specific cases of quantum circuits, but having some basic introduction to state preparation now seems appropriate since **they are simply tensor products of the basis states <font color=\"blue\">UP</font>: <font color=\"red\">$|0\\rangle$</font> and <font color=\"blue\">DOWN</font>: <font color=\"red\">$|1\\rangle$</font>**. \n",
    "\n",
    "> In particular, we can prepare states like\n",
    "\n",
    "<BR>\n",
    "<font color=\"blue\">\n",
    "\n",
    "\\begin{align}\n",
    "|00 \\rangle &= |0\\rangle \\otimes |0\\rangle = \\begin{pmatrix} 1\\\\0 \\end{pmatrix} \\otimes \\begin{pmatrix} 1\\\\0 \\end{pmatrix} = \\begin{pmatrix} 1\\\\0\\\\0\\\\0 \\end{pmatrix} \\\\\n",
    "|01 \\rangle &= |0\\rangle \\otimes |1\\rangle = \\begin{pmatrix} 1\\\\0 \\end{pmatrix} \\otimes \\begin{pmatrix} 0\\\\1 \\end{pmatrix} = \\begin{pmatrix} 0\\\\1\\\\0\\\\0 \\end{pmatrix} \\\\\n",
    "|10 \\rangle &= |1\\rangle \\otimes |0\\rangle = \\begin{pmatrix} 0\\\\1 \\end{pmatrix} \\otimes \\begin{pmatrix} 1\\\\0 \\end{pmatrix} = \\begin{pmatrix} 0\\\\0\\\\1\\\\0 \\end{pmatrix} \\\\\n",
    "|11 \\rangle &= |1\\rangle \\otimes |1\\rangle = \\begin{pmatrix} 0\\\\1 \\end{pmatrix} \\otimes \\begin{pmatrix} 0\\\\1 \\end{pmatrix} = \\begin{pmatrix} 0\\\\0\\\\0\\\\1 \\end{pmatrix}\n",
    "\\end{align}\n",
    "\n",
    "</font>\n",
    "\n",
    "<BR>"
   ]
  },
  {
   "cell_type": "markdown",
   "metadata": {},
   "source": [
    "#### Define Spin-UP and Spin-DOWN in Python"
   ]
  },
  {
   "cell_type": "code",
   "execution_count": 2,
   "metadata": {},
   "outputs": [],
   "source": [
    "# Define single qubit states spin-up and spin-down\n",
    "\n",
    "# spin-up\n",
    "u = np.matrix([[1],\n",
    "               [0]])\n",
    "\n",
    "# spin-down\n",
    "d = np.matrix([[0],\n",
    "               [1]])\n",
    "\n",
    "# Define the basis states:\n",
    "uu = np.kron(u, u)\n",
    "ud = np.kron(u, d)\n",
    "du = np.kron(d, u)\n",
    "dd = np.kron(d, d)"
   ]
  },
  {
   "cell_type": "markdown",
   "metadata": {},
   "source": [
    "#### UP / UP"
   ]
  },
  {
   "cell_type": "code",
   "execution_count": 3,
   "metadata": {},
   "outputs": [
    {
     "name": "stdout",
     "output_type": "stream",
     "text": [
      "|00> =\n",
      "[[1]\n",
      " [0]\n",
      " [0]\n",
      " [0]]\n"
     ]
    }
   ],
   "source": [
    "print('|00> =')\n",
    "print(uu)"
   ]
  },
  {
   "cell_type": "markdown",
   "metadata": {},
   "source": [
    "#### UP / DOWN"
   ]
  },
  {
   "cell_type": "code",
   "execution_count": 4,
   "metadata": {},
   "outputs": [
    {
     "name": "stdout",
     "output_type": "stream",
     "text": [
      "|01> =\n",
      "[[0]\n",
      " [1]\n",
      " [0]\n",
      " [0]]\n"
     ]
    }
   ],
   "source": [
    "print('|01> =')\n",
    "print(ud)"
   ]
  },
  {
   "cell_type": "markdown",
   "metadata": {},
   "source": [
    "#### DOWN / UP"
   ]
  },
  {
   "cell_type": "code",
   "execution_count": 5,
   "metadata": {},
   "outputs": [
    {
     "name": "stdout",
     "output_type": "stream",
     "text": [
      "|10> =\n",
      "[[0]\n",
      " [0]\n",
      " [1]\n",
      " [0]]\n"
     ]
    }
   ],
   "source": [
    "print('|10> =')\n",
    "print(du)"
   ]
  },
  {
   "cell_type": "markdown",
   "metadata": {},
   "source": [
    "#### DOWN / DOWN"
   ]
  },
  {
   "cell_type": "code",
   "execution_count": 6,
   "metadata": {},
   "outputs": [
    {
     "name": "stdout",
     "output_type": "stream",
     "text": [
      "|11> =\n",
      "[[0]\n",
      " [0]\n",
      " [0]\n",
      " [1]]\n"
     ]
    }
   ],
   "source": [
    "print('|11> =')\n",
    "print(dd)"
   ]
  },
  {
   "cell_type": "markdown",
   "metadata": {},
   "source": [
    "### Maturing this <font color=\"red\">further</font>, we can define states like:\n",
    "<BR>\n",
    "<font color=\"blue\">\n",
    "    \n",
    "\\begin{align}\n",
    "|000\\rangle = |0\\rangle \\otimes |0\\rangle \\otimes |0\\rangle = \\begin{pmatrix} 1\\\\0\\\\0\\\\0\\\\0\\\\0\\\\0\\\\0 \\end{pmatrix}\n",
    "\\end{align}\n",
    "\n",
    "\\begin{align}\n",
    "|010\\rangle = |0\\rangle \\otimes |1\\rangle \\otimes |0\\rangle = \\begin{pmatrix} 0\\\\0\\\\1\\\\0\\\\0\\\\0\\\\0\\\\0 \\end{pmatrix}\n",
    "\\end{align}\n",
    "\n",
    "</font>\n",
    "\n",
    "<BR>"
   ]
  },
  {
   "cell_type": "code",
   "execution_count": null,
   "metadata": {},
   "outputs": [],
   "source": []
  },
  {
   "cell_type": "markdown",
   "metadata": {},
   "source": [
    "### In PennyLane the following code defines a device (quantum computer or simulator) on which to run code. \n",
    "\n",
    "- We will use the **default simulator** for now since the code is very simple and running it on an actual quantum computer is unnecessary. \n",
    "\n",
    "- The **number of wires is equal to the number of qubits** we are using. \n",
    "\n",
    "- The number of **shots is the number of times** we want to run the circuit."
   ]
  },
  {
   "cell_type": "code",
   "execution_count": 7,
   "metadata": {},
   "outputs": [],
   "source": [
    "dev = qml.device(\"default.qubit\", wires=2, shots=1)"
   ]
  },
  {
   "cell_type": "markdown",
   "metadata": {},
   "source": [
    "#### Now we can define an array that corresponds to the basis state UP : UP  - <font color=\"red\">$|00\\rangle$</font>:"
   ]
  },
  {
   "cell_type": "code",
   "execution_count": 8,
   "metadata": {},
   "outputs": [],
   "source": [
    "uu = np.array([0, 0])"
   ]
  },
  {
   "cell_type": "markdown",
   "metadata": {},
   "source": [
    "####  We can define a function `circuit()` that defines a quantum (<font color=\"red\">Pauli_Z</font>) circuit. \n",
    "\n",
    "---\n",
    "## ( <font color=\"red\">Z</font> )\n",
    "\n",
    "<BR>\n",
    "<font color=\"blue\" size=4>\n",
    "    \n",
    "$$\n",
    "\\begin{bmatrix} \n",
    "1 & 0\\\\ \n",
    "0 & -1\n",
    "\\end{bmatrix}\n",
    "$$\n",
    "\n",
    "</font>\n",
    "<BR>\n",
    "    \n",
    "    \n",
    "The effect of this gate leaves a qubit's |0$\\rangle$ amplitude unchanged, while multiplying by -1 (phase) to a qubit's |1$\\rangle$ amplitude.  The power of this gate comes from the fact that it only affects the |$1\\rangle$ component, which will be frequently used for picking out certain states in the system while leaving others unaltered.\n",
    "\n",
    "<BR><BR>"
   ]
  },
  {
   "cell_type": "code",
   "execution_count": 9,
   "metadata": {},
   "outputs": [],
   "source": [
    "def circuit():\n",
    "    qml.BasisState(uu, wires=[0, 1])\n",
    "    return qml.sample(qml.PauliZ(0)), qml.sample(qml.PauliZ(1))"
   ]
  },
  {
   "cell_type": "markdown",
   "metadata": {},
   "source": [
    "#### Now, we define a `qnode` class that <font color=\"red\">runs</font> on the device we have defined and samples the qubits and gives a $+1$ for spin-up and a $-1$ for spin down. \n",
    "\n",
    "> This runs a quantum function (circuit) that we have just defined. "
   ]
  },
  {
   "cell_type": "code",
   "execution_count": 10,
   "metadata": {},
   "outputs": [
    {
     "name": "stdout",
     "output_type": "stream",
     "text": [
      "[[1]\n",
      " [1]]\n"
     ]
    }
   ],
   "source": [
    "@qml.qnode(dev)\n",
    "def circuit():\n",
    "    qml.BasisState(uu, wires=[0, 1])\n",
    "    return qml.sample(qml.PauliZ(0)), qml.sample(qml.PauliZ(1))\n",
    "\n",
    "print(circuit())"
   ]
  },
  {
   "cell_type": "markdown",
   "metadata": {},
   "source": [
    "#### Since qubits are by default in the spin-up state for any quantum circuit, and since we did not prepare any special initial state or perform any operations on the qubits, we get an expectation value of $+1$ for both when sampling the circuit. \n",
    "- <font color=\"red\">NOTE</font>: The vector above show a $+1$ in the first and second entry <font color=\"blue\">meaning it is measuring two spin-up states</font>. \n",
    "> - UP : UP  <font color=\"red\">$|00\\rangle$</font>:\n",
    "\n",
    "\n",
    "> #### Let's define a new state to prepare corresponding to UP : DOWN  - <font color=\"red\">$|01 \\rangle$</font>:"
   ]
  },
  {
   "cell_type": "code",
   "execution_count": 11,
   "metadata": {},
   "outputs": [],
   "source": [
    "ud = np.array([0,1])"
   ]
  },
  {
   "cell_type": "markdown",
   "metadata": {},
   "source": [
    "Next, let's define a new `qnode` to sample corresponding to this prepared state:"
   ]
  },
  {
   "cell_type": "code",
   "execution_count": 12,
   "metadata": {},
   "outputs": [
    {
     "name": "stdout",
     "output_type": "stream",
     "text": [
      "[[ 1]\n",
      " [-1]]\n"
     ]
    }
   ],
   "source": [
    "@qml.qnode(dev)\n",
    "def circuit():\n",
    "    qml.BasisState(ud, wires=[0, 1])\n",
    "    return qml.sample(qml.PauliZ(0)), qml.sample(qml.PauliZ(1))\n",
    "\n",
    "print(circuit())"
   ]
  },
  {
   "cell_type": "markdown",
   "metadata": {},
   "source": [
    "#### As we can see, we get a $+1$ in the first component, corresponding to the spin-up state, and we get a $-1$ in the second component corresponding to the spin-down state. \n",
    "\n",
    "- We can also tell PennyLane to perform **multiple \"shots\" or samples** by defining a new device:"
   ]
  },
  {
   "cell_type": "code",
   "execution_count": 13,
   "metadata": {},
   "outputs": [],
   "source": [
    "dev2 = qml.device(\"default.qubit\", wires=2, shots=10)"
   ]
  },
  {
   "cell_type": "code",
   "execution_count": 14,
   "metadata": {},
   "outputs": [
    {
     "name": "stdout",
     "output_type": "stream",
     "text": [
      "[[ 1  1  1  1  1  1  1  1  1  1]\n",
      " [-1 -1 -1 -1 -1 -1 -1 -1 -1 -1]]\n"
     ]
    }
   ],
   "source": [
    "@qml.qnode(dev2)\n",
    "def circuit():\n",
    "    qml.BasisState(ud, wires=[0, 1])\n",
    "    return qml.sample(qml.PauliZ(0)), qml.sample(qml.PauliZ(1))\n",
    "\n",
    "print(circuit())"
   ]
  },
  {
   "cell_type": "markdown",
   "metadata": {},
   "source": [
    "This gives us **10 output samples** instead of just one. \n",
    "\n",
    "- If we define a new array corresponding to the state $|11\\rangle$,"
   ]
  },
  {
   "cell_type": "code",
   "execution_count": 15,
   "metadata": {},
   "outputs": [],
   "source": [
    "dd = np.array([1,1])"
   ]
  },
  {
   "cell_type": "markdown",
   "metadata": {},
   "source": [
    "We can define a new **'qnode'** with the new device we just defined, and we should expect an output vector of \n",
    "\n",
    "<BR>\n",
    "<font color=\"blue\">\n",
    "    \n",
    "\\begin{align}\n",
    "\\begin{pmatrix}\n",
    "-1\\\\-1\n",
    "\\end{pmatrix}\n",
    "\\end{align}\n",
    "\n",
    "</font>\n",
    "<BR>\n",
    "\n",
    "**ten times**, corresponding to the **ten samples**:"
   ]
  },
  {
   "cell_type": "code",
   "execution_count": 16,
   "metadata": {},
   "outputs": [
    {
     "name": "stdout",
     "output_type": "stream",
     "text": [
      "[[-1 -1 -1 -1 -1 -1 -1 -1 -1 -1]\n",
      " [-1 -1 -1 -1 -1 -1 -1 -1 -1 -1]]\n"
     ]
    }
   ],
   "source": [
    "@qml.qnode(dev2)\n",
    "def circuit():\n",
    "    qml.BasisState(dd, wires=[0, 1])\n",
    "    return qml.sample(qml.PauliZ(0)), qml.sample(qml.PauliZ(1))\n",
    "\n",
    "print(circuit())"
   ]
  },
  {
   "cell_type": "markdown",
   "metadata": {},
   "source": [
    "We will return to this when we discuss **measurements** and **expectation** values. "
   ]
  },
  {
   "cell_type": "code",
   "execution_count": null,
   "metadata": {},
   "outputs": [],
   "source": []
  },
  {
   "cell_type": "markdown",
   "metadata": {},
   "source": [
    "# <font color=\"red\">Graded Exercises</font>  for use <font color=\"blue\">with structured courses.</font>\n",
    "\n",
    "## Preparing Basis States\n",
    "\n",
    "#### <font color=\"blue\">*This work will take some time, so block off enough time to adequately cover it*</font>. \n",
    "\n",
    "\n",
    "- Go through the **entire** JNB and complete each of the exercises, including any supplementary Video's - hand in completed <font color=\"red\">**PDF**</font> from this JNB once finished.\n",
    "\n",
    "\n",
    "- Step through the code for **each** of the above exercises, make sure you can (1) execute it, and (2) know what it does.\n",
    "\n",
    "\n",
    "- <font color=\"blue\">Complete Challenge Exercises below.</font> **(turn in the JNB)**"
   ]
  },
  {
   "cell_type": "markdown",
   "metadata": {},
   "source": [
    "## Exercises: Preparing Basis States\n",
    "\n",
    "### Write (Python/ Pennylane) code to compute the following basis states  (1- 8 below):\n",
    "\n",
    "<BR>\n",
    "<font color=\"blue\">\n",
    "    \n",
    "1. $|000 \\rangle$\n",
    "2. $|001 \\rangle$\n",
    "3. $|010 \\rangle$\n",
    "4. $|011 \\rangle$\n",
    "5. $|100 \\rangle$\n",
    "6. $|101 \\rangle$\n",
    "7. $|110 \\rangle$\n",
    "8. $|111 \\rangle$\n",
    "\n",
    "</font>\n",
    "<BR>\n",
    "    \n",
    "    \n",
    "\n",
    "### <font color=\"red\">Optional</font>: Compute these by hand (<font color=\"blue\">don't hand in</font>) to spot check that your code is working correctly. \n",
    "\n",
    "> **For example**: the first computation will be\n",
    "\n",
    "\\begin{align}\n",
    "\\begin{pmatrix} 1\\\\0 \\end{pmatrix} \\otimes\n",
    "\\begin{pmatrix} 1\\\\0 \\end{pmatrix} \\otimes\n",
    "\\begin{pmatrix} 0\\\\1 \\end{pmatrix}\n",
    "\\end{align}"
   ]
  },
  {
   "cell_type": "markdown",
   "metadata": {},
   "source": [
    "### <font color=\"red\">1</font>: $|000 \\rangle$\n",
    "\n",
    "### <font color=\"red\">This first one is done for you</font>.\n",
    "\n",
    "<BR>\n",
    "<font color=\"blue\">\n",
    "    \n",
    "\\begin{align}\n",
    "|000\\rangle = |0\\rangle \\otimes |0\\rangle \\otimes |0\\rangle = \\begin{pmatrix} 1\\\\0\\\\0\\\\0\\\\0\\\\0\\\\0\\\\0 \\end{pmatrix}\n",
    "\\end{align}\n",
    "\n",
    "</font>\n",
    "\n",
    "<BR>"
   ]
  },
  {
   "cell_type": "markdown",
   "metadata": {},
   "source": [
    "> - **(a):** Define a **Quantum Device**"
   ]
  },
  {
   "cell_type": "code",
   "execution_count": 18,
   "metadata": {},
   "outputs": [
    {
     "data": {
      "text/plain": [
       "<DefaultQubit device (wires=3, shots=1) at 0x7f9988b59430>"
      ]
     },
     "execution_count": 18,
     "metadata": {},
     "output_type": "execute_result"
    }
   ],
   "source": [
    "dev_pbm_1 = qml.device(\"default.qubit\", wires=3, shots=1)\n",
    "dev_pbm_1"
   ]
  },
  {
   "cell_type": "markdown",
   "metadata": {},
   "source": [
    "> - **(b):** Define an array that corresponds to the basis state (**uuu**) <font color=\"red\">$|000\\rangle$</font>:\n"
   ]
  },
  {
   "cell_type": "code",
   "execution_count": 19,
   "metadata": {},
   "outputs": [
    {
     "data": {
      "text/plain": [
       "tensor([0, 0, 0], requires_grad=True)"
      ]
     },
     "execution_count": 19,
     "metadata": {},
     "output_type": "execute_result"
    }
   ],
   "source": [
    "uuu = np.array([0, 0, 0])\n",
    "uuu"
   ]
  },
  {
   "cell_type": "markdown",
   "metadata": {},
   "source": [
    "> - **(c):** Define the **function** **`circuit()`** that defines a quantum (**<font color=\"red\">Pauli_Z</font>**) circuit. "
   ]
  },
  {
   "cell_type": "code",
   "execution_count": 20,
   "metadata": {},
   "outputs": [],
   "source": [
    "def circuit():\n",
    "    qml.BasisState(uuu, wires=[0, 1, 2])\n",
    "    return qml.sample(qml.PauliZ(0)), qml.sample(qml.PauliZ(1)), qml.sample(qml.PauliZ(2))"
   ]
  },
  {
   "cell_type": "markdown",
   "metadata": {},
   "source": [
    "> - **(d):** **Define** and **Run** a **`qnode`** class that **<font color=\"red\">runs</font>** on the device we have defined and samples the qubits and gives a **<font color=\"blue\">($+1$) for spin-up</font>** and a **<font color=\"blue\">($-1$) for spin down</font>**. \n",
    ">> -  **Analyse** the results. \n"
   ]
  },
  {
   "cell_type": "code",
   "execution_count": 21,
   "metadata": {},
   "outputs": [
    {
     "name": "stdout",
     "output_type": "stream",
     "text": [
      "\n",
      " Circuit Run Results: \n",
      "\n",
      " [[1]\n",
      " [1]\n",
      " [1]]\n"
     ]
    }
   ],
   "source": [
    "@qml.qnode(dev_pbm_1)\n",
    "def circuit():\n",
    "    qml.BasisState(uuu, wires=[0, 1, 2])\n",
    "    return qml.sample(qml.PauliZ(0)), qml.sample(qml.PauliZ(1)), qml.sample(qml.PauliZ(2))\n",
    "\n",
    "print(\"\\n Circuit Run Results: \\n\\n\", circuit())"
   ]
  },
  {
   "cell_type": "markdown",
   "metadata": {},
   "source": [
    "#### **<font color=\"red\">ANALYSIS</font>**: \n",
    "\n",
    "> Since qubits are by default in the spin-up state for <font color=\"red\">any</font> quantum circuit, and since we did not prepare any special initial state or perform any operations on the qubits, **we get an expectation value of ($+1$) when sampling the circuit**. \n",
    "\n",
    "- The vector above show a $+1$ in the **first, second,** and **third** entry <font color=\"blue\">meaning it is measuring</font> <font color=\"red\">**three**</font> **Spin-UP** states. "
   ]
  },
  {
   "cell_type": "markdown",
   "metadata": {},
   "source": [
    "### <font color=\"red\">2</font>: $|001 \\rangle$"
   ]
  },
  {
   "cell_type": "code",
   "execution_count": 24,
   "metadata": {},
   "outputs": [
    {
     "name": "stdout",
     "output_type": "stream",
     "text": [
      "\n",
      " Circuit Run Results: \n",
      "\n",
      " [[ 1]\n",
      " [ 1]\n",
      " [-1]]\n"
     ]
    }
   ],
   "source": [
    "uud = np.array([0, 0, 1])\n",
    "uud\n",
    "\n",
    "def circuit():\n",
    "    qml.BasisState(uud, wires=[0, 1, 2])\n",
    "    return qml.sample(qml.PauliZ(0)), qml.sample(qml.PauliZ(1)), qml.sample(qml.PauliZ(2))\n",
    "\n",
    "@qml.qnode(dev_pbm_1)\n",
    "def circuit():\n",
    "    qml.BasisState(uud, wires=[0, 1, 2])\n",
    "    return qml.sample(qml.PauliZ(0)), qml.sample(qml.PauliZ(1)), qml.sample(qml.PauliZ(2))\n",
    "\n",
    "print(\"\\n Circuit Run Results: \\n\\n\", circuit())"
   ]
  },
  {
   "cell_type": "markdown",
   "metadata": {},
   "source": [
    "### <font color=\"red\">3</font>: $|010 \\rangle$"
   ]
  },
  {
   "cell_type": "code",
   "execution_count": 26,
   "metadata": {},
   "outputs": [
    {
     "name": "stdout",
     "output_type": "stream",
     "text": [
      "\n",
      " Circuit Run Results: \n",
      "\n",
      " [[ 1]\n",
      " [-1]\n",
      " [ 1]]\n"
     ]
    }
   ],
   "source": [
    "udu = np.array([0, 1, 0])\n",
    "udu\n",
    "\n",
    "def circuit():\n",
    "    qml.BasisState(udu, wires=[0, 1, 2])\n",
    "    return qml.sample(qml.PauliZ(0)), qml.sample(qml.PauliZ(1)), qml.sample(qml.PauliZ(2))\n",
    "\n",
    "@qml.qnode(dev_pbm_1)\n",
    "def circuit():\n",
    "    qml.BasisState(udu, wires=[0, 1, 2])\n",
    "    return qml.sample(qml.PauliZ(0)), qml.sample(qml.PauliZ(1)), qml.sample(qml.PauliZ(2))\n",
    "\n",
    "print(\"\\n Circuit Run Results: \\n\\n\", circuit())"
   ]
  },
  {
   "cell_type": "markdown",
   "metadata": {},
   "source": [
    "### <font color=\"red\">4</font>: $|011 \\rangle$"
   ]
  },
  {
   "cell_type": "code",
   "execution_count": 28,
   "metadata": {},
   "outputs": [
    {
     "name": "stdout",
     "output_type": "stream",
     "text": [
      "\n",
      " Circuit Run Results: \n",
      "\n",
      " [[ 1]\n",
      " [-1]\n",
      " [-1]]\n"
     ]
    }
   ],
   "source": [
    "udd = np.array([0, 1, 1])\n",
    "udd\n",
    "\n",
    "def circuit():\n",
    "    qml.BasisState(udd, wires=[0, 1, 2])\n",
    "    return qml.sample(qml.PauliZ(0)), qml.sample(qml.PauliZ(1)), qml.sample(qml.PauliZ(2))\n",
    "\n",
    "@qml.qnode(dev_pbm_1)\n",
    "def circuit():\n",
    "    qml.BasisState(udd, wires=[0, 1, 2])\n",
    "    return qml.sample(qml.PauliZ(0)), qml.sample(qml.PauliZ(1)), qml.sample(qml.PauliZ(2))\n",
    "\n",
    "print(\"\\n Circuit Run Results: \\n\\n\", circuit())"
   ]
  },
  {
   "cell_type": "markdown",
   "metadata": {},
   "source": [
    "### <font color=\"red\">5</font>: $|100 \\rangle$"
   ]
  },
  {
   "cell_type": "code",
   "execution_count": 30,
   "metadata": {},
   "outputs": [
    {
     "name": "stdout",
     "output_type": "stream",
     "text": [
      "\n",
      " Circuit Run Results: \n",
      "\n",
      " [[-1]\n",
      " [ 1]\n",
      " [ 1]]\n"
     ]
    }
   ],
   "source": [
    "duu = np.array([1, 0, 0])\n",
    "duu\n",
    "\n",
    "def circuit():\n",
    "    qml.BasisState(duu, wires=[0, 1, 2])\n",
    "    return qml.sample(qml.PauliZ(0)), qml.sample(qml.PauliZ(1)), qml.sample(qml.PauliZ(2))\n",
    "\n",
    "@qml.qnode(dev_pbm_1)\n",
    "def circuit():\n",
    "    qml.BasisState(duu, wires=[0, 1, 2])\n",
    "    return qml.sample(qml.PauliZ(0)), qml.sample(qml.PauliZ(1)), qml.sample(qml.PauliZ(2))\n",
    "\n",
    "print(\"\\n Circuit Run Results: \\n\\n\", circuit())"
   ]
  },
  {
   "cell_type": "markdown",
   "metadata": {},
   "source": [
    "### <font color=\"red\">6</font>: $|101 \\rangle$"
   ]
  },
  {
   "cell_type": "code",
   "execution_count": 31,
   "metadata": {},
   "outputs": [
    {
     "name": "stdout",
     "output_type": "stream",
     "text": [
      "\n",
      " Circuit Run Results: \n",
      "\n",
      " [[-1]\n",
      " [ 1]\n",
      " [-1]]\n"
     ]
    }
   ],
   "source": [
    "dud = np.array([1, 0, 1])\n",
    "dud\n",
    "\n",
    "def circuit():\n",
    "    qml.BasisState(dud, wires=[0, 1, 2])\n",
    "    return qml.sample(qml.PauliZ(0)), qml.sample(qml.PauliZ(1)), qml.sample(qml.PauliZ(2))\n",
    "\n",
    "@qml.qnode(dev_pbm_1)\n",
    "def circuit():\n",
    "    qml.BasisState(dud, wires=[0, 1, 2])\n",
    "    return qml.sample(qml.PauliZ(0)), qml.sample(qml.PauliZ(1)), qml.sample(qml.PauliZ(2))\n",
    "\n",
    "print(\"\\n Circuit Run Results: \\n\\n\", circuit())"
   ]
  },
  {
   "cell_type": "markdown",
   "metadata": {},
   "source": [
    "### <font color=\"red\">7</font>: $|110 \\rangle$"
   ]
  },
  {
   "cell_type": "code",
   "execution_count": 32,
   "metadata": {},
   "outputs": [
    {
     "name": "stdout",
     "output_type": "stream",
     "text": [
      "\n",
      " Circuit Run Results: \n",
      "\n",
      " [[-1]\n",
      " [-1]\n",
      " [ 1]]\n"
     ]
    }
   ],
   "source": [
    "ddu = np.array([1, 1, 0])\n",
    "ddu\n",
    "\n",
    "def circuit():\n",
    "    qml.BasisState(ddu, wires=[0, 1, 2])\n",
    "    return qml.sample(qml.PauliZ(0)), qml.sample(qml.PauliZ(1)), qml.sample(qml.PauliZ(2))\n",
    "\n",
    "@qml.qnode(dev_pbm_1)\n",
    "def circuit():\n",
    "    qml.BasisState(ddu, wires=[0, 1, 2])\n",
    "    return qml.sample(qml.PauliZ(0)), qml.sample(qml.PauliZ(1)), qml.sample(qml.PauliZ(2))\n",
    "\n",
    "print(\"\\n Circuit Run Results: \\n\\n\", circuit())"
   ]
  },
  {
   "cell_type": "markdown",
   "metadata": {},
   "source": [
    "### <font color=\"red\">8</font>: $|111 \\rangle$"
   ]
  },
  {
   "cell_type": "code",
   "execution_count": 33,
   "metadata": {},
   "outputs": [
    {
     "name": "stdout",
     "output_type": "stream",
     "text": [
      "\n",
      " Circuit Run Results: \n",
      "\n",
      " [[-1]\n",
      " [-1]\n",
      " [-1]]\n"
     ]
    }
   ],
   "source": [
    "ddd = np.array([1, 1, 1])\n",
    "ddd\n",
    "\n",
    "def circuit():\n",
    "    qml.BasisState(ddd, wires=[0, 1, 2])\n",
    "    return qml.sample(qml.PauliZ(0)), qml.sample(qml.PauliZ(1)), qml.sample(qml.PauliZ(2))\n",
    "\n",
    "@qml.qnode(dev_pbm_1)\n",
    "def circuit():\n",
    "    qml.BasisState(ddd, wires=[0, 1, 2])\n",
    "    return qml.sample(qml.PauliZ(0)), qml.sample(qml.PauliZ(1)), qml.sample(qml.PauliZ(2))\n",
    "\n",
    "print(\"\\n Circuit Run Results: \\n\\n\", circuit())"
   ]
  },
  {
   "cell_type": "markdown",
   "metadata": {},
   "source": [
    "### <font color=\"red\">9</font>: Define a default device with <font color=\"red\">\"3 wires\"</font> and <font color=\"red\">\"5 shots\"</font>."
   ]
  },
  {
   "cell_type": "code",
   "execution_count": 34,
   "metadata": {},
   "outputs": [
    {
     "data": {
      "text/plain": [
       "<DefaultQubit device (wires=3, shots=5) at 0x7f99612f1d90>"
      ]
     },
     "execution_count": 34,
     "metadata": {},
     "output_type": "execute_result"
    }
   ],
   "source": [
    "dev_pbm_2 = qml.device(\"default.qubit\", wires=3, shots=5)\n",
    "dev_pbm_2"
   ]
  },
  {
   "cell_type": "markdown",
   "metadata": {},
   "source": [
    "### <font color=\"red\">10</font>: Define an array <font color=\"red\">'uud'</font> for the basis state <font color=\"red\">$|001\\rangle$</font>."
   ]
  },
  {
   "cell_type": "code",
   "execution_count": 35,
   "metadata": {},
   "outputs": [
    {
     "data": {
      "text/plain": [
       "tensor([0, 0, 1], requires_grad=True)"
      ]
     },
     "execution_count": 35,
     "metadata": {},
     "output_type": "execute_result"
    }
   ],
   "source": [
    "uud = np.array([0, 0, 1])\n",
    "uud"
   ]
  },
  {
   "cell_type": "markdown",
   "metadata": {},
   "source": [
    "### <font color=\"red\">11</font>: Define a <font color=\"red\">qnode</font> that will print the samples: \n",
    "\n",
    "> `qml.sample(qml.PauliZ(0))`\n",
    "\n",
    "> `qml.sample(qml.PauliZ(1))` \n",
    "\n",
    "> `qml.sample(qml.PauliZ(2))`"
   ]
  },
  {
   "cell_type": "code",
   "execution_count": 36,
   "metadata": {},
   "outputs": [],
   "source": [
    "def circuit():\n",
    "    qml.BasisState(uud, wires=[0, 1, 2])\n",
    "    return qml.sample(qml.PauliZ(0)), qml.sample(qml.PauliZ(1)), qml.sample(qml.PauliZ(2))"
   ]
  },
  {
   "cell_type": "markdown",
   "metadata": {},
   "source": [
    "### <font color=\"red\">12</font>:  Run your <font color=\"red\">qnode</font> and verify that you get the output vector\n",
    "\n",
    "<BR>\n",
    "<font color=\"blue\">\n",
    "\\begin{align}\n",
    "\\begin{pmatrix}\n",
    "1 \\\\ 1 \\\\ -1\n",
    "\\end{pmatrix}\n",
    "\\end{align}\n",
    "    \n",
    "</font>\n",
    "<BR>\n",
    "\n",
    "### five times."
   ]
  },
  {
   "cell_type": "code",
   "execution_count": 37,
   "metadata": {},
   "outputs": [
    {
     "name": "stdout",
     "output_type": "stream",
     "text": [
      "\n",
      " Circuit Run Results: \n",
      "\n",
      " [[ 1  1  1  1  1]\n",
      " [ 1  1  1  1  1]\n",
      " [-1 -1 -1 -1 -1]]\n"
     ]
    }
   ],
   "source": [
    "@qml.qnode(dev_pbm_2)\n",
    "def circuit():\n",
    "    qml.BasisState(uud, wires=[0, 1, 2])\n",
    "    return qml.sample(qml.PauliZ(0)), qml.sample(qml.PauliZ(1)), qml.sample(qml.PauliZ(2))\n",
    "\n",
    "print(\"\\n Circuit Run Results: \\n\\n\", circuit())"
   ]
  },
  {
   "cell_type": "markdown",
   "metadata": {},
   "source": [
    "### <font color=\"red\">13</font>: <font color=\"red\">OPTIONAL</font> - Try doing this with the other basis states given in <font color=\"blue\">Exercises 1-8</font>."
   ]
  },
  {
   "cell_type": "code",
   "execution_count": 38,
   "metadata": {},
   "outputs": [
    {
     "name": "stdout",
     "output_type": "stream",
     "text": [
      "\n",
      " Circuit Run Results: \n",
      "\n",
      " [[-1 -1 -1 -1 -1 -1 -1 -1 -1 -1]\n",
      " [ 1  1  1  1  1  1  1  1  1  1]\n",
      " [-1 -1 -1 -1 -1 -1 -1 -1 -1 -1]]\n"
     ]
    }
   ],
   "source": [
    "dev_pbm_3 = qml.device(\"default.qubit\", wires=3, shots=10)\n",
    "dev_pbm_3\n",
    "\n",
    "dud = np.array([1, 0, 1])\n",
    "dud\n",
    "\n",
    "def circuit():\n",
    "    qml.BasisState(dud, wires=[0, 1, 2])\n",
    "    return qml.sample(qml.PauliZ(0)), qml.sample(qml.PauliZ(1)), qml.sample(qml.PauliZ(2))\n",
    "\n",
    "@qml.qnode(dev_pbm_3)\n",
    "def circuit():\n",
    "    qml.BasisState(dud, wires=[0, 1, 2])\n",
    "    return qml.sample(qml.PauliZ(0)), qml.sample(qml.PauliZ(1)), qml.sample(qml.PauliZ(2))\n",
    "\n",
    "print(\"\\n Circuit Run Results: \\n\\n\", circuit())"
   ]
  },
  {
   "cell_type": "markdown",
   "metadata": {},
   "source": [
    "![the-end](img/the-end.png \"the-end\")"
   ]
  }
 ],
 "metadata": {
  "kernelspec": {
   "display_name": "Python 3 (ipykernel)",
   "language": "python",
   "name": "python3"
  },
  "language_info": {
   "codemirror_mode": {
    "name": "ipython",
    "version": 3
   },
   "file_extension": ".py",
   "mimetype": "text/x-python",
   "name": "python",
   "nbconvert_exporter": "python",
   "pygments_lexer": "ipython3",
   "version": "3.9.0"
  },
  "toc": {
   "base_numbering": 1,
   "nav_menu": {},
   "number_sections": true,
   "sideBar": true,
   "skip_h1_title": false,
   "title_cell": "Table of Contents",
   "title_sidebar": "Contents",
   "toc_cell": false,
   "toc_position": {},
   "toc_section_display": true,
   "toc_window_display": false
  }
 },
 "nbformat": 4,
 "nbformat_minor": 4
}
