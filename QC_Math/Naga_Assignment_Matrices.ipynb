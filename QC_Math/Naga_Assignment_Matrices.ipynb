{
 "cells": [
  {
   "cell_type": "markdown",
   "metadata": {},
   "source": [
    "# Matrices\n",
    "\n",
    "- #### Hands-on Experiential Learning <font color=\"red\">for the Software Engineer</font>"
   ]
  },
  {
   "cell_type": "markdown",
   "metadata": {},
   "source": [
    "![](img/QC_Math_Banner.png \"\")\n",
    "\n",
    "<font color=\"red\">**Notice**</font>: All materials herein were <font color=\"red\">**curated**</font> by **Matthew R. Versaggi (profversaggi@gmail.com)** and are released into the open source to foster growth and welfare of expanding the Quantum Computing domain - the only obligation one incurs when using, copying, distributing or referencing this is to kindly reference the author and send me an email so I know how useful the material is to you.\n",
    "\n",
    "#### <font color=\"red\">Recommendations</font>: \n",
    "\n",
    "> **<font color=\"blue\">It's highly recommended to take structured QC Math courses <font color=\"red\">like</font>:</font>**\n",
    "> #### Math Prerequisites for Quantum Computing\n",
    "> - https://www.udemy.com/course/mathematics-prerequisites-for-quantum-computing-and-quantum-physics/\n",
    "\n",
    "> #### Advanced Math for Quantum Computing\n",
    "> - https://www.udemy.com/course/qc201-advanced-math-for-quantum-computing-mathematics-physics/\n",
    "\n",
    "\n",
    "\n",
    "#### <font color=\"red\">Materials Inspiration and Author(s)</font>: \n",
    "\n",
    "> **<font color=\"blue\">Amelie Schreiber</font>**\n",
    "- Article: https://towardsdatascience.com/quantum-computing-for-the-newb-5e0737e3ca4\n",
    "- Course: https://the-singularity-research.github.io/linear_algebra_for_quantum_computing/\n",
    "- GitHub: https://github.com/The-Singularity-Research/linear_algebra_for_quantum_computing\n",
    "\n",
    "> **<font color=\"blue\">QWorld</font>**\n",
    "- Site: https://qworld.lu.lv/\n",
    "- GitLab: https://gitlab.com/qkitchen/basics-of-quantum-computing"
   ]
  },
  {
   "cell_type": "markdown",
   "metadata": {},
   "source": [
    "## Matricies\n",
    "\n",
    "\n",
    "### <font color=\"red\">**Background Information**</font>: \n",
    "\n",
    "- **Immersive Linear Algebra**: - http://immersivemath.com/ila/index.html\n",
    "- **Interactive Matrix**: -https://shad.io/MatVis/\n",
    "- **Interactive Math - Matricies**: -https://www.intmath.com/matrices-determinants/matrix-addition-multiplication-applet.php\n",
    "\n",
    "\n",
    "\n",
    "### Imports and Dependencies\n",
    "\n",
    "We will primarily be using NumPy in this section. "
   ]
  },
  {
   "cell_type": "code",
   "execution_count": 1,
   "metadata": {},
   "outputs": [],
   "source": [
    "import numpy as np"
   ]
  },
  {
   "cell_type": "markdown",
   "metadata": {},
   "source": [
    "### <font color=\"red\">**Why this is important**</font>: \n",
    "\n",
    "#### Matrices form the foundation for quantum gates\n",
    "- Operations on qubits that *move the points representing states around the Bloch sphere*. \n",
    "\n",
    "\n",
    "> Matrices are also called **operators or quantum gates** in the context of quantum computing. \n",
    "- They can operate on a single qubit, or on many qubits simultaneously. \n",
    "\n",
    "\n",
    "> The matrix operators (or gates) we will be using most are known as *unitary operators* or *unitary matrices*. \n",
    "\n",
    "In this section we will discuss **basic matrix algebra** and **define unitary matrices**. "
   ]
  },
  {
   "cell_type": "markdown",
   "metadata": {},
   "source": [
    "We have already seen two ways of realizing matrices in Python. \n",
    "\n",
    "Suppose we have the following **$2 \\times 2$ matrix**\n",
    "\n",
    "<BR>\n",
    "<font color=\"blue\">\n",
    "\n",
    "\\begin{align}\n",
    "M = \\begin{pmatrix}\n",
    "2-i & -3 \\\\\n",
    "-5i & 2\n",
    "\\end{pmatrix}\n",
    "\\end{align}\n",
    "\n",
    "</font>\n",
    "<BR>\n",
    "\n",
    "- We can define this matrix as a NumPy **array**, or as a **matrix** in Python."
   ]
  },
  {
   "cell_type": "markdown",
   "metadata": {},
   "source": [
    "#### NumPy Array"
   ]
  },
  {
   "cell_type": "code",
   "execution_count": 2,
   "metadata": {},
   "outputs": [
    {
     "name": "stdout",
     "output_type": "stream",
     "text": [
      "[[ 2.-1.j -3.+0.j]\n",
      " [-0.-5.j  2.+0.j]]\n"
     ]
    }
   ],
   "source": [
    "M = np.array([[2-1j, -3],\n",
    "              [-5j, 2]])\n",
    "\n",
    "print(M)"
   ]
  },
  {
   "cell_type": "markdown",
   "metadata": {},
   "source": [
    "> Since we may want to compute **Hermitian Conjugates** of matrices, we will **only** be using the matrix data structure."
   ]
  },
  {
   "cell_type": "markdown",
   "metadata": {},
   "source": [
    "#### NumPy Matrix"
   ]
  },
  {
   "cell_type": "code",
   "execution_count": 3,
   "metadata": {},
   "outputs": [
    {
     "name": "stdout",
     "output_type": "stream",
     "text": [
      "[[ 2.-1.j -3.+0.j]\n",
      " [-0.-5.j  2.+0.j]]\n"
     ]
    }
   ],
   "source": [
    "M = np.matrix([[2-1j, -3],\n",
    "               [-5j, 2]])\n",
    "\n",
    "print(M)"
   ]
  },
  {
   "cell_type": "markdown",
   "metadata": {},
   "source": [
    "<font color=\"blue\">**Remember**, **Hermitian conjugates** are given by taking the **conjugate transpose** of the **matrix**.</font> \n",
    "\n",
    "> This means we compute the complex conjugate of each entry, and then transpose the matrix. \n",
    "- Generally, the Hermitian conjugate is denoted by $M^{\\dagger}$. "
   ]
  },
  {
   "cell_type": "code",
   "execution_count": 4,
   "metadata": {},
   "outputs": [
    {
     "name": "stdout",
     "output_type": "stream",
     "text": [
      "[[ 2.+1.j -0.+5.j]\n",
      " [-3.-0.j  2.-0.j]]\n"
     ]
    }
   ],
   "source": [
    "# Compute the Hermitian Conjugate (aka. Conjugate Transpose)\n",
    "\n",
    "hc = M.H\n",
    "\n",
    "print(hc)"
   ]
  },
  {
   "cell_type": "code",
   "execution_count": null,
   "metadata": {},
   "outputs": [],
   "source": []
  },
  {
   "cell_type": "markdown",
   "metadata": {},
   "source": [
    "#### Look at another example of a Hermitian conjugate (aka. conjugate transpose). "
   ]
  },
  {
   "cell_type": "code",
   "execution_count": 5,
   "metadata": {},
   "outputs": [
    {
     "name": "stdout",
     "output_type": "stream",
     "text": [
      "[[ 1.-0.j  1.+1.j]\n",
      " [-0.+3.j  1.-0.j]\n",
      " [ 5.-0.j  3.-0.j]\n",
      " [ 2.-0.j  0.-7.j]]\n"
     ]
    }
   ],
   "source": [
    "B = np.matrix([[1, -3j, 5, 2], \n",
    "               [1-1j, 1, 3, 7j]])\n",
    "\n",
    "B_hc = B.H\n",
    "\n",
    "print(B_hc)"
   ]
  },
  {
   "cell_type": "markdown",
   "metadata": {},
   "source": [
    "#### This is a $4 \\times 2$ matrix which came from the $2 \\times 4$ matrix $B$. \n",
    "\n",
    "- Notice *all of its entries have also been conjugated*. \n",
    "- We can also **multiply matrices so long as the dimensions match appropriately**. \n",
    "\n",
    "> In particular, to multiply two matrices $A$ and $B$, the matrix must be an $n \\times p$ matrix and the matrix $B$ must be a $p \\times m$ matrix. \n",
    "- The result is an $n \\times m$ matrix. \n",
    "\n",
    "\n",
    "#### For example:"
   ]
  },
  {
   "cell_type": "code",
   "execution_count": 6,
   "metadata": {},
   "outputs": [
    {
     "data": {
      "text/plain": [
       "matrix([[ -5. +7.j,   1. +0.j, -15.+10.j,   0.-31.j],\n",
       "        [  4. -6.j, -14. -9.j,  18.-25.j,   6. -3.j],\n",
       "        [  9. +4.j,   0.-11.j,  25.+12.j, -18. +0.j]])"
      ]
     },
     "execution_count": 6,
     "metadata": {},
     "output_type": "execute_result"
    }
   ],
   "source": [
    "# Define a 3x2 matrix:\n",
    "\n",
    "A = np.matrix([[2j, -5],\n",
    "               [3-5j, 1], \n",
    "               [5, 4j]])\n",
    "\n",
    "\n",
    "# Define a 2x4 matrix:\n",
    "\n",
    "B = np.matrix([[1, -3j, 5, 2], \n",
    "               [1-1j, 1, 3, 7j]])\n",
    "\n",
    "\n",
    "#Taking the product of a (3x2) and (2x4) matrix will give a 3x4 matrix:\n",
    "\n",
    "np.dot(A, B)"
   ]
  },
  {
   "cell_type": "markdown",
   "metadata": {},
   "source": [
    "> - If we are using the **matrix definition** instead of the **array definition**, then we can also **multiply the two matrices** as follows:"
   ]
  },
  {
   "cell_type": "markdown",
   "metadata": {},
   "source": [
    "### Multiply two matrices"
   ]
  },
  {
   "cell_type": "code",
   "execution_count": 7,
   "metadata": {},
   "outputs": [
    {
     "data": {
      "text/plain": [
       "matrix([[ -5. +7.j,   1. +0.j, -15.+10.j,   0.-31.j],\n",
       "        [  4. -6.j, -14. -9.j,  18.-25.j,   6. -3.j],\n",
       "        [  9. +4.j,   0.-11.j,  25.+12.j, -18. +0.j]])"
      ]
     },
     "execution_count": 7,
     "metadata": {},
     "output_type": "execute_result"
    }
   ],
   "source": [
    "A*B"
   ]
  },
  {
   "cell_type": "markdown",
   "metadata": {},
   "source": [
    "#### If we define the two matrices as arrays, this will not work and will return an <font color=\"red\">error</font>. \n",
    "\n",
    "> We *won't* often be **adding** and **subtracting** matrices in the context of quantum computing but these operations are well defined for matrices of the same size. \n",
    "\n",
    "The Python code is exactly what you would expect it to be. \n",
    "\n",
    "- Let's define two matrices of the same size. "
   ]
  },
  {
   "cell_type": "code",
   "execution_count": 8,
   "metadata": {},
   "outputs": [],
   "source": [
    "M = np.matrix([[1, 2, 3], \n",
    "               [1j, 2j, 3j]])\n",
    "\n",
    "\n",
    "N = np.matrix([[2, 4, 6],\n",
    "               [-2j, -4j, -6j]])"
   ]
  },
  {
   "cell_type": "markdown",
   "metadata": {},
   "source": [
    "#### Addition"
   ]
  },
  {
   "cell_type": "code",
   "execution_count": 9,
   "metadata": {},
   "outputs": [
    {
     "data": {
      "text/plain": [
       "matrix([[3.+0.j, 6.+0.j, 9.+0.j],\n",
       "        [0.-1.j, 0.-2.j, 0.-3.j]])"
      ]
     },
     "execution_count": 9,
     "metadata": {},
     "output_type": "execute_result"
    }
   ],
   "source": [
    "M+N"
   ]
  },
  {
   "cell_type": "markdown",
   "metadata": {},
   "source": [
    "#### Subtraction"
   ]
  },
  {
   "cell_type": "code",
   "execution_count": 10,
   "metadata": {
    "scrolled": true
   },
   "outputs": [
    {
     "data": {
      "text/plain": [
       "matrix([[-1.+0.j, -2.+0.j, -3.+0.j],\n",
       "        [ 0.+3.j,  0.+6.j,  0.+9.j]])"
      ]
     },
     "execution_count": 10,
     "metadata": {},
     "output_type": "execute_result"
    }
   ],
   "source": [
    "M-N"
   ]
  },
  {
   "cell_type": "markdown",
   "metadata": {},
   "source": [
    "We can also multiply matrices by scalars."
   ]
  },
  {
   "cell_type": "markdown",
   "metadata": {},
   "source": [
    "#### Scalar Multiplication"
   ]
  },
  {
   "cell_type": "code",
   "execution_count": 11,
   "metadata": {
    "scrolled": true
   },
   "outputs": [
    {
     "data": {
      "text/plain": [
       "matrix([[3.+0.j, 6.+0.j, 9.+0.j],\n",
       "        [0.+3.j, 0.+6.j, 0.+9.j]])"
      ]
     },
     "execution_count": 11,
     "metadata": {},
     "output_type": "execute_result"
    }
   ],
   "source": [
    "3*M"
   ]
  },
  {
   "cell_type": "markdown",
   "metadata": {},
   "source": [
    "# <font color=\"red\">Graded Exercises</font>  for use <font color=\"blue\">with structured courses.</font>\n",
    "\n",
    "## Matricies\n",
    "\n",
    "#### <font color=\"blue\">*This work will take some time, so block off enough time to adequately cover it*</font>. \n",
    "\n",
    "\n",
    "- Go through the **entire** JNB and complete each of the exercises, including any supplementary Video's - hand in completed <font color=\"red\">**PDF**</font> from this JNB once finished.\n",
    "\n",
    "\n",
    "- Step through the code for **each** of the above exercises, make sure you can (1) execute it, and (2) know what it does.\n",
    "\n",
    "\n",
    "- <font color=\"blue\">Complete Challenge Exercises below.</font> **(turn in the JNB)**"
   ]
  },
  {
   "cell_type": "markdown",
   "metadata": {},
   "source": [
    "## Exercises: Matricies\n",
    "\n",
    "### <font color=\"red\">Reference Materials</font>.\n",
    "\n",
    "<BR>\n",
    "    <font color=\"blue\">\n",
    "\\begin{align}\n",
    "I = \\begin{pmatrix} 1&0 \\\\ 0&1 \\end{pmatrix}, \\quad\n",
    "X = \\begin{pmatrix} 0&1 \\\\ 1&0 \\end{pmatrix}, \\quad\n",
    "Y = \\begin{pmatrix} 0&i \\\\ -i&0 \\end{pmatrix}, \\quad\n",
    "Z = \\begin{pmatrix} 1&0 \\\\ 0&-1 \\end{pmatrix}, \\quad\n",
    "H = \\frac{1}{\\sqrt{2}} \\begin{pmatrix} 1&1 \\\\ 1&-1 \\end{pmatrix}\n",
    "\\end{align}\n",
    "    \n",
    "\n",
    "<BR>\n",
    "\n",
    "- #### I = Identity\n",
    "- #### X = NOT\n",
    "- #### Y = Pauli-Y\n",
    "- #### Z = Pauli-Z\n",
    "- #### H = Hadamard\n",
    "\n",
    "</font>\n",
    "\n",
    "> **These are five of the most common single qubit gates used in quantum computing**, and they will be used repeatedly. "
   ]
  },
  {
   "cell_type": "markdown",
   "metadata": {},
   "source": [
    "#### <font color=\"red\">1</font>: Identity"
   ]
  },
  {
   "cell_type": "code",
   "execution_count": 12,
   "metadata": {},
   "outputs": [
    {
     "data": {
      "text/plain": [
       "matrix([[1, 0],\n",
       "        [0, 1]])"
      ]
     },
     "execution_count": 12,
     "metadata": {},
     "output_type": "execute_result"
    }
   ],
   "source": [
    "I = np.matrix([[1, 0],\n",
    "               [0, 1]])\n",
    "I"
   ]
  },
  {
   "cell_type": "markdown",
   "metadata": {},
   "source": [
    "#### <font color=\"red\">2</font>: NOT"
   ]
  },
  {
   "cell_type": "code",
   "execution_count": 13,
   "metadata": {},
   "outputs": [
    {
     "data": {
      "text/plain": [
       "matrix([[0, 1],\n",
       "        [1, 0]])"
      ]
     },
     "execution_count": 13,
     "metadata": {},
     "output_type": "execute_result"
    }
   ],
   "source": [
    "X = np.matrix([[0, 1],\n",
    "               [1, 0]])\n",
    "X"
   ]
  },
  {
   "cell_type": "markdown",
   "metadata": {},
   "source": [
    "#### <font color=\"red\">3</font>: Pauli-Y"
   ]
  },
  {
   "cell_type": "code",
   "execution_count": 14,
   "metadata": {},
   "outputs": [
    {
     "data": {
      "text/plain": [
       "matrix([[ 0.+0.j,  0.+1.j],\n",
       "        [-0.-1.j,  0.+0.j]])"
      ]
     },
     "execution_count": 14,
     "metadata": {},
     "output_type": "execute_result"
    }
   ],
   "source": [
    "Y = np.matrix([[0, 1j],\n",
    "               [-1j, 0]])\n",
    "Y"
   ]
  },
  {
   "cell_type": "markdown",
   "metadata": {},
   "source": [
    "#### <font color=\"red\">4</font>: Pauli-Z"
   ]
  },
  {
   "cell_type": "code",
   "execution_count": 15,
   "metadata": {},
   "outputs": [
    {
     "data": {
      "text/plain": [
       "matrix([[ 1,  0],\n",
       "        [ 0, -1]])"
      ]
     },
     "execution_count": 15,
     "metadata": {},
     "output_type": "execute_result"
    }
   ],
   "source": [
    "Z = np.matrix([[1, 0],\n",
    "               [0, -1]])\n",
    "Z"
   ]
  },
  {
   "cell_type": "markdown",
   "metadata": {},
   "source": [
    "#### <font color=\"red\">5</font>: Hadamard"
   ]
  },
  {
   "cell_type": "code",
   "execution_count": 16,
   "metadata": {},
   "outputs": [
    {
     "data": {
      "text/plain": [
       "matrix([[ 0.70710678,  0.70710678],\n",
       "        [ 0.70710678, -0.70710678]])"
      ]
     },
     "execution_count": 16,
     "metadata": {},
     "output_type": "execute_result"
    }
   ],
   "source": [
    "H = (1/np.sqrt(2))* np.matrix([[1, 1],\n",
    "                                [1, -1]])\n",
    "H"
   ]
  },
  {
   "cell_type": "markdown",
   "metadata": {},
   "source": [
    "### Write Python code to compute the following (1 - 10) Matrix Multiplications:\n"
   ]
  },
  {
   "cell_type": "markdown",
   "metadata": {},
   "source": [
    "### <font color=\"red\">1</font>:  $XY$\n",
    "\n",
    "#### <font color=\"red\">This first one is done for you</font>."
   ]
  },
  {
   "cell_type": "markdown",
   "metadata": {},
   "source": [
    "#### Check the shape of the matricies first to make sure the dimensions match appropriately"
   ]
  },
  {
   "cell_type": "code",
   "execution_count": 17,
   "metadata": {},
   "outputs": [
    {
     "data": {
      "text/plain": [
       "(2, 2)"
      ]
     },
     "execution_count": 17,
     "metadata": {},
     "output_type": "execute_result"
    }
   ],
   "source": [
    "X.shape"
   ]
  },
  {
   "cell_type": "code",
   "execution_count": 18,
   "metadata": {},
   "outputs": [
    {
     "data": {
      "text/plain": [
       "(2, 2)"
      ]
     },
     "execution_count": 18,
     "metadata": {},
     "output_type": "execute_result"
    }
   ],
   "source": [
    "Y.shape"
   ]
  },
  {
   "cell_type": "markdown",
   "metadata": {},
   "source": [
    "#### Multiply the two matrices"
   ]
  },
  {
   "cell_type": "code",
   "execution_count": 19,
   "metadata": {},
   "outputs": [
    {
     "data": {
      "text/plain": [
       "matrix([[0.-1.j, 0.+0.j],\n",
       "        [0.+0.j, 0.+1.j]])"
      ]
     },
     "execution_count": 19,
     "metadata": {},
     "output_type": "execute_result"
    }
   ],
   "source": [
    "X*Y"
   ]
  },
  {
   "cell_type": "markdown",
   "metadata": {},
   "source": [
    "### <font color=\"red\">2</font>:  $YX$"
   ]
  },
  {
   "cell_type": "code",
   "execution_count": 20,
   "metadata": {},
   "outputs": [
    {
     "data": {
      "text/plain": [
       "matrix([[0.+1.j, 0.+0.j],\n",
       "        [0.+0.j, 0.-1.j]])"
      ]
     },
     "execution_count": 20,
     "metadata": {},
     "output_type": "execute_result"
    }
   ],
   "source": [
    "Y*X"
   ]
  },
  {
   "cell_type": "markdown",
   "metadata": {},
   "source": [
    "### <font color=\"red\">3</font>:  $YZ$"
   ]
  },
  {
   "cell_type": "code",
   "execution_count": 21,
   "metadata": {},
   "outputs": [
    {
     "data": {
      "text/plain": [
       "matrix([[0.+0.j, 0.-1.j],\n",
       "        [0.-1.j, 0.+0.j]])"
      ]
     },
     "execution_count": 21,
     "metadata": {},
     "output_type": "execute_result"
    }
   ],
   "source": [
    "Y*Z"
   ]
  },
  {
   "cell_type": "markdown",
   "metadata": {},
   "source": [
    "### <font color=\"red\">4</font>:  $ZY$"
   ]
  },
  {
   "cell_type": "code",
   "execution_count": 22,
   "metadata": {},
   "outputs": [
    {
     "data": {
      "text/plain": [
       "matrix([[0.+0.j, 0.+1.j],\n",
       "        [0.+1.j, 0.+0.j]])"
      ]
     },
     "execution_count": 22,
     "metadata": {},
     "output_type": "execute_result"
    }
   ],
   "source": [
    "Z*Y"
   ]
  },
  {
   "cell_type": "markdown",
   "metadata": {},
   "source": [
    "### <font color=\"red\">5</font>:  $HX$"
   ]
  },
  {
   "cell_type": "code",
   "execution_count": 23,
   "metadata": {},
   "outputs": [
    {
     "data": {
      "text/plain": [
       "matrix([[ 0.70710678,  0.70710678],\n",
       "        [-0.70710678,  0.70710678]])"
      ]
     },
     "execution_count": 23,
     "metadata": {},
     "output_type": "execute_result"
    }
   ],
   "source": [
    "H*X"
   ]
  },
  {
   "cell_type": "markdown",
   "metadata": {},
   "source": [
    "### <font color=\"red\">6</font>:  $YH$"
   ]
  },
  {
   "cell_type": "code",
   "execution_count": 24,
   "metadata": {},
   "outputs": [
    {
     "data": {
      "text/plain": [
       "matrix([[0.+0.70710678j, 0.-0.70710678j],\n",
       "        [0.-0.70710678j, 0.-0.70710678j]])"
      ]
     },
     "execution_count": 24,
     "metadata": {},
     "output_type": "execute_result"
    }
   ],
   "source": [
    "Y*H"
   ]
  },
  {
   "cell_type": "markdown",
   "metadata": {},
   "source": [
    "### <font color=\"red\">7</font>:  $XYZ$"
   ]
  },
  {
   "cell_type": "code",
   "execution_count": 25,
   "metadata": {},
   "outputs": [
    {
     "data": {
      "text/plain": [
       "matrix([[0.-1.j, 0.+0.j],\n",
       "        [0.+0.j, 0.-1.j]])"
      ]
     },
     "execution_count": 25,
     "metadata": {},
     "output_type": "execute_result"
    }
   ],
   "source": [
    "X*Y*Z"
   ]
  },
  {
   "cell_type": "markdown",
   "metadata": {},
   "source": [
    "### <font color=\"red\">8</font>:  $YZX$"
   ]
  },
  {
   "cell_type": "code",
   "execution_count": 26,
   "metadata": {},
   "outputs": [
    {
     "data": {
      "text/plain": [
       "matrix([[0.-1.j, 0.+0.j],\n",
       "        [0.+0.j, 0.-1.j]])"
      ]
     },
     "execution_count": 26,
     "metadata": {},
     "output_type": "execute_result"
    }
   ],
   "source": [
    "Y*Z*X"
   ]
  },
  {
   "cell_type": "markdown",
   "metadata": {},
   "source": [
    "### <font color=\"red\">9</font>:  $ZXY$"
   ]
  },
  {
   "cell_type": "code",
   "execution_count": 27,
   "metadata": {},
   "outputs": [
    {
     "data": {
      "text/plain": [
       "matrix([[0.-1.j, 0.+0.j],\n",
       "        [0.+0.j, 0.-1.j]])"
      ]
     },
     "execution_count": 27,
     "metadata": {},
     "output_type": "execute_result"
    }
   ],
   "source": [
    "Z*X*Y"
   ]
  },
  {
   "cell_type": "markdown",
   "metadata": {},
   "source": [
    "### <font color=\"red\">10</font>:  $XHY$"
   ]
  },
  {
   "cell_type": "code",
   "execution_count": 28,
   "metadata": {},
   "outputs": [
    {
     "data": {
      "text/plain": [
       "matrix([[0.+0.70710678j, 0.+0.70710678j],\n",
       "        [0.-0.70710678j, 0.+0.70710678j]])"
      ]
     },
     "execution_count": 28,
     "metadata": {},
     "output_type": "execute_result"
    }
   ],
   "source": [
    "X*H*Y"
   ]
  },
  {
   "cell_type": "markdown",
   "metadata": {},
   "source": [
    "![the-end](img/the-end.png \"the-end\")"
   ]
  }
 ],
 "metadata": {
  "kernelspec": {
   "display_name": "Python 3 (ipykernel)",
   "language": "python",
   "name": "python3"
  },
  "language_info": {
   "codemirror_mode": {
    "name": "ipython",
    "version": 3
   },
   "file_extension": ".py",
   "mimetype": "text/x-python",
   "name": "python",
   "nbconvert_exporter": "python",
   "pygments_lexer": "ipython3",
   "version": "3.9.0"
  },
  "toc": {
   "base_numbering": 1,
   "nav_menu": {},
   "number_sections": true,
   "sideBar": true,
   "skip_h1_title": false,
   "title_cell": "Table of Contents",
   "title_sidebar": "Contents",
   "toc_cell": false,
   "toc_position": {},
   "toc_section_display": true,
   "toc_window_display": false
  }
 },
 "nbformat": 4,
 "nbformat_minor": 4
}
