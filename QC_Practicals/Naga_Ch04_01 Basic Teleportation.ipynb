{
 "cells": [
  {
   "cell_type": "markdown",
   "metadata": {},
   "source": [
    "# Programming Quantum Computers\n",
    "- #### Hands-on Experiential Learning <font color=\"red\">for the Software Engineer</font>"
   ]
  },
  {
   "cell_type": "markdown",
   "metadata": {},
   "source": [
    "# Chapter Ch04_01\n",
    "# <font color=\"red\">Hands-on</font>:  <font color=\"blue\">Basic Teleportation</font> "
   ]
  },
  {
   "cell_type": "markdown",
   "metadata": {},
   "source": [
    "![QC_Programming-red](img/QC_Programming-red.png \"QC_Programming-red\")\n",
    "\n",
    "<BR>\n",
    "    \n",
    "<font color=\"red\">**Notice**</font>: All materials herein were <font color=\"red\">**curated**</font> by **Matthew R. Versaggi (profversaggi@gmail.com)** and are released into the open source to foster growth and welfare of expanding the Quantum Computing domain - the only obligation one incurs when using, copying, distributing or referencing this is to kindly reference the author and send me an email so I know how useful the material is to you.\n",
    "\n",
    "<font color=\"red\">**Notice**</font>: Python Code contributions for the Circle Plots are the work of **David Radcliffe**.\n",
    "\n",
    "## Pedagogical Approach: (<font color=\"red\">**Read this first !**</font>)\n",
    "\n",
    "This material is intended to educate **software engineers** in certain aspects of Quantum Computing, therefore its focus will be on conveying the conceptual ideas in a form digestible to them, and supporting it with exercises to reinforce those concepts. \n",
    "\n",
    "Because of that pedagogical approach, **this material won't lead with or heavily leverage the concepts and language indigenous to physics and math**, but only in those terms most easily digestible to the modern software engineer.\n",
    "\n",
    "This Jupyter Notebook is <font color=\"red\">**not intended as a stand alone educational vehicle**</font>  - it's meant to be accompanied by a decicated power point deck that contains the main concepts to be presented by an instructor - **it is intended as a vehicle for a hands on workshop environment to facilitate learning through a guided experience.**\n",
    "\n",
    "> **Note:-** Because of the above educational approach:\n",
    "1. There is a certain amount of basic Quantum Computing knowledge that is assumed.\n",
    "2. An active internet connection is **always** assumed.\n",
    "3. Online references/links will be provided where appropriate\n",
    "4. References to books will be made where appropriate\n",
    "5. Much of this material is **dense and detailed**, the reader is <font color=\"red\">**cautioned**</font> to be careful and slow to digest the *nuances* of the material.\n",
    "\n",
    "## What you will be exposed to - High level: \n",
    "\n",
    "- Software engineers in the Quantum Computing space need to **<font color=\"blue\">gain a mastery of the simulation frameworks and tools used to understand and solve problems quantumly</font>**. Under the hood, the **<font color=\"red\">simulators mathematically represent the \"Ideal\" manifestations of quantum hardware</font>** that (theoretically) the \"Actual\" quantum hardware would behave exactly like. For the software engineer, this is the preferred situation as it permits them to understand and solve problems w/out being bound to the limitations of the hardware as it matures.\n",
    "\n",
    "\n",
    "- Given the above, there are a host of technical concepts that need to be **<font color=\"red\">understood experientially</font>** - we'll intentionally employ a vendor / framework agnostic approach to focus on the delivery of concept understanding and intuition procurement as the main value-add.\n",
    "\n",
    "\n",
    "## Accompanying Text:\n",
    "\n",
    "<BR>\n",
    "\n",
    "<a href=\"https://www.amazon.com/Programming-Quantum-Computers-Essential-Algorithms/dp/1492039683\" target=\"_blank\"><img src=\"img/OreillyBookImage-small.png\" height=\"250\" align=left style=\"padding:15px;\"></a>\n",
    "\n",
    "\n",
    "> The core materials leveraged in this Jupyter Notebook comes from the following book, and is required reading to engage in the problem sets covered.\n",
    "\n",
    "> The problem sets contained here will be expanded versions of the exercises contained in the book for sake of gaining intuition about the particular concept in question through leveraging various 'other' frameworks, tools, and instruments indigenous to the quantum programming space. \n",
    "\n",
    "\n",
    "> The core idea is that the various \"simulators\" circuitry (underlying mathematical representations) is considered the \"Ideal\" at the time of this JNB's construction, and therefore are the bect tools we have to address the problems we are interested in. To avoid being constrained by any particular framework, tool set, and software instruments, the idea is to leverage a host of appropriate \"tools\" when addressing any particular concept, problem or issue to remaind technology agnostic, but concept and intuition rich.\n",
    "\n",
    "\n",
    "- **Note:** The problems explored are organized and ordered according to chapter.\n",
    "\n",
    "<BR>\n",
    "\n",
    "**<font color=\"red\" size=4>Notice</font>:** - Prior to embarking on this notebook the reader is **highly encouraged to procure a <font color=\"red\" size=4>reasonable</font> <font color=\"blue\" size=4>introduction</font>** to the following key programming (and circuit) frameworks used:\n",
    "\n",
    "0. <a href=\"https://oreilly-qc.github.io/\" target=\"_blank\"><font color=\"blue\" size=4>QCEngine</font></a>\n",
    "0. <a href=\"https://qiskit.org/textbook/preface.html\" target=\"_blank\"><font color=\"blue\" size=4>Qiskit Tutorial</font></a>, <a href=\"https://qiskit.org/\" target=\"_blank\"><font color=\"blue\" size=4>Qiskit Home</font></a>\n",
    "0. <a href=\"https://algassert.com/quirk\" target=\"_blank\"><font color=\"blue\">QUIRK</font></a>\n",
    "\n",
    "# <font color=\"red\">Example Problem(s):</font> \n",
    "\n",
    "**This example problem is archetypal** of how the exercises highlighted in the book can be expanded to include a host of other tools that help build understanding and intuition of the concepts being explored. \n",
    "\n",
    "- The <font color=\"blue\">QCEngine</font> is a staple, but the <font color=\"blue\">Bloch Sphere Playground Application</font>, the <font color=\"blue\">Quantum Gate Playground</font>, <font color=\"blue\">QUIRK</font>, and <font color=\"blue\">Qiskit</font> are also instructive to leverage when persuing intuition about the concept and will be often used."
   ]
  },
  {
   "cell_type": "markdown",
   "metadata": {},
   "source": [
    "# Developmental Detour : -  <font color=\"blue\">Quantum Teleportation</font>\n",
    "> **<font color=\"red\">Definition:</font>**  Quantum teleportation is a process in which **quantum information** (e.g. the exact state of an atom or photon) can be transmitted (exactly, in principle) from one location to another, with the help of classical communication and previously shared **quantum entanglement** between the sending and receiving location.\n",
    "- https://en.wikipedia.org/wiki/Quantum_teleportation\n",
    "\n",
    "    \n",
    "![teleportation-bell-jars](img/teleportation-bell-jars.png \"teleportation-bell-jars\")\n",
    "\n",
    "> **<font color=\"red\">Notice</font>** Quantum Teleportation is a **fundamental primitive** in **quantum networking and cryptography**, and other types of quantum computing.\n",
    "\n",
    "    \n",
    "    \n",
    "### Background Videos:\n",
    "\n",
    "#### Quantum entanglement and quantum teleportation? (2 Minutes)\n",
    "-https://www.youtube.com/watch?v=FwcZk4-tJ4s\n",
    "\n",
    "#### Teleportation: The Quantum Around You (8+ Minutes)\n",
    "- https://www.youtube.com/watch?v=A12TT2Jxf8k\n",
    "\n",
    "#### Explanatory Video (14+ Minutes)\n",
    "- https://www.youtube.com/watch?v=DxQK1WDYI_k"
   ]
  },
  {
   "cell_type": "markdown",
   "metadata": {},
   "source": [
    "## Quantum Teleportation Basics\n",
    "\n",
    "<BR>\n",
    "    \n",
    "![Quantum_Teleportation-MITx](img/Quantum_Teleportation-MITx.png \"Quantum_Teleportation-MITx\")\n",
    "\n",
    "<BR><BR>\n",
    "    \n",
    "![QC_Advantage-Teleportation](img/QC_Advantage-Teleportation.png \"QC_Advantage-Teleportation\")\n",
    "\n",
    "<BR><BR>\n",
    "    \n",
    "    \n",
    "![QuantumTeleportationPPTDgm](img/QuantumTeleportationPPTDgm.png \"QuantumTeleportationPPTDgm\")\n",
    "\n",
    "<BR>"
   ]
  },
  {
   "cell_type": "markdown",
   "metadata": {},
   "source": [
    "# Basic Teleportation"
   ]
  },
  {
   "cell_type": "markdown",
   "metadata": {},
   "source": [
    "![Basic Teleportation](img/basic_teleportation.png \"Basic Teleportation\")"
   ]
  },
  {
   "cell_type": "markdown",
   "metadata": {},
   "source": [
    "![Basic Teleportation](img/basic_teleportation-1.png \"Basic Teleportation\")"
   ]
  },
  {
   "cell_type": "markdown",
   "metadata": {},
   "source": [
    "## <font color=\"blue\">Developmental Detour</font>:- <font color=\"red\">QCEngine</font> Teleportation Program WalkThrough\n",
    "\n",
    "- It's instructive to experience a Quantum Program / Circuit walkthrough end to end to get the full picture of the process.\n",
    "\n",
    "> ### Complete Teleportation Circuit\n",
    "\n",
    "![QT_CompleteCircuit](img/QT_CompleteCircuit.png \"Basic TeleportationQT_CompleteCircuit\")\n",
    "\n",
    "> ### Create an Entangled Pair\n",
    "\n",
    "\n",
    "![QT-1_EntangledPair](img/QT-1_EntangledPair.png \"QT-1_EntangledPair\")\n",
    "\n",
    "\n",
    "\n",
    "> Since we use three qubits in our teleportation example, their full description needs 2^3 = 8 circles (one for each possible combination of the 3 bits). We’ll arrange these eight circles in two rows, which helps us to visualize how operations affect the three constituent qubits.\n",
    "\n",
    "> You can check that these labels are correct by considering the binary value of the register that each circle corresponds to.\n",
    "\n",
    "> The first task for teleportation is **establishing an entangled link**. The **HAD** and **CNOT** combination achieving to create the specially named Bell pair entangled state of two qubits. One can see from the circle notation that if we read bob and ep, the values are **50/50 random**, but are **guaranteed to match each other** - **à la entanglement.**\n",
    "\n",
    "> ### Prepare the Payload\n",
    "\n",
    "![QT-2_PrepPayload](img/QT-2_PrepPayload.png \"QT-2_PrepPayload\")\n",
    "\n",
    "\n",
    "> Having established an entanglement link, Alice can prepare the payload to be sent. How she prepares it depends, of course, on the nature of the (quantum) information that she wants to send to Bob.\n",
    "\n",
    "> In this example a **simple payload qubit** is prepared, using only **HAD** and **PHASE** operations. This has the benefit of producing a payload with a readily decipherable circle-notation pattern.\n",
    "\n",
    "> We can see that **the bob and ep qubits are still dependent on one another** (only the circles corresponding to the bob and ep qubits possessing equal values have nonzero magnitudes). We can also see that **the value of alice is not dependent on either of the other two qubits**, and furthermore that her payload preparation produced a qubit that is 85.4% ∣0⟩ and 14.6% ∣1⟩, with a relative phase of –90° (the circles corresponding to alice=1 are at 90° clockwise of the alice=0 circles, which is negative in our convention).\n",
    "\n",
    "> ### Link the Payload\n",
    "\n",
    "![QT-3_LinkPayload](img/QT-3_LinkPayload.png \"QT-3_LinkPayload\")\n",
    "\n",
    "> The conditional nature of the CNOT operation can entangle the states of two qubits. **Alice now uses this fact to entangle her payload qubit with her half of the entangled pair she already shares with Bob**. In terms of circle notation, this action swaps circles around as shown.\n",
    "\n",
    "> Now that there exist multiple entangled states, there’s the potential for confusion — to be clear: Alice and Bob already each held one of two entangled qubits (produced in step 1). Now **Alice has entangled another (payload) qubit onto her half of this (already entangled) pair**. Intuitively notice that in some sense Alice has, by proxy, **now linked her payload to Bob’s half of the entangled pair** — although her payload qubit is still unchanged. **<font color=\"red\">Any READ operation results on her payload will now be logically linked with those of the other two qubits.</font>**\n",
    "\n",
    "- **Stretch**: This link can been seen in the circle notation since the QPU register state only contains entries where the XOR of all three qubits is 0. Formerly this was true of ep and bob, but now it is true for all three qubits forming a three-qubit entangled group.\n",
    "\n",
    "\n",
    "> ### Put the Payload into Superposition\n",
    "\n",
    "![QT-4_PayloadSuperposition](img/QT-4_PayloadSuperposition.png \"QT-4_PayloadSuperposition\")\n",
    "\n",
    "> To make the link that Alice has created for her payload actually useful, **she needs to finish by performing a <font color=\"red\">HAD operation</font> on her payload**. *If Alice hadn’t applied HAD, she would have destroyed magnitude and phase information when applying her READ operations that she will shortly use*. \n",
    "\n",
    "- By applying the HAD operation, Alice was able to maneuver the state of Bob’s qubit closer to that of her payload.\n",
    "\n",
    "\n",
    "> Interestingly, the **four potential states** Bob could receive are **all different variations on Alice’s original payload**: \n",
    "\n",
    "0. In the first column (where alice=0 and ep=0), we have Alice’s payload, **exactly as she prepared it**.  \n",
    "0. In the second column, we have the same thing, **except with a PHASE(180) applied**.  \n",
    "0. In the third column, we see the correct payload, but with a **NOT** having been applied to it **(∣0⟩ and ∣1⟩ are flipped)**.  \n",
    "0. Finally, the last column is **both phase-shifted and flipped** (i.e., a PHASE(180) followed by a NOT).\n",
    "\n",
    "> ### Read Both of Alices Qubits\n",
    "\n",
    "![QT-5_ReadBothAliceQBs](img/QT-5_ReadBothAliceQBs.png \"QT-5_ReadBothAliceQBs\")\n",
    "\n",
    "\n",
    "> Next, **Alice performs a READ operation on her two qubits** (the payload and her half of the entangled pair she shares with Bob). This READ irrevocably destroys both these qubits. You may wonder why Alice bothers to do this. As it turns out that **the results of this unavoidably destructive READ operation are crucial for the teleportation protocol to work**. <font color=\"red\">Copying quantum states is not possible, even when using entanglement</font>. *The only option to communicate quantum states is to teleport them, and when teleporting, we must destroy the original*.\n",
    "\n",
    "> Alice performs the *prescribed READ operations on her payload and her half of the entangled pair*. This operation returns **two bits**.\n",
    "\n",
    "> ### Receive and Transform\n",
    "\n",
    "![QT-6_ReceiveTransform](img/QT-6_ReceiveTransform.png \"QT-6_ReceiveTransform\")\n",
    "\n",
    "\n",
    "> **Bob’s qubit could end up in one of <font color=\"red\">four</font> states** — each of which is simply related to Alice’s payload by HAD and/or PHASE(180) operations. If Bob could learn which of these <font color=\"red\">four</font> states he possessed, he could apply the necessary **inverse operations** to convert it back to Alice’s original payload. \n",
    "\n",
    "*And the **two bits** Alice has from her **READ** operations are precisely the information that Bob needs!* \n",
    "\n",
    "- <font color=\"red\">Note</font>: So at this stage, Alice picks up the <font color=\"red\">phone</font> and transmits two bits of conventional information to Bob.\n",
    "\n",
    "\n",
    "> Based on which two bits he receives, Bob knows which column from our circle-notation view represents his qubit. \n",
    "- If the first bit he receives from Alice is 1, he performs a **NOT** operation on the qubit. \n",
    "- Then, if the second bit is 1 he also performs a **PHASE(180)**.\n",
    "\n",
    "\n",
    "#### This completes the teleportation protocol — Bob now holds a qubit indistinguishable from Alice’s initial payload.\n",
    "\n",
    "> ### Verify the Result\n",
    "\n",
    "![QT-7_VerifyResult](img/QT-7_VerifyResult.png \"QT-7_VerifyResult\")\n",
    "\n",
    "<br>\n",
    "\n",
    "> If Alice and Bob were using this teleportation in serious work, they’d be finished. *Bob would take the teleported qubit from Alice and continue to use it in whatever larger quantum application they were working on.* So long as they trust their QPU hardware, they can rest assured that Bob has the qubit Alice intended.\n",
    "\n",
    "\n",
    "> **In the cases where we’d like to verify that the hardware has teleported a qubit correctly** - Our only option is to READ Bob’s final qubit. Of course, we can never expect to learn (and therefore verify) the state of his qubit from a **single READ**, but **by repeating the whole teleportation process and doing multiple READ's we can start to build up a picture of Bob’s state**. \n",
    "\n",
    "- In fact, the easiest way for us to verify the teleportation protocol’s success on a physical device would be for Bob to run the “prep the payload” steps that Alice performs on a |0> state to create her payload, on his final qubit, only in reverse. \n",
    "\n",
    "- If the qubit Bob has truly matches the one Alice sent, this should leave Bob with a |0> state, and if Bob then performs a final verification READ, it should only ever return a 0. \n",
    "\n",
    "- *If Bob ever READs this test qubit as nonzero, the teleportation has failed.*"
   ]
  },
  {
   "cell_type": "markdown",
   "metadata": {},
   "source": [
    "### Using **<font color=\"blue\">QCEngine</font>** to Explore Quantum Teleportation\n",
    "\n",
    "> **NOTICE** - After understanding the basics of Quantum Teleportation, observe how that gets implemented in the circuit.\n",
    "\n",
    "- Run the program and follow the narrative listed above in the behavior of the circle plots. Observe the different results and step through the circuit to inspect the different stages of the teleportation operation."
   ]
  },
  {
   "cell_type": "markdown",
   "metadata": {},
   "source": [
    "# <font color=\"blue\">QCEngine</font>\n",
    "\n",
    "> ### <font color=\"red\">Full Screen Mode</font>:\n",
    "\n",
    "- https://oreilly-qc.github.io?p=4-1"
   ]
  },
  {
   "cell_type": "code",
   "execution_count": 1,
   "metadata": {
    "scrolled": false
   },
   "outputs": [
    {
     "data": {
      "text/html": [
       "\n",
       "        <iframe\n",
       "            width=\"900\"\n",
       "            height=\"900\"\n",
       "            src=\"https://oreilly-qc.github.io?p=4-1\"\n",
       "            frameborder=\"0\"\n",
       "            allowfullscreen\n",
       "        ></iframe>\n",
       "        "
      ],
      "text/plain": [
       "<IPython.lib.display.IFrame at 0x7faa48536400>"
      ]
     },
     "execution_count": 1,
     "metadata": {},
     "output_type": "execute_result"
    }
   ],
   "source": [
    "from IPython.display import IFrame\n",
    "IFrame(src='https://oreilly-qc.github.io?p=4-1', width=900, height=900)"
   ]
  },
  {
   "cell_type": "markdown",
   "metadata": {},
   "source": [
    "### Using **<font color=\"blue\">QUIRK</font>** to Explore Quantum Teleportation\n",
    "\n",
    "> **NOTICE** - The \"message\" gate provides insight into how the teleporting of the state of the qubit occures - follow it through the circuit.\n",
    "\n",
    "- Match the similar components from the QCEngine's implementation of Teleportation to the QUIRK's implementation.\n",
    "\n",
    "- Observe how the QUIRK implementation is different and how the teleportation still works.\n"
   ]
  },
  {
   "cell_type": "code",
   "execution_count": 2,
   "metadata": {},
   "outputs": [
    {
     "data": {
      "text/html": [
       "\n",
       "        <iframe\n",
       "            width=\"1100\"\n",
       "            height=\"700\"\n",
       "            src=\"https://algassert.com/quirk#circuit={%22cols%22:[[1,%22H%22],[1,%22%E2%80%A2%22,1,1,%22X%22],[%22%E2%80%A6%22,%22%E2%80%A6%22],[%22~87lj%22],[%22Bloch%22],[%22%E2%80%A2%22,%22X%22],[%22H%22],[%22Measure%22,%22Measure%22],[%22Bloch%22,%22Bloch%22],[1,%22%E2%80%A2%22,1,1,%22X%22],[%22%E2%80%A2%22,1,1,1,%22Z%22]],%22gates%22:[{%22id%22:%22~87lj%22,%22name%22:%22message%22,%22circuit%22:{%22cols%22:[[%22e^-iYt%22],[%22X^t%22]]}},{%22id%22:%22~f7c0%22,%22name%22:%22received%22,%22matrix%22:%22{{1,0},{0,1}}%22}]}\"\n",
       "            frameborder=\"0\"\n",
       "            allowfullscreen\n",
       "        ></iframe>\n",
       "        "
      ],
      "text/plain": [
       "<IPython.lib.display.IFrame at 0x7faa08738d60>"
      ]
     },
     "execution_count": 2,
     "metadata": {},
     "output_type": "execute_result"
    }
   ],
   "source": [
    "# QUIRK (Quantum Curcuit Simulator) \n",
    "from IPython.display import IFrame\n",
    "IFrame(src='https://algassert.com/quirk#circuit={%22cols%22:[[1,%22H%22],[1,%22%E2%80%A2%22,1,1,%22X%22],[%22%E2%80%A6%22,%22%E2%80%A6%22],[%22~87lj%22],[%22Bloch%22],[%22%E2%80%A2%22,%22X%22],[%22H%22],[%22Measure%22,%22Measure%22],[%22Bloch%22,%22Bloch%22],[1,%22%E2%80%A2%22,1,1,%22X%22],[%22%E2%80%A2%22,1,1,1,%22Z%22]],%22gates%22:[{%22id%22:%22~87lj%22,%22name%22:%22message%22,%22circuit%22:{%22cols%22:[[%22e^-iYt%22],[%22X^t%22]]}},{%22id%22:%22~f7c0%22,%22name%22:%22received%22,%22matrix%22:%22{{1,0},{0,1}}%22}]}', width=1100, height=700)"
   ]
  },
  {
   "cell_type": "markdown",
   "metadata": {},
   "source": [
    "### Using **<font color=\"blue\">QISKIT</font>** to Explore Quantum Teleportation\n",
    "\n",
    "> **NOTICE** - Compare this circuit to the corresponding QCEngine circuit and follow the architecture, execution, and resulting curcuit.\n",
    "- Note some oddities like the **C_IF** statement. Would that work in real hawdware?\n",
    "\n",
    "- Note the differences in implementation and inspection capabilities.\n"
   ]
  },
  {
   "cell_type": "markdown",
   "metadata": {},
   "source": [
    "### <font color=\"blue\">Setup</font>"
   ]
  },
  {
   "cell_type": "code",
   "execution_count": 3,
   "metadata": {},
   "outputs": [],
   "source": [
    "# Import Qiskit, and set up a Quantum register of 1 Qubit, and set up a Quantum Circuit w/that register\n",
    "# Note the Helper Functions\n",
    "\n",
    "import numpy as np\n",
    "from qiskit import QuantumCircuit, QuantumRegister, ClassicalRegister, execute, Aer, IBMQ, BasicAer\n",
    "import math\n",
    "import cmath\n",
    "import math\n",
    "import matplotlib.pyplot as P\n",
    "import matplotlib.pyplot as plt\n",
    "\n",
    "\n",
    "# Helper Funtion for Normalizing State Vectors\n",
    "#\n",
    "def normalize_state_Vector(state_vector):\n",
    "    for result in state_vector:\n",
    "        print(\"Normalized Result: \" , round( np.abs(result)**2, 1) )\n",
    "        \n",
    "        \n",
    "# Helper Funtion for print Polar Phase(s)\n",
    "#      \n",
    "def plot_polar(state_vector):\n",
    "    pi_radians = 180;\n",
    "    for x in state_vector:\n",
    "        plt.polar([0,cmath.phase(x)],[0,abs(x)],marker='o')\n",
    "        print(\"The original complex number Re{%d}, Im{%d}, and Length : %f\" % (x.real, x.imag, abs(x)))\n",
    "        print(\"Phase: \",cmath.phase(x))\n",
    "        if cmath.phase(x) != 0:\n",
    "            print(\"Angle: \", pi_radians/(np.pi/cmath.phase(x)))\n",
    "    \n",
    "## Uncomment the next line to see diagrams when running in a notebook\n",
    "%matplotlib inline    "
   ]
  },
  {
   "cell_type": "markdown",
   "metadata": {},
   "source": [
    "### <font color=\"blue\">Setup the Circuit</font>"
   ]
  },
  {
   "cell_type": "code",
   "execution_count": 4,
   "metadata": {},
   "outputs": [],
   "source": [
    "## Example 4-1: Basic Teleportation\n",
    "\n",
    "# Set up the program\n",
    "\n",
    "# Quantum Registers\n",
    "alice = QuantumRegister(1, name='alice')    # ALICE\n",
    "ep    = QuantumRegister(1, name='ep')       # Entangled Photons\n",
    "bob   = QuantumRegister(1, name='bob')      # BOB\n",
    "\n",
    "# Classical Registers\n",
    "alice_c = ClassicalRegister(1, name='alicec')\n",
    "ep_c    = ClassicalRegister(1, name='epc')\n",
    "bob_c   = ClassicalRegister(1, name='bobc')\n",
    "\n",
    "# Quantum Circuit\n",
    "qc = QuantumCircuit(alice, ep, bob, alice_c, ep_c, bob_c)"
   ]
  },
  {
   "cell_type": "markdown",
   "metadata": {},
   "source": [
    "### <font color=\"blue\">Entangle the key qubits (EP: Entangled Photons) in the circuit</font>\n",
    "- To establish the quantum communication connection"
   ]
  },
  {
   "cell_type": "code",
   "execution_count": 5,
   "metadata": {},
   "outputs": [
    {
     "data": {
      "text/plain": [
       "<qiskit.circuit.instructionset.InstructionSet at 0x7faa0875c6a0>"
      ]
     },
     "execution_count": 5,
     "metadata": {},
     "output_type": "execute_result"
    }
   ],
   "source": [
    "# entangle the key qubits (EP: Entangled Photons) in the circuit\n",
    "#\n",
    "qc.h(ep)\n",
    "qc.cx(ep, bob)\n",
    "qc.barrier()"
   ]
  },
  {
   "cell_type": "markdown",
   "metadata": {},
   "source": [
    "### <font color=\"blue\">Prepare the Payload</font>: R<font color=\"red\">z</font>(45dgs)"
   ]
  },
  {
   "cell_type": "code",
   "execution_count": 6,
   "metadata": {},
   "outputs": [
    {
     "data": {
      "text/plain": [
       "<qiskit.circuit.instructionset.InstructionSet at 0x7faa0875a0a0>"
      ]
     },
     "execution_count": 6,
     "metadata": {},
     "output_type": "execute_result"
    }
   ],
   "source": [
    "# prep payload\n",
    "qc.reset(alice)\n",
    "qc.h(alice)\n",
    "qc.rz(math.radians(45), alice)  # This is the Payload Rz(45dgs)\n",
    "qc.h(alice)\n",
    "qc.barrier()"
   ]
  },
  {
   "cell_type": "markdown",
   "metadata": {},
   "source": [
    "### <font color=\"blue\">Send the State of Alices Qubit</font>"
   ]
  },
  {
   "cell_type": "code",
   "execution_count": 7,
   "metadata": {},
   "outputs": [
    {
     "data": {
      "text/plain": [
       "<qiskit.circuit.instructionset.InstructionSet at 0x7faa0875a160>"
      ]
     },
     "execution_count": 7,
     "metadata": {},
     "output_type": "execute_result"
    }
   ],
   "source": [
    "# send the state of Alices Qubit\n",
    "# \n",
    "qc.cx(alice, ep)\n",
    "qc.h(alice)\n",
    "qc.measure(alice, alice_c)\n",
    "qc.measure(ep, ep_c)\n",
    "qc.barrier()"
   ]
  },
  {
   "cell_type": "markdown",
   "metadata": {},
   "source": [
    "### <font color=\"blue\">Bob receives Alices Qubit's STATE</font>\n",
    "- For a primer on QISKIT's **<font color=\"red\">C_IF</font>** statement:\n",
    "> - https://quantumcomputing.stackexchange.com/questions/9372/how-to-implement-if-statement-based-on-measurement-results-in-qiskit"
   ]
  },
  {
   "cell_type": "code",
   "execution_count": 8,
   "metadata": {},
   "outputs": [
    {
     "data": {
      "text/plain": [
       "<qiskit.circuit.instructionset.InstructionSet at 0x7faa08738610>"
      ]
     },
     "execution_count": 8,
     "metadata": {},
     "output_type": "execute_result"
    }
   ],
   "source": [
    "# Bob receives Alices Qubits State\n",
    "#\n",
    "qc.x(bob).c_if(ep_c, 1)\n",
    "qc.z(bob).c_if(alice_c, 1)"
   ]
  },
  {
   "cell_type": "markdown",
   "metadata": {},
   "source": [
    "### <font color=\"blue\">Verify the receipt of the STATE</font>"
   ]
  },
  {
   "cell_type": "code",
   "execution_count": 9,
   "metadata": {},
   "outputs": [
    {
     "data": {
      "text/plain": [
       "<qiskit.circuit.instructionset.InstructionSet at 0x7faa38acfb80>"
      ]
     },
     "execution_count": 9,
     "metadata": {},
     "output_type": "execute_result"
    }
   ],
   "source": [
    "# verify the receipt of the state\n",
    "#\n",
    "qc.h(bob)\n",
    "qc.rz(math.radians(-45), bob)\n",
    "qc.h(bob)\n",
    "qc.measure(bob, bob_c)"
   ]
  },
  {
   "cell_type": "markdown",
   "metadata": {},
   "source": [
    "### <font color=\"blue\">Execute batch Job, get results.</font>"
   ]
  },
  {
   "cell_type": "code",
   "execution_count": 10,
   "metadata": {},
   "outputs": [
    {
     "name": "stdout",
     "output_type": "stream",
     "text": [
      "[0.+0.j 0.+0.j 0.+0.j 1.-0.j 0.+0.j 0.+0.j 0.+0.j 0.+0.j]\n"
     ]
    }
   ],
   "source": [
    "backend = BasicAer.get_backend('statevector_simulator')\n",
    "job = execute(qc, backend)\n",
    "result = job.result()\n",
    "\n",
    "outputstate = result.get_statevector(qc, decimals=3)\n",
    "print(outputstate)"
   ]
  },
  {
   "cell_type": "markdown",
   "metadata": {},
   "source": [
    "### <font color=\"blue\">Print COUNTS.</font>"
   ]
  },
  {
   "cell_type": "code",
   "execution_count": 12,
   "metadata": {},
   "outputs": [
    {
     "name": "stdout",
     "output_type": "stream",
     "text": [
      "counts: {'0 1 1': 1}\n"
     ]
    }
   ],
   "source": [
    "counts = result.get_counts(qc)\n",
    "print('counts:',counts)"
   ]
  },
  {
   "cell_type": "markdown",
   "metadata": {},
   "source": [
    "### <font color=\"blue\">Print Qstate and Normalized State Vector.</font>"
   ]
  },
  {
   "cell_type": "code",
   "execution_count": 13,
   "metadata": {
    "scrolled": false
   },
   "outputs": [
    {
     "name": "stdout",
     "output_type": "stream",
     "text": [
      "Output State:  [0.+0.j 0.+0.j 0.+0.j 1.-0.j 0.+0.j 0.+0.j 0.+0.j 0.+0.j] \n",
      "\n",
      "Normalized Result:  0.0\n",
      "Normalized Result:  0.0\n",
      "Normalized Result:  0.0\n",
      "Normalized Result:  1.0\n",
      "Normalized Result:  0.0\n",
      "Normalized Result:  0.0\n",
      "Normalized Result:  0.0\n",
      "Normalized Result:  0.0\n"
     ]
    },
    {
     "data": {
      "image/png": "[encoded data removed]",
      "text/plain": [
       "<Figure size 1205.67x385.28 with 1 Axes>"
      ]
     },
     "execution_count": 13,
     "metadata": {},
     "output_type": "execute_result"
    }
   ],
   "source": [
    "outputstate = result.get_statevector(qc, decimals=3)\n",
    "print(\"Output State: \", outputstate, \"\\n\")\n",
    "\n",
    "normalize_state_Vector(outputstate)\n",
    "qc.draw(output='mpl')        # draw the circuit"
   ]
  },
  {
   "cell_type": "markdown",
   "metadata": {},
   "source": [
    "### <font color=\"blue\">Print Circle Plots.</font>"
   ]
  },
  {
   "cell_type": "code",
   "execution_count": 14,
   "metadata": {},
   "outputs": [
    {
     "data": {
      "image/png": "[encoded data removed]",
      "text/plain": [
       "<Figure size 1152x144 with 8 Axes>"
      ]
     },
     "metadata": {
      "needs_background": "light"
     },
     "output_type": "display_data"
    }
   ],
   "source": [
    "# Print out Circle Notation for intuitions sake\n",
    "\n",
    "from circle_plot import *\n",
    "plot_circles(outputstate)"
   ]
  },
  {
   "cell_type": "code",
   "execution_count": null,
   "metadata": {},
   "outputs": [],
   "source": []
  },
  {
   "cell_type": "markdown",
   "metadata": {},
   "source": [
    "# <font color=\"red\">Graded Exercises</font>  for use <font color=\"blue\">with structured courses.</font>"
   ]
  },
  {
   "cell_type": "markdown",
   "metadata": {},
   "source": [
    "# <font color=\"blue\">QUIRK</font>\n",
    "> Inspect the circuit below carefully - it's a modification of the above QUIRK Stock Teleportation Circuit.\n",
    "- Its recommended to use full screen mode! \n",
    "\n",
    "### When finished continue below.\n",
    "\n",
    "> ### <font color=\"red\">Full Screen Mode</font>:\n",
    "\n",
    "> - https://algassert.com/quirk#circuit={%22cols%22:[[1,%22H%22],[1,%22%E2%80%A2%22,%22X%22],[%22%E2%80%A6%22,%22%E2%80%A6%22,%22%E2%80%A6%22],[%22~87lj%22],[%22Bloch%22],[%22Chance%22],[%22%E2%80%A6%22,%22%E2%80%A6%22,%22%E2%80%A6%22],[%22%E2%80%A2%22,%22X%22],[%22H%22],[%22Measure%22,%22Measure%22],[%22Bloch%22,%22Bloch%22,%22Bloch%22],[%22%E2%80%A6%22,%22%E2%80%A6%22,%22%E2%80%A6%22],[1,%22%E2%80%A2%22,%22X%22],[%22%E2%80%A2%22,1,%22Z%22],[%22%E2%80%A6%22,%22%E2%80%A6%22,%22%E2%80%A6%22]],%22gates%22:[{%22id%22:%22~87lj%22,%22name%22:%22message%22,%22circuit%22:{%22cols%22:[[%22e^-iYt%22],[%22X^t%22]]}},{%22id%22:%22~f7c0%22,%22name%22:%22received%22,%22matrix%22:%22{{1,0},{0,1}}%22}]}\n",
    "\n",
    "\n"
   ]
  },
  {
   "cell_type": "code",
   "execution_count": 15,
   "metadata": {},
   "outputs": [
    {
     "data": {
      "text/html": [
       "\n",
       "        <iframe\n",
       "            width=\"900\"\n",
       "            height=\"600\"\n",
       "            src=\"https://algassert.com/quirk#circuit={%22cols%22:[[1,%22H%22],[1,%22%E2%80%A2%22,%22X%22],[%22%E2%80%A6%22,%22%E2%80%A6%22,%22%E2%80%A6%22],[%22~87lj%22],[%22Bloch%22],[%22Chance%22],[%22%E2%80%A6%22,%22%E2%80%A6%22,%22%E2%80%A6%22],[%22%E2%80%A2%22,%22X%22],[%22H%22],[%22Measure%22,%22Measure%22],[%22Bloch%22,%22Bloch%22,%22Bloch%22],[%22%E2%80%A6%22,%22%E2%80%A6%22,%22%E2%80%A6%22],[1,%22%E2%80%A2%22,%22X%22],[%22%E2%80%A2%22,1,%22Z%22],[%22%E2%80%A6%22,%22%E2%80%A6%22,%22%E2%80%A6%22]],%22gates%22:[{%22id%22:%22~87lj%22,%22name%22:%22message%22,%22circuit%22:{%22cols%22:[[%22e^-iYt%22],[%22X^t%22]]}},{%22id%22:%22~f7c0%22,%22name%22:%22received%22,%22matrix%22:%22{{1,0},{0,1}}%22}]}\"\n",
       "            frameborder=\"0\"\n",
       "            allowfullscreen\n",
       "        ></iframe>\n",
       "        "
      ],
      "text/plain": [
       "<IPython.lib.display.IFrame at 0x7faa19013940>"
      ]
     },
     "execution_count": 15,
     "metadata": {},
     "output_type": "execute_result"
    }
   ],
   "source": [
    "# QUIRK (Quantum Curcuit Simulator) \n",
    "from IPython.display import IFrame\n",
    "IFrame(src='https://algassert.com/quirk#circuit={%22cols%22:[[1,%22H%22],[1,%22%E2%80%A2%22,%22X%22],[%22%E2%80%A6%22,%22%E2%80%A6%22,%22%E2%80%A6%22],[%22~87lj%22],[%22Bloch%22],[%22Chance%22],[%22%E2%80%A6%22,%22%E2%80%A6%22,%22%E2%80%A6%22],[%22%E2%80%A2%22,%22X%22],[%22H%22],[%22Measure%22,%22Measure%22],[%22Bloch%22,%22Bloch%22,%22Bloch%22],[%22%E2%80%A6%22,%22%E2%80%A6%22,%22%E2%80%A6%22],[1,%22%E2%80%A2%22,%22X%22],[%22%E2%80%A2%22,1,%22Z%22],[%22%E2%80%A6%22,%22%E2%80%A6%22,%22%E2%80%A6%22]],%22gates%22:[{%22id%22:%22~87lj%22,%22name%22:%22message%22,%22circuit%22:{%22cols%22:[[%22e^-iYt%22],[%22X^t%22]]}},{%22id%22:%22~f7c0%22,%22name%22:%22received%22,%22matrix%22:%22{{1,0},{0,1}}%22}]}', width=900, height=600)"
   ]
  },
  {
   "cell_type": "code",
   "execution_count": null,
   "metadata": {},
   "outputs": [],
   "source": []
  },
  {
   "cell_type": "markdown",
   "metadata": {},
   "source": [
    "### Notice that it's functionally equivalent to the QCEngine's teleportation circuit, except for the message it sends and that the message isn't verified.\n",
    "- Pay particular attention to two widgets of the QUIRK Circuit:\n",
    "> 0.  **Bloch Sphere Representation** widget\n",
    "> 0.  **Chance of being ON if Measured** widget\n",
    "\n",
    "- Notice how they **move in concert with each other**\n",
    "- Therefore, we should be able to send **ANY** (suitable) message across the Teleportation Circuit\n",
    "\n",
    "\n",
    "Inspect the individual circuits to be sure.\n",
    "\n",
    "\n",
    "<BR>\n",
    "    \n",
    "![Entanglement-QUIRK_HW-Circuit](img/Entanglement-QUIRK_HW-Circuit.png \"\")\n",
    "\n",
    "<BR>\n",
    "    \n",
    "![QT_CompleteCircuit](img/QT_CompleteCircuit.png \"Basic TeleportationQT_CompleteCircuit\")"
   ]
  },
  {
   "cell_type": "markdown",
   "metadata": {},
   "source": [
    "## <font color=\"red\">Your Task:</font>\n",
    "\n",
    "\n",
    "Reconstruct the above QUIRK circuit modifying the **MESSAGE WIDGET**, by swapping it out with following Gates:\n",
    "\n",
    "> 0.  **H**\n",
    "> 0.  **Y**\n",
    "> 0.  **Z**\n",
    "> 0. **NOT** \n",
    "> 0. **S**\n",
    "> 0. **T**\n",
    "\n",
    "#### To convince yourself that the circuit actually transferred the state of the Payload Qubit.\n",
    "\n",
    "<BR>"
   ]
  },
  {
   "cell_type": "code",
   "execution_count": 48,
   "metadata": {},
   "outputs": [
    {
     "data": {
      "text/html": [
       "\n",
       "        <iframe\n",
       "            width=\"900\"\n",
       "            height=\"600\"\n",
       "            src=\"https://algassert.com/quirk#circuit={%22cols%22:[[1,%22H%22],[1,%22%E2%80%A2%22,%22X%22],[%22%E2%80%A6%22,%22%E2%80%A6%22,%22%E2%80%A6%22],[%22~87lj%22],[%22Bloch%22],[%22Chance%22],[%22%E2%80%A6%22,%22%E2%80%A6%22,%22%E2%80%A6%22],[%22%E2%80%A2%22,%22X%22],[%22H%22],[%22Measure%22,%22Measure%22],[%22Bloch%22,%22Bloch%22,%22Bloch%22],[%22%E2%80%A6%22,%22%E2%80%A6%22,%22%E2%80%A6%22],[1,%22%E2%80%A2%22,%22X%22],[%22%E2%80%A2%22,1,%22Z%22],[%22%E2%80%A6%22,%22%E2%80%A6%22,%22%E2%80%A6%22]],%22gates%22:[{%22id%22:%22~87lj%22,%22name%22:%22message%22,%22circuit%22:{%22cols%22:[[%22e^-iYt%22],[%22X^t%22]]}},{%22id%22:%22~f7c0%22,%22name%22:%22received%22,%22matrix%22:%22{{1,0},{0,1}}%22}]}\"\n",
       "            frameborder=\"0\"\n",
       "            allowfullscreen\n",
       "        ></iframe>\n",
       "        "
      ],
      "text/plain": [
       "<IPython.lib.display.IFrame at 0x1c66b0d8080>"
      ]
     },
     "execution_count": 48,
     "metadata": {},
     "output_type": "execute_result"
    }
   ],
   "source": [
    "# QUIRK (Quantum Curcuit Simulator) \n",
    "from IPython.display import IFrame\n",
    "IFrame(src='https://algassert.com/quirk#circuit={%22cols%22:[[1,%22H%22],[1,%22%E2%80%A2%22,%22X%22],[%22%E2%80%A6%22,%22%E2%80%A6%22,%22%E2%80%A6%22],[%22~87lj%22],[%22Bloch%22],[%22Chance%22],[%22%E2%80%A6%22,%22%E2%80%A6%22,%22%E2%80%A6%22],[%22%E2%80%A2%22,%22X%22],[%22H%22],[%22Measure%22,%22Measure%22],[%22Bloch%22,%22Bloch%22,%22Bloch%22],[%22%E2%80%A6%22,%22%E2%80%A6%22,%22%E2%80%A6%22],[1,%22%E2%80%A2%22,%22X%22],[%22%E2%80%A2%22,1,%22Z%22],[%22%E2%80%A6%22,%22%E2%80%A6%22,%22%E2%80%A6%22]],%22gates%22:[{%22id%22:%22~87lj%22,%22name%22:%22message%22,%22circuit%22:{%22cols%22:[[%22e^-iYt%22],[%22X^t%22]]}},{%22id%22:%22~f7c0%22,%22name%22:%22received%22,%22matrix%22:%22{{1,0},{0,1}}%22}]}', width=900, height=600)"
   ]
  },
  {
   "cell_type": "markdown",
   "metadata": {},
   "source": [
    "\n",
    "**<font color=\"red\">RESULTS</font>** - what was the state that was transferred by each of these PayLoads?\n",
    "- Some did not appear to transfer anything? It is important to realize why that was - **Why did that happen**?\n",
    "\n",
    "**<font color=\"red\">Record your answers below</font>** \n",
    "\n",
    "\n",
    "> 0.  **H** : No State Transferred, chance of transfer was 50%. When sent |- it is ON and 100% transferred.\n",
    "> 0.  **Y** : On, Chance of Transfer is 100%\n",
    "> 0.  **Z** : No State Transferred\n",
    "> 0. **NOT** : On, Chance of Transfer is 100%\n",
    "> 0. **S** : No State Transferred\n",
    "> 0. **T** : No State Transferred\n",
    "\n",
    "**Why did some states not appear to transfer anything?**\n",
    "The Gates Z, S, T are actually not passing any value to be transferred. If we transfer |1, then they are set to ON and perform the Teleportation.\n",
    "<BR><BR>"
   ]
  },
  {
   "cell_type": "markdown",
   "metadata": {},
   "source": [
    "![the-end](img/the-end.png \"the-end\")"
   ]
  }
 ],
 "metadata": {
  "kernelspec": {
   "display_name": "Python 3 (ipykernel)",
   "language": "python",
   "name": "python3"
  },
  "language_info": {
   "codemirror_mode": {
    "name": "ipython",
    "version": 3
   },
   "file_extension": ".py",
   "mimetype": "text/x-python",
   "name": "python",
   "nbconvert_exporter": "python",
   "pygments_lexer": "ipython3",
   "version": "3.9.0"
  },
  "toc": {
   "base_numbering": 1,
   "nav_menu": {},
   "number_sections": true,
   "sideBar": true,
   "skip_h1_title": false,
   "title_cell": "Table of Contents",
   "title_sidebar": "Contents",
   "toc_cell": false,
   "toc_position": {},
   "toc_section_display": true,
   "toc_window_display": false
  }
 },
 "nbformat": 4,
 "nbformat_minor": 2
}
