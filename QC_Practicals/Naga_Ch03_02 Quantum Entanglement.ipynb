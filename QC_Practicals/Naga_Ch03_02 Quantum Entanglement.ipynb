{
 "cells": [
  {
   "cell_type": "markdown",
   "metadata": {},
   "source": [
    "# Programming Quantum Computers\n",
    "- #### Hands-on Experiential Learning <font color=\"red\">for the Software Engineer</font>"
   ]
  },
  {
   "cell_type": "markdown",
   "metadata": {},
   "source": [
    "# Chapter Ch03_02\n",
    "# <font color=\"red\">Hands-on</font>:  <font color=\"blue\">Entangled Qubits</font> "
   ]
  },
  {
   "cell_type": "markdown",
   "metadata": {},
   "source": [
    "![QC_Programming-red](img/QC_Programming-red.png \"QC_Programming-red\")\n",
    "\n",
    "<BR>\n",
    "    \n",
    "<font color=\"red\">**Notice**</font>: All materials herein were <font color=\"red\">**curated**</font> by **Matthew R. Versaggi (profversaggi@gmail.com)** and are released into the open source to foster growth and welfare of expanding the Quantum Computing domain - the only obligation one incurs when using, copying, distributing or referencing this is to kindly reference the author and send me an email so I know how useful the material is to you.\n",
    "\n",
    "<font color=\"red\">**Notice**</font>: Python Code contributions for the Circle Plots are the work of **David Radcliffe**.\n",
    "\n",
    "## Pedagogical Approach: (<font color=\"red\">**Read this first !**</font>)\n",
    "\n",
    "This material is intended to educate **software engineers** in certain aspects of Quantum Computing, therefore its focus will be on conveying the conceptual ideas in a form digestible to them, and supporting it with exercises to reinforce those concepts. \n",
    "\n",
    "Because of that pedagogical approach, **this material won't lead with or heavily leverage the concepts and language indigenous to physics and math**, but only in those terms most easily digestible to the modern software engineer.\n",
    "\n",
    "This Jupyter Notebook is <font color=\"red\">**not intended as a stand alone educational vehicle**</font>  - it's meant to be accompanied by a decicated power point deck that contains the main concepts to be presented by an instructor - **it is intended as a vehicle for a hands on workshop environment to facilitate learning through a guided experience.**\n",
    "\n",
    "> **Note:-** Because of the above educational approach:\n",
    "1. There is a certain amount of basic Quantum Computing knowledge that is assumed.\n",
    "2. An active internet connection is **always** assumed.\n",
    "3. Online references/links will be provided where appropriate\n",
    "4. References to books will be made where appropriate\n",
    "5. Much of this material is **dense and detailed**, the reader is <font color=\"red\">**cautioned**</font> to be careful and slow to digest the *nuances* of the material.\n",
    "\n",
    "## What you will be exposed to - High level: \n",
    "\n",
    "- Software engineers in the Quantum Computing space need to **<font color=\"blue\">gain a mastery of the simulation frameworks and tools used to understand and solve problems quantumly</font>**. Under the hood, the **<font color=\"red\">simulators mathematically represent the \"Ideal\" manifestations of quantum hardware</font>** that (theoretically) the \"Actual\" quantum hardware would behave exactly like. For the software engineer, this is the preferred situation as it permits them to understand and solve problems w/out being bound to the limitations of the hardware as it matures.\n",
    "\n",
    "\n",
    "- Given the above, there are a host of technical concepts that need to be **<font color=\"red\">understood experientially</font>** - we'll intentionally employ a vendor / framework agnostic approach to focus on the delivery of concept understanding and intuition procurement as the main value-add.\n",
    "\n",
    "\n",
    "## Accompanying Text:\n",
    "\n",
    "<BR>\n",
    "\n",
    "<a href=\"https://www.amazon.com/Programming-Quantum-Computers-Essential-Algorithms/dp/1492039683\" target=\"_blank\"><img src=\"img/OreillyBookImage-small.png\" height=\"250\" align=left style=\"padding:15px;\"></a>\n",
    "\n",
    "\n",
    "> The core materials leveraged in this Jupyter Notebook comes from the following book, and is required reading to engage in the problem sets covered.\n",
    "\n",
    "> The problem sets contained here will be expanded versions of the exercises contained in the book for sake of gaining intuition about the particular concept in question through leveraging various 'other' frameworks, tools, and instruments indigenous to the quantum programming space. \n",
    "\n",
    "\n",
    "> The core idea is that the various \"simulators\" circuitry (underlying mathematical representations) is considered the \"Ideal\" at the time of this JNB's construction, and therefore are the bect tools we have to address the problems we are interested in. To avoid being constrained by any particular framework, tool set, and software instruments, the idea is to leverage a host of appropriate \"tools\" when addressing any particular concept, problem or issue to remaind technology agnostic, but concept and intuition rich.\n",
    "\n",
    "\n",
    "- **Note:** The problems explored are organized and ordered according to chapter.\n",
    "\n",
    "<BR>\n",
    "\n",
    "**<font color=\"red\" size=4>Notice</font>:** - Prior to embarking on this notebook the reader is **highly encouraged to procure a <font color=\"red\" size=4>reasonable</font> <font color=\"blue\" size=4>introduction</font>** to the following key programming (and circuit) frameworks used:\n",
    "\n",
    "0. <a href=\"https://oreilly-qc.github.io/\" target=\"_blank\"><font color=\"blue\" size=4>QCEngine</font></a>\n",
    "0. <a href=\"https://qiskit.org/textbook/preface.html\" target=\"_blank\"><font color=\"blue\" size=4>Qiskit Tutorial</font></a>, <a href=\"https://qiskit.org/\" target=\"_blank\"><font color=\"blue\" size=4>Qiskit Home</font></a>\n",
    "0. <a href=\"https://algassert.com/quirk\" target=\"_blank\"><font color=\"blue\">QUIRK</font></a>\n",
    "\n",
    "# <font color=\"red\">Example Problem(s):</font> \n",
    "\n",
    "**This example problem is archetypal** of how the exercises highlighted in the book can be expanded to include a host of other tools that help build understanding and intuition of the concepts being explored. \n",
    "\n",
    "- The <font color=\"blue\">QCEngine</font> is a staple, but the <font color=\"blue\">Bloch Sphere Playground Application</font>, the <font color=\"blue\">Quantum Gate Playground</font>, <font color=\"blue\">QUIRK</font>, and <font color=\"blue\">Qiskit</font> are also instructive to leverage when persuing intuition about the concept and will be often used."
   ]
  },
  {
   "cell_type": "markdown",
   "metadata": {},
   "source": [
    "# Entangles Qubits"
   ]
  },
  {
   "cell_type": "markdown",
   "metadata": {},
   "source": [
    "# Developmental Detour : -  <font color=\"blue\">Quantum Entanglement</font>\n",
    "\n",
    "- **<font color=\"red\">Definition:</font>** *Quantum entanglement is a quantum mechanical phenomenon* in which **the quantum states of two or more objects have to be described with reference to each other (aka - a <font color=\"red\">shared</font> state amoung them)**, even though the individual objects may be spatially separated.\n",
    "\n",
    "\n",
    "- Reasonable Metaphor: **Marriage**. What affects one qubit, affects the other in the **opposite manner** after \"measurement\".\n",
    "\n",
    "\n",
    "- The entangled quantum (shared) states **grow exponentially with the number of qubits added** to the system.\n",
    "\n",
    "- **Gaining access** to these entangled quantum states is the **key to exploiting** the exponential large computational power of quantum systems.\n",
    "\n",
    "\n",
    "- Quantum entanglement has applications in the emerging technologies of quantum computing and quantum cryptography, and has been used to realize quantum teleportation experimentally.\n",
    "\n",
    "<BR>\n",
    "    \n",
    "    \n",
    "#### Definition:    \n",
    "- https://www.sciencedaily.com/terms/quantum_entanglement.htm\n",
    "\n",
    "<BR>\n",
    "\n",
    "![Quantum Entanglement](img/entanglement.png \"Quantum Entanglement\")\n",
    "\n",
    "<BR>\n",
    "    \n",
    "    \n",
    "### Background Videos:\n",
    "\n",
    "#### UNSW: Quantum Computing Concepts – Entanglement Video:\n",
    "- https://www.youtube.com/watch?v=EjdIMBOWCWo&list=PLHSIfioizVW2uC27IFkHlSc-NgvZjBliZ&index=6\n",
    "\n",
    "#### Quantum Entanglement & Spooky Action at a Distance - Video:\n",
    "- https://www.youtube.com/watch?v=ZuvK-od647c\n",
    "\n",
    "\n",
    "\n",
    "\n",
    "> **<font color=\"red\">Note:</font>** Entanglement gives Qunatum Computing the ability to scale **exponentially** - and along with superposition and interference, is a **key differentiator** in quantum computing.\n",
    "\n",
    "- If one qubit simultaneously represents two states, two qubits represents four states when coupled together (entangled). **They can no longer be treated independently**, they now form a coupled (or entangled) super state.\n",
    "\n",
    "\n",
    "- As more qubits link together, the number of states **exponentially increases** - which leads to *astronomically large computing power*.\n"
   ]
  },
  {
   "cell_type": "markdown",
   "metadata": {},
   "source": [
    "![Quantum Entanglement Circuit](img/bells_pair.png \"Quantum Entanglement Circuit\")"
   ]
  },
  {
   "cell_type": "markdown",
   "metadata": {},
   "source": [
    "# <font color=\"blue\">QCEngine</font>\n",
    "- Run the QCEngine Circuit to refamiliarize yourself with the Bell's Pair Entanglement Circuit."
   ]
  },
  {
   "cell_type": "code",
   "execution_count": 1,
   "metadata": {},
   "outputs": [
    {
     "data": {
      "text/html": [
       "\n",
       "        <iframe\n",
       "            width=\"900\"\n",
       "            height=\"900\"\n",
       "            src=\"https://oreilly-qc.github.io?p=3-2\"\n",
       "            frameborder=\"0\"\n",
       "            allowfullscreen\n",
       "        ></iframe>\n",
       "        "
      ],
      "text/plain": [
       "<IPython.lib.display.IFrame at 0x7f88084c7b50>"
      ]
     },
     "execution_count": 1,
     "metadata": {},
     "output_type": "execute_result"
    }
   ],
   "source": [
    "from IPython.display import IFrame\n",
    "IFrame(src='https://oreilly-qc.github.io?p=3-2', width=900, height=900)"
   ]
  },
  {
   "cell_type": "markdown",
   "metadata": {},
   "source": [
    "### Using **<font color=\"blue\">QUIRK</font>** to explore **<font color=\"red\">two</font>** entangled qubits\n",
    "\n",
    "\n",
    "### Move the \"message gate\" up and down each qubit wire \n",
    "- **<font color=\"red\">Observe</font>** how the activity propagates through out the entirety of the entangled circuit\n",
    "- **<font color=\"red\">Notice</font>** the Bloch spheres have **\"given up\"** because the qubits are entangled and can no longer **describe their states independently** - *Instead look at the amplitude display to see the state of the full system*. \n",
    "- **Move** the message gate to both qubits and **observe** that changes to one affect the other (*as they are entangled*)."
   ]
  },
  {
   "cell_type": "code",
   "execution_count": 2,
   "metadata": {},
   "outputs": [
    {
     "data": {
      "text/html": [
       "\n",
       "        <iframe\n",
       "            width=\"900\"\n",
       "            height=\"600\"\n",
       "            src=\"https://algassert.com/quirk#circuit={%22cols%22:[[%22H%22],[%22%E2%80%A2%22,%22X%22],[%22~87lj%22],[%22Bloch%22,%22Bloch%22],[%22Chance2%22],[%22Density2%22],[],[%22Measure%22,%22Measure%22]],%22gates%22:[{%22id%22:%22~87lj%22,%22name%22:%22message%22,%22circuit%22:{%22cols%22:[[%22e^-iYt%22],[%22X^t%22]]}},{%22id%22:%22~f7c0%22,%22name%22:%22received%22,%22matrix%22:%22{{1,0},{0,1}}%22}]}\"\n",
       "            frameborder=\"0\"\n",
       "            allowfullscreen\n",
       "        ></iframe>\n",
       "        "
      ],
      "text/plain": [
       "<IPython.lib.display.IFrame at 0x7f887890dc10>"
      ]
     },
     "execution_count": 2,
     "metadata": {},
     "output_type": "execute_result"
    }
   ],
   "source": [
    "# QUIRK (Quantum Curcuit Simulator) \n",
    "from IPython.display import IFrame\n",
    "IFrame(src='https://algassert.com/quirk#circuit={%22cols%22:[[%22H%22],[%22%E2%80%A2%22,%22X%22],[%22~87lj%22],[%22Bloch%22,%22Bloch%22],[%22Chance2%22],[%22Density2%22],[],[%22Measure%22,%22Measure%22]],%22gates%22:[{%22id%22:%22~87lj%22,%22name%22:%22message%22,%22circuit%22:{%22cols%22:[[%22e^-iYt%22],[%22X^t%22]]}},{%22id%22:%22~f7c0%22,%22name%22:%22received%22,%22matrix%22:%22{{1,0},{0,1}}%22}]}', width=900, height=600)"
   ]
  },
  {
   "cell_type": "markdown",
   "metadata": {},
   "source": [
    "### Using **<font color=\"blue\">QUIRK</font>** to explore **<font color=\"red\">multiple</font>** entangled qubits\n",
    "- **<font color=\"red\">Observe</font>** how the activity propagates through out the entirety of the entangled circuit\n",
    "- **<font color=\"red\">Notice</font>** the Bloch spheres have \"given up\" because the qubits are entangled and can no longer **describe their states independently** - Instead look at the amplitude display to see the state of the full system. "
   ]
  },
  {
   "cell_type": "code",
   "execution_count": 3,
   "metadata": {},
   "outputs": [
    {
     "data": {
      "text/html": [
       "\n",
       "        <iframe\n",
       "            width=\"900\"\n",
       "            height=\"700\"\n",
       "            src=\"https://algassert.com/quirk#circuit={%22cols%22:[[%22H%22],[%22%E2%80%A2%22,%22X%22],[1,%22%E2%80%A2%22,%22X%22],[1,1,%22%E2%80%A2%22,%22X%22],[%22~87lj%22],[%22Bloch%22,%22Bloch%22,%22Bloch%22,%22Bloch%22],[%22Chance4%22],[%22Density4%22],[],[],[],[%22Measure%22,%22Measure%22,%22Measure%22,%22Measure%22]],%22gates%22:[{%22id%22:%22~87lj%22,%22name%22:%22message%22,%22circuit%22:{%22cols%22:[[%22e^-iYt%22],[%22X^t%22]]}},{%22id%22:%22~f7c0%22,%22name%22:%22received%22,%22matrix%22:%22{{1,0},{0,1}}%22}]}\"\n",
       "            frameborder=\"0\"\n",
       "            allowfullscreen\n",
       "        ></iframe>\n",
       "        "
      ],
      "text/plain": [
       "<IPython.lib.display.IFrame at 0x7f887890da60>"
      ]
     },
     "execution_count": 3,
     "metadata": {},
     "output_type": "execute_result"
    }
   ],
   "source": [
    "# QUIRK (Quantum Curcuit Simulator) \n",
    "from IPython.display import IFrame\n",
    "IFrame(src='https://algassert.com/quirk#circuit={%22cols%22:[[%22H%22],[%22%E2%80%A2%22,%22X%22],[1,%22%E2%80%A2%22,%22X%22],[1,1,%22%E2%80%A2%22,%22X%22],[%22~87lj%22],[%22Bloch%22,%22Bloch%22,%22Bloch%22,%22Bloch%22],[%22Chance4%22],[%22Density4%22],[],[],[],[%22Measure%22,%22Measure%22,%22Measure%22,%22Measure%22]],%22gates%22:[{%22id%22:%22~87lj%22,%22name%22:%22message%22,%22circuit%22:{%22cols%22:[[%22e^-iYt%22],[%22X^t%22]]}},{%22id%22:%22~f7c0%22,%22name%22:%22received%22,%22matrix%22:%22{{1,0},{0,1}}%22}]}', width=900, height=700)"
   ]
  },
  {
   "cell_type": "markdown",
   "metadata": {},
   "source": [
    "# <font color=\"blue\">Qiskit</font>\n",
    "\n",
    "### Using **<font color=\"blue\">Qiskit</font>** to explore **<font color=\"red\">two</font>** Entangled Qubits\n",
    "\n",
    "> **NOTICE** - what happens to one qubit happens to the \"entangled\" qubit(s) as well - the outputs counts are **either** (0:0) **or** (1:1).\n",
    "- Run and **re-run** the program multiple times to observe the different results. **Why are they different?**"
   ]
  },
  {
   "cell_type": "markdown",
   "metadata": {},
   "source": [
    "### <font color=\"blue\">Setup</font>"
   ]
  },
  {
   "cell_type": "code",
   "execution_count": 4,
   "metadata": {},
   "outputs": [],
   "source": [
    "from qiskit import QuantumCircuit, QuantumRegister, ClassicalRegister, execute, Aer, IBMQ, BasicAer\n",
    "import math\n",
    "import matplotlib.pyplot as P\n",
    "import matplotlib.pyplot as plt\n",
    "from Our_Qiskit_Functions import *\n",
    "import cmath\n",
    "\n",
    "\n",
    "\n",
    "# Helper Funtion for Normalizing State Vectors\n",
    "#\n",
    "def normalize_state_Vector(state_vector):\n",
    "    print(\"Normalized Result: \")\n",
    "    for result in state_vector:\n",
    "        print(round( np.abs(result)**2, 1) )\n",
    "                  \n",
    "            \n",
    "## Uncomment the next line to see diagrams when running in a notebook\n",
    "%matplotlib inline"
   ]
  },
  {
   "cell_type": "markdown",
   "metadata": {},
   "source": [
    "### <font color=\"blue\">Setup the Circuit</font>"
   ]
  },
  {
   "cell_type": "code",
   "execution_count": 5,
   "metadata": {},
   "outputs": [],
   "source": [
    "## Example 3-2: Entangled Qubits\n",
    "# Set up the program\n",
    "\n",
    "a = QuantumRegister(1, name='a')\n",
    "b = QuantumRegister(1, name='b')\n",
    "\n",
    "a_c = ClassicalRegister(1, name='ac')\n",
    "b_c = ClassicalRegister(1, name='bc')\n",
    "\n",
    "qc = QuantumCircuit(a, b, a_c, b_c)\n"
   ]
  },
  {
   "cell_type": "markdown",
   "metadata": {},
   "source": [
    "### <font color=\"blue\">Instantiate Superposition and Measure</font>"
   ]
  },
  {
   "cell_type": "code",
   "execution_count": 6,
   "metadata": {},
   "outputs": [
    {
     "data": {
      "text/plain": [
       "<qiskit.circuit.instructionset.InstructionSet at 0x7f8878937d30>"
      ]
     },
     "execution_count": 6,
     "metadata": {},
     "output_type": "execute_result"
    }
   ],
   "source": [
    "qc.h(a)            # put a into a superposition of 0 and 1\n",
    "qc.cx(a, b)        # entangle a and b\n",
    "\n",
    "qc.measure(a, a_c)\n",
    "qc.measure(b, b_c)"
   ]
  },
  {
   "cell_type": "markdown",
   "metadata": {},
   "source": [
    "### <font color=\"blue\">Execute batch Job, print counts.</font>"
   ]
  },
  {
   "cell_type": "code",
   "execution_count": 7,
   "metadata": {},
   "outputs": [
    {
     "name": "stdout",
     "output_type": "stream",
     "text": [
      "counts: {'1 1': 1}\n"
     ]
    }
   ],
   "source": [
    "backend = BasicAer.get_backend('statevector_simulator')\n",
    "job = execute(qc, backend)\n",
    "result = job.result()\n",
    "\n",
    "counts = result.get_counts(qc)\n",
    "print('counts:',counts)"
   ]
  },
  {
   "cell_type": "markdown",
   "metadata": {},
   "source": [
    "### <font color=\"blue\">Print Qstate and normalized statevector.</font>"
   ]
  },
  {
   "cell_type": "code",
   "execution_count": 8,
   "metadata": {},
   "outputs": [
    {
     "name": "stdout",
     "output_type": "stream",
     "text": [
      "Output State:  [0.+0.j 0.+0.j 0.+0.j 1.+0.j] \n",
      "\n",
      "Normalized Result: \n",
      "0.0\n",
      "0.0\n",
      "0.0\n",
      "1.0\n"
     ]
    },
    {
     "data": {
      "image/png": "[encoded data removed]",
      "text/plain": [
       "<Figure size 327.252x264.88 with 1 Axes>"
      ]
     },
     "execution_count": 8,
     "metadata": {},
     "output_type": "execute_result"
    }
   ],
   "source": [
    "outputstate = result.get_statevector(qc, decimals=3)\n",
    "print(\"Output State: \", outputstate, \"\\n\")\n",
    "\n",
    "normalize_state_Vector(outputstate)\n",
    "qc.draw(output='mpl')        # draw the circuit"
   ]
  },
  {
   "cell_type": "markdown",
   "metadata": {},
   "source": [
    "### <font color=\"blue\">Print Circleplots.</font>"
   ]
  },
  {
   "cell_type": "code",
   "execution_count": 9,
   "metadata": {},
   "outputs": [
    {
     "data": {
      "image/png": "[encoded data removed]",
      "text/plain": [
       "<Figure size 576x144 with 4 Axes>"
      ]
     },
     "metadata": {
      "needs_background": "light"
     },
     "output_type": "display_data"
    }
   ],
   "source": [
    "# Print out Circle Notation for intuitions sake\n",
    "\n",
    "from circle_plot import *\n",
    "plot_circles(outputstate)"
   ]
  },
  {
   "cell_type": "markdown",
   "metadata": {},
   "source": [
    "### <font color=\"blue\">Print Bloch Sphere Plot.</font>"
   ]
  },
  {
   "cell_type": "code",
   "execution_count": 10,
   "metadata": {},
   "outputs": [
    {
     "name": "stderr",
     "output_type": "stream",
     "text": [
      "/Users/nbasup1/miniconda3/envs/my-env/lib/python3.9/site-packages/qiskit/visualization/bloch.py:69: MatplotlibDeprecationWarning: \n",
      "The M attribute was deprecated in Matplotlib 3.4 and will be removed two minor releases later. Use self.axes.M instead.\n",
      "  x_s, y_s, _ = proj3d.proj_transform(xs3d, ys3d, zs3d, renderer.M)\n"
     ]
    },
    {
     "data": {
      "image/png": "[encoded data removed]",
      "text/plain": [
       "<Figure size 576x288 with 2 Axes>"
      ]
     },
     "execution_count": 10,
     "metadata": {},
     "output_type": "execute_result"
    }
   ],
   "source": [
    "# Plot the state vector on a Bloch sphere\n",
    "\n",
    "from qiskit.tools.visualization import plot_bloch_multivector\n",
    "plot_bloch_multivector(outputstate)"
   ]
  },
  {
   "cell_type": "code",
   "execution_count": null,
   "metadata": {},
   "outputs": [],
   "source": []
  },
  {
   "cell_type": "markdown",
   "metadata": {},
   "source": [
    "# <font color=\"red\">Graded Exercises</font>  for use <font color=\"blue\">with structured courses.</font>"
   ]
  },
  {
   "cell_type": "markdown",
   "metadata": {},
   "source": [
    "## Experiment with the Bell State\n",
    "\n",
    "#### Goto the following link and read it carefully, open the various circuits in IBM Circuit Composer and run them to develop intuition about how QISKIT does things.\n",
    "\n",
    "> - https://quantum-computing.ibm.com/docs/iqx/guide/entanglement\n",
    "    \n",
    "To explore this, we can prepare an entangled state of two qubits, and then ask questions about the qubit states. The questions we can ask are:\n",
    "\n",
    "> 0. What is the state of the **zeroth** qubit in the **standard** basis?\n",
    "> 0. What is the state of the **zeroth** qubit in the **superposition** basis?\n",
    "> 0. What is the state of the **first** qubit in the **standard** basis?\n",
    "> 0. What is the state of the **first** qubit in the **superposition** basis?\n",
    "> 0. What is the state of both **qubits** in the **standard** basis?\n",
    "> 0. What is the state of both **qubits** in the **superposition** basis?\n",
    "   \n",
    "### Record your answers in the cell below.   "
   ]
  },
  {
   "cell_type": "raw",
   "metadata": {},
   "source": [
    "0. What is the state of the **zeroth** qubit in the **standard** basis? - It is 0 half times and 1 half times as many times i run.\n",
    "1. What is the state of the **zeroth** qubit in the **superposition** basis? - It is the same as in the Standard basis half times 0 and half times 1.\n",
    "2. What is the state of the **first** qubit in the **standard** basis? - - It is the same as Q0 in the Standard basis, half times 0 and half times 1.\n",
    "3. What is the state of the **first** qubit in the **superposition** basis? - - It is the same as in the Q0 in the Superposition, basis half times 0 and half times 1.\n",
    "4. What is the state of both **qubits** in the **standard** basis? -  if Q0 is in state 0,  Q1 will be in 0 as well; the same goes if Q0 is in state 1. They are perfectly correlated.\n",
    "5 . What is the state of both **qubits** in the **superposition** basis? - Therefore, if Q0 is measured in state |0>, we know that Q1 is in this state as well; likewise, if Q0 is measured in state |+>, we know Q1 is also in this state. "
   ]
  },
  {
   "cell_type": "markdown",
   "metadata": {},
   "source": [
    "#### The link focuses on the Bell States initially but then introduces two other circuits\n",
    "> **<font color=\"red\">GHZ States</font>** - GHZ states are named after Greenberger, Horne, and Zeilinger, who were the first to study them in 1989. GHZ states are also known as “Schrödinger cat states” or just “cat states.”\n",
    "\n",
    "> **<font color=\"red\">W States</font>** - Entanglement generating but with an important difference from GHZ states: W states are more robustly entangled when a qubit is lost.\n",
    "\n",
    "\n",
    "Implement **<font color=\"red\">both</font>** of those circuits in the **QCEngine** framework."
   ]
  },
  {
   "cell_type": "code",
   "execution_count": 11,
   "metadata": {},
   "outputs": [
    {
     "data": {
      "text/html": [
       "\n",
       "        <iframe\n",
       "            width=\"900\"\n",
       "            height=\"900\"\n",
       "            src=\"https://oreilly-qc.github.io?p=3-2\"\n",
       "            frameborder=\"0\"\n",
       "            allowfullscreen\n",
       "        ></iframe>\n",
       "        "
      ],
      "text/plain": [
       "<IPython.lib.display.IFrame at 0x7f883951e790>"
      ]
     },
     "execution_count": 11,
     "metadata": {},
     "output_type": "execute_result"
    }
   ],
   "source": [
    "from IPython.display import IFrame\n",
    "IFrame(src='https://oreilly-qc.github.io?p=3-2', width=900, height=900)"
   ]
  },
  {
   "cell_type": "markdown",
   "metadata": {},
   "source": [
    "##  <font color=\"blue\">Your Code goes below:</font>\n",
    "- Use **RawNBConvert** instead of MarkDown for the QCEngine Code."
   ]
  },
  {
   "cell_type": "raw",
   "metadata": {},
   "source": [
    "// GSZ States\n",
    "qc.reset(3); // 3 Qubits\n",
    "var a = qint.new(1, 'a');\n",
    "var b = qint.new(1, 'b');\n",
    "var c = qint.new(1, 'c');\n",
    "qc.write(0);\n",
    "qc.nop();\n",
    "\n",
    "qc.label('entangle');\n",
    "a.had();           // Place into superposition\n",
    "b.cnot(a);         // Entangle\n",
    "c.cnot(b);         // Entangle\n",
    "qc.label();\n",
    "\n",
    "qc.nop();\n",
    "var a_result = a.read();  \n",
    "var b_result = b.read(); \n",
    "var c_result = c.read(); \n",
    "qc.print(a_result);\n",
    "qc.print(b_result);\n",
    "qc.print(c_result);"
   ]
  },
  {
   "cell_type": "raw",
   "metadata": {},
   "source": [
    "// W States\n",
    "qc.reset(3); // 3 Qubits\n",
    "var a = qint.new(1, 'a');\n",
    "var b = qint.new(1, 'b');\n",
    "var c = qint.new(1, 'c');\n",
    "qc.write(0);\n",
    "qc.nop();\n",
    "\n",
    "qc.label('entangle');\n",
    "a.ry(109.43);\n",
    "b.rx(90, a);\n",
    "b.ry(90, a);\n",
    "b.rz(90, a);\n",
    "qc.phase(90, b);\n",
    "c.cnot(b);         // Entangle\n",
    "b.cnot(a);   // Entangle\n",
    "a.cnot(); // Entangle\n",
    "qc.label();\n",
    "\n",
    "qc.nop();\n",
    "var a_result = a.read();  \n",
    "var b_result = b.read(); \n",
    "var c_result = c.read(); \n",
    "qc.print(a_result);\n",
    "qc.print(b_result);\n",
    "qc.print(c_result);"
   ]
  },
  {
   "cell_type": "markdown",
   "metadata": {},
   "source": [
    "![the-end](img/the-end.png \"the-end\")"
   ]
  }
 ],
 "metadata": {
  "kernelspec": {
   "display_name": "Python 3 (ipykernel)",
   "language": "python",
   "name": "python3"
  },
  "language_info": {
   "codemirror_mode": {
    "name": "ipython",
    "version": 3
   },
   "file_extension": ".py",
   "mimetype": "text/x-python",
   "name": "python",
   "nbconvert_exporter": "python",
   "pygments_lexer": "ipython3",
   "version": "3.9.0"
  },
  "toc": {
   "base_numbering": 1,
   "nav_menu": {},
   "number_sections": true,
   "sideBar": true,
   "skip_h1_title": false,
   "title_cell": "Table of Contents",
   "title_sidebar": "Contents",
   "toc_cell": false,
   "toc_position": {},
   "toc_section_display": true,
   "toc_window_display": false
  }
 },
 "nbformat": 4,
 "nbformat_minor": 2
}
