{
 "cells": [
  {
   "cell_type": "markdown",
   "metadata": {},
   "source": [
    "# Programming Quantum Computers\n",
    "- #### Hands-on Experiential Learning <font color=\"red\">for the Software Engineer</font>"
   ]
  },
  {
   "cell_type": "markdown",
   "metadata": {},
   "source": [
    "# Chapter Ch03_05\n",
    "# <font color=\"red\">Hands-on</font>:  <font color=\"blue\">Custom Conditional Phase</font> "
   ]
  },
  {
   "cell_type": "markdown",
   "metadata": {},
   "source": [
    "![QC_Programming-red](img/QC_Programming-red.png \"QC_Programming-red\")\n",
    "\n",
    "<BR>\n",
    "    \n",
    "<font color=\"red\">**Notice**</font>: All materials herein were <font color=\"red\">**curated**</font> by **Matthew R. Versaggi (profversaggi@gmail.com)** and are released into the open source to foster growth and welfare of expanding the Quantum Computing domain - the only obligation one incurs when using, copying, distributing or referencing this is to kindly reference the author and send me an email so I know how useful the material is to you.\n",
    "\n",
    "<font color=\"red\">**Notice**</font>: Python Code contributions for the Circle Plots are the work of **David Radcliffe**.\n",
    "\n",
    "## Pedagogical Approach: (<font color=\"red\">**Read this first !**</font>)\n",
    "\n",
    "This material is intended to educate **software engineers** in certain aspects of Quantum Computing, therefore its focus will be on conveying the conceptual ideas in a form digestible to them, and supporting it with exercises to reinforce those concepts. \n",
    "\n",
    "Because of that pedagogical approach, **this material won't lead with or heavily leverage the concepts and language indigenous to physics and math**, but only in those terms most easily digestible to the modern software engineer.\n",
    "\n",
    "This Jupyter Notebook is <font color=\"red\">**not intended as a stand alone educational vehicle**</font>  - it's meant to be accompanied by a decicated power point deck that contains the main concepts to be presented by an instructor - **it is intended as a vehicle for a hands on workshop environment to facilitate learning through a guided experience.**\n",
    "\n",
    "> **Note:-** Because of the above educational approach:\n",
    "1. There is a certain amount of basic Quantum Computing knowledge that is assumed.\n",
    "2. An active internet connection is **always** assumed.\n",
    "3. Online references/links will be provided where appropriate\n",
    "4. References to books will be made where appropriate\n",
    "5. Much of this material is **dense and detailed**, the reader is <font color=\"red\">**cautioned**</font> to be careful and slow to digest the *nuances* of the material.\n",
    "\n",
    "## What you will be exposed to - High level: \n",
    "\n",
    "- Software engineers in the Quantum Computing space need to **<font color=\"blue\">gain a mastery of the simulation frameworks and tools used to understand and solve problems quantumly</font>**. Under the hood, the **<font color=\"red\">simulators mathematically represent the \"Ideal\" manifestations of quantum hardware</font>** that (theoretically) the \"Actual\" quantum hardware would behave exactly like. For the software engineer, this is the preferred situation as it permits them to understand and solve problems w/out being bound to the limitations of the hardware as it matures.\n",
    "\n",
    "\n",
    "- Given the above, there are a host of technical concepts that need to be **<font color=\"red\">understood experientially</font>** - we'll intentionally employ a vendor / framework agnostic approach to focus on the delivery of concept understanding and intuition procurement as the main value-add.\n",
    "\n",
    "\n",
    "## Accompanying Text:\n",
    "\n",
    "<BR>\n",
    "\n",
    "<a href=\"https://www.amazon.com/Programming-Quantum-Computers-Essential-Algorithms/dp/1492039683\" target=\"_blank\"><img src=\"img/OreillyBookImage-small.png\" height=\"250\" align=left style=\"padding:15px;\"></a>\n",
    "\n",
    "\n",
    "> The core materials leveraged in this Jupyter Notebook comes from the following book, and is required reading to engage in the problem sets covered.\n",
    "\n",
    "> The problem sets contained here will be expanded versions of the exercises contained in the book for sake of gaining intuition about the particular concept in question through leveraging various 'other' frameworks, tools, and instruments indigenous to the quantum programming space. \n",
    "\n",
    "\n",
    "> The core idea is that the various \"simulators\" circuitry (underlying mathematical representations) is considered the \"Ideal\" at the time of this JNB's construction, and therefore are the bect tools we have to address the problems we are interested in. To avoid being constrained by any particular framework, tool set, and software instruments, the idea is to leverage a host of appropriate \"tools\" when addressing any particular concept, problem or issue to remaind technology agnostic, but concept and intuition rich.\n",
    "\n",
    "\n",
    "- **Note:** The problems explored are organized and ordered according to chapter.\n",
    "\n",
    "<BR>\n",
    "\n",
    "**<font color=\"red\" size=4>Notice</font>:** - Prior to embarking on this notebook the reader is **highly encouraged to procure a <font color=\"red\" size=4>reasonable</font> <font color=\"blue\" size=4>introduction</font>** to the following key programming (and circuit) frameworks used:\n",
    "\n",
    "0. <a href=\"https://oreilly-qc.github.io/\" target=\"_blank\"><font color=\"blue\" size=4>QCEngine</font></a>\n",
    "0. <a href=\"https://qiskit.org/textbook/preface.html\" target=\"_blank\"><font color=\"blue\" size=4>Qiskit Tutorial</font></a>, <a href=\"https://qiskit.org/\" target=\"_blank\"><font color=\"blue\" size=4>Qiskit Home</font></a>\n",
    "0. <a href=\"https://algassert.com/quirk\" target=\"_blank\"><font color=\"blue\">QUIRK</font></a>\n",
    "\n",
    "# <font color=\"red\">Example Problem(s):</font> \n",
    "\n",
    "**This example problem is archetypal** of how the exercises highlighted in the book can be expanded to include a host of other tools that help build understanding and intuition of the concepts being explored. \n",
    "\n",
    "- The <font color=\"blue\">QCEngine</font> is a staple, but the <font color=\"blue\">Bloch Sphere Playground Application</font>, the <font color=\"blue\">Quantum Gate Playground</font>, <font color=\"blue\">QUIRK</font>, and <font color=\"blue\">Qiskit</font> are also instructive to leverage when persuing intuition about the concept and will be often used."
   ]
  },
  {
   "cell_type": "markdown",
   "metadata": {},
   "source": [
    "# Custom C_Phase\n",
    "- The spirit of this is the illustration of constructing custom phase gates out of stock framework gates, such that they can be reversible."
   ]
  },
  {
   "cell_type": "markdown",
   "metadata": {},
   "source": [
    "![Custom C-Phase](img/custom_cphase.png \"Custom C-Phase\")"
   ]
  },
  {
   "cell_type": "markdown",
   "metadata": {},
   "source": [
    "# <font color=\"blue\">QCEngine</font>\n",
    "- Custom Construction of any arbitrary CPhase Gate\n",
    "- Experiment with the stock and custom CPhase experiments to gain intuition for their behavior."
   ]
  },
  {
   "cell_type": "code",
   "execution_count": 1,
   "metadata": {},
   "outputs": [
    {
     "ename": "SyntaxError",
     "evalue": "invalid syntax (3404607128.py, line 1)",
     "output_type": "error",
     "traceback": [
      "\u001b[0;36m  File \u001b[0;32m\"/var/folders/br/k3t_jmh93sqfdl6n55nsgkydg28g9_/T/ipykernel_85444/3404607128.py\"\u001b[0;36m, line \u001b[0;32m1\u001b[0m\n\u001b[0;31m    // Custom Constructed CPhase (90) Operation : Enhanced\u001b[0m\n\u001b[0m    ^\u001b[0m\n\u001b[0;31mSyntaxError\u001b[0m\u001b[0;31m:\u001b[0m invalid syntax\n"
     ]
    }
   ],
   "source": [
    "// Custom Constructed CPhase (90) Operation : Enhanced\n",
    "\n",
    "var theta = 90; // Set the theta (degree) variable\n",
    "\n",
    "// Setup the Circuit, put it into superpositon\n",
    "qc.reset(2);\n",
    "qc.write(0);\n",
    "qc.label('Setup');\n",
    "qc.nop();\n",
    "qc.hadamard();\n",
    "qc.nop();\n",
    "qc.label('');\n",
    "\n",
    "qc.nop();\n",
    "\n",
    "\n",
    "// Using two CNOTs and three PHASEs...\n",
    "qc.label('2 Nots, 3 Phases');\n",
    "qc.nop();\n",
    "qc.phase( theta / 2, 0x2);        // phase 1\n",
    "qc.cnot(0x2, 0x1);                // cnot 1\n",
    "qc.phase(-theta / 2, 0x2);        // phase 2\n",
    "qc.cnot(0x2, 0x1);                // cnot 2\n",
    "qc.phase( theta / 2, 0x1);        // phase 3\n",
    "qc.nop();\n",
    "qc.label('');\n",
    "\n",
    "qc.nop();\n",
    "\n",
    "\n"
   ]
  },
  {
   "cell_type": "code",
   "execution_count": 2,
   "metadata": {},
   "outputs": [
    {
     "data": {
      "text/html": [
       "\n",
       "        <iframe\n",
       "            width=\"900\"\n",
       "            height=\"900\"\n",
       "            src=\"https://oreilly-qc.github.io?p=3-5\"\n",
       "            frameborder=\"0\"\n",
       "            allowfullscreen\n",
       "        ></iframe>\n",
       "        "
      ],
      "text/plain": [
       "<IPython.lib.display.IFrame at 0x7fd6a86659d0>"
      ]
     },
     "execution_count": 2,
     "metadata": {},
     "output_type": "execute_result"
    }
   ],
   "source": [
    "from IPython.display import IFrame\n",
    "IFrame(src='https://oreilly-qc.github.io?p=3-5', width=900, height=900)"
   ]
  },
  {
   "cell_type": "markdown",
   "metadata": {},
   "source": [
    "# <font color=\"blue\">Qiskit</font>\n",
    "- Recreate the above QCEngine Circuit in QISKIT."
   ]
  },
  {
   "cell_type": "markdown",
   "metadata": {},
   "source": [
    "### <font color=\"blue\">Setup</font>"
   ]
  },
  {
   "cell_type": "code",
   "execution_count": 5,
   "metadata": {},
   "outputs": [],
   "source": [
    "# Import Qiskit and associated modules\n",
    "# Note the Helper Functions\n",
    "\n",
    "import numpy as np\n",
    "from qiskit import QuantumCircuit, QuantumRegister, ClassicalRegister, execute, Aer, IBMQ, BasicAer\n",
    "import math\n",
    "import cmath\n",
    "import math\n",
    "import matplotlib.pyplot as P\n",
    "import matplotlib.pyplot as plt\n",
    "\n",
    "\n",
    "# Helper Funtion for Normalizing State Vectors\n",
    "#\n",
    "def normalize_state_Vector(state_vector):\n",
    "    for result in state_vector:\n",
    "        print(\"Normalized Result: \" , round( np.abs(result)**2, 1) )\n",
    "        \n",
    "            \n",
    "## Uncomment the next line to see diagrams when running in a notebook\n",
    "%matplotlib inline "
   ]
  },
  {
   "cell_type": "markdown",
   "metadata": {},
   "source": [
    "### <font color=\"blue\">Setup Custom Conditional Phase Circuit</font>"
   ]
  },
  {
   "cell_type": "code",
   "execution_count": 6,
   "metadata": {},
   "outputs": [],
   "source": [
    "# Example 3-5: Custom conditional-phase\n",
    "\n",
    "# Set up the program: use a register of 2 qubits\n",
    "\n",
    "reg = QuantumRegister(2, name='reg')\n",
    "qc = QuantumCircuit(reg)\n"
   ]
  },
  {
   "cell_type": "markdown",
   "metadata": {},
   "source": [
    "### <font color=\"blue\">Construct the Custom CPhase Circuit</font>\n",
    "- as described in the below circuit.\n",
    "\n",
    "![Custom C-Phase](img/custom_cphase.png \"\")"
   ]
  },
  {
   "cell_type": "code",
   "execution_count": 7,
   "metadata": {},
   "outputs": [
    {
     "data": {
      "text/plain": [
       "<qiskit.circuit.instructionset.InstructionSet at 0x7fd6a8690490>"
      ]
     },
     "execution_count": 7,
     "metadata": {},
     "output_type": "execute_result"
    }
   ],
   "source": [
    "theta = math.pi / 2\n",
    "\n",
    "qc.h(reg)      # Put the register in superposition\n",
    "\n",
    "# Execute the rotations required by the circuit (Rz's and CNOT's)\n",
    "qc.rz(theta/2, reg[1])      # Phase +45\n",
    "qc.cx(reg[0], reg[1])       # CNOT 0->1\n",
    "qc.rz(-theta/2, reg[1])     # Phase -45\n",
    "qc.cx(reg[0], reg[1])       # CNOT 0->1\n",
    "qc.rz(theta/2, reg[0])      # CNOT 0->1\n"
   ]
  },
  {
   "cell_type": "markdown",
   "metadata": {},
   "source": [
    "### <font color=\"blue\">Execute batch Job, get results.</font>"
   ]
  },
  {
   "cell_type": "code",
   "execution_count": 8,
   "metadata": {},
   "outputs": [],
   "source": [
    "backend = BasicAer.get_backend('statevector_simulator')\n",
    "job = execute(qc, backend)\n",
    "result = job.result()"
   ]
  },
  {
   "cell_type": "markdown",
   "metadata": {},
   "source": [
    "### <font color=\"blue\">Print Qstate, draw the circuit.</font>"
   ]
  },
  {
   "cell_type": "code",
   "execution_count": 9,
   "metadata": {},
   "outputs": [
    {
     "name": "stdout",
     "output_type": "stream",
     "text": [
      "[0.462-0.191j 0.462-0.191j 0.462-0.191j 0.191+0.462j]\n"
     ]
    },
    {
     "data": {
      "image/png": "[encoded data removed]",
      "text/plain": [
       "<Figure size 469.141x144.48 with 1 Axes>"
      ]
     },
     "execution_count": 9,
     "metadata": {},
     "output_type": "execute_result"
    }
   ],
   "source": [
    "outputstate = result.get_statevector(qc, decimals=3)\n",
    "print(outputstate)\n",
    "\n",
    "# draw the circuit\n",
    "qc.draw(output='mpl')        # draw the circuit"
   ]
  },
  {
   "cell_type": "markdown",
   "metadata": {},
   "source": [
    "### <font color=\"blue\">Print out the Normalized StateVector.</font>"
   ]
  },
  {
   "cell_type": "code",
   "execution_count": 10,
   "metadata": {},
   "outputs": [
    {
     "name": "stdout",
     "output_type": "stream",
     "text": [
      "Normalized Result:  0.2\n",
      "Normalized Result:  0.2\n",
      "Normalized Result:  0.2\n",
      "Normalized Result:  0.2\n"
     ]
    }
   ],
   "source": [
    "# Print out normalized statevector  (to gain probabilities)\n",
    "#\n",
    "normalize_state_Vector(outputstate)"
   ]
  },
  {
   "cell_type": "markdown",
   "metadata": {},
   "source": [
    "### <font color=\"blue\">Print out the Circle Plots.</font>\n",
    "- These Circle Plots correspond exactly to the **\"Enhanced\"** version of the QCEngine code explored above.\n",
    "\n",
    "![Custom C-Phase](img/Constructed_CPhase-90dg.png \"\")"
   ]
  },
  {
   "cell_type": "code",
   "execution_count": 11,
   "metadata": {},
   "outputs": [
    {
     "data": {
      "image/png": "[encoded data removed]",
      "text/plain": [
       "<Figure size 576x144 with 4 Axes>"
      ]
     },
     "metadata": {
      "needs_background": "light"
     },
     "output_type": "display_data"
    }
   ],
   "source": [
    "# Print out Circle Notation for intuitions sake\n",
    "\n",
    "from circle_plot import *\n",
    "plot_circles(outputstate)"
   ]
  },
  {
   "cell_type": "code",
   "execution_count": null,
   "metadata": {},
   "outputs": [],
   "source": []
  },
  {
   "cell_type": "markdown",
   "metadata": {},
   "source": [
    "# <font color=\"red\">Graded Exercises</font>  for use <font color=\"blue\">with structured courses.</font>\n",
    "## Constructing any Conditional Operation\n",
    "\n",
    "> The recipe for constructing any Conditional Operation is to break the single-qubit operation into smaller steps. \n",
    "- It turns out that it’s always possible to break a single-qubit operation into a set of steps such that we can use CNOTs to conditionally undo the operation. \n",
    "- The net result is that we can conditionally choose whether or not to effect its action."
   ]
  },
  {
   "cell_type": "markdown",
   "metadata": {},
   "source": [
    "## <font color=\"Blue\">Your Task:</font>"
   ]
  },
  {
   "cell_type": "markdown",
   "metadata": {},
   "source": [
    "![Custom C-Phase](img/custom_cphase.png \"\")"
   ]
  },
  {
   "cell_type": "markdown",
   "metadata": {},
   "source": [
    "#### You were given the code bases to implement the Constructed CPhase (90dg) gate using components of the framework.\n",
    "\n",
    "Perform that same process for the following using the QCEngine Framework.\n",
    "\n",
    "0. > #### 315 Degrees \n",
    "0. > #### 270 Degrees\n",
    "\n",
    "\n",
    "The following convenience link is the conversions between degrees and radians: https://www.quia.com/jg/321176list.html\n",
    "\n",
    "<BR>\n",
    "\n",
    "\n",
    "   "
   ]
  },
  {
   "cell_type": "code",
   "execution_count": 12,
   "metadata": {},
   "outputs": [
    {
     "data": {
      "text/html": [
       "\n",
       "        <iframe\n",
       "            width=\"900\"\n",
       "            height=\"900\"\n",
       "            src=\"https://oreilly-qc.github.io?p=3-5\"\n",
       "            frameborder=\"0\"\n",
       "            allowfullscreen\n",
       "        ></iframe>\n",
       "        "
      ],
      "text/plain": [
       "<IPython.lib.display.IFrame at 0x7fd6d8e33b50>"
      ]
     },
     "execution_count": 12,
     "metadata": {},
     "output_type": "execute_result"
    }
   ],
   "source": [
    "from IPython.display import IFrame\n",
    "IFrame(src='https://oreilly-qc.github.io?p=3-5', width=900, height=900)"
   ]
  },
  {
   "cell_type": "markdown",
   "metadata": {},
   "source": [
    "##  <font color=\"blue\">Your Code goes below:</font> 315 degrees\n",
    "- Use **RawNBConvert** instead of MarkDown for the QCEngine Code.\n"
   ]
  },
  {
   "cell_type": "code",
   "execution_count": null,
   "metadata": {},
   "outputs": [],
   "source": [
    "// Custom Constructed CPhase (315) Operation : Enhanced\n",
    "\n",
    "var theta = 315; // Set the theta (degree) variable\n",
    "\n",
    "// Setup the Circuit, put it into superpositon\n",
    "qc.reset(2);\n",
    "qc.write(0);\n",
    "qc.label('Setup');\n",
    "qc.nop();\n",
    "qc.hadamard();\n",
    "qc.nop();\n",
    "qc.label('');\n",
    "\n",
    "qc.nop();\n",
    "\n",
    "\n",
    "// Using two CNOTs and three PHASEs...\n",
    "qc.label('2 Nots, 3 Phases');\n",
    "qc.nop();\n",
    "qc.phase( theta / 2, 0x2);        // phase 1\n",
    "qc.cnot(0x2, 0x1);                // cnot 1\n",
    "qc.phase(-theta / 2, 0x2);        // phase 2\n",
    "qc.cnot(0x2, 0x1);                // cnot 2\n",
    "qc.phase( theta / 2, 0x1);        // phase 3\n",
    "qc.nop();\n",
    "qc.label('');\n",
    "\n",
    "qc.nop();\n",
    "// Using Phase Rotation of 315 Degrees\n",
    "qc.label('315 Degrees');\n",
    "qc.nop();\n",
    "qc.phase(theta, 0x1, 0x2);\n",
    "qc.nop();\n",
    "qc.label('');\n",
    "qc.label('');\n",
    "qc.nop();"
   ]
  },
  {
   "cell_type": "markdown",
   "metadata": {},
   "source": [
    "##  <font color=\"blue\">Your Code goes below:</font> 270 degrees\n",
    "- Use **RawNBConvert** instead of MarkDown for the QCEngine Code."
   ]
  },
  {
   "cell_type": "code",
   "execution_count": null,
   "metadata": {},
   "outputs": [],
   "source": [
    "// Custom Constructed CPhase (270) Operation : Enhanced\n",
    "\n",
    "var theta = 270; // Set the theta (degree) variable\n",
    "\n",
    "// Setup the Circuit, put it into superpositon\n",
    "qc.reset(2);\n",
    "qc.write(0);\n",
    "qc.label('Setup');\n",
    "qc.nop();\n",
    "qc.hadamard();\n",
    "qc.nop();\n",
    "qc.label('');\n",
    "\n",
    "qc.nop();\n",
    "\n",
    "\n",
    "// Using two CNOTs and three PHASEs...\n",
    "qc.label('2 Nots, 3 Phases');\n",
    "qc.nop();\n",
    "qc.phase( theta / 2, 0x2);        // phase 1\n",
    "qc.cnot(0x2, 0x1);                // cnot 1\n",
    "qc.phase(-theta / 2, 0x2);        // phase 2\n",
    "qc.cnot(0x2, 0x1);                // cnot 2\n",
    "qc.phase( theta / 2, 0x1);        // phase 3\n",
    "qc.nop();\n",
    "qc.label('');\n",
    "\n",
    "qc.nop();\n",
    "// Using Phase Rotation of 270 Degrees\n",
    "qc.label('270 Degrees');\n",
    "qc.nop();\n",
    "qc.phase(theta, 0x1, 0x2);\n",
    "qc.nop();\n",
    "qc.label('');\n",
    "qc.label('');\n",
    "qc.nop();"
   ]
  },
  {
   "cell_type": "markdown",
   "metadata": {},
   "source": [
    "![the-end](img/the-end.png \"the-end\")"
   ]
  }
 ],
 "metadata": {
  "kernelspec": {
   "display_name": "Python 3 (ipykernel)",
   "language": "python",
   "name": "python3"
  },
  "language_info": {
   "codemirror_mode": {
    "name": "ipython",
    "version": 3
   },
   "file_extension": ".py",
   "mimetype": "text/x-python",
   "name": "python",
   "nbconvert_exporter": "python",
   "pygments_lexer": "ipython3",
   "version": "3.9.0"
  },
  "toc": {
   "base_numbering": 1,
   "nav_menu": {},
   "number_sections": true,
   "sideBar": true,
   "skip_h1_title": false,
   "title_cell": "Table of Contents",
   "title_sidebar": "Contents",
   "toc_cell": false,
   "toc_position": {},
   "toc_section_display": true,
   "toc_window_display": false
  }
 },
 "nbformat": 4,
 "nbformat_minor": 2
}
