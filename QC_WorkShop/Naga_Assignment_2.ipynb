{
 "cells": [
  {
   "cell_type": "markdown",
   "id": "8b0cb0e6",
   "metadata": {},
   "source": [
    "# <font color=\"red\">Graded Exercises</font>  for use <font color=\"blue\">with structured courses.</font>"
   ]
  },
  {
   "cell_type": "markdown",
   "id": "4450fcd2",
   "metadata": {},
   "source": [
    "## Quantum Gates to Quantum Circuits \n",
    "\n",
    "#### <font color=\"blue\">*This work will take some time, so block off enough time to adequately cover it*</font>. \n",
    "\n",
    "- Go through the **entire** JNB and complete each of the exercises, including any supplementary Video's - hand in completed <font color=\"red\">**PDF**</font> from this JNB once finished.\n",
    "\n",
    "\n",
    "- Step through the code for **each** of the above exercises, make sure you can (1) execute it, and (2) know what it does.\n",
    "\n",
    "\n",
    "- <font color=\"blue\">Complete Challenge Exercises below.</font> **(turn in the JNB)**\n",
    "\n"
   ]
  },
  {
   "cell_type": "markdown",
   "id": "0a6c59cf",
   "metadata": {},
   "source": [
    "## QUIRKY <font color=\"red\">Multi-Qubit Problems</font>\n",
    "- To help build intuition about multiple qubit gates, solve the following puzzles. \n",
    "\n",
    "\n",
    "**<font color=\"red\"> IMPORTANT</font>** - Copy the URL String into a new tab and do you work there, then when finished, copy the completed URL string to the proper cell below for evaluation and grading.\n",
    "\n",
    "- **Each puzzle starts with a hidden gate** that alters the multi-Qubit state (magnitudes or phases) - your job is to do the following:\n",
    "\n",
    "\n",
    "### Multi-Qubit - Turn the Qubits <font color=\"red\">OFF</font>"
   ]
  },
  {
   "cell_type": "code",
   "execution_count": 103,
   "id": "3abdd6bf",
   "metadata": {},
   "outputs": [
    {
     "data": {
      "text/html": [
       "\n",
       "        <iframe\n",
       "            width=\"900\"\n",
       "            height=\"600\"\n",
       "            src=\"https://algassert.com/quirk#circuit={%22cols%22:[[%22~rq1n%22]],%22gates%22:[{%22id%22:%22~rq1n%22,%22name%22:%22Problem-#1%22,%22circuit%22:{%22cols%22:[[%22H%22],[%22•%22,%22X%22]]}}],%22init%22:[%22+%22]}\"\n",
       "            frameborder=\"0\"\n",
       "            allowfullscreen\n",
       "        ></iframe>\n",
       "        "
      ],
      "text/plain": [
       "<IPython.lib.display.IFrame at 0x7fe3915e6460>"
      ]
     },
     "execution_count": 103,
     "metadata": {},
     "output_type": "execute_result"
    }
   ],
   "source": [
    "# QUIRK (Quantum Circuit Simulator)\n",
    "from IPython.display import IFrame\n",
    "IFrame(src='https://algassert.com/quirk#circuit={%22cols%22:[[%22~rq1n%22]],%22gates%22:[{%22id%22:%22~rq1n%22,%22name%22:%22Problem-#1%22,%22circuit%22:{%22cols%22:[[%22H%22],[%22•%22,%22X%22]]}}],%22init%22:[%22+%22]}', width=900, height=600)"
   ]
  },
  {
   "cell_type": "code",
   "execution_count": 104,
   "id": "ca600142",
   "metadata": {},
   "outputs": [
    {
     "data": {
      "text/html": [
       "\n",
       "        <iframe\n",
       "            width=\"900\"\n",
       "            height=\"600\"\n",
       "            src=\"https://algassert.com/quirk#circuit={%22cols%22:[[%22~rq1n%22],[%22X%22],[%22•%22,%22X%22],[%22Y^-%C2%BD%22],[{%22id%22:%22Rzft%22,%22arg%22:%22-pi*%203/2%22}]],%22gates%22:[{%22id%22:%22~rq1n%22,%22name%22:%22Problem-#1%22,%22circuit%22:{%22cols%22:[[%22H%22],[%22•%22,%22X%22]]}}],%22init%22:[0,1]}\"\n",
       "            frameborder=\"0\"\n",
       "            allowfullscreen\n",
       "        ></iframe>\n",
       "        "
      ],
      "text/plain": [
       "<IPython.lib.display.IFrame at 0x7fe322bb5340>"
      ]
     },
     "execution_count": 104,
     "metadata": {},
     "output_type": "execute_result"
    }
   ],
   "source": [
    "# QUIRK (Quantum Circuit Simulator)\n",
    "from IPython.display import IFrame\n",
    "IFrame(src='https://algassert.com/quirk#circuit={%22cols%22:[[%22~rq1n%22],[%22X%22],[%22•%22,%22X%22],[%22Y^-%C2%BD%22],[{%22id%22:%22Rzft%22,%22arg%22:%22-pi*%203/2%22}]],%22gates%22:[{%22id%22:%22~rq1n%22,%22name%22:%22Problem-#1%22,%22circuit%22:{%22cols%22:[[%22H%22],[%22•%22,%22X%22]]}}],%22init%22:[0,1]}', width=900, height=600)"
   ]
  },
  {
   "cell_type": "code",
   "execution_count": 105,
   "id": "1adeadc0",
   "metadata": {},
   "outputs": [
    {
     "data": {
      "text/html": [
       "\n",
       "        <iframe\n",
       "            width=\"900\"\n",
       "            height=\"600\"\n",
       "            src=\"https://algassert.com/quirk#circuit={%22cols%22:[[%22~rq1n%22],[%22X%22],[%22•%22,%22X%22],[%22H%22],[{%22id%22:%22Rzft%22,%22arg%22:%22-pi%22}]],%22gates%22:[{%22id%22:%22~rq1n%22,%22name%22:%22Problem-#1%22,%22circuit%22:{%22cols%22:[[%22H%22],[%22•%22,%22X%22]]}}],%22init%22:[0,1]}\"\n",
       "            frameborder=\"0\"\n",
       "            allowfullscreen\n",
       "        ></iframe>\n",
       "        "
      ],
      "text/plain": [
       "<IPython.lib.display.IFrame at 0x7fe341d387f0>"
      ]
     },
     "execution_count": 105,
     "metadata": {},
     "output_type": "execute_result"
    }
   ],
   "source": [
    "# QUIRK (Quantum Circuit Simulator)\n",
    "from IPython.display import IFrame\n",
    "IFrame(src='https://algassert.com/quirk#circuit={%22cols%22:[[%22~rq1n%22],[%22X%22],[%22•%22,%22X%22],[%22H%22],[{%22id%22:%22Rzft%22,%22arg%22:%22-pi%22}]],%22gates%22:[{%22id%22:%22~rq1n%22,%22name%22:%22Problem-#1%22,%22circuit%22:{%22cols%22:[[%22H%22],[%22•%22,%22X%22]]}}],%22init%22:[0,1]}', width=900, height=600)"
   ]
  },
  {
   "cell_type": "code",
   "execution_count": 106,
   "id": "74edeaf9",
   "metadata": {},
   "outputs": [
    {
     "data": {
      "text/html": [
       "\n",
       "        <iframe\n",
       "            width=\"900\"\n",
       "            height=\"600\"\n",
       "            src=\"https://algassert.com/quirk#circuit={%22cols%22:[[%22~bhpb%22],[%22Y^%C2%BD%22,%22Y^%C2%BD%22,%22Y^%C2%BD%22],[%22X%22,%22X%22,%22X%22],[{%22id%22:%22Rzft%22,%22arg%22:%22pi%20*%203/2%22}]],%22gates%22:[{%22id%22:%22~bhpb%22,%22name%22:%22Problem-#2%22,%22circuit%22:{%22cols%22:[[%22H%22,%22H%22,%22H%22],[%22•%22,%22•%22,%22X%22]]}}]}\"\n",
       "            frameborder=\"0\"\n",
       "            allowfullscreen\n",
       "        ></iframe>\n",
       "        "
      ],
      "text/plain": [
       "<IPython.lib.display.IFrame at 0x7fe3917ed880>"
      ]
     },
     "execution_count": 106,
     "metadata": {},
     "output_type": "execute_result"
    }
   ],
   "source": [
    "# QUIRK (Quantum Circuit Simulator)\n",
    "from IPython.display import IFrame\n",
    "IFrame(src='https://algassert.com/quirk#circuit={%22cols%22:[[%22~bhpb%22],[%22Y^%C2%BD%22,%22Y^%C2%BD%22,%22Y^%C2%BD%22],[%22X%22,%22X%22,%22X%22],[{%22id%22:%22Rzft%22,%22arg%22:%22pi%20*%203/2%22}]],%22gates%22:[{%22id%22:%22~bhpb%22,%22name%22:%22Problem-#2%22,%22circuit%22:{%22cols%22:[[%22H%22,%22H%22,%22H%22],[%22•%22,%22•%22,%22X%22]]}}]}', width=900, height=600)"
   ]
  },
  {
   "cell_type": "code",
   "execution_count": 107,
   "id": "cc742859",
   "metadata": {},
   "outputs": [
    {
     "data": {
      "text/html": [
       "\n",
       "        <iframe\n",
       "            width=\"900\"\n",
       "            height=\"600\"\n",
       "            src=\"https://algassert.com/quirk#circuit={%22cols%22:[[%22~bhpb%22],[%22Y^%C2%BD%22,%22Y^%C2%BD%22,%22Y^%C2%BD%22],[1,1,%22X%22],[1,1,{%22id%22:%22Rzft%22,%22arg%22:%22pi%20*%203/2%22}]],%22gates%22:[{%22id%22:%22~bhpb%22,%22name%22:%22Problem-#2%22,%22circuit%22:{%22cols%22:[[%22H%22,%22H%22,%22H%22],[%22•%22,%22•%22,%22X%22]]}}],%22init%22:[1,1]}\"\n",
       "            frameborder=\"0\"\n",
       "            allowfullscreen\n",
       "        ></iframe>\n",
       "        "
      ],
      "text/plain": [
       "<IPython.lib.display.IFrame at 0x7fe3917edbb0>"
      ]
     },
     "execution_count": 107,
     "metadata": {},
     "output_type": "execute_result"
    }
   ],
   "source": [
    "# QUIRK (Quantum Circuit Simulator)\n",
    "from IPython.display import IFrame\n",
    "IFrame(src='https://algassert.com/quirk#circuit={%22cols%22:[[%22~bhpb%22],[%22Y^%C2%BD%22,%22Y^%C2%BD%22,%22Y^%C2%BD%22],[1,1,%22X%22],[1,1,{%22id%22:%22Rzft%22,%22arg%22:%22pi%20*%203/2%22}]],%22gates%22:[{%22id%22:%22~bhpb%22,%22name%22:%22Problem-#2%22,%22circuit%22:{%22cols%22:[[%22H%22,%22H%22,%22H%22],[%22•%22,%22•%22,%22X%22]]}}],%22init%22:[1,1]}', width=900, height=600)"
   ]
  },
  {
   "cell_type": "code",
   "execution_count": 108,
   "id": "69762ee5",
   "metadata": {},
   "outputs": [
    {
     "data": {
      "text/html": [
       "\n",
       "        <iframe\n",
       "            width=\"900\"\n",
       "            height=\"600\"\n",
       "            src=\"https://algassert.com/quirk#circuit={%22cols%22:[[%22~bhpb%22],[%22Y^%C2%BD%22,%22Y^%C2%BD%22,%22Y^%C2%BD%22],[1,{%22id%22:%22Rzft%22,%22arg%22:%22pi%20*%203/2%22},%22X%22]],%22gates%22:[{%22id%22:%22~bhpb%22,%22name%22:%22Problem-#2%22,%22circuit%22:{%22cols%22:[[%22H%22,%22H%22,%22H%22],[%22•%22,%22•%22,%22X%22]]}}],%22init%22:[1,1]}\"\n",
       "            frameborder=\"0\"\n",
       "            allowfullscreen\n",
       "        ></iframe>\n",
       "        "
      ],
      "text/plain": [
       "<IPython.lib.display.IFrame at 0x7fe341d43a30>"
      ]
     },
     "execution_count": 108,
     "metadata": {},
     "output_type": "execute_result"
    }
   ],
   "source": [
    "# QUIRK (Quantum Circuit Simulator)\n",
    "from IPython.display import IFrame\n",
    "IFrame(src='https://algassert.com/quirk#circuit={%22cols%22:[[%22~bhpb%22],[%22Y^%C2%BD%22,%22Y^%C2%BD%22,%22Y^%C2%BD%22],[1,{%22id%22:%22Rzft%22,%22arg%22:%22pi%20*%203/2%22},%22X%22]],%22gates%22:[{%22id%22:%22~bhpb%22,%22name%22:%22Problem-#2%22,%22circuit%22:{%22cols%22:[[%22H%22,%22H%22,%22H%22],[%22•%22,%22•%22,%22X%22]]}}],%22init%22:[1,1]}', width=900, height=600)"
   ]
  },
  {
   "cell_type": "code",
   "execution_count": 109,
   "id": "94a2771a",
   "metadata": {},
   "outputs": [
    {
     "data": {
      "text/html": [
       "\n",
       "        <iframe\n",
       "            width=\"900\"\n",
       "            height=\"600\"\n",
       "            src=\"https://algassert.com/quirk#circuit={%22cols%22:[[%22~bhpb%22],[%22H%22,%22H%22,%22H%22]],%22gates%22:[{%22id%22:%22~bhpb%22,%22name%22:%22Problem-#2%22,%22circuit%22:{%22cols%22:[[%22H%22,%22H%22,%22H%22],[%22•%22,%22•%22,%22X%22]]}}]}\"\n",
       "            frameborder=\"0\"\n",
       "            allowfullscreen\n",
       "        ></iframe>\n",
       "        "
      ],
      "text/plain": [
       "<IPython.lib.display.IFrame at 0x7fe341d433d0>"
      ]
     },
     "execution_count": 109,
     "metadata": {},
     "output_type": "execute_result"
    }
   ],
   "source": [
    "# QUIRK (Quantum Circuit Simulator)\n",
    "from IPython.display import IFrame\n",
    "IFrame(src='https://algassert.com/quirk#circuit={%22cols%22:[[%22~bhpb%22],[%22H%22,%22H%22,%22H%22]],%22gates%22:[{%22id%22:%22~bhpb%22,%22name%22:%22Problem-#2%22,%22circuit%22:{%22cols%22:[[%22H%22,%22H%22,%22H%22],[%22•%22,%22•%22,%22X%22]]}}]}', width=900, height=600)"
   ]
  },
  {
   "cell_type": "markdown",
   "id": "7186ca19",
   "metadata": {},
   "source": [
    "## <font color=\"blue\">Circuit Verse / Qiskit / QUIRK</font> <font color=\"red\">Problem</font>(s)\n",
    "- To help build intuition about digital logic and quantum logic complete the following tasks.\n",
    "- **NOTE**: *This will be a LOT less structured than the last set of exercises*, draw implementation inspiration from them to complete the tasks below.\n",
    "\n",
    "<BR>\n",
    "    \n",
    "   \n",
    "> 0. Code a **Half Adder** in Qiskit according to this tutorial: https://qiskit.org/textbook/ch-states/atoms-computation.html\n",
    "> 0. **Vet its behavior** against the **Circuitverse** example of a **Half Adder**: https://circuitverse.org/users/12956/projects/37909\n",
    "> 0. Create the **SAME Half Adder** in **QUIRK**, vet it's functionality against the **Circuitverse** Half Adder behavior."
   ]
  },
  {
   "cell_type": "markdown",
   "id": "f62cf343",
   "metadata": {},
   "source": [
    "## Qiskit  <font color=\"red\">Half Adder</font>\n",
    "> - Create a **Half Adder** in Qiskit according to this **tutorial**: https://qiskit.org/textbook/ch-states/atoms-computation.html\n",
    "- Only code what is necessary to get the half adder circuit working - be minimalistic."
   ]
  },
  {
   "cell_type": "markdown",
   "id": "79a66aa9",
   "metadata": {},
   "source": [
    "### Setup the Program\n",
    "- <font color=\"blue\">This is pretty much stock code (with infrequent exceptions), so it's provided for you.</font>"
   ]
  },
  {
   "cell_type": "code",
   "execution_count": 110,
   "id": "e0af554c",
   "metadata": {},
   "outputs": [],
   "source": [
    "# Import Qiskit, and \n",
    "\n",
    "import numpy as np\n",
    "from qiskit import Aer, QuantumCircuit, QuantumRegister, execute, ClassicalRegister, IBMQ, BasicAer, assemble\n",
    "from qiskit.visualization import plot_histogram\n",
    "import cmath\n",
    "import math\n",
    "import matplotlib.pyplot as P\n",
    "import matplotlib.pyplot as plt\n",
    "from qiskit.tools.visualization import plot_bloch_multivector\n",
    "from IPython.display import display, Math, Latex\n",
    "from circle_plot import *\n",
    "from qsphere_plotter import plot_state_qsphere\n",
    "from widgets import minicomposer\n",
    "from may4_challenge_common import return_state, vec_in_braket, statevec"
   ]
  },
  {
   "cell_type": "code",
   "execution_count": 111,
   "id": "838fa5c2",
   "metadata": {},
   "outputs": [
    {
     "name": "stdout",
     "output_type": "stream",
     "text": [
      "           ░                 ░ ┌─┐         \n",
      "q_0: ──────░───■─────────■───░─┤M├─────────\n",
      "     ┌───┐ ░   │         │   ░ └╥┘   ┌─┐   \n",
      "q_1: ┤ X ├─░───┼────■────■───░──╫────┤M├───\n",
      "     └───┘ ░ ┌─┴─┐┌─┴─┐  │   ░  ║ ┌─┐└╥┘   \n",
      "q_2: ──────░─┤ X ├┤ X ├──┼───░──╫─┤M├─╫────\n",
      "           ░ └───┘└───┘┌─┴─┐ ░  ║ └╥┘ ║ ┌─┐\n",
      "q_3: ──────░───────────┤ X ├─░──╫──╫──╫─┤M├\n",
      "           ░           └───┘ ░  ║  ║  ║ └╥┘\n",
      "c: 2/═══════════════════════════╩══╩══╩══╩═\n",
      "                                1  0  1  1 \n"
     ]
    },
    {
     "data": {
      "image/png": "[encoded data removed]",
      "text/plain": [
       "<Figure size 688.597x325.08 with 1 Axes>"
      ]
     },
     "execution_count": 111,
     "metadata": {},
     "output_type": "execute_result"
    }
   ],
   "source": [
    "# YOUR CODE GOES HERE:\n",
    "qc_ha = QuantumCircuit(4,2)\n",
    "# encode inputs in qubits 0 and 1\n",
    "#qc_ha.x(0) # For a=0, remove the this line. For a=1, leave it.\n",
    "qc_ha.x(1) # For b=0, remove the this line. For b=1, leave it.\n",
    "qc_ha.barrier()\n",
    "# use cnots to write the XOR of the inputs on qubit 2\n",
    "qc_ha.cx(0,2)\n",
    "qc_ha.cx(1,2)\n",
    "# use ccx to write the AND of the inputs on qubit 3\n",
    "qc_ha.ccx(0,1,3)\n",
    "qc_ha.barrier()\n",
    "# extract outputs\n",
    "qc_ha.measure(0,1) # input qubit 0\n",
    "qc_ha.measure(1,1) # input qubit 1\n",
    "qc_ha.measure(2,0) # extract XOR value\n",
    "qc_ha.measure(3,1) # extract AND value\n",
    "\n",
    "print(qc_ha)\n",
    "qc_ha.draw(output='mpl')"
   ]
  },
  {
   "cell_type": "code",
   "execution_count": 112,
   "id": "c3a85ecb",
   "metadata": {},
   "outputs": [
    {
     "data": {
      "image/png": "[encoded data removed]",
      "text/plain": [
       "<Figure size 504x360 with 1 Axes>"
      ]
     },
     "execution_count": 112,
     "metadata": {},
     "output_type": "execute_result"
    }
   ],
   "source": [
    "sim = Aer.get_backend('aer_simulator') \n",
    "result = sim.run(qc_ha).result()\n",
    "counts = result.get_counts()\n",
    "plot_histogram(counts)"
   ]
  },
  {
   "cell_type": "markdown",
   "id": "7dee9045",
   "metadata": {},
   "source": [
    "### Submit the program to the backed, execute and print the state\n",
    "- <font color=\"blue\">This is pretty much stock code so it's provided for you - there might be exceptions this time..</font>\n",
    "- If the code differs from the discussion, feel free to alter it as needed. "
   ]
  },
  {
   "cell_type": "code",
   "execution_count": 113,
   "id": "b65b01e5",
   "metadata": {},
   "outputs": [
    {
     "name": "stdout",
     "output_type": "stream",
     "text": [
      "Result(backend_name='statevector_simulator', backend_version='1.1.0', qobj_id='679259a1-e27b-4c7c-8001-1a7f5e7f2e09', job_id='a5403d0d-a4a7-4c0b-9b7c-e9c549a2e10b', success=True, results=[ExperimentResult(shots=1, success=True, meas_level=2, data=ExperimentResultData(counts={'0x1': 1}, memory=['0x1'], statevector=[0.+0.00000000e+00j 0.+0.00000000e+00j 0.+0.00000000e+00j\n",
      " 0.+0.00000000e+00j 0.+0.00000000e+00j 0.+0.00000000e+00j\n",
      " 1.-1.11022302e-16j 0.+0.00000000e+00j 0.+0.00000000e+00j\n",
      " 0.+0.00000000e+00j 0.+0.00000000e+00j 0.+0.00000000e+00j\n",
      " 0.+0.00000000e+00j 0.+0.00000000e+00j 0.+0.00000000e+00j\n",
      " 0.+0.00000000e+00j]), header=QobjExperimentHeader(qubit_labels=[['q', 0], ['q', 1], ['q', 2], ['q', 3]], n_qubits=4, qreg_sizes=[['q', 4]], clbit_labels=[['c', 0], ['c', 1]], memory_slots=2, creg_sizes=[['c', 2]], name='circuit-1539', global_phase=0.0, metadata={}), status=DONE, name='circuit-1539', seed_simulator=102129649, time_taken=0.0008411407470703125)], status=COMPLETED, status=QobjHeader(backend_name='statevector_simulator', backend_version='1.1.0'), time_taken=0.0008449554443359375)\n"
     ]
    }
   ],
   "source": [
    "# YOUR CODE GOES HERE:\n",
    "\n",
    "backend = BasicAer.get_backend('statevector_simulator')\n",
    "job = execute(qc_ha, backend, memory=True)\n",
    "result = job.result()\n",
    "print(result)"
   ]
  },
  {
   "cell_type": "code",
   "execution_count": 114,
   "id": "7e425ff4",
   "metadata": {},
   "outputs": [
    {
     "name": "stdout",
     "output_type": "stream",
     "text": [
      "sum: 1\n",
      "carry:0\n",
      "{'01': 1}\n"
     ]
    }
   ],
   "source": [
    "counts=result.get_counts()\n",
    "x=max(counts, key=lambda y:counts[y])\n",
    "print('sum: '+ x[1])\n",
    "print('carry:'+ x[0])\n",
    "print(counts)"
   ]
  },
  {
   "cell_type": "code",
   "execution_count": 115,
   "id": "7a4bc393",
   "metadata": {},
   "outputs": [
    {
     "data": {
      "image/png": "[encoded data removed]",
      "text/plain": [
       "<Figure size 504x360 with 1 Axes>"
      ]
     },
     "execution_count": 115,
     "metadata": {},
     "output_type": "execute_result"
    }
   ],
   "source": [
    "qobj = assemble(qc_ha)\n",
    "counts = sim.run(qobj).result().get_counts()\n",
    "plot_histogram(counts)"
   ]
  },
  {
   "cell_type": "code",
   "execution_count": 116,
   "id": "5f5d2894",
   "metadata": {},
   "outputs": [
    {
     "name": "stdout",
     "output_type": "stream",
     "text": [
      "\n",
      "Ending Ket Value and Amplitudes: \n",
      "|6> (1-0j)\n",
      "{'01': 1}\n",
      "Classical Register Measurements:  10\n"
     ]
    },
    {
     "data": {
      "image/png": "[encoded data removed]",
      "text/plain": [
       "<Figure size 688.597x325.08 with 1 Axes>"
      ]
     },
     "execution_count": 116,
     "metadata": {},
     "output_type": "execute_result"
    }
   ],
   "source": [
    "# Get the outputstate from the output vector\n",
    "\n",
    "outputstate = result.get_statevector(qc_ha, decimals=3)\n",
    "\n",
    "\n",
    "# Print out the Ending Ket and it's Amplitude\n",
    "\n",
    "print(\"\\nEnding Ket Value and Amplitudes: \")\n",
    "for i,amp in enumerate(outputstate):\n",
    "    if abs(amp) > 0.000001:\n",
    "        print('|{}> {}'.format(i, amp))\n",
    "        \n",
    "        \n",
    "# Fetch the counts and print out the measurements in order (l->R)        \n",
    "\n",
    "counts = result.get_counts(qc_ha)\n",
    "print(counts)\n",
    "\n",
    "for k in counts:\n",
    "    binary_number = ''.join(reversed(k))\n",
    "    print(\"Classical Register Measurements: \", binary_number)        \n",
    "        \n",
    "qc_ha.draw(output='mpl')        # draw the circuit"
   ]
  },
  {
   "cell_type": "code",
   "execution_count": 117,
   "id": "2022fae0",
   "metadata": {},
   "outputs": [
    {
     "data": {
      "text/html": [
       "\n",
       "        <iframe\n",
       "            width=\"900\"\n",
       "            height=\"600\"\n",
       "            src=\"https://algassert.com/quirk#circuit={%22cols%22:[[%22•%22,1,%22X%22],[1,%22•%22,%22X%22],[%22•%22,%22•%22,1,%22X%22],[1,1,%22Measure%22],[1,1,1,%22Measure%22]],%22init%22:[1,1]}\"\n",
       "            frameborder=\"0\"\n",
       "            allowfullscreen\n",
       "        ></iframe>\n",
       "        "
      ],
      "text/plain": [
       "<IPython.lib.display.IFrame at 0x7fe32911eca0>"
      ]
     },
     "execution_count": 117,
     "metadata": {},
     "output_type": "execute_result"
    }
   ],
   "source": [
    "# QUIRK (Quantum Circuit Simulator)\n",
    "from IPython.display import IFrame\n",
    "IFrame(src='https://algassert.com/quirk#circuit={%22cols%22:[[%22•%22,1,%22X%22],[1,%22•%22,%22X%22],[%22•%22,%22•%22,1,%22X%22],[1,1,%22Measure%22],[1,1,1,%22Measure%22]],%22init%22:[1,1]}', width=900, height=600)"
   ]
  },
  {
   "cell_type": "code",
   "execution_count": null,
   "id": "7b30623d",
   "metadata": {},
   "outputs": [],
   "source": []
  }
 ],
 "metadata": {
  "kernelspec": {
   "display_name": "Python 3 (ipykernel)",
   "language": "python",
   "name": "python3"
  },
  "language_info": {
   "codemirror_mode": {
    "name": "ipython",
    "version": 3
   },
   "file_extension": ".py",
   "mimetype": "text/x-python",
   "name": "python",
   "nbconvert_exporter": "python",
   "pygments_lexer": "ipython3",
   "version": "3.9.0"
  },
  "toc": {
   "base_numbering": 1,
   "nav_menu": {},
   "number_sections": true,
   "sideBar": true,
   "skip_h1_title": false,
   "title_cell": "Table of Contents",
   "title_sidebar": "Contents",
   "toc_cell": false,
   "toc_position": {},
   "toc_section_display": true,
   "toc_window_display": false
  }
 },
 "nbformat": 4,
 "nbformat_minor": 5
}
